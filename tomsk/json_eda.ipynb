{
 "cells": [
  {
   "cell_type": "code",
   "execution_count": 1,
   "metadata": {},
   "outputs": [],
   "source": [
    "import pandas as pd\n",
    "import numpy as np"
   ]
  },
  {
   "cell_type": "code",
   "execution_count": 2,
   "metadata": {},
   "outputs": [],
   "source": [
    "import json"
   ]
  },
  {
   "cell_type": "code",
   "execution_count": 3,
   "metadata": {},
   "outputs": [],
   "source": [
    "import csv"
   ]
  },
  {
   "cell_type": "code",
   "execution_count": 69,
   "metadata": {},
   "outputs": [],
   "source": [
    "import re"
   ]
  },
  {
   "cell_type": "code",
   "execution_count": 3,
   "metadata": {},
   "outputs": [],
   "source": [
    "# from pandas.io.json import json_normalize"
   ]
  },
  {
   "cell_type": "code",
   "execution_count": 3,
   "metadata": {},
   "outputs": [],
   "source": [
    "# Сброс ограничений на количество символов в записи\n",
    "pd.set_option('display.max_colwidth', None)# Установите для отображения самой большой линии"
   ]
  },
  {
   "cell_type": "code",
   "execution_count": 4,
   "metadata": {},
   "outputs": [],
   "source": [
    "list_columns = [\n",
    "    'experience',\n",
    "    'specializations',\n",
    "    'key_skills'\n",
    "]"
   ]
  },
  {
   "cell_type": "code",
   "execution_count": 5,
   "metadata": {},
   "outputs": [],
   "source": [
    "df = pd.read_csv('region_roles_26.05.22_CSV.csv', usecols=list_columns, encoding='windows-1251', sep=';')"
   ]
  },
  {
   "cell_type": "code",
   "execution_count": 6,
   "metadata": {},
   "outputs": [
    {
     "data": {
      "text/html": [
       "<div>\n",
       "<style scoped>\n",
       "    .dataframe tbody tr th:only-of-type {\n",
       "        vertical-align: middle;\n",
       "    }\n",
       "\n",
       "    .dataframe tbody tr th {\n",
       "        vertical-align: top;\n",
       "    }\n",
       "\n",
       "    .dataframe thead th {\n",
       "        text-align: right;\n",
       "    }\n",
       "</style>\n",
       "<table border=\"1\" class=\"dataframe\">\n",
       "  <thead>\n",
       "    <tr style=\"text-align: right;\">\n",
       "      <th></th>\n",
       "      <th>experience</th>\n",
       "      <th>key_skills</th>\n",
       "      <th>specializations</th>\n",
       "    </tr>\n",
       "  </thead>\n",
       "  <tbody>\n",
       "    <tr>\n",
       "      <th>0</th>\n",
       "      <td>{'id': 'between1And3', 'name': 'От 1 года до 3...</td>\n",
       "      <td>[{'name': 'Информационная безопасность'}, {'na...</td>\n",
       "      <td>[{'id': '1.110', 'name': 'Компьютерная безопас...</td>\n",
       "    </tr>\n",
       "    <tr>\n",
       "      <th>1</th>\n",
       "      <td>{'id': 'between3And6', 'name': 'От 3 до 6 лет'}</td>\n",
       "      <td>[{'name': 'Информационная безопасность'}, {'na...</td>\n",
       "      <td>[{'id': '1.110', 'name': 'Компьютерная безопас...</td>\n",
       "    </tr>\n",
       "  </tbody>\n",
       "</table>\n",
       "</div>"
      ],
      "text/plain": [
       "                                          experience  \\\n",
       "0  {'id': 'between1And3', 'name': 'От 1 года до 3...   \n",
       "1    {'id': 'between3And6', 'name': 'От 3 до 6 лет'}   \n",
       "\n",
       "                                          key_skills  \\\n",
       "0  [{'name': 'Информационная безопасность'}, {'na...   \n",
       "1  [{'name': 'Информационная безопасность'}, {'na...   \n",
       "\n",
       "                                     specializations  \n",
       "0  [{'id': '1.110', 'name': 'Компьютерная безопас...  \n",
       "1  [{'id': '1.110', 'name': 'Компьютерная безопас...  "
      ]
     },
     "execution_count": 6,
     "metadata": {},
     "output_type": "execute_result"
    }
   ],
   "source": [
    "df.head(2)"
   ]
  },
  {
   "cell_type": "code",
   "execution_count": 7,
   "metadata": {},
   "outputs": [],
   "source": [
    "# -> Пишем функцию для будущего apply\n",
    "# Добавляем try except для отлова проблемных текстов и удаление всех двойных кавычек\n",
    "\n",
    "def text_to_json(text):\n",
    "    try:\n",
    "        return json.loads(json.dumps(text)).replace(\"'\", '\"')\n",
    "    except:\n",
    "        print('Ошибка: ', text)\n",
    "        # return []"
   ]
  },
  {
   "cell_type": "code",
   "execution_count": 8,
   "metadata": {},
   "outputs": [],
   "source": [
    "df.specializations = df.specializations.fillna('[]')"
   ]
  },
  {
   "cell_type": "code",
   "execution_count": 10,
   "metadata": {},
   "outputs": [],
   "source": [
    "df['json_specializations'] = df.specializations.apply(text_to_json)"
   ]
  },
  {
   "cell_type": "code",
   "execution_count": 11,
   "metadata": {},
   "outputs": [],
   "source": [
    "t = df['json_specializations'][1]"
   ]
  },
  {
   "cell_type": "code",
   "execution_count": 12,
   "metadata": {},
   "outputs": [
    {
     "data": {
      "text/plain": [
       "'[{\"id\": \"1.110\", \"name\": \"Компьютерная безопасность\", \"profarea_id\": \"1\", \"profarea_name\": \"Информационные технологии, интернет, телеком\"}, {\"id\": \"1.246\", \"name\": \"Развитие бизнеса\", \"profarea_id\": \"1\", \"profarea_name\": \"Информационные технологии, интернет, телеком\"}, {\"id\": \"1.25\", \"name\": \"Аналитик\", \"profarea_id\": \"1\", \"profarea_name\": \"Информационные технологии, интернет, телеком\"}, {\"id\": \"3.98\", \"name\": \"Исследования рынка\", \"profarea_id\": \"3\", \"profarea_name\": \"Маркетинг, реклама, PR\"}, {\"id\": \"3.150\", \"name\": \"Менеджмент продукта (Product manager)\", \"profarea_id\": \"3\", \"profarea_name\": \"Маркетинг, реклама, PR\"}, {\"id\": \"8.356\", \"name\": \"Экономическая и информационная безопасность\", \"profarea_id\": \"8\", \"profarea_name\": \"Безопасность\"}]'"
      ]
     },
     "execution_count": 12,
     "metadata": {},
     "output_type": "execute_result"
    }
   ],
   "source": [
    "t"
   ]
  },
  {
   "cell_type": "code",
   "execution_count": 13,
   "metadata": {},
   "outputs": [],
   "source": [
    "t_list = json.loads(t)"
   ]
  },
  {
   "cell_type": "code",
   "execution_count": 20,
   "metadata": {},
   "outputs": [
    {
     "data": {
      "text/plain": [
       "[{'id': '1.110',\n",
       "  'name': 'Компьютерная безопасность',\n",
       "  'profarea_id': '1',\n",
       "  'profarea_name': 'Информационные технологии, интернет, телеком'},\n",
       " {'id': '1.246',\n",
       "  'name': 'Развитие бизнеса',\n",
       "  'profarea_id': '1',\n",
       "  'profarea_name': 'Информационные технологии, интернет, телеком'},\n",
       " {'id': '1.25',\n",
       "  'name': 'Аналитик',\n",
       "  'profarea_id': '1',\n",
       "  'profarea_name': 'Информационные технологии, интернет, телеком'},\n",
       " {'id': '3.98',\n",
       "  'name': 'Исследования рынка',\n",
       "  'profarea_id': '3',\n",
       "  'profarea_name': 'Маркетинг, реклама, PR'},\n",
       " {'id': '3.150',\n",
       "  'name': 'Менеджмент продукта (Product manager)',\n",
       "  'profarea_id': '3',\n",
       "  'profarea_name': 'Маркетинг, реклама, PR'},\n",
       " {'id': '8.356',\n",
       "  'name': 'Экономическая и информационная безопасность',\n",
       "  'profarea_id': '8',\n",
       "  'profarea_name': 'Безопасность'}]"
      ]
     },
     "execution_count": 20,
     "metadata": {},
     "output_type": "execute_result"
    }
   ],
   "source": [
    "t_list"
   ]
  },
  {
   "cell_type": "code",
   "execution_count": 81,
   "metadata": {},
   "outputs": [],
   "source": [
    "res = pd.json_normalize(t_list, max_level=0).sort_values(by='id')"
   ]
  },
  {
   "cell_type": "code",
   "execution_count": 85,
   "metadata": {},
   "outputs": [
    {
     "data": {
      "text/html": [
       "<div>\n",
       "<style scoped>\n",
       "    .dataframe tbody tr th:only-of-type {\n",
       "        vertical-align: middle;\n",
       "    }\n",
       "\n",
       "    .dataframe tbody tr th {\n",
       "        vertical-align: top;\n",
       "    }\n",
       "\n",
       "    .dataframe thead th {\n",
       "        text-align: right;\n",
       "    }\n",
       "</style>\n",
       "<table border=\"1\" class=\"dataframe\">\n",
       "  <thead>\n",
       "    <tr style=\"text-align: right;\">\n",
       "      <th></th>\n",
       "      <th>id</th>\n",
       "      <th>name</th>\n",
       "      <th>profarea_id</th>\n",
       "      <th>profarea_name</th>\n",
       "    </tr>\n",
       "  </thead>\n",
       "  <tbody>\n",
       "    <tr>\n",
       "      <th>0</th>\n",
       "      <td>1.110</td>\n",
       "      <td>Компьютерная безопасность</td>\n",
       "      <td>1</td>\n",
       "      <td>Информационные технологии, интернет, телеком</td>\n",
       "    </tr>\n",
       "    <tr>\n",
       "      <th>1</th>\n",
       "      <td>1.246</td>\n",
       "      <td>Развитие бизнеса</td>\n",
       "      <td>1</td>\n",
       "      <td>Информационные технологии, интернет, телеком</td>\n",
       "    </tr>\n",
       "    <tr>\n",
       "      <th>2</th>\n",
       "      <td>1.250</td>\n",
       "      <td>Аналитик</td>\n",
       "      <td>1</td>\n",
       "      <td>Информационные технологии, интернет, телеком</td>\n",
       "    </tr>\n",
       "    <tr>\n",
       "      <th>4</th>\n",
       "      <td>3.150</td>\n",
       "      <td>Менеджмент продукта (Product manager)</td>\n",
       "      <td>3</td>\n",
       "      <td>Маркетинг, реклама, PR</td>\n",
       "    </tr>\n",
       "    <tr>\n",
       "      <th>3</th>\n",
       "      <td>3.980</td>\n",
       "      <td>Исследования рынка</td>\n",
       "      <td>3</td>\n",
       "      <td>Маркетинг, реклама, PR</td>\n",
       "    </tr>\n",
       "    <tr>\n",
       "      <th>5</th>\n",
       "      <td>8.356</td>\n",
       "      <td>Экономическая и информационная безопасность</td>\n",
       "      <td>8</td>\n",
       "      <td>Безопасность</td>\n",
       "    </tr>\n",
       "  </tbody>\n",
       "</table>\n",
       "</div>"
      ],
      "text/plain": [
       "      id                                         name profarea_id  \\\n",
       "0  1.110                    Компьютерная безопасность           1   \n",
       "1  1.246                             Развитие бизнеса           1   \n",
       "2  1.250                                     Аналитик           1   \n",
       "4  3.150        Менеджмент продукта (Product manager)           3   \n",
       "3  3.980                           Исследования рынка           3   \n",
       "5  8.356  Экономическая и информационная безопасность           8   \n",
       "\n",
       "                                  profarea_name  \n",
       "0  Информационные технологии, интернет, телеком  \n",
       "1  Информационные технологии, интернет, телеком  \n",
       "2  Информационные технологии, интернет, телеком  \n",
       "4                        Маркетинг, реклама, PR  \n",
       "3                        Маркетинг, реклама, PR  \n",
       "5                                  Безопасность  "
      ]
     },
     "execution_count": 85,
     "metadata": {},
     "output_type": "execute_result"
    }
   ],
   "source": [
    "res"
   ]
  },
  {
   "cell_type": "code",
   "execution_count": 83,
   "metadata": {},
   "outputs": [],
   "source": [
    "res['id'] = pd.to_numeric(res['id'])"
   ]
  },
  {
   "cell_type": "code",
   "execution_count": null,
   "metadata": {},
   "outputs": [],
   "source": [
    "res.info()"
   ]
  },
  {
   "cell_type": "code",
   "execution_count": 86,
   "metadata": {},
   "outputs": [
    {
     "name": "stdout",
     "output_type": "stream",
     "text": [
      "['id_0', 'name_0', 'profarea_id_0', 'profarea_name_0', 'id_1', 'name_1', 'profarea_id_1', 'profarea_name_1', 'id_2', 'name_2', 'profarea_id_2', 'profarea_name_2', 'id_3', 'name_3', 'profarea_id_3', 'profarea_name_3', 'id_4', 'name_4', 'profarea_id_4', 'profarea_name_4', 'id_5', 'name_5', 'profarea_id_5', 'profarea_name_5']\n"
     ]
    }
   ],
   "source": [
    "lst_1 = []\n",
    "for i in range(len(res)):\n",
    "    for column in res.columns:\n",
    "        lst_1.append(column + '_' + str(i))\n",
    "print(lst_1)"
   ]
  },
  {
   "cell_type": "code",
   "execution_count": 87,
   "metadata": {},
   "outputs": [
    {
     "name": "stdout",
     "output_type": "stream",
     "text": [
      "[1.11, 'Компьютерная безопасность', '1', 'Информационные технологии, интернет, телеком', 1.246, 'Развитие бизнеса', '1', 'Информационные технологии, интернет, телеком', 1.25, 'Аналитик', '1', 'Информационные технологии, интернет, телеком', 3.15, 'Менеджмент продукта (Product manager)', '3', 'Маркетинг, реклама, PR', 3.98, 'Исследования рынка', '3', 'Маркетинг, реклама, PR', 8.356, 'Экономическая и информационная безопасность', '8', 'Безопасность']\n"
     ]
    }
   ],
   "source": [
    "lst_2 = []\n",
    "for index in res.index:\n",
    "    lst_2.extend(list(res.loc[index,:]))\n",
    "print(lst_2)"
   ]
  },
  {
   "cell_type": "code",
   "execution_count": 88,
   "metadata": {},
   "outputs": [
    {
     "data": {
      "text/html": [
       "<div>\n",
       "<style scoped>\n",
       "    .dataframe tbody tr th:only-of-type {\n",
       "        vertical-align: middle;\n",
       "    }\n",
       "\n",
       "    .dataframe tbody tr th {\n",
       "        vertical-align: top;\n",
       "    }\n",
       "\n",
       "    .dataframe thead th {\n",
       "        text-align: right;\n",
       "    }\n",
       "</style>\n",
       "<table border=\"1\" class=\"dataframe\">\n",
       "  <thead>\n",
       "    <tr style=\"text-align: right;\">\n",
       "      <th></th>\n",
       "      <th>id_0</th>\n",
       "      <th>name_0</th>\n",
       "      <th>profarea_id_0</th>\n",
       "      <th>profarea_name_0</th>\n",
       "      <th>id_1</th>\n",
       "      <th>name_1</th>\n",
       "      <th>profarea_id_1</th>\n",
       "      <th>profarea_name_1</th>\n",
       "      <th>id_2</th>\n",
       "      <th>name_2</th>\n",
       "      <th>...</th>\n",
       "      <th>profarea_id_3</th>\n",
       "      <th>profarea_name_3</th>\n",
       "      <th>id_4</th>\n",
       "      <th>name_4</th>\n",
       "      <th>profarea_id_4</th>\n",
       "      <th>profarea_name_4</th>\n",
       "      <th>id_5</th>\n",
       "      <th>name_5</th>\n",
       "      <th>profarea_id_5</th>\n",
       "      <th>profarea_name_5</th>\n",
       "    </tr>\n",
       "  </thead>\n",
       "  <tbody>\n",
       "    <tr>\n",
       "      <th>0</th>\n",
       "      <td>1.11</td>\n",
       "      <td>Компьютерная безопасность</td>\n",
       "      <td>1</td>\n",
       "      <td>Информационные технологии, интернет, телеком</td>\n",
       "      <td>1.246</td>\n",
       "      <td>Развитие бизнеса</td>\n",
       "      <td>1</td>\n",
       "      <td>Информационные технологии, интернет, телеком</td>\n",
       "      <td>1.25</td>\n",
       "      <td>Аналитик</td>\n",
       "      <td>...</td>\n",
       "      <td>3</td>\n",
       "      <td>Маркетинг, реклама, PR</td>\n",
       "      <td>3.98</td>\n",
       "      <td>Исследования рынка</td>\n",
       "      <td>3</td>\n",
       "      <td>Маркетинг, реклама, PR</td>\n",
       "      <td>8.356</td>\n",
       "      <td>Экономическая и информационная безопасность</td>\n",
       "      <td>8</td>\n",
       "      <td>Безопасность</td>\n",
       "    </tr>\n",
       "  </tbody>\n",
       "</table>\n",
       "<p>1 rows × 24 columns</p>\n",
       "</div>"
      ],
      "text/plain": [
       "   id_0                     name_0 profarea_id_0  \\\n",
       "0  1.11  Компьютерная безопасность             1   \n",
       "\n",
       "                                profarea_name_0   id_1            name_1  \\\n",
       "0  Информационные технологии, интернет, телеком  1.246  Развитие бизнеса   \n",
       "\n",
       "  profarea_id_1                               profarea_name_1  id_2    name_2  \\\n",
       "0             1  Информационные технологии, интернет, телеком  1.25  Аналитик   \n",
       "\n",
       "   ... profarea_id_3         profarea_name_3  id_4              name_4  \\\n",
       "0  ...             3  Маркетинг, реклама, PR  3.98  Исследования рынка   \n",
       "\n",
       "  profarea_id_4         profarea_name_4   id_5  \\\n",
       "0             3  Маркетинг, реклама, PR  8.356   \n",
       "\n",
       "                                        name_5 profarea_id_5 profarea_name_5  \n",
       "0  Экономическая и информационная безопасность             8    Безопасность  \n",
       "\n",
       "[1 rows x 24 columns]"
      ]
     },
     "execution_count": 88,
     "metadata": {},
     "output_type": "execute_result"
    }
   ],
   "source": [
    "tf_final = pd.DataFrame(columns=lst_1)\n",
    "tf_final.loc[0] = lst_2\n",
    "tf_final"
   ]
  },
  {
   "cell_type": "code",
   "execution_count": 36,
   "metadata": {},
   "outputs": [],
   "source": [
    "tf = pd.DataFrame({'A': list(range(1,5)), 'B': list(range(10,50,10))})"
   ]
  },
  {
   "cell_type": "code",
   "execution_count": 37,
   "metadata": {},
   "outputs": [
    {
     "data": {
      "text/html": [
       "<div>\n",
       "<style scoped>\n",
       "    .dataframe tbody tr th:only-of-type {\n",
       "        vertical-align: middle;\n",
       "    }\n",
       "\n",
       "    .dataframe tbody tr th {\n",
       "        vertical-align: top;\n",
       "    }\n",
       "\n",
       "    .dataframe thead th {\n",
       "        text-align: right;\n",
       "    }\n",
       "</style>\n",
       "<table border=\"1\" class=\"dataframe\">\n",
       "  <thead>\n",
       "    <tr style=\"text-align: right;\">\n",
       "      <th></th>\n",
       "      <th>A</th>\n",
       "      <th>B</th>\n",
       "    </tr>\n",
       "  </thead>\n",
       "  <tbody>\n",
       "    <tr>\n",
       "      <th>0</th>\n",
       "      <td>1</td>\n",
       "      <td>10</td>\n",
       "    </tr>\n",
       "    <tr>\n",
       "      <th>1</th>\n",
       "      <td>2</td>\n",
       "      <td>20</td>\n",
       "    </tr>\n",
       "    <tr>\n",
       "      <th>2</th>\n",
       "      <td>3</td>\n",
       "      <td>30</td>\n",
       "    </tr>\n",
       "    <tr>\n",
       "      <th>3</th>\n",
       "      <td>4</td>\n",
       "      <td>40</td>\n",
       "    </tr>\n",
       "  </tbody>\n",
       "</table>\n",
       "</div>"
      ],
      "text/plain": [
       "   A   B\n",
       "0  1  10\n",
       "1  2  20\n",
       "2  3  30\n",
       "3  4  40"
      ]
     },
     "execution_count": 37,
     "metadata": {},
     "output_type": "execute_result"
    }
   ],
   "source": [
    "tf"
   ]
  },
  {
   "cell_type": "code",
   "execution_count": 41,
   "metadata": {},
   "outputs": [
    {
     "name": "stdout",
     "output_type": "stream",
     "text": [
      "['A_0', 'B_0', 'A_1', 'B_1', 'A_2', 'B_2', 'A_3', 'B_3']\n"
     ]
    }
   ],
   "source": [
    "lst_1 = []\n",
    "for i in range(len(tf)):\n",
    "    for column in tf.columns:\n",
    "        lst_1.append(column + '_' + str(i))\n",
    "print(lst_1)"
   ]
  },
  {
   "cell_type": "code",
   "execution_count": 42,
   "metadata": {},
   "outputs": [
    {
     "name": "stdout",
     "output_type": "stream",
     "text": [
      "[1, 10, 2, 20, 3, 30, 4, 40]\n"
     ]
    }
   ],
   "source": [
    "lst_2 = []\n",
    "for index in tf.index:\n",
    "    lst_2.extend(list(tf.loc[index,:]))\n",
    "print(lst_2)"
   ]
  },
  {
   "cell_type": "code",
   "execution_count": 43,
   "metadata": {},
   "outputs": [
    {
     "data": {
      "text/html": [
       "<div>\n",
       "<style scoped>\n",
       "    .dataframe tbody tr th:only-of-type {\n",
       "        vertical-align: middle;\n",
       "    }\n",
       "\n",
       "    .dataframe tbody tr th {\n",
       "        vertical-align: top;\n",
       "    }\n",
       "\n",
       "    .dataframe thead th {\n",
       "        text-align: right;\n",
       "    }\n",
       "</style>\n",
       "<table border=\"1\" class=\"dataframe\">\n",
       "  <thead>\n",
       "    <tr style=\"text-align: right;\">\n",
       "      <th></th>\n",
       "      <th>A_0</th>\n",
       "      <th>B_0</th>\n",
       "      <th>A_1</th>\n",
       "      <th>B_1</th>\n",
       "      <th>A_2</th>\n",
       "      <th>B_2</th>\n",
       "      <th>A_3</th>\n",
       "      <th>B_3</th>\n",
       "    </tr>\n",
       "  </thead>\n",
       "  <tbody>\n",
       "    <tr>\n",
       "      <th>0</th>\n",
       "      <td>1</td>\n",
       "      <td>10</td>\n",
       "      <td>2</td>\n",
       "      <td>20</td>\n",
       "      <td>3</td>\n",
       "      <td>30</td>\n",
       "      <td>4</td>\n",
       "      <td>40</td>\n",
       "    </tr>\n",
       "  </tbody>\n",
       "</table>\n",
       "</div>"
      ],
      "text/plain": [
       "   A_0  B_0  A_1  B_1  A_2  B_2  A_3  B_3\n",
       "0    1   10    2   20    3   30    4   40"
      ]
     },
     "execution_count": 43,
     "metadata": {},
     "output_type": "execute_result"
    }
   ],
   "source": [
    "tf_final = pd.DataFrame(columns=lst_1)\n",
    "tf_final.loc[0] = lst_2\n",
    "tf_final"
   ]
  },
  {
   "cell_type": "code",
   "execution_count": 44,
   "metadata": {},
   "outputs": [],
   "source": [
    "tr = [] # для списка значений\n",
    "tr_out_cols = [] # для названий столбцов новой таблицы\n",
    "\n",
    "for c in tf.columns:\n",
    "    tr_out_cols = tr_out_cols + list(c+'_'+str(m) for m in range(1,tf.shape[0]+1))\n",
    "    tr = tr + tf[c].to_list()\n",
    "\n",
    "ltf = pd.DataFrame( [tr], columns= tr_out_cols )"
   ]
  },
  {
   "cell_type": "code",
   "execution_count": 45,
   "metadata": {},
   "outputs": [
    {
     "data": {
      "text/html": [
       "<div>\n",
       "<style scoped>\n",
       "    .dataframe tbody tr th:only-of-type {\n",
       "        vertical-align: middle;\n",
       "    }\n",
       "\n",
       "    .dataframe tbody tr th {\n",
       "        vertical-align: top;\n",
       "    }\n",
       "\n",
       "    .dataframe thead th {\n",
       "        text-align: right;\n",
       "    }\n",
       "</style>\n",
       "<table border=\"1\" class=\"dataframe\">\n",
       "  <thead>\n",
       "    <tr style=\"text-align: right;\">\n",
       "      <th></th>\n",
       "      <th>A_1</th>\n",
       "      <th>A_2</th>\n",
       "      <th>A_3</th>\n",
       "      <th>A_4</th>\n",
       "      <th>B_1</th>\n",
       "      <th>B_2</th>\n",
       "      <th>B_3</th>\n",
       "      <th>B_4</th>\n",
       "    </tr>\n",
       "  </thead>\n",
       "  <tbody>\n",
       "    <tr>\n",
       "      <th>0</th>\n",
       "      <td>1</td>\n",
       "      <td>2</td>\n",
       "      <td>3</td>\n",
       "      <td>4</td>\n",
       "      <td>10</td>\n",
       "      <td>20</td>\n",
       "      <td>30</td>\n",
       "      <td>40</td>\n",
       "    </tr>\n",
       "  </tbody>\n",
       "</table>\n",
       "</div>"
      ],
      "text/plain": [
       "   A_1  A_2  A_3  A_4  B_1  B_2  B_3  B_4\n",
       "0    1    2    3    4   10   20   30   40"
      ]
     },
     "execution_count": 45,
     "metadata": {},
     "output_type": "execute_result"
    }
   ],
   "source": [
    "ltf"
   ]
  }
 ],
 "metadata": {
  "kernelspec": {
   "display_name": "Python 3.10.4 ('learn-data-iW9cjtb-')",
   "language": "python",
   "name": "python3"
  },
  "language_info": {
   "codemirror_mode": {
    "name": "ipython",
    "version": 3
   },
   "file_extension": ".py",
   "mimetype": "text/x-python",
   "name": "python",
   "nbconvert_exporter": "python",
   "pygments_lexer": "ipython3",
   "version": "3.10.4"
  },
  "orig_nbformat": 4,
  "vscode": {
   "interpreter": {
    "hash": "fd975b5008f75ca011c9cbd473d425e61cbcc6f13893501ac3aa968d92c7c8cc"
   }
  }
 },
 "nbformat": 4,
 "nbformat_minor": 2
}
