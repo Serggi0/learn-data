{
 "cells": [
  {
   "cell_type": "markdown",
   "metadata": {},
   "source": [
    "# Разведочный анализ данных (exploratory data analysis, EDA)"
   ]
  },
  {
   "cell_type": "markdown",
   "metadata": {},
   "source": [
    "# Подготовка"
   ]
  },
  {
   "cell_type": "markdown",
   "metadata": {},
   "source": [
    "### Импорты"
   ]
  },
  {
   "cell_type": "code",
   "execution_count": 1,
   "metadata": {},
   "outputs": [],
   "source": [
    "import pandas as pd\n",
    "import numpy as np"
   ]
  },
  {
   "cell_type": "code",
   "execution_count": 2,
   "metadata": {},
   "outputs": [],
   "source": [
    "import json"
   ]
  },
  {
   "cell_type": "code",
   "execution_count": 3,
   "metadata": {},
   "outputs": [],
   "source": [
    "import matplotlib.pyplot as plt"
   ]
  },
  {
   "cell_type": "code",
   "execution_count": 4,
   "metadata": {},
   "outputs": [],
   "source": [
    "import seaborn as sns"
   ]
  },
  {
   "cell_type": "code",
   "execution_count": 5,
   "metadata": {},
   "outputs": [],
   "source": [
    "import re"
   ]
  },
  {
   "cell_type": "markdown",
   "metadata": {},
   "source": [
    "### Опции"
   ]
  },
  {
   "cell_type": "code",
   "execution_count": 6,
   "metadata": {},
   "outputs": [],
   "source": [
    "pd.set_option('display.float_format', '{:,.2f}'.format)\n",
    "# разделитель ',' и два знака после запятой у чисел с плавающей точкой"
   ]
  },
  {
   "cell_type": "code",
   "execution_count": null,
   "metadata": {},
   "outputs": [],
   "source": [
    "# Сброс ограничений на количество выводимых рядов\n",
    "pd.set_option('display.max_rows', None)"
   ]
  },
  {
   "cell_type": "code",
   "execution_count": null,
   "metadata": {},
   "outputs": [],
   "source": [
    "# Сброс ограничений на число столбцов\n",
    "pd.reset_option('display.max_columns')"
   ]
  },
  {
   "cell_type": "code",
   "execution_count": null,
   "metadata": {},
   "outputs": [],
   "source": [
    "pd.set_option('display.max_colwidth', None)\n",
    "# Установите для отображения самой большой линии"
   ]
  },
  {
   "cell_type": "code",
   "execution_count": null,
   "metadata": {},
   "outputs": [],
   "source": [
    "pd.reset_option('display.max_colwidth')\n",
    "# Сброс ограничений на количество символов в записи"
   ]
  },
  {
   "cell_type": "markdown",
   "metadata": {},
   "source": [
    "#### опции для графики"
   ]
  },
  {
   "cell_type": "code",
   "execution_count": 7,
   "metadata": {},
   "outputs": [],
   "source": [
    "large = 16; med = 12; small = 10\n",
    "params = {'axes.titlesize': large,\n",
    "          'legend.fontsize': med,\n",
    "          'figure.figsize': (12, 8),\n",
    "          'axes.labelsize': med,\n",
    "          'axes.titlesize': med,\n",
    "          'xtick.labelsize': med,\n",
    "          'ytick.labelsize': med,\n",
    "          'figure.titlesize': large}\n",
    "\n",
    "plt.rcParams.update(params)\n",
    "plt.style.use('seaborn-whitegrid')"
   ]
  },
  {
   "cell_type": "code",
   "execution_count": 8,
   "metadata": {},
   "outputs": [],
   "source": [
    "sns.set_palette('deep') \n",
    "sns.set_style(\"whitegrid\")"
   ]
  },
  {
   "cell_type": "markdown",
   "metadata": {},
   "source": [
    "## Заливка данных"
   ]
  },
  {
   "cell_type": "code",
   "execution_count": null,
   "metadata": {},
   "outputs": [],
   "source": [
    "# полный датафрейм со всеми столбцами\n",
    "# full_df = pd.read_csv('region_roles_26.05.22_CSV.csv', encoding='windows-1251', sep=';')"
   ]
  },
  {
   "cell_type": "markdown",
   "metadata": {},
   "source": [
    "#### Что в столбцах?"
   ]
  },
  {
   "cell_type": "code",
   "execution_count": null,
   "metadata": {},
   "outputs": [],
   "source": [
    "df.premium.value_counts()\n",
    "# удалить"
   ]
  },
  {
   "cell_type": "code",
   "execution_count": null,
   "metadata": {},
   "outputs": [],
   "source": [
    "df.name.value_counts()"
   ]
  },
  {
   "cell_type": "code",
   "execution_count": null,
   "metadata": {},
   "outputs": [],
   "source": [
    "df.department.value_counts()\n",
    "# delete"
   ]
  },
  {
   "cell_type": "code",
   "execution_count": null,
   "metadata": {},
   "outputs": [],
   "source": [
    "df.has_test.value_counts()\n",
    "# delete"
   ]
  },
  {
   "cell_type": "code",
   "execution_count": null,
   "metadata": {},
   "outputs": [],
   "source": [
    "df.response_letter_required.value_counts()\n",
    "# delete"
   ]
  },
  {
   "cell_type": "code",
   "execution_count": null,
   "metadata": {},
   "outputs": [],
   "source": [
    "df.area.value_counts()\n",
    "# delete"
   ]
  },
  {
   "cell_type": "code",
   "execution_count": null,
   "metadata": {},
   "outputs": [],
   "source": [
    "df.salary.value_counts()"
   ]
  },
  {
   "cell_type": "code",
   "execution_count": null,
   "metadata": {},
   "outputs": [],
   "source": [
    "df.type.value_counts()\n",
    "# delete"
   ]
  },
  {
   "cell_type": "code",
   "execution_count": null,
   "metadata": {},
   "outputs": [],
   "source": [
    "df.address.value_counts()\n",
    "# delete"
   ]
  },
  {
   "cell_type": "code",
   "execution_count": null,
   "metadata": {},
   "outputs": [],
   "source": [
    "df.response_url.value_counts()\n",
    "# delete"
   ]
  },
  {
   "cell_type": "code",
   "execution_count": null,
   "metadata": {},
   "outputs": [],
   "source": [
    "df.sort_point_distance.value_counts()\n",
    "# delete"
   ]
  },
  {
   "cell_type": "code",
   "execution_count": null,
   "metadata": {},
   "outputs": [],
   "source": [
    "df.archived.value_counts()\n",
    "# delete"
   ]
  },
  {
   "cell_type": "code",
   "execution_count": null,
   "metadata": {},
   "outputs": [],
   "source": [
    "df.insider_interview.value_counts()\n",
    "# delete"
   ]
  },
  {
   "cell_type": "code",
   "execution_count": null,
   "metadata": {},
   "outputs": [],
   "source": [
    "df.url.value_counts()\n",
    "# delete"
   ]
  },
  {
   "cell_type": "code",
   "execution_count": null,
   "metadata": {},
   "outputs": [],
   "source": [
    "df.alternate_url.value_counts()\n",
    "# delete"
   ]
  },
  {
   "cell_type": "code",
   "execution_count": null,
   "metadata": {},
   "outputs": [],
   "source": [
    "df.relations.value_counts()\n",
    "# delete"
   ]
  },
  {
   "cell_type": "code",
   "execution_count": null,
   "metadata": {},
   "outputs": [],
   "source": [
    "df.employer.value_counts()\n",
    "# delete"
   ]
  },
  {
   "cell_type": "code",
   "execution_count": null,
   "metadata": {},
   "outputs": [],
   "source": [
    "df.snippet.value_counts()\n",
    "# delete не нужен для целей исследования"
   ]
  },
  {
   "cell_type": "code",
   "execution_count": null,
   "metadata": {},
   "outputs": [],
   "source": [
    "df.contacts.value_counts()\n",
    "# delete"
   ]
  },
  {
   "cell_type": "code",
   "execution_count": null,
   "metadata": {},
   "outputs": [],
   "source": [
    "df.schedule.value_counts()\n"
   ]
  },
  {
   "cell_type": "code",
   "execution_count": null,
   "metadata": {},
   "outputs": [],
   "source": [
    "df.working_days.value_counts()\n",
    "# delete"
   ]
  },
  {
   "cell_type": "code",
   "execution_count": null,
   "metadata": {},
   "outputs": [],
   "source": [
    "df.working_time_intervals.value_counts()\n",
    "# delete"
   ]
  },
  {
   "cell_type": "code",
   "execution_count": null,
   "metadata": {},
   "outputs": [],
   "source": [
    "df.working_time_modes.value_counts()\n",
    "# delete"
   ]
  },
  {
   "cell_type": "code",
   "execution_count": null,
   "metadata": {},
   "outputs": [],
   "source": [
    "df.accept_temporary.value_counts()\n",
    "# delete"
   ]
  },
  {
   "cell_type": "code",
   "execution_count": null,
   "metadata": {},
   "outputs": [],
   "source": [
    "df.experience.value_counts()"
   ]
  },
  {
   "cell_type": "code",
   "execution_count": null,
   "metadata": {},
   "outputs": [],
   "source": [
    "df.region.value_counts()"
   ]
  },
  {
   "cell_type": "code",
   "execution_count": null,
   "metadata": {},
   "outputs": [],
   "source": [
    "df.immediate_redirect_url.value_counts()\n",
    "# delete"
   ]
  },
  {
   "cell_type": "markdown",
   "metadata": {},
   "source": [
    "#### Cокращенный dataframe"
   ]
  },
  {
   "cell_type": "code",
   "execution_count": 9,
   "metadata": {},
   "outputs": [],
   "source": [
    "list_columns = [\n",
    "    'id',\n",
    "    'name',\n",
    "    'salary',\n",
    "    'experience',\n",
    "    'schedule',\n",
    "    'key_skills',\n",
    "    'specializations',\n",
    "    'region'\n",
    "]"
   ]
  },
  {
   "cell_type": "code",
   "execution_count": 10,
   "metadata": {},
   "outputs": [],
   "source": [
    "# dataframe после анализа содержимого столбцов\n",
    "df = pd.read_csv('region_roles_26.05.22_CSV.csv', usecols=list_columns, encoding='windows-1251', sep=';')"
   ]
  },
  {
   "cell_type": "markdown",
   "metadata": {},
   "source": [
    "5,7s"
   ]
  },
  {
   "cell_type": "markdown",
   "metadata": {},
   "source": [
    "# EDA (3 этапа)"
   ]
  },
  {
   "cell_type": "markdown",
   "metadata": {},
   "source": [
    "## 1. Первичный анализ датасета"
   ]
  },
  {
   "cell_type": "markdown",
   "metadata": {},
   "source": [
    "- Знакомимся с таблицей данных\n",
    "- Оцениваем ее объем\n",
    "- Оцениваем признаки объектов, хранящихся в ней\n",
    "- Выявляем наличие пропусков"
   ]
  },
  {
   "cell_type": "markdown",
   "metadata": {},
   "source": [
    "### общая информация"
   ]
  },
  {
   "cell_type": "code",
   "execution_count": 11,
   "metadata": {},
   "outputs": [
    {
     "data": {
      "text/html": [
       "<div>\n",
       "<style scoped>\n",
       "    .dataframe tbody tr th:only-of-type {\n",
       "        vertical-align: middle;\n",
       "    }\n",
       "\n",
       "    .dataframe tbody tr th {\n",
       "        vertical-align: top;\n",
       "    }\n",
       "\n",
       "    .dataframe thead th {\n",
       "        text-align: right;\n",
       "    }\n",
       "</style>\n",
       "<table border=\"1\" class=\"dataframe\">\n",
       "  <thead>\n",
       "    <tr style=\"text-align: right;\">\n",
       "      <th></th>\n",
       "      <th>id</th>\n",
       "      <th>name</th>\n",
       "      <th>salary</th>\n",
       "      <th>schedule</th>\n",
       "      <th>experience</th>\n",
       "      <th>key_skills</th>\n",
       "      <th>specializations</th>\n",
       "      <th>region</th>\n",
       "    </tr>\n",
       "  </thead>\n",
       "  <tbody>\n",
       "    <tr>\n",
       "      <th>0</th>\n",
       "      <td>50632962</td>\n",
       "      <td>Консультант по информационной безопасности</td>\n",
       "      <td>NaN</td>\n",
       "      <td>{'id': 'fullDay', 'name': 'Полный день'}</td>\n",
       "      <td>{'id': 'between1And3', 'name': 'От 1 года до 3...</td>\n",
       "      <td>[{'name': 'Информационная безопасность'}, {'na...</td>\n",
       "      <td>[{'id': '1.110', 'name': 'Компьютерная безопас...</td>\n",
       "      <td>Москва</td>\n",
       "    </tr>\n",
       "    <tr>\n",
       "      <th>1</th>\n",
       "      <td>49062175</td>\n",
       "      <td>Product Manager (Разработка ПО в сфере Информа...</td>\n",
       "      <td>NaN</td>\n",
       "      <td>{'id': 'fullDay', 'name': 'Полный день'}</td>\n",
       "      <td>{'id': 'between3And6', 'name': 'От 3 до 6 лет'}</td>\n",
       "      <td>[{'name': 'Информационная безопасность'}, {'na...</td>\n",
       "      <td>[{'id': '1.110', 'name': 'Компьютерная безопас...</td>\n",
       "      <td>Москва</td>\n",
       "    </tr>\n",
       "  </tbody>\n",
       "</table>\n",
       "</div>"
      ],
      "text/plain": [
       "         id                                               name salary  \\\n",
       "0  50632962         Консультант по информационной безопасности    NaN   \n",
       "1  49062175  Product Manager (Разработка ПО в сфере Информа...    NaN   \n",
       "\n",
       "                                   schedule  \\\n",
       "0  {'id': 'fullDay', 'name': 'Полный день'}   \n",
       "1  {'id': 'fullDay', 'name': 'Полный день'}   \n",
       "\n",
       "                                          experience  \\\n",
       "0  {'id': 'between1And3', 'name': 'От 1 года до 3...   \n",
       "1    {'id': 'between3And6', 'name': 'От 3 до 6 лет'}   \n",
       "\n",
       "                                          key_skills  \\\n",
       "0  [{'name': 'Информационная безопасность'}, {'na...   \n",
       "1  [{'name': 'Информационная безопасность'}, {'na...   \n",
       "\n",
       "                                     specializations  region  \n",
       "0  [{'id': '1.110', 'name': 'Компьютерная безопас...  Москва  \n",
       "1  [{'id': '1.110', 'name': 'Компьютерная безопас...  Москва  "
      ]
     },
     "execution_count": 11,
     "metadata": {},
     "output_type": "execute_result"
    }
   ],
   "source": [
    "df.head(2)"
   ]
  },
  {
   "cell_type": "code",
   "execution_count": 12,
   "metadata": {},
   "outputs": [
    {
     "name": "stdout",
     "output_type": "stream",
     "text": [
      "<class 'pandas.core.frame.DataFrame'>\n",
      "RangeIndex: 69656 entries, 0 to 69655\n",
      "Data columns (total 8 columns):\n",
      " #   Column           Non-Null Count  Dtype \n",
      "---  ------           --------------  ----- \n",
      " 0   id               69656 non-null  int64 \n",
      " 1   name             69656 non-null  object\n",
      " 2   salary           37590 non-null  object\n",
      " 3   schedule         69656 non-null  object\n",
      " 4   experience       69656 non-null  object\n",
      " 5   key_skills       69656 non-null  object\n",
      " 6   specializations  69656 non-null  object\n",
      " 7   region           69656 non-null  object\n",
      "dtypes: int64(1), object(7)\n",
      "memory usage: 4.3+ MB\n"
     ]
    }
   ],
   "source": [
    "df.info()"
   ]
  },
  {
   "cell_type": "code",
   "execution_count": 13,
   "metadata": {},
   "outputs": [
    {
     "data": {
      "text/plain": [
       "(69656, 8)"
      ]
     },
     "execution_count": 13,
     "metadata": {},
     "output_type": "execute_result"
    }
   ],
   "source": [
    "df.shape"
   ]
  },
  {
   "cell_type": "code",
   "execution_count": 14,
   "metadata": {},
   "outputs": [
    {
     "data": {
      "text/plain": [
       "id                     0\n",
       "name                   0\n",
       "salary             32066\n",
       "schedule               0\n",
       "experience             0\n",
       "key_skills             0\n",
       "specializations        0\n",
       "region                 0\n",
       "dtype: int64"
      ]
     },
     "execution_count": 14,
     "metadata": {},
     "output_type": "execute_result"
    }
   ],
   "source": [
    "df.isna().sum()\n",
    "# поиск пропущенных значений"
   ]
  },
  {
   "cell_type": "code",
   "execution_count": 15,
   "metadata": {},
   "outputs": [
    {
     "data": {
      "text/plain": [
       "['id',\n",
       " 'name',\n",
       " 'salary',\n",
       " 'schedule',\n",
       " 'experience',\n",
       " 'key_skills',\n",
       " 'specializations',\n",
       " 'region']"
      ]
     },
     "execution_count": 15,
     "metadata": {},
     "output_type": "execute_result"
    }
   ],
   "source": [
    "# список столбцов в виде list()\n",
    "df.columns.tolist()"
   ]
  },
  {
   "cell_type": "markdown",
   "metadata": {},
   "source": [
    "### Есть дубликаты?"
   ]
  },
  {
   "cell_type": "code",
   "execution_count": 8,
   "metadata": {},
   "outputs": [
    {
     "data": {
      "text/plain": [
       "233"
      ]
     },
     "execution_count": 8,
     "metadata": {},
     "output_type": "execute_result"
    }
   ],
   "source": [
    "df.duplicated().sum()"
   ]
  },
  {
   "cell_type": "code",
   "execution_count": null,
   "metadata": {},
   "outputs": [],
   "source": [
    "df[df.duplicated() == True]"
   ]
  },
  {
   "cell_type": "markdown",
   "metadata": {},
   "source": [
    "удаляем дубликаты"
   ]
  },
  {
   "cell_type": "code",
   "execution_count": 11,
   "metadata": {},
   "outputs": [],
   "source": [
    "df = df.drop_duplicates()"
   ]
  },
  {
   "cell_type": "markdown",
   "metadata": {},
   "source": [
    "### Преобразовываем строку JSON"
   ]
  },
  {
   "cell_type": "markdown",
   "metadata": {},
   "source": [
    "json.loads\n",
    "Считывание строки в формате JSON в объект Python"
   ]
  },
  {
   "cell_type": "markdown",
   "metadata": {},
   "source": [
    "json.dumps\n",
    "Преобразование объекта в строку в формате JSON. Функция dumps() модуля json сериализирует объект Python obj в строку str формата JSON. Сериализация объектов Python выполняется согласно таблице преобразования"
   ]
  },
  {
   "cell_type": "code",
   "execution_count": 12,
   "metadata": {},
   "outputs": [],
   "source": [
    "# Преобразование json с dumps\n",
    "def text_to_json_dumps(text):\n",
    "    text = text.replace(\"'\", '\"')\n",
    "    try:\n",
    "        return json.loads(json.dumps(text))\n",
    "    except:\n",
    "        print('error')"
   ]
  },
  {
   "cell_type": "code",
   "execution_count": 10,
   "metadata": {},
   "outputs": [],
   "source": [
    "# Преобразование json с заменой подстроки\n",
    "def text_to_json_str(text):\n",
    "    try:\n",
    "        return json.loads(text.replace('\"', '').replace(\"'\", '\"'))\n",
    "    except:\n",
    "        print('error')\n",
    "        # return []"
   ]
  },
  {
   "cell_type": "markdown",
   "metadata": {},
   "source": [
    "### Очищаем dataframe от данных, не относящихся к IT"
   ]
  },
  {
   "cell_type": "code",
   "execution_count": 82,
   "metadata": {},
   "outputs": [],
   "source": [
    "# для упрощения обработки приводим строки к нижнему регистру\n",
    "df['name'] = df['name'].str.lower()"
   ]
  },
  {
   "cell_type": "markdown",
   "metadata": {},
   "source": [
    "Работаем со столбцом specializations, чтобы очистить dataframe от данных, не относящихся к IT, что позволит точнее провести описательную статистику"
   ]
  },
  {
   "cell_type": "code",
   "execution_count": 19,
   "metadata": {},
   "outputs": [
    {
     "data": {
      "text/plain": [
       "\"[{'id': '1.110', 'name': 'Компьютерная безопасность', 'profarea_id': '1', 'profarea_name': 'Информационные технологии, интернет, телеком'}, {'id': '1.113', 'name': 'Консалтинг, Аутсорсинг', 'profarea_id': '1', 'profarea_name': 'Информационные технологии, интернет, телеком'}]\""
      ]
     },
     "execution_count": 19,
     "metadata": {},
     "output_type": "execute_result"
    }
   ],
   "source": [
    "df.specializations[0]"
   ]
  },
  {
   "cell_type": "markdown",
   "metadata": {},
   "source": [
    "Преобразуем данные json и сохраним их в столбце specializations_jsn"
   ]
  },
  {
   "cell_type": "code",
   "execution_count": 13,
   "metadata": {},
   "outputs": [],
   "source": [
    "df['specializations_jsn'] = df['specializations'].apply(text_to_json_dumps)"
   ]
  },
  {
   "cell_type": "markdown",
   "metadata": {},
   "source": [
    "Создаем функцию, вытаскивающую тег 'profarea_id'. Это Идентификатор профессиональной области, в которую входит специализация. 1 - Информационные технологии, интернет, телеком"
   ]
  },
  {
   "cell_type": "code",
   "execution_count": 14,
   "metadata": {},
   "outputs": [],
   "source": [
    "def get_tag_profarea_id(text):\n",
    "    text = json.loads(text)\n",
    "    try:\n",
    "        out = []\n",
    "        if len(text) > 0:\n",
    "            for i in text:\n",
    "                out.append(i['profarea_id'])\n",
    "            return out\n",
    "    except:\n",
    "        print('error')\n"
   ]
  },
  {
   "cell_type": "markdown",
   "metadata": {},
   "source": [
    "Создаем новый столбец 'profarea_id'"
   ]
  },
  {
   "cell_type": "code",
   "execution_count": 15,
   "metadata": {},
   "outputs": [],
   "source": [
    "df['profarea_id'] = df.specializations_jsn.apply(get_tag_profarea_id)"
   ]
  },
  {
   "cell_type": "markdown",
   "metadata": {},
   "source": [
    "Создаем функцию поиска элемента '1' в списке для того, чтобы сепарировать строки dataframe со специализацией 1 - Информационные технологии, интернет, телеком"
   ]
  },
  {
   "cell_type": "code",
   "execution_count": 16,
   "metadata": {},
   "outputs": [],
   "source": [
    "def find_1(lst):\n",
    "    return '1' in lst"
   ]
  },
  {
   "cell_type": "markdown",
   "metadata": {},
   "source": [
    "Создаем столбец 'profarea_id_1'"
   ]
  },
  {
   "cell_type": "code",
   "execution_count": 17,
   "metadata": {},
   "outputs": [],
   "source": [
    "df['profarea_id_1'] = df['profarea_id'].apply(find_1)"
   ]
  },
  {
   "cell_type": "markdown",
   "metadata": {},
   "source": [
    "Разделяем dataframe по признаку отношения специализации к IT"
   ]
  },
  {
   "cell_type": "code",
   "execution_count": 18,
   "metadata": {},
   "outputs": [],
   "source": [
    "it_true = df[df['profarea_id_1'] == 1]"
   ]
  },
  {
   "cell_type": "code",
   "execution_count": 19,
   "metadata": {},
   "outputs": [],
   "source": [
    "it_false = df[df['profarea_id_1'] == 0]"
   ]
  },
  {
   "cell_type": "markdown",
   "metadata": {},
   "source": [
    "В результате мы видим, что значительная часть строк не содержит идентификатор информационных технологий. Оставляем пока строки True и дополнительно разбираемся со строками False "
   ]
  },
  {
   "cell_type": "markdown",
   "metadata": {},
   "source": [
    "#### Разбираемся с it_false - есть ли там it-специальности"
   ]
  },
  {
   "cell_type": "code",
   "execution_count": null,
   "metadata": {},
   "outputs": [],
   "source": [
    "df.head(2)"
   ]
  },
  {
   "cell_type": "code",
   "execution_count": 22,
   "metadata": {},
   "outputs": [
    {
     "data": {
      "text/plain": [
       "0           консультант по информационной безопасности\n",
       "1    product manager (разработка по в сфере информа...\n",
       "2               эксперт по компьютерной криминалистике\n",
       "Name: name, dtype: object"
      ]
     },
     "execution_count": 22,
     "metadata": {},
     "output_type": "execute_result"
    }
   ],
   "source": [
    "df.name[:3]"
   ]
  },
  {
   "cell_type": "markdown",
   "metadata": {},
   "source": [
    "Создаем список подстрок, не относящихся к IT-специализации"
   ]
  },
  {
   "cell_type": "code",
   "execution_count": 23,
   "metadata": {},
   "outputs": [],
   "source": [
    "lst_not_it = [\n",
    "    'дизай',\n",
    "    'недви',\n",
    "    'персон', \n",
    "    'кадр',\n",
    "    'рекру',\n",
    "    'hr',\n",
    "    'продаж',\n",
    "    'риэл',\n",
    "    'риел',\n",
    "    'контент',\n",
    "    'зал',\n",
    "    'артист',\n",
    "    'smm',\n",
    "    'инструкт',\n",
    "    'тренер',\n",
    "    'креатив',\n",
    "    'ретуш',\n",
    "    'аренд',\n",
    "    'псих',\n",
    "    'табел',\n",
    "    'лаборат',\n",
    "    'автор',\n",
    "    'смет',\n",
    "    'менеджер по работе с клиентами',\n",
    "    'компенсац',\n",
    "    'обуч',\n",
    "    'помещен',\n",
    "    'межев',\n",
    "    'ипоте',\n",
    "    'маркетол',\n",
    "    'начинающий специалист',\n",
    "    'блогер',\n",
    "    'кдп',\n",
    "    'recruiter',\n",
    "    'труд',\n",
    "    'специалист по работе с клиентами',\n",
    "    'штат',\n",
    "    'продавец',\n",
    "    'офис',\n",
    "    'брокер',\n",
    "    'смм',\n",
    "    'ресеч',\n",
    "    'торг',\n",
    "    'менедж',\n",
    "    'воин',\n",
    "    'новострой',\n",
    "    'pr',\n",
    "    'маркетинг',\n",
    "    'реклам',\n",
    "    'арт',\n",
    "    'агент',\n",
    "    'строи',\n",
    "    'энергет',\n",
    "    'табель',\n",
    "    'плав',\n",
    "    'интерьер'\n",
    "    ]\n"
   ]
  },
  {
   "cell_type": "markdown",
   "metadata": {},
   "source": [
    "Сепарируем столбец 'name' на 2 dataframe: 1) с наименованиями из списка 2) остальное"
   ]
  },
  {
   "cell_type": "code",
   "execution_count": 24,
   "metadata": {},
   "outputs": [],
   "source": [
    "pat = '|'.join(lst_not_it)\n",
    "temp_df = it_false[it_false['name'].str.contains(pat)]\n",
    "it_not_false = it_false[~it_false.index.isin(temp_df.index)]"
   ]
  },
  {
   "cell_type": "code",
   "execution_count": 34,
   "metadata": {},
   "outputs": [
    {
     "data": {
      "text/plain": [
       "19221"
      ]
     },
     "execution_count": 34,
     "metadata": {},
     "output_type": "execute_result"
    }
   ],
   "source": [
    "# Проверка количества строк\n",
    "temp_df.shape[0] + it_not_false.shape[0]"
   ]
  },
  {
   "cell_type": "code",
   "execution_count": 32,
   "metadata": {},
   "outputs": [
    {
     "data": {
      "text/plain": [
       "(19221, 11)"
      ]
     },
     "execution_count": 32,
     "metadata": {},
     "output_type": "execute_result"
    }
   ],
   "source": [
    "it_false.shape"
   ]
  },
  {
   "cell_type": "code",
   "execution_count": 35,
   "metadata": {},
   "outputs": [
    {
     "data": {
      "text/plain": [
       "(3990, 11)"
      ]
     },
     "execution_count": 35,
     "metadata": {},
     "output_type": "execute_result"
    }
   ],
   "source": [
    "it_not_false.shape"
   ]
  },
  {
   "cell_type": "markdown",
   "metadata": {},
   "source": [
    "#### объединяем очищенные dataframe"
   ]
  },
  {
   "cell_type": "code",
   "execution_count": 25,
   "metadata": {},
   "outputs": [],
   "source": [
    "df = pd.concat([it_true, it_not_false], ignore_index=True)"
   ]
  },
  {
   "cell_type": "code",
   "execution_count": 26,
   "metadata": {},
   "outputs": [
    {
     "data": {
      "text/plain": [
       "(54192, 11)"
      ]
     },
     "execution_count": 26,
     "metadata": {},
     "output_type": "execute_result"
    }
   ],
   "source": [
    "df.shape"
   ]
  },
  {
   "cell_type": "markdown",
   "metadata": {},
   "source": [
    "Еще раз чистим объединенный dataframe по списку с однозначно не it-специальностями (менеджер, дизайн, арт, начинающий специалист исключены из списка)"
   ]
  },
  {
   "cell_type": "code",
   "execution_count": 104,
   "metadata": {},
   "outputs": [],
   "source": [
    "lst_not_it_2 = [\n",
    "    'недви',\n",
    "    'персон', \n",
    "    'кадр',\n",
    "    'рекру',\n",
    "    'hr',\n",
    "    'продаж',\n",
    "    'риэл',\n",
    "    'риел',\n",
    "    'контент',\n",
    "    'зал',\n",
    "    'артист',\n",
    "    'smm',\n",
    "    'инструкт',\n",
    "    'тренер',\n",
    "    'ретуш',\n",
    "    'аренд',\n",
    "    'псих',\n",
    "    'табел',\n",
    "    'смет',\n",
    "    'менеджер по работе с клиентами',\n",
    "    'компенсац',\n",
    "    'обуч',\n",
    "    'помещен',\n",
    "    'межев',\n",
    "    'ипоте',\n",
    "    'блогер',\n",
    "    'кдп',\n",
    "    'recruiter',\n",
    "    'труд',\n",
    "    'специалист по работе с клиентами',\n",
    "    'штат',\n",
    "    'продавец',\n",
    "    'брокер',\n",
    "    'смм',\n",
    "    'ресеч',\n",
    "    'торг',\n",
    "    'воин',\n",
    "    'новострой',\n",
    "    'pr',\n",
    "    'маркетинг',\n",
    "    'реклам',\n",
    "    'агент',\n",
    "    'строи',\n",
    "    'энергет',\n",
    "    'плаван',\n",
    "    'табель',\n",
    "    'интерьер'\n",
    "    ]"
   ]
  },
  {
   "cell_type": "code",
   "execution_count": 105,
   "metadata": {},
   "outputs": [],
   "source": [
    "pat = '|'.join(lst_not_it)\n",
    "temp_df = df[df['name'].str.contains(pat)]\n",
    "df = df[~df.index.isin(temp_df.index)]"
   ]
  },
  {
   "cell_type": "code",
   "execution_count": 29,
   "metadata": {},
   "outputs": [
    {
     "data": {
      "text/plain": [
       "(50202, 11)"
      ]
     },
     "execution_count": 29,
     "metadata": {},
     "output_type": "execute_result"
    }
   ],
   "source": [
    "df.shape"
   ]
  },
  {
   "cell_type": "markdown",
   "metadata": {},
   "source": [
    "## 2. Анализ и визуализация отдельных колонок"
   ]
  },
  {
   "cell_type": "markdown",
   "metadata": {},
   "source": [
    "Пытаемся сформулировать вопросы для колонок и ответить на них, используя\n",
    "- описательная статистика\n",
    "- выбросы, аномалии\n",
    "- сортировка\n",
    "- визуализация"
   ]
  },
  {
   "cell_type": "markdown",
   "metadata": {},
   "source": [
    "### Работаем со столбцом salary"
   ]
  },
  {
   "cell_type": "markdown",
   "metadata": {},
   "source": [
    "🎯 Цель: получить столбец **'salary_from_ru'**.<br>\n",
    "Надо вытащить данные по salary from и привести все данные к рублевому эквиваленту. Сделать описательную статистику, визуализацию, посмотреть выбросы, аномалии."
   ]
  },
  {
   "cell_type": "code",
   "execution_count": 38,
   "metadata": {},
   "outputs": [
    {
     "data": {
      "text/plain": [
       "\"{'from': 26000, 'to': None, 'currency': 'RUR', 'gross': True}\""
      ]
     },
     "execution_count": 38,
     "metadata": {},
     "output_type": "execute_result"
    }
   ],
   "source": [
    "df.salary[3]"
   ]
  },
  {
   "cell_type": "markdown",
   "metadata": {},
   "source": [
    "вытаскиваем тег from из salary"
   ]
  },
  {
   "cell_type": "code",
   "execution_count": 30,
   "metadata": {},
   "outputs": [],
   "source": [
    "# добавляем обработку None\n",
    "def salary_from(salary):\n",
    "    if pd.isna(salary): \n",
    "        clean_salary = np.nan\n",
    "    else:\n",
    "        clean_salary = salary.replace(\"{\", '').replace(\"}\", '').split(',')[0][8:]\n",
    "        if clean_salary == 'None':\n",
    "            clean_salary = np.nan\n",
    "\n",
    "    return clean_salary"
   ]
  },
  {
   "cell_type": "markdown",
   "metadata": {},
   "source": [
    "вытаскиваем тег currency из salary"
   ]
  },
  {
   "cell_type": "code",
   "execution_count": 31,
   "metadata": {},
   "outputs": [],
   "source": [
    "# добавляем обработку None\n",
    "def salary_currency(salary):\n",
    "    if pd.isna(salary): \n",
    "        clean_salary = np.nan\n",
    "    else:\n",
    "        clean_salary = salary.replace(\"{\", '').replace(\"}\", '').split(',')[2][12:]\n",
    "        if clean_salary == 'None':\n",
    "            clean_salary = np.nan\n",
    "\n",
    "    return clean_salary"
   ]
  },
  {
   "cell_type": "code",
   "execution_count": 32,
   "metadata": {},
   "outputs": [],
   "source": [
    "df['salary_currency'] = df.salary.apply(salary_currency)"
   ]
  },
  {
   "cell_type": "code",
   "execution_count": 33,
   "metadata": {},
   "outputs": [],
   "source": [
    "df['salary_from'] = df.salary.apply(salary_from)"
   ]
  },
  {
   "cell_type": "code",
   "execution_count": 34,
   "metadata": {},
   "outputs": [],
   "source": [
    "df['salary_from'] = pd.to_numeric(df['salary_from'])"
   ]
  },
  {
   "cell_type": "markdown",
   "metadata": {},
   "source": [
    "приводим все salary_from в рубли"
   ]
  },
  {
   "cell_type": "code",
   "execution_count": 35,
   "metadata": {},
   "outputs": [],
   "source": [
    "def get_rate(currency):\n",
    "    rur =  1\n",
    "    doll = 70\n",
    "    eur = 75\n",
    "    kzt = 0.13\n",
    "    if currency is np.nan:\n",
    "        return np.nan\n",
    "    else:\n",
    "        if currency.find('RUR') >= 0:\n",
    "            return rur\n",
    "        elif currency.find('USD') >= 0:\n",
    "            return doll\n",
    "        elif currency.find('EUR') >= 0:\n",
    "            return eur\n",
    "        elif currency.find('KZT') >= 0:\n",
    "            return kzt"
   ]
  },
  {
   "cell_type": "code",
   "execution_count": 36,
   "metadata": {},
   "outputs": [],
   "source": [
    "df['salary_temp'] = df.salary_from * df.salary_currency.apply(get_rate)"
   ]
  },
  {
   "cell_type": "markdown",
   "metadata": {},
   "source": [
    "проверка"
   ]
  },
  {
   "cell_type": "code",
   "execution_count": 37,
   "metadata": {},
   "outputs": [
    {
     "data": {
      "text/html": [
       "<div>\n",
       "<style scoped>\n",
       "    .dataframe tbody tr th:only-of-type {\n",
       "        vertical-align: middle;\n",
       "    }\n",
       "\n",
       "    .dataframe tbody tr th {\n",
       "        vertical-align: top;\n",
       "    }\n",
       "\n",
       "    .dataframe thead th {\n",
       "        text-align: right;\n",
       "    }\n",
       "</style>\n",
       "<table border=\"1\" class=\"dataframe\">\n",
       "  <thead>\n",
       "    <tr style=\"text-align: right;\">\n",
       "      <th></th>\n",
       "      <th>salary_from</th>\n",
       "      <th>salary_currency</th>\n",
       "      <th>salary_temp</th>\n",
       "    </tr>\n",
       "  </thead>\n",
       "  <tbody>\n",
       "    <tr>\n",
       "      <th>15599</th>\n",
       "      <td>4,000.00</td>\n",
       "      <td>'USD'</td>\n",
       "      <td>280,000.00</td>\n",
       "    </tr>\n",
       "    <tr>\n",
       "      <th>20326</th>\n",
       "      <td>4,000.00</td>\n",
       "      <td>'USD'</td>\n",
       "      <td>280,000.00</td>\n",
       "    </tr>\n",
       "    <tr>\n",
       "      <th>31501</th>\n",
       "      <td>4,000.00</td>\n",
       "      <td>'USD'</td>\n",
       "      <td>280,000.00</td>\n",
       "    </tr>\n",
       "    <tr>\n",
       "      <th>16136</th>\n",
       "      <td>5,000.00</td>\n",
       "      <td>'USD'</td>\n",
       "      <td>350,000.00</td>\n",
       "    </tr>\n",
       "    <tr>\n",
       "      <th>18879</th>\n",
       "      <td>800.00</td>\n",
       "      <td>'USD'</td>\n",
       "      <td>56,000.00</td>\n",
       "    </tr>\n",
       "  </tbody>\n",
       "</table>\n",
       "</div>"
      ],
      "text/plain": [
       "       salary_from salary_currency  salary_temp\n",
       "15599     4,000.00           'USD'   280,000.00\n",
       "20326     4,000.00           'USD'   280,000.00\n",
       "31501     4,000.00           'USD'   280,000.00\n",
       "16136     5,000.00           'USD'   350,000.00\n",
       "18879       800.00           'USD'    56,000.00"
      ]
     },
     "execution_count": 37,
     "metadata": {},
     "output_type": "execute_result"
    }
   ],
   "source": [
    "df[['salary_from', 'salary_currency', 'salary_temp']].sort_values('salary_currency', ascending=False)[:5]"
   ]
  },
  {
   "cell_type": "markdown",
   "metadata": {},
   "source": [
    "Выбираем на что менять NaN в столбце 'salary_ru'"
   ]
  },
  {
   "cell_type": "code",
   "execution_count": 38,
   "metadata": {},
   "outputs": [
    {
     "data": {
      "text/plain": [
       "(82961.7682277935, 60000.0, 20.0, 1500000.0)"
      ]
     },
     "execution_count": 38,
     "metadata": {},
     "output_type": "execute_result"
    }
   ],
   "source": [
    "(\n",
    "    df.salary_temp.mean(),\n",
    "    df.salary_temp.median(),\n",
    "    df.salary_temp.min(),\n",
    "    df.salary_temp.max()\n",
    ")"
   ]
  },
  {
   "cell_type": "markdown",
   "metadata": {},
   "source": [
    "Медиана меньше зависима от выбросов и лучше подходит для заполнения ячеек NaN"
   ]
  },
  {
   "cell_type": "code",
   "execution_count": 39,
   "metadata": {},
   "outputs": [],
   "source": [
    "agg_func_math_ = {\n",
    "    'salary_temp': ['median']\n",
    "}\n",
    "# задаем список функций по определенному столбцу с расчетными данными\n",
    "\n",
    "region_salary_ru = df.groupby('region', dropna=True).agg(agg_func_math_).round(2).fillna(0)\n",
    "# включаем строки с NaN при расчете: dropna=False"
   ]
  },
  {
   "cell_type": "markdown",
   "metadata": {},
   "source": [
    "переименовываем столбец"
   ]
  },
  {
   "cell_type": "code",
   "execution_count": 40,
   "metadata": {},
   "outputs": [],
   "source": [
    "region_salary_ru.columns = ['_'.join(col).strip() for col in region_salary_ru.columns.values]"
   ]
  },
  {
   "cell_type": "markdown",
   "metadata": {},
   "source": [
    "Заджойним region_salary_ru в df"
   ]
  },
  {
   "cell_type": "code",
   "execution_count": 41,
   "metadata": {},
   "outputs": [],
   "source": [
    "df = df.merge(region_salary_ru, on='region', how='inner')"
   ]
  },
  {
   "cell_type": "code",
   "execution_count": 42,
   "metadata": {},
   "outputs": [
    {
     "data": {
      "text/plain": [
       "29341"
      ]
     },
     "execution_count": 42,
     "metadata": {},
     "output_type": "execute_result"
    }
   ],
   "source": [
    "df.salary_temp.isna().sum()"
   ]
  },
  {
   "cell_type": "markdown",
   "metadata": {},
   "source": [
    "Так как медианные зарплаты различаются по регионам. Будем ячейки NaN в колонке 'salary_ru' заменять на медианную зарплату с учетом региона"
   ]
  },
  {
   "cell_type": "code",
   "execution_count": 41,
   "metadata": {},
   "outputs": [],
   "source": [
    "df.loc[(df.salary_temp.isna()), 'salary_temp'] = df.salary_temp_median"
   ]
  },
  {
   "cell_type": "markdown",
   "metadata": {},
   "source": [
    "переименуем столбец"
   ]
  },
  {
   "cell_type": "code",
   "execution_count": 43,
   "metadata": {},
   "outputs": [],
   "source": [
    "df = df.rename(columns={'salary_temp_median': 'salary_from_ru'})"
   ]
  },
  {
   "cell_type": "code",
   "execution_count": 44,
   "metadata": {},
   "outputs": [
    {
     "data": {
      "text/plain": [
       "0"
      ]
     },
     "execution_count": 44,
     "metadata": {},
     "output_type": "execute_result"
    }
   ],
   "source": [
    "df.salary_from_ru.isna().sum()"
   ]
  },
  {
   "cell_type": "code",
   "execution_count": 44,
   "metadata": {},
   "outputs": [
    {
     "data": {
      "text/plain": [
       "60000.0"
      ]
     },
     "execution_count": 44,
     "metadata": {},
     "output_type": "execute_result"
    }
   ],
   "source": [
    "df.salary_from_ru.median()"
   ]
  },
  {
   "cell_type": "code",
   "execution_count": 45,
   "metadata": {},
   "outputs": [
    {
     "data": {
      "text/plain": [
       "<function matplotlib.pyplot.show(close=None, block=None)>"
      ]
     },
     "execution_count": 45,
     "metadata": {},
     "output_type": "execute_result"
    },
    {
     "data": {
      "image/png": "[encoded data removed]",
      "text/plain": [
       "<Figure size 432x288 with 1 Axes>"
      ]
     },
     "metadata": {
      "needs_background": "light"
     },
     "output_type": "display_data"
    }
   ],
   "source": [
    "plt.boxplot(df.salary_from_ru)\n",
    "plt.show"
   ]
  },
  {
   "cell_type": "markdown",
   "metadata": {},
   "source": [
    "диапазон зарплат"
   ]
  },
  {
   "cell_type": "code",
   "execution_count": 46,
   "metadata": {},
   "outputs": [
    {
     "name": "stderr",
     "output_type": "stream",
     "text": [
      "/tmp/ipykernel_1686/779826173.py:14: SettingWithCopyWarning: \n",
      "A value is trying to be set on a copy of a slice from a DataFrame\n",
      "\n",
      "See the caveats in the documentation: https://pandas.pydata.org/pandas-docs/stable/user_guide/indexing.html#returning-a-view-versus-a-copy\n",
      "  df['band_salary'][i] = 'от 100 т.р.'\n",
      "/tmp/ipykernel_1686/779826173.py:15: SettingWithCopyWarning: \n",
      "A value is trying to be set on a copy of a slice from a DataFrame\n",
      "\n",
      "See the caveats in the documentation: https://pandas.pydata.org/pandas-docs/stable/user_guide/indexing.html#returning-a-view-versus-a-copy\n",
      "  df['salary_category'][i] = 4\n",
      "/tmp/ipykernel_1686/779826173.py:6: SettingWithCopyWarning: \n",
      "A value is trying to be set on a copy of a slice from a DataFrame\n",
      "\n",
      "See the caveats in the documentation: https://pandas.pydata.org/pandas-docs/stable/user_guide/indexing.html#returning-a-view-versus-a-copy\n",
      "  df['salary_category'][i] = 1\n",
      "/tmp/ipykernel_1686/779826173.py:9: SettingWithCopyWarning: \n",
      "A value is trying to be set on a copy of a slice from a DataFrame\n",
      "\n",
      "See the caveats in the documentation: https://pandas.pydata.org/pandas-docs/stable/user_guide/indexing.html#returning-a-view-versus-a-copy\n",
      "  df['salary_category'][i] = 2\n",
      "/tmp/ipykernel_1686/779826173.py:12: SettingWithCopyWarning: \n",
      "A value is trying to be set on a copy of a slice from a DataFrame\n",
      "\n",
      "See the caveats in the documentation: https://pandas.pydata.org/pandas-docs/stable/user_guide/indexing.html#returning-a-view-versus-a-copy\n",
      "  df['salary_category'][i] = 3\n"
     ]
    }
   ],
   "source": [
    "df['band_salary'] = 0\n",
    "df['salary_category'] = 0\n",
    "for i in range(len(df.salary_from_ru)):\n",
    "    if df.salary_from_ru[i] > 0 and df.salary_from_ru[i] < 60000:\n",
    "        df['band_salary'][i] = 'до 60 т.р.'\n",
    "        df['salary_category'][i] = 1\n",
    "    elif df.salary_from_ru[i] >= 60000 and df.salary_from_ru[i] < 80000:\n",
    "        df['band_salary'][i] = 'от 60 до 80 т.р.'\n",
    "        df['salary_category'][i] = 2\n",
    "    elif df.salary_from_ru[i] >= 80000 and df.salary_from_ru[i] < 100000:\n",
    "        df['band_salary'][i] = 'от 80 до 100 т.р.'\n",
    "        df['salary_category'][i] = 3\n",
    "    elif df.salary_from_ru[i] >= 100000:\n",
    "        df['band_salary'][i] = 'от 100 т.р.'\n",
    "        df['salary_category'][i] = 4\n",
    "    else:\n",
    "        df['band_salary'][i] = 'no data'"
   ]
  },
  {
   "cell_type": "code",
   "execution_count": 47,
   "metadata": {},
   "outputs": [
    {
     "data": {
      "text/html": [
       "<div>\n",
       "<style scoped>\n",
       "    .dataframe tbody tr th:only-of-type {\n",
       "        vertical-align: middle;\n",
       "    }\n",
       "\n",
       "    .dataframe tbody tr th {\n",
       "        vertical-align: top;\n",
       "    }\n",
       "\n",
       "    .dataframe thead th {\n",
       "        text-align: right;\n",
       "    }\n",
       "</style>\n",
       "<table border=\"1\" class=\"dataframe\">\n",
       "  <thead>\n",
       "    <tr style=\"text-align: right;\">\n",
       "      <th></th>\n",
       "      <th>index</th>\n",
       "      <th>band_salary</th>\n",
       "    </tr>\n",
       "  </thead>\n",
       "  <tbody>\n",
       "    <tr>\n",
       "      <th>0</th>\n",
       "      <td>до 60 т.р.</td>\n",
       "      <td>20605</td>\n",
       "    </tr>\n",
       "    <tr>\n",
       "      <th>1</th>\n",
       "      <td>от 100 т.р.</td>\n",
       "      <td>15069</td>\n",
       "    </tr>\n",
       "    <tr>\n",
       "      <th>2</th>\n",
       "      <td>от 60 до 80 т.р.</td>\n",
       "      <td>8117</td>\n",
       "    </tr>\n",
       "    <tr>\n",
       "      <th>3</th>\n",
       "      <td>от 80 до 100 т.р.</td>\n",
       "      <td>6407</td>\n",
       "    </tr>\n",
       "    <tr>\n",
       "      <th>4</th>\n",
       "      <td>no data</td>\n",
       "      <td>4</td>\n",
       "    </tr>\n",
       "  </tbody>\n",
       "</table>\n",
       "</div>"
      ],
      "text/plain": [
       "               index  band_salary\n",
       "0         до 60 т.р.        20605\n",
       "1        от 100 т.р.        15069\n",
       "2   от 60 до 80 т.р.         8117\n",
       "3  от 80 до 100 т.р.         6407\n",
       "4            no data            4"
      ]
     },
     "execution_count": 47,
     "metadata": {},
     "output_type": "execute_result"
    }
   ],
   "source": [
    "df.band_salary.value_counts().reset_index()"
   ]
  },
  {
   "cell_type": "code",
   "execution_count": 48,
   "metadata": {},
   "outputs": [
    {
     "data": {
      "image/png": "[encoded data removed]",
      "text/plain": [
       "<Figure size 720x720 with 1 Axes>"
      ]
     },
     "metadata": {
      "needs_background": "light"
     },
     "output_type": "display_data"
    }
   ],
   "source": [
    "f, ax = plt.subplots(figsize=(10, 10))\n",
    "fig = sns.boxplot(x='band_salary', y='salary_from_ru', data=df)"
   ]
  },
  {
   "cell_type": "code",
   "execution_count": 49,
   "metadata": {},
   "outputs": [
    {
     "data": {
      "text/plain": [
       "<function matplotlib.pyplot.show(close=None, block=None)>"
      ]
     },
     "execution_count": 49,
     "metadata": {},
     "output_type": "execute_result"
    },
    {
     "data": {
      "image/png": "[encoded data removed]",
      "text/plain": [
       "<Figure size 432x288 with 1 Axes>"
      ]
     },
     "metadata": {
      "needs_background": "light"
     },
     "output_type": "display_data"
    }
   ],
   "source": [
    "plt.barh(\n",
    "    df.band_salary.value_counts().index,\n",
    "    df.band_salary.value_counts().values\n",
    ")\n",
    "plt.title('Количество вакансий по уровню зарплаты')\n",
    "plt.show"
   ]
  },
  {
   "cell_type": "markdown",
   "metadata": {},
   "source": [
    "### Анализируем количество и частоту специализаций"
   ]
  },
  {
   "cell_type": "markdown",
   "metadata": {},
   "source": [
    "🎯 Цель: создать таблицу **'specializations_frequency'**. <br>\n",
    "Надо проанализировать данные по тегу 'name'. "
   ]
  },
  {
   "cell_type": "markdown",
   "metadata": {},
   "source": [
    "#### Агрегируем данные по тегу name колонки 'specializations'"
   ]
  },
  {
   "cell_type": "code",
   "execution_count": 51,
   "metadata": {},
   "outputs": [
    {
     "data": {
      "text/plain": [
       "\"[{'id': '1.110', 'name': 'Компьютерная безопасность', 'profarea_id': '1', 'profarea_name': 'Информационные технологии, интернет, телеком'}, {'id': '1.113', 'name': 'Консалтинг, Аутсорсинг', 'profarea_id': '1', 'profarea_name': 'Информационные технологии, интернет, телеком'}]\""
      ]
     },
     "execution_count": 51,
     "metadata": {},
     "output_type": "execute_result"
    }
   ],
   "source": [
    "df.specializations[0]"
   ]
  },
  {
   "cell_type": "markdown",
   "metadata": {},
   "source": [
    "пишем функцию для получения тега 'name'"
   ]
  },
  {
   "cell_type": "code",
   "execution_count": 50,
   "metadata": {},
   "outputs": [],
   "source": [
    "def get_tag_name(jsn):\n",
    "    text = json.loads(jsn)\n",
    "    try:\n",
    "        out = []\n",
    "        if len(text) > 0:\n",
    "            for i in text:\n",
    "                out.append(i['name'])\n",
    "            return out\n",
    "    except:\n",
    "        print('error')"
   ]
  },
  {
   "cell_type": "markdown",
   "metadata": {},
   "source": [
    "создаем столбец 'specializations_name', вытаскиваем тег 'name' из колонки 'specializations'"
   ]
  },
  {
   "cell_type": "code",
   "execution_count": 52,
   "metadata": {},
   "outputs": [],
   "source": [
    "df['specializations_name'] = df.specializations_jsn.apply(get_tag_name)"
   ]
  },
  {
   "cell_type": "code",
   "execution_count": 53,
   "metadata": {},
   "outputs": [],
   "source": [
    "specializations_region = df[['specializations_name', 'region']].explode('specializations_name')"
   ]
  },
  {
   "cell_type": "markdown",
   "metadata": {},
   "source": [
    "удаляем строки, не относящиеся к IT-специализации"
   ]
  },
  {
   "cell_type": "code",
   "execution_count": 54,
   "metadata": {},
   "outputs": [],
   "source": [
    "specializations_region['specializations_name'] = specializations_region['specializations_name'].str.lower()"
   ]
  },
  {
   "cell_type": "markdown",
   "metadata": {},
   "source": [
    "Сепарируем столбец 'specializations_name': 1) с наименованиями из списка 'lst_not_it' 2) остальное"
   ]
  },
  {
   "cell_type": "code",
   "execution_count": 55,
   "metadata": {},
   "outputs": [],
   "source": [
    "pat = '|'.join(lst_not_it)\n",
    "temp_ = specializations_region[specializations_region['specializations_name'].str.contains(pat)]\n",
    "it_sp = specializations_region[~specializations_region.index.isin(temp_.index)]"
   ]
  },
  {
   "cell_type": "code",
   "execution_count": 56,
   "metadata": {},
   "outputs": [
    {
     "data": {
      "text/plain": [
       "(15030, 2)"
      ]
     },
     "execution_count": 56,
     "metadata": {},
     "output_type": "execute_result"
    }
   ],
   "source": [
    "temp_.shape"
   ]
  },
  {
   "cell_type": "code",
   "execution_count": 57,
   "metadata": {},
   "outputs": [
    {
     "data": {
      "text/plain": [
       "(189799, 2)"
      ]
     },
     "execution_count": 57,
     "metadata": {},
     "output_type": "execute_result"
    }
   ],
   "source": [
    "it_sp.shape"
   ]
  },
  {
   "cell_type": "code",
   "execution_count": 58,
   "metadata": {},
   "outputs": [],
   "source": [
    "specialization_frequency = (it_sp\n",
    "                .specializations_name\n",
    "                .value_counts()\n",
    "                .reset_index()\n",
    ")"
   ]
  },
  {
   "cell_type": "markdown",
   "metadata": {},
   "source": [
    "Переименуем столбцы"
   ]
  },
  {
   "cell_type": "code",
   "execution_count": 59,
   "metadata": {},
   "outputs": [],
   "source": [
    "specialization_frequency = specialization_frequency.rename(columns={'index': 'specialization', 'specializations_name': 'frequency'})"
   ]
  },
  {
   "cell_type": "code",
   "execution_count": 60,
   "metadata": {},
   "outputs": [
    {
     "data": {
      "text/html": [
       "<div>\n",
       "<style scoped>\n",
       "    .dataframe tbody tr th:only-of-type {\n",
       "        vertical-align: middle;\n",
       "    }\n",
       "\n",
       "    .dataframe tbody tr th {\n",
       "        vertical-align: top;\n",
       "    }\n",
       "\n",
       "    .dataframe thead th {\n",
       "        text-align: right;\n",
       "    }\n",
       "</style>\n",
       "<table border=\"1\" class=\"dataframe\">\n",
       "  <thead>\n",
       "    <tr style=\"text-align: right;\">\n",
       "      <th></th>\n",
       "      <th>specialization</th>\n",
       "      <th>frequency</th>\n",
       "    </tr>\n",
       "  </thead>\n",
       "  <tbody>\n",
       "    <tr>\n",
       "      <th>0</th>\n",
       "      <td>инженер</td>\n",
       "      <td>31385</td>\n",
       "    </tr>\n",
       "    <tr>\n",
       "      <th>1</th>\n",
       "      <td>программирование, разработка</td>\n",
       "      <td>20504</td>\n",
       "    </tr>\n",
       "    <tr>\n",
       "      <th>2</th>\n",
       "      <td>системы управления предприятием (erp)</td>\n",
       "      <td>17332</td>\n",
       "    </tr>\n",
       "  </tbody>\n",
       "</table>\n",
       "</div>"
      ],
      "text/plain": [
       "                          specialization  frequency\n",
       "0                                инженер      31385\n",
       "1           программирование, разработка      20504\n",
       "2  системы управления предприятием (erp)      17332"
      ]
     },
     "execution_count": 60,
     "metadata": {},
     "output_type": "execute_result"
    }
   ],
   "source": [
    "specialization_frequency[:3]"
   ]
  },
  {
   "cell_type": "markdown",
   "metadata": {},
   "source": [
    "Специализация с частотой больше 500"
   ]
  },
  {
   "cell_type": "code",
   "execution_count": 61,
   "metadata": {},
   "outputs": [
    {
     "data": {
      "text/html": [
       "<div>\n",
       "<style scoped>\n",
       "    .dataframe tbody tr th:only-of-type {\n",
       "        vertical-align: middle;\n",
       "    }\n",
       "\n",
       "    .dataframe tbody tr th {\n",
       "        vertical-align: top;\n",
       "    }\n",
       "\n",
       "    .dataframe thead th {\n",
       "        text-align: right;\n",
       "    }\n",
       "</style>\n",
       "<table border=\"1\" class=\"dataframe\">\n",
       "  <thead>\n",
       "    <tr style=\"text-align: right;\">\n",
       "      <th></th>\n",
       "      <th>specialization</th>\n",
       "      <th>frequency</th>\n",
       "    </tr>\n",
       "  </thead>\n",
       "  <tbody>\n",
       "    <tr>\n",
       "      <th>0</th>\n",
       "      <td>инженер</td>\n",
       "      <td>31385</td>\n",
       "    </tr>\n",
       "    <tr>\n",
       "      <th>1</th>\n",
       "      <td>программирование, разработка</td>\n",
       "      <td>20504</td>\n",
       "    </tr>\n",
       "    <tr>\n",
       "      <th>2</th>\n",
       "      <td>системы управления предприятием (erp)</td>\n",
       "      <td>17332</td>\n",
       "    </tr>\n",
       "    <tr>\n",
       "      <th>3</th>\n",
       "      <td>поддержка, helpdesk</td>\n",
       "      <td>14615</td>\n",
       "    </tr>\n",
       "    <tr>\n",
       "      <th>4</th>\n",
       "      <td>системный администратор</td>\n",
       "      <td>14540</td>\n",
       "    </tr>\n",
       "    <tr>\n",
       "      <th>5</th>\n",
       "      <td>web инженер</td>\n",
       "      <td>14157</td>\n",
       "    </tr>\n",
       "    <tr>\n",
       "      <th>6</th>\n",
       "      <td>web мастер</td>\n",
       "      <td>14129</td>\n",
       "    </tr>\n",
       "    <tr>\n",
       "      <th>7</th>\n",
       "      <td>интернет</td>\n",
       "      <td>11784</td>\n",
       "    </tr>\n",
       "    <tr>\n",
       "      <th>8</th>\n",
       "      <td>аналитик</td>\n",
       "      <td>10740</td>\n",
       "    </tr>\n",
       "    <tr>\n",
       "      <th>9</th>\n",
       "      <td>другое</td>\n",
       "      <td>10626</td>\n",
       "    </tr>\n",
       "    <tr>\n",
       "      <th>10</th>\n",
       "      <td>сетевые технологии</td>\n",
       "      <td>9561</td>\n",
       "    </tr>\n",
       "    <tr>\n",
       "      <th>11</th>\n",
       "      <td>начальный уровень, мало опыта</td>\n",
       "      <td>5166</td>\n",
       "    </tr>\n",
       "    <tr>\n",
       "      <th>12</th>\n",
       "      <td>управление проектами</td>\n",
       "      <td>4981</td>\n",
       "    </tr>\n",
       "    <tr>\n",
       "      <th>13</th>\n",
       "      <td>тестирование</td>\n",
       "      <td>2822</td>\n",
       "    </tr>\n",
       "    <tr>\n",
       "      <th>14</th>\n",
       "      <td>компьютерная безопасность</td>\n",
       "      <td>2778</td>\n",
       "    </tr>\n",
       "    <tr>\n",
       "      <th>15</th>\n",
       "      <td>информационные технологии</td>\n",
       "      <td>1722</td>\n",
       "    </tr>\n",
       "    <tr>\n",
       "      <th>16</th>\n",
       "      <td>информационные технологии, интернет, мультимедиа</td>\n",
       "      <td>726</td>\n",
       "    </tr>\n",
       "    <tr>\n",
       "      <th>17</th>\n",
       "      <td>cto, cio, директор по it</td>\n",
       "      <td>550</td>\n",
       "    </tr>\n",
       "  </tbody>\n",
       "</table>\n",
       "</div>"
      ],
      "text/plain": [
       "                                      specialization  frequency\n",
       "0                                            инженер      31385\n",
       "1                       программирование, разработка      20504\n",
       "2              системы управления предприятием (erp)      17332\n",
       "3                                поддержка, helpdesk      14615\n",
       "4                            системный администратор      14540\n",
       "5                                        web инженер      14157\n",
       "6                                         web мастер      14129\n",
       "7                                           интернет      11784\n",
       "8                                           аналитик      10740\n",
       "9                                             другое      10626\n",
       "10                                сетевые технологии       9561\n",
       "11                     начальный уровень, мало опыта       5166\n",
       "12                              управление проектами       4981\n",
       "13                                      тестирование       2822\n",
       "14                         компьютерная безопасность       2778\n",
       "15                         информационные технологии       1722\n",
       "16  информационные технологии, интернет, мультимедиа        726\n",
       "17                          cto, cio, директор по it        550"
      ]
     },
     "execution_count": 61,
     "metadata": {},
     "output_type": "execute_result"
    }
   ],
   "source": [
    "specialization_frequency[specialization_frequency.frequency > 500]"
   ]
  },
  {
   "cell_type": "code",
   "execution_count": 63,
   "metadata": {},
   "outputs": [
    {
     "data": {
      "text/plain": [
       "<function matplotlib.pyplot.show(close=None, block=None)>"
      ]
     },
     "execution_count": 63,
     "metadata": {},
     "output_type": "execute_result"
    },
    {
     "data": {
      "image/png": "[encoded data removed]",
      "text/plain": [
       "<Figure size 432x288 with 1 Axes>"
      ]
     },
     "metadata": {
      "needs_background": "light"
     },
     "output_type": "display_data"
    }
   ],
   "source": [
    "plt.barh(\n",
    "    specialization_frequency[specialization_frequency.frequency > 14500].specialization.values,\n",
    "    specialization_frequency[specialization_frequency.frequency > 14500].frequency.values\n",
    ")\n",
    "plt.title('ТОП5 специализации')\n",
    "plt.show"
   ]
  },
  {
   "cell_type": "markdown",
   "metadata": {},
   "source": [
    "### Анализируем количество и частоту навыков"
   ]
  },
  {
   "cell_type": "markdown",
   "metadata": {},
   "source": [
    "🎯 Цель: создать таблицу **'skills_frequency'**. <br>\n",
    "Надо проанализировать данные по тегу 'name'. "
   ]
  },
  {
   "cell_type": "markdown",
   "metadata": {},
   "source": [
    "#### Агрегируем по тегу name колонки 'key_skills'"
   ]
  },
  {
   "cell_type": "code",
   "execution_count": 76,
   "metadata": {},
   "outputs": [
    {
     "data": {
      "text/plain": [
       "\"[{'name': 'Информационная безопасность'}, {'name': 'Запуск новых продуктов'}, {'name': 'Анализ рынка'}, {'name': 'Бизнес-анализ'}, {'name': 'Управление продуктом'}, {'name': 'Маркетинговое планирование'}]\""
      ]
     },
     "execution_count": 76,
     "metadata": {},
     "output_type": "execute_result"
    }
   ],
   "source": [
    "df.key_skills.iloc[1]"
   ]
  },
  {
   "cell_type": "markdown",
   "metadata": {},
   "source": [
    "Заменяем вложенные двойные кавычки на символ '|'. это позволит не ловить ошибку и при этом не затрудняет чтение и анализ данных"
   ]
  },
  {
   "cell_type": "code",
   "execution_count": 64,
   "metadata": {},
   "outputs": [],
   "source": [
    "def text_replace(text):\n",
    "    return text.replace('\"', '|').replace(\"'\", '\"')\n",
    "\n"
   ]
  },
  {
   "cell_type": "code",
   "execution_count": 65,
   "metadata": {},
   "outputs": [],
   "source": [
    "df['key_skills_jsn'] = df.key_skills.apply(text_replace).apply(text_to_json_dumps)"
   ]
  },
  {
   "cell_type": "markdown",
   "metadata": {},
   "source": [
    "создаем новый столбец key_skills_name"
   ]
  },
  {
   "cell_type": "code",
   "execution_count": 66,
   "metadata": {},
   "outputs": [],
   "source": [
    "def get_tag_name_(text):\n",
    "    try:\n",
    "        text = json.loads(text)\n",
    "        out = []\n",
    "        if len(text) > 2:\n",
    "            for i in text:\n",
    "                out.append(i['name'])\n",
    "            return out\n",
    "    except:\n",
    "        return []"
   ]
  },
  {
   "cell_type": "code",
   "execution_count": 67,
   "metadata": {},
   "outputs": [],
   "source": [
    "df['key_skills_name'] = df.key_skills_jsn.apply(get_tag_name_)"
   ]
  },
  {
   "cell_type": "code",
   "execution_count": 68,
   "metadata": {},
   "outputs": [
    {
     "data": {
      "text/plain": [
       "10946"
      ]
     },
     "execution_count": 68,
     "metadata": {},
     "output_type": "execute_result"
    }
   ],
   "source": [
    "df['key_skills_name'].isna().sum()"
   ]
  },
  {
   "cell_type": "markdown",
   "metadata": {},
   "source": [
    "None заменяем на 'нет информации'"
   ]
  },
  {
   "cell_type": "code",
   "execution_count": 69,
   "metadata": {},
   "outputs": [],
   "source": [
    "df['key_skills_name'] = df['key_skills_name'].fillna('нет информации')"
   ]
  },
  {
   "cell_type": "markdown",
   "metadata": {},
   "source": [
    "создаем таблицу из столбцов 'key_skills_name', 'salary_ru'"
   ]
  },
  {
   "cell_type": "code",
   "execution_count": 70,
   "metadata": {},
   "outputs": [],
   "source": [
    "skill_salary = df[['key_skills_name', 'salary_from_ru']].explode('key_skills_name')"
   ]
  },
  {
   "cell_type": "code",
   "execution_count": 71,
   "metadata": {},
   "outputs": [
    {
     "data": {
      "text/html": [
       "<div>\n",
       "<style scoped>\n",
       "    .dataframe tbody tr th:only-of-type {\n",
       "        vertical-align: middle;\n",
       "    }\n",
       "\n",
       "    .dataframe tbody tr th {\n",
       "        vertical-align: top;\n",
       "    }\n",
       "\n",
       "    .dataframe thead th {\n",
       "        text-align: right;\n",
       "    }\n",
       "</style>\n",
       "<table border=\"1\" class=\"dataframe\">\n",
       "  <thead>\n",
       "    <tr style=\"text-align: right;\">\n",
       "      <th></th>\n",
       "      <th>key_skills_name</th>\n",
       "      <th>salary_from_ru</th>\n",
       "    </tr>\n",
       "  </thead>\n",
       "  <tbody>\n",
       "    <tr>\n",
       "      <th>0</th>\n",
       "      <td>Информационная безопасность</td>\n",
       "      <td>100,000.00</td>\n",
       "    </tr>\n",
       "    <tr>\n",
       "      <th>0</th>\n",
       "      <td>Аудит информационной безопасности</td>\n",
       "      <td>100,000.00</td>\n",
       "    </tr>\n",
       "    <tr>\n",
       "      <th>0</th>\n",
       "      <td>ФЗ-152</td>\n",
       "      <td>100,000.00</td>\n",
       "    </tr>\n",
       "  </tbody>\n",
       "</table>\n",
       "</div>"
      ],
      "text/plain": [
       "                     key_skills_name  salary_from_ru\n",
       "0        Информационная безопасность      100,000.00\n",
       "0  Аудит информационной безопасности      100,000.00\n",
       "0                             ФЗ-152      100,000.00"
      ]
     },
     "execution_count": 71,
     "metadata": {},
     "output_type": "execute_result"
    }
   ],
   "source": [
    "skill_salary[:3]"
   ]
  },
  {
   "cell_type": "markdown",
   "metadata": {},
   "source": [
    "подсчитываем частоту key_skills_name в таблице skills_frequency"
   ]
  },
  {
   "cell_type": "code",
   "execution_count": 72,
   "metadata": {},
   "outputs": [],
   "source": [
    "skills_frequency = (skill_salary\n",
    "                .key_skills_name\n",
    "                .value_counts()\n",
    "                .reset_index()\n",
    ")"
   ]
  },
  {
   "cell_type": "code",
   "execution_count": 73,
   "metadata": {},
   "outputs": [],
   "source": [
    "skills_frequency = skills_frequency.rename(columns={'index': 'skills', 'key_skills_name': 'frequency'})"
   ]
  },
  {
   "cell_type": "code",
   "execution_count": 74,
   "metadata": {},
   "outputs": [
    {
     "data": {
      "text/html": [
       "<div>\n",
       "<style scoped>\n",
       "    .dataframe tbody tr th:only-of-type {\n",
       "        vertical-align: middle;\n",
       "    }\n",
       "\n",
       "    .dataframe tbody tr th {\n",
       "        vertical-align: top;\n",
       "    }\n",
       "\n",
       "    .dataframe thead th {\n",
       "        text-align: right;\n",
       "    }\n",
       "</style>\n",
       "<table border=\"1\" class=\"dataframe\">\n",
       "  <thead>\n",
       "    <tr style=\"text-align: right;\">\n",
       "      <th></th>\n",
       "      <th>skills</th>\n",
       "      <th>frequency</th>\n",
       "    </tr>\n",
       "  </thead>\n",
       "  <tbody>\n",
       "    <tr>\n",
       "      <th>0</th>\n",
       "      <td>нет информации</td>\n",
       "      <td>10946</td>\n",
       "    </tr>\n",
       "    <tr>\n",
       "      <th>1</th>\n",
       "      <td>SQL</td>\n",
       "      <td>6062</td>\n",
       "    </tr>\n",
       "    <tr>\n",
       "      <th>2</th>\n",
       "      <td>Linux</td>\n",
       "      <td>4757</td>\n",
       "    </tr>\n",
       "  </tbody>\n",
       "</table>\n",
       "</div>"
      ],
      "text/plain": [
       "           skills  frequency\n",
       "0  нет информации      10946\n",
       "1             SQL       6062\n",
       "2           Linux       4757"
      ]
     },
     "execution_count": 74,
     "metadata": {},
     "output_type": "execute_result"
    }
   ],
   "source": [
    "skills_frequency[:3]"
   ]
  },
  {
   "cell_type": "code",
   "execution_count": null,
   "metadata": {},
   "outputs": [],
   "source": [
    "skills_frequency[skills_frequency['frequency'] > 1000]"
   ]
  },
  {
   "cell_type": "markdown",
   "metadata": {},
   "source": [
    "### Анализируем вакансии в столбце 'name'"
   ]
  },
  {
   "cell_type": "markdown",
   "metadata": {},
   "source": [
    "Смотрим группировку вакансий по наименованию"
   ]
  },
  {
   "cell_type": "markdown",
   "metadata": {},
   "source": [
    "Посмотрим ТОП вакансий по столбцу name"
   ]
  },
  {
   "cell_type": "code",
   "execution_count": 75,
   "metadata": {},
   "outputs": [
    {
     "data": {
      "text/html": [
       "<div>\n",
       "<style scoped>\n",
       "    .dataframe tbody tr th:only-of-type {\n",
       "        vertical-align: middle;\n",
       "    }\n",
       "\n",
       "    .dataframe tbody tr th {\n",
       "        vertical-align: top;\n",
       "    }\n",
       "\n",
       "    .dataframe thead th {\n",
       "        text-align: right;\n",
       "    }\n",
       "</style>\n",
       "<table border=\"1\" class=\"dataframe\">\n",
       "  <thead>\n",
       "    <tr style=\"text-align: right;\">\n",
       "      <th></th>\n",
       "      <th>index</th>\n",
       "      <th>name</th>\n",
       "    </tr>\n",
       "  </thead>\n",
       "  <tbody>\n",
       "    <tr>\n",
       "      <th>0</th>\n",
       "      <td>Системный администратор</td>\n",
       "      <td>1652</td>\n",
       "    </tr>\n",
       "    <tr>\n",
       "      <th>1</th>\n",
       "      <td>Программист 1С</td>\n",
       "      <td>1122</td>\n",
       "    </tr>\n",
       "    <tr>\n",
       "      <th>2</th>\n",
       "      <td>Специалист технической поддержки</td>\n",
       "      <td>481</td>\n",
       "    </tr>\n",
       "    <tr>\n",
       "      <th>3</th>\n",
       "      <td>Системный аналитик</td>\n",
       "      <td>465</td>\n",
       "    </tr>\n",
       "    <tr>\n",
       "      <th>4</th>\n",
       "      <td>Аналитик</td>\n",
       "      <td>346</td>\n",
       "    </tr>\n",
       "    <tr>\n",
       "      <th>5</th>\n",
       "      <td>Инженер-программист</td>\n",
       "      <td>330</td>\n",
       "    </tr>\n",
       "    <tr>\n",
       "      <th>6</th>\n",
       "      <td>Программист 1C</td>\n",
       "      <td>325</td>\n",
       "    </tr>\n",
       "    <tr>\n",
       "      <th>7</th>\n",
       "      <td>Инженер технической поддержки</td>\n",
       "      <td>273</td>\n",
       "    </tr>\n",
       "    <tr>\n",
       "      <th>8</th>\n",
       "      <td>Бизнес-аналитик</td>\n",
       "      <td>272</td>\n",
       "    </tr>\n",
       "    <tr>\n",
       "      <th>9</th>\n",
       "      <td>Дизайнер</td>\n",
       "      <td>259</td>\n",
       "    </tr>\n",
       "    <tr>\n",
       "      <th>10</th>\n",
       "      <td>Руководитель проекта</td>\n",
       "      <td>218</td>\n",
       "    </tr>\n",
       "    <tr>\n",
       "      <th>11</th>\n",
       "      <td>Технический писатель</td>\n",
       "      <td>215</td>\n",
       "    </tr>\n",
       "  </tbody>\n",
       "</table>\n",
       "</div>"
      ],
      "text/plain": [
       "                               index  name\n",
       "0            Системный администратор  1652\n",
       "1                     Программист 1С  1122\n",
       "2   Специалист технической поддержки   481\n",
       "3                 Системный аналитик   465\n",
       "4                           Аналитик   346\n",
       "5                Инженер-программист   330\n",
       "6                     Программист 1C   325\n",
       "7      Инженер технической поддержки   273\n",
       "8                    Бизнес-аналитик   272\n",
       "9                           Дизайнер   259\n",
       "10              Руководитель проекта   218\n",
       "11              Технический писатель   215"
      ]
     },
     "execution_count": 75,
     "metadata": {},
     "output_type": "execute_result"
    }
   ],
   "source": [
    "df.name.value_counts().loc[lambda x: x>200].reset_index()"
   ]
  },
  {
   "cell_type": "markdown",
   "metadata": {},
   "source": [
    "Посмотрим количество сгруппированных вакансий"
   ]
  },
  {
   "cell_type": "code",
   "execution_count": 76,
   "metadata": {},
   "outputs": [
    {
     "data": {
      "text/plain": [
       "30817"
      ]
     },
     "execution_count": 76,
     "metadata": {},
     "output_type": "execute_result"
    }
   ],
   "source": [
    "df.name.value_counts().loc[lambda x: x>1].sum()"
   ]
  },
  {
   "cell_type": "markdown",
   "metadata": {},
   "source": [
    "19 тыс. вакансий не сгруппировалось"
   ]
  },
  {
   "cell_type": "code",
   "execution_count": 77,
   "metadata": {},
   "outputs": [
    {
     "data": {
      "text/plain": [
       "19385"
      ]
     },
     "execution_count": 77,
     "metadata": {},
     "output_type": "execute_result"
    }
   ],
   "source": [
    "df.name.value_counts().loc[lambda x: x==1].sum()"
   ]
  },
  {
   "cell_type": "markdown",
   "metadata": {},
   "source": [
    "объединяем наименования вакансий по ключевым словам"
   ]
  },
  {
   "cell_type": "code",
   "execution_count": 116,
   "metadata": {},
   "outputs": [],
   "source": [
    "def agg_name(text):\n",
    "    if re.search(r'1с|1c|1 c|1 с', text) is not None:\n",
    "        text = '1c'\n",
    "    elif re.search(r'qa|tester|тестер|тестир', text) is not None:\n",
    "        text = 'qa'\n",
    "    elif re.search(r'c\\+\\+|с\\+\\+|c#|с#', text) is not None:\n",
    "        text = 'c c+ c#'\n",
    "    elif re.search(r'sql|postgresql', text) is not None:\n",
    "        text = 'sql'\n",
    "    elif re.search(r'java', text) is not None:\n",
    "        text = 'java'\n",
    "    elif re.search(r'js|javascript', text) is not None:\n",
    "        text = 'javascript'\n",
    "    elif re.search(r'python|питон', text) is not None:\n",
    "        text = 'python'\n",
    "    elif re.search(r'devops', text) is not None:\n",
    "        text = 'devops'\n",
    "    elif re.search(r'\\.net', text) is not None:\n",
    "        text = '.net'\n",
    "    elif re.search(r'android', text) is not None:\n",
    "        text = 'android'\n",
    "    elif re.search(r'yandex|яндекс|яndex', text) is not None:\n",
    "        text = 'yandex'\n",
    "    elif re.search(r'поддерж|support|эксплуат|сервис', text) is not None:\n",
    "        text = 'support'\n",
    "    elif re.search(r'secur|безопасн|криминал|защит', text) is not None:\n",
    "        text = 'security'\n",
    "    elif re.search(r'data|данны|etl', text) is not None:\n",
    "        text = 'data'\n",
    "    elif re.search(r'web|веб|вэб', text) is not None:\n",
    "        text = 'web'\n",
    "    elif re.search(r'системный администратор', text) is not None:\n",
    "        text = 'системный администратор'\n",
    "    elif re.search(r'системный аналитик|system anal', text) is not None:\n",
    "        text = 'системный аналитик'\n",
    "    elif re.search(r'аналит', text) is not None:\n",
    "        text = 'аналитик'\n",
    "    elif re.search(r'prodact|product|продакт|продукт', text) is not None:\n",
    "        text = 'product'\n",
    "    elif re.search(r'2d|3d', text) is not None:\n",
    "        text = '2d 3d'\n",
    "    elif re.search(r'php', text) is not None:\n",
    "        text = 'php'\n",
    "    elif re.search(r'ios', text) is not None:\n",
    "        text = 'ios'\n",
    "    elif re.search(r'linux|unix', text) is not None:\n",
    "        text = 'unix'\n",
    "    elif re.search(r'fullstack|full stack', text) is not None:\n",
    "        text = 'fullstack'\n",
    "    elif re.search(r'front|фронт', text) is not None:\n",
    "        text = 'frontend'\n",
    "    elif re.search(r'back', text) is not None:\n",
    "        text = 'backend'\n",
    "    elif re.search(r'ui|ux', text) is not None:\n",
    "        text = 'ui ux'\n",
    "    elif re.search(r'sap', text) is not None:\n",
    "        text = 'sap'\n",
    "    elif re.search(r'erp', text) is not None:\n",
    "        text = 'erp'\n",
    "    elif re.search(r'bitrix|битрикс', text) is not None:\n",
    "        text = 'bitrix'\n",
    "    # else:\n",
    "    #     text = 'other'\n",
    "    return text"
   ]
  },
  {
   "cell_type": "code",
   "execution_count": 117,
   "metadata": {},
   "outputs": [],
   "source": [
    "df['name_agg'] = df.name.apply(agg_name)"
   ]
  },
  {
   "cell_type": "code",
   "execution_count": 118,
   "metadata": {},
   "outputs": [],
   "source": [
    "df_name_agg = df.name_agg.value_counts().reset_index()"
   ]
  },
  {
   "cell_type": "code",
   "execution_count": 119,
   "metadata": {},
   "outputs": [
    {
     "data": {
      "text/html": [
       "<div>\n",
       "<style scoped>\n",
       "    .dataframe tbody tr th:only-of-type {\n",
       "        vertical-align: middle;\n",
       "    }\n",
       "\n",
       "    .dataframe tbody tr th {\n",
       "        vertical-align: top;\n",
       "    }\n",
       "\n",
       "    .dataframe thead th {\n",
       "        text-align: right;\n",
       "    }\n",
       "</style>\n",
       "<table border=\"1\" class=\"dataframe\">\n",
       "  <thead>\n",
       "    <tr style=\"text-align: right;\">\n",
       "      <th></th>\n",
       "      <th>index</th>\n",
       "      <th>name_agg</th>\n",
       "    </tr>\n",
       "  </thead>\n",
       "  <tbody>\n",
       "    <tr>\n",
       "      <th>0</th>\n",
       "      <td>1c</td>\n",
       "      <td>4857</td>\n",
       "    </tr>\n",
       "    <tr>\n",
       "      <th>1</th>\n",
       "      <td>support</td>\n",
       "      <td>3943</td>\n",
       "    </tr>\n",
       "    <tr>\n",
       "      <th>2</th>\n",
       "      <td>qa</td>\n",
       "      <td>2770</td>\n",
       "    </tr>\n",
       "    <tr>\n",
       "      <th>3</th>\n",
       "      <td>системный администратор</td>\n",
       "      <td>2750</td>\n",
       "    </tr>\n",
       "    <tr>\n",
       "      <th>4</th>\n",
       "      <td>аналитик</td>\n",
       "      <td>2310</td>\n",
       "    </tr>\n",
       "    <tr>\n",
       "      <th>...</th>\n",
       "      <td>...</td>\n",
       "      <td>...</td>\n",
       "    </tr>\n",
       "    <tr>\n",
       "      <th>6906</th>\n",
       "      <td>ведущий специалист отдела автоматизированных с...</td>\n",
       "      <td>1</td>\n",
       "    </tr>\n",
       "    <tr>\n",
       "      <th>6907</th>\n",
       "      <td>инженер по внедрению itsm-системы</td>\n",
       "      <td>1</td>\n",
       "    </tr>\n",
       "    <tr>\n",
       "      <th>6908</th>\n",
       "      <td>senior research scientist</td>\n",
       "      <td>1</td>\n",
       "    </tr>\n",
       "    <tr>\n",
       "      <th>6909</th>\n",
       "      <td>руководитель проекта по цифровым подстанциям</td>\n",
       "      <td>1</td>\n",
       "    </tr>\n",
       "    <tr>\n",
       "      <th>6910</th>\n",
       "      <td>руководитель отдела автоматики и связи</td>\n",
       "      <td>1</td>\n",
       "    </tr>\n",
       "  </tbody>\n",
       "</table>\n",
       "<p>6911 rows × 2 columns</p>\n",
       "</div>"
      ],
      "text/plain": [
       "                                                  index  name_agg\n",
       "0                                                    1c      4857\n",
       "1                                               support      3943\n",
       "2                                                    qa      2770\n",
       "3                               системный администратор      2750\n",
       "4                                              аналитик      2310\n",
       "...                                                 ...       ...\n",
       "6906  ведущий специалист отдела автоматизированных с...         1\n",
       "6907                  инженер по внедрению itsm-системы         1\n",
       "6908                          senior research scientist         1\n",
       "6909       руководитель проекта по цифровым подстанциям         1\n",
       "6910             руководитель отдела автоматики и связи         1\n",
       "\n",
       "[6911 rows x 2 columns]"
      ]
     },
     "execution_count": 119,
     "metadata": {},
     "output_type": "execute_result"
    }
   ],
   "source": [
    "df_name_agg"
   ]
  },
  {
   "cell_type": "code",
   "execution_count": 100,
   "metadata": {},
   "outputs": [
    {
     "data": {
      "text/plain": [
       "0"
      ]
     },
     "execution_count": 100,
     "metadata": {},
     "output_type": "execute_result"
    }
   ],
   "source": [
    "df.name_agg.value_counts().loc[lambda x: x==1].sum()"
   ]
  },
  {
   "cell_type": "markdown",
   "metadata": {},
   "source": [
    "### Работаем со столбцом 'experience'"
   ]
  },
  {
   "cell_type": "code",
   "execution_count": 78,
   "metadata": {},
   "outputs": [
    {
     "data": {
      "text/plain": [
       "\"{'id': 'between1And3', 'name': 'От 1 года до 3 лет'}\""
      ]
     },
     "execution_count": 78,
     "metadata": {},
     "output_type": "execute_result"
    }
   ],
   "source": [
    "df.experience[0]"
   ]
  },
  {
   "cell_type": "markdown",
   "metadata": {},
   "source": [
    "вытаскиваем тег name"
   ]
  },
  {
   "cell_type": "code",
   "execution_count": 79,
   "metadata": {},
   "outputs": [],
   "source": [
    "# добавляем обработку None\n",
    "def get_tag_experience_name(text):\n",
    "    if pd.isna(text): \n",
    "        clean_text = np.nan\n",
    "    else:\n",
    "        clean_text = text.replace(\"{\", '').replace(\"}\", '').split(',')[1][8:]\n",
    "        if clean_text == 'None':\n",
    "            clean_text = np.nan\n",
    "\n",
    "    return clean_text"
   ]
  },
  {
   "cell_type": "code",
   "execution_count": 80,
   "metadata": {},
   "outputs": [],
   "source": [
    "df['experience_name'] = df.experience.apply(get_tag_experience_name)"
   ]
  },
  {
   "cell_type": "code",
   "execution_count": 81,
   "metadata": {},
   "outputs": [
    {
     "data": {
      "text/plain": [
       "0         'От 1 года до 3 лет'\n",
       "1              'От 3 до 6 лет'\n",
       "2              'От 3 до 6 лет'\n",
       "3                'Более 6 лет'\n",
       "4              'От 3 до 6 лет'\n",
       "                 ...          \n",
       "54187     'От 1 года до 3 лет'\n",
       "54188          'От 3 до 6 лет'\n",
       "54189     'От 1 года до 3 лет'\n",
       "54190     'От 1 года до 3 лет'\n",
       "54191          'От 3 до 6 лет'\n",
       "Name: experience_name, Length: 54192, dtype: object"
      ]
     },
     "execution_count": 81,
     "metadata": {},
     "output_type": "execute_result"
    }
   ],
   "source": [
    "df.experience_name"
   ]
  },
  {
   "cell_type": "code",
   "execution_count": 82,
   "metadata": {},
   "outputs": [
    {
     "data": {
      "text/plain": [
       "0"
      ]
     },
     "execution_count": 82,
     "metadata": {},
     "output_type": "execute_result"
    }
   ],
   "source": [
    "df.experience_name.isna().sum()"
   ]
  },
  {
   "cell_type": "code",
   "execution_count": 83,
   "metadata": {},
   "outputs": [
    {
     "data": {
      "text/html": [
       "<div>\n",
       "<style scoped>\n",
       "    .dataframe tbody tr th:only-of-type {\n",
       "        vertical-align: middle;\n",
       "    }\n",
       "\n",
       "    .dataframe tbody tr th {\n",
       "        vertical-align: top;\n",
       "    }\n",
       "\n",
       "    .dataframe thead th {\n",
       "        text-align: right;\n",
       "    }\n",
       "</style>\n",
       "<table border=\"1\" class=\"dataframe\">\n",
       "  <thead>\n",
       "    <tr style=\"text-align: right;\">\n",
       "      <th></th>\n",
       "      <th>index</th>\n",
       "      <th>experience_name</th>\n",
       "    </tr>\n",
       "  </thead>\n",
       "  <tbody>\n",
       "    <tr>\n",
       "      <th>0</th>\n",
       "      <td>'От 1 года до 3 лет'</td>\n",
       "      <td>27988</td>\n",
       "    </tr>\n",
       "    <tr>\n",
       "      <th>1</th>\n",
       "      <td>'От 3 до 6 лет'</td>\n",
       "      <td>17097</td>\n",
       "    </tr>\n",
       "    <tr>\n",
       "      <th>2</th>\n",
       "      <td>'Нет опыта'</td>\n",
       "      <td>7333</td>\n",
       "    </tr>\n",
       "    <tr>\n",
       "      <th>3</th>\n",
       "      <td>'Более 6 лет'</td>\n",
       "      <td>1774</td>\n",
       "    </tr>\n",
       "  </tbody>\n",
       "</table>\n",
       "</div>"
      ],
      "text/plain": [
       "                   index  experience_name\n",
       "0   'От 1 года до 3 лет'            27988\n",
       "1        'От 3 до 6 лет'            17097\n",
       "2            'Нет опыта'             7333\n",
       "3          'Более 6 лет'             1774"
      ]
     },
     "execution_count": 83,
     "metadata": {},
     "output_type": "execute_result"
    }
   ],
   "source": [
    "df.experience_name.value_counts().reset_index()"
   ]
  },
  {
   "cell_type": "code",
   "execution_count": 84,
   "metadata": {},
   "outputs": [
    {
     "data": {
      "text/plain": [
       "<function matplotlib.pyplot.show(close=None, block=None)>"
      ]
     },
     "execution_count": 84,
     "metadata": {},
     "output_type": "execute_result"
    },
    {
     "data": {
      "image/png": "[encoded data removed]",
      "text/plain": [
       "<Figure size 432x288 with 1 Axes>"
      ]
     },
     "metadata": {},
     "output_type": "display_data"
    }
   ],
   "source": [
    "plt.pie(\n",
    "    df.experience_name.value_counts().values,\n",
    "    labels=df.experience_name.value_counts().index,\n",
    "    wedgeprops=dict(width=0.5) # для бублика\n",
    "    )\n",
    "plt.title('Требуемый опыт работы')\n",
    "plt.show"
   ]
  },
  {
   "cell_type": "markdown",
   "metadata": {},
   "source": [
    "### Работаем со столбцом 'schedule'"
   ]
  },
  {
   "cell_type": "code",
   "execution_count": 85,
   "metadata": {},
   "outputs": [
    {
     "data": {
      "text/plain": [
       "\"{'id': 'fullDay', 'name': 'Полный день'}\""
      ]
     },
     "execution_count": 85,
     "metadata": {},
     "output_type": "execute_result"
    }
   ],
   "source": [
    "df.schedule[0]"
   ]
  },
  {
   "cell_type": "markdown",
   "metadata": {},
   "source": [
    "вытаскиваем тег name"
   ]
  },
  {
   "cell_type": "code",
   "execution_count": 97,
   "metadata": {},
   "outputs": [],
   "source": [
    "# добавляем обработку None\n",
    "def get_tag_schedule_name(text):\n",
    "    if pd.isna(text): \n",
    "        clean_text = np.nan\n",
    "    else:\n",
    "        clean_text = text.replace(\"{\", '').replace(\"}\", '').split(',')[1][8:]\n",
    "        if clean_text == 'None':\n",
    "            clean_text = np.nan\n",
    "\n",
    "    return clean_text"
   ]
  },
  {
   "cell_type": "code",
   "execution_count": 98,
   "metadata": {},
   "outputs": [],
   "source": [
    "df['schedule_name'] = df.schedule.apply(get_tag_schedule_name)"
   ]
  },
  {
   "cell_type": "code",
   "execution_count": 94,
   "metadata": {},
   "outputs": [
    {
     "data": {
      "text/plain": [
       "\"'Полный день'\""
      ]
     },
     "execution_count": 94,
     "metadata": {},
     "output_type": "execute_result"
    }
   ],
   "source": [
    "df.schedule_name[1]"
   ]
  },
  {
   "cell_type": "code",
   "execution_count": 106,
   "metadata": {},
   "outputs": [
    {
     "data": {
      "text/plain": [
       "0"
      ]
     },
     "execution_count": 106,
     "metadata": {},
     "output_type": "execute_result"
    }
   ],
   "source": [
    "df.schedule_name.isna().sum()"
   ]
  },
  {
   "cell_type": "code",
   "execution_count": 60,
   "metadata": {},
   "outputs": [
    {
     "data": {
      "text/plain": [
       "<function matplotlib.pyplot.show(close=None, block=None)>"
      ]
     },
     "execution_count": 60,
     "metadata": {},
     "output_type": "execute_result"
    },
    {
     "data": {
      "image/png": "[encoded data removed]",
      "text/plain": [
       "<Figure size 432x288 with 1 Axes>"
      ]
     },
     "metadata": {},
     "output_type": "display_data"
    }
   ],
   "source": [
    "plt.pie(\n",
    "    df.schedule_name.value_counts().values,\n",
    "    labels=df.schedule_name.value_counts().index,\n",
    "    wedgeprops=dict(width=0.5) # для бублика\n",
    "    )\n",
    "plt.title('Занятость')\n",
    "plt.show"
   ]
  },
  {
   "cell_type": "code",
   "execution_count": 91,
   "metadata": {},
   "outputs": [
    {
     "data": {
      "text/plain": [
       " 'Полный день'         39919\n",
       " 'Удаленная работа'    10455\n",
       " 'Гибкий график'        2519\n",
       " 'Сменный график'       1159\n",
       " 'Вахтовый метод'        140\n",
       "Name: schedule_name, dtype: int64"
      ]
     },
     "execution_count": 91,
     "metadata": {},
     "output_type": "execute_result"
    }
   ],
   "source": [
    "df.schedule_name.value_counts()"
   ]
  },
  {
   "cell_type": "markdown",
   "metadata": {},
   "source": [
    "создаем функцию для разделения на 2 категории: 1) полный день 2) все остальное"
   ]
  },
  {
   "cell_type": "code",
   "execution_count": 99,
   "metadata": {},
   "outputs": [],
   "source": [
    "def fulltime(text):\n",
    "    if text.find('Полный день') == -1:\n",
    "        return 0\n",
    "    else:\n",
    "        return 1"
   ]
  },
  {
   "cell_type": "code",
   "execution_count": 100,
   "metadata": {},
   "outputs": [],
   "source": [
    "df['full_time'] = df.schedule_name.apply(fulltime)"
   ]
  },
  {
   "cell_type": "code",
   "execution_count": 79,
   "metadata": {},
   "outputs": [
    {
     "data": {
      "text/plain": [
       "1    39919\n",
       "0    14273\n",
       "Name: full_time, dtype: int64"
      ]
     },
     "execution_count": 79,
     "metadata": {},
     "output_type": "execute_result"
    }
   ],
   "source": [
    "df.full_time.value_counts()"
   ]
  },
  {
   "cell_type": "markdown",
   "metadata": {},
   "source": [
    "### Создадим dataframe sft ('salary_full_time') для анализа зарплаты и занятости"
   ]
  },
  {
   "cell_type": "markdown",
   "metadata": {},
   "source": [
    "убираем строки без данных о зарплате"
   ]
  },
  {
   "cell_type": "code",
   "execution_count": 101,
   "metadata": {},
   "outputs": [],
   "source": [
    "sft = df[df.salary_from_ru != 0]"
   ]
  },
  {
   "cell_type": "code",
   "execution_count": 102,
   "metadata": {},
   "outputs": [],
   "source": [
    "sft = sft[['salary_from_ru', 'band_salary', 'salary_category','full_time']]"
   ]
  },
  {
   "cell_type": "code",
   "execution_count": 103,
   "metadata": {},
   "outputs": [
    {
     "data": {
      "text/html": [
       "<div>\n",
       "<style scoped>\n",
       "    .dataframe tbody tr th:only-of-type {\n",
       "        vertical-align: middle;\n",
       "    }\n",
       "\n",
       "    .dataframe tbody tr th {\n",
       "        vertical-align: top;\n",
       "    }\n",
       "\n",
       "    .dataframe thead th {\n",
       "        text-align: right;\n",
       "    }\n",
       "</style>\n",
       "<table border=\"1\" class=\"dataframe\">\n",
       "  <thead>\n",
       "    <tr style=\"text-align: right;\">\n",
       "      <th></th>\n",
       "      <th>salary_from_ru</th>\n",
       "      <th>band_salary</th>\n",
       "      <th>salary_category</th>\n",
       "      <th>full_time</th>\n",
       "    </tr>\n",
       "  </thead>\n",
       "  <tbody>\n",
       "    <tr>\n",
       "      <th>0</th>\n",
       "      <td>100,000.00</td>\n",
       "      <td>от 100 т.р.</td>\n",
       "      <td>4</td>\n",
       "      <td>1</td>\n",
       "    </tr>\n",
       "    <tr>\n",
       "      <th>1</th>\n",
       "      <td>100,000.00</td>\n",
       "      <td>от 100 т.р.</td>\n",
       "      <td>4</td>\n",
       "      <td>1</td>\n",
       "    </tr>\n",
       "    <tr>\n",
       "      <th>2</th>\n",
       "      <td>100,000.00</td>\n",
       "      <td>от 100 т.р.</td>\n",
       "      <td>4</td>\n",
       "      <td>1</td>\n",
       "    </tr>\n",
       "    <tr>\n",
       "      <th>3</th>\n",
       "      <td>100,000.00</td>\n",
       "      <td>от 100 т.р.</td>\n",
       "      <td>4</td>\n",
       "      <td>1</td>\n",
       "    </tr>\n",
       "    <tr>\n",
       "      <th>4</th>\n",
       "      <td>100,000.00</td>\n",
       "      <td>от 100 т.р.</td>\n",
       "      <td>4</td>\n",
       "      <td>1</td>\n",
       "    </tr>\n",
       "    <tr>\n",
       "      <th>...</th>\n",
       "      <td>...</td>\n",
       "      <td>...</td>\n",
       "      <td>...</td>\n",
       "      <td>...</td>\n",
       "    </tr>\n",
       "    <tr>\n",
       "      <th>54183</th>\n",
       "      <td>33,000.00</td>\n",
       "      <td>до 60 т.р.</td>\n",
       "      <td>1</td>\n",
       "      <td>1</td>\n",
       "    </tr>\n",
       "    <tr>\n",
       "      <th>54184</th>\n",
       "      <td>33,000.00</td>\n",
       "      <td>до 60 т.р.</td>\n",
       "      <td>1</td>\n",
       "      <td>1</td>\n",
       "    </tr>\n",
       "    <tr>\n",
       "      <th>54185</th>\n",
       "      <td>33,000.00</td>\n",
       "      <td>до 60 т.р.</td>\n",
       "      <td>1</td>\n",
       "      <td>1</td>\n",
       "    </tr>\n",
       "    <tr>\n",
       "      <th>54186</th>\n",
       "      <td>33,000.00</td>\n",
       "      <td>до 60 т.р.</td>\n",
       "      <td>1</td>\n",
       "      <td>1</td>\n",
       "    </tr>\n",
       "    <tr>\n",
       "      <th>54187</th>\n",
       "      <td>33,000.00</td>\n",
       "      <td>до 60 т.р.</td>\n",
       "      <td>1</td>\n",
       "      <td>0</td>\n",
       "    </tr>\n",
       "  </tbody>\n",
       "</table>\n",
       "<p>54188 rows × 4 columns</p>\n",
       "</div>"
      ],
      "text/plain": [
       "       salary_from_ru  band_salary  salary_category  full_time\n",
       "0          100,000.00  от 100 т.р.                4          1\n",
       "1          100,000.00  от 100 т.р.                4          1\n",
       "2          100,000.00  от 100 т.р.                4          1\n",
       "3          100,000.00  от 100 т.р.                4          1\n",
       "4          100,000.00  от 100 т.р.                4          1\n",
       "...               ...          ...              ...        ...\n",
       "54183       33,000.00   до 60 т.р.                1          1\n",
       "54184       33,000.00   до 60 т.р.                1          1\n",
       "54185       33,000.00   до 60 т.р.                1          1\n",
       "54186       33,000.00   до 60 т.р.                1          1\n",
       "54187       33,000.00   до 60 т.р.                1          0\n",
       "\n",
       "[54188 rows x 4 columns]"
      ]
     },
     "execution_count": 103,
     "metadata": {},
     "output_type": "execute_result"
    }
   ],
   "source": [
    "sft"
   ]
  },
  {
   "cell_type": "code",
   "execution_count": 105,
   "metadata": {},
   "outputs": [],
   "source": [
    "sft_1 = sft[sft.full_time == 1]"
   ]
  },
  {
   "cell_type": "code",
   "execution_count": 106,
   "metadata": {},
   "outputs": [
    {
     "data": {
      "text/plain": [
       "count    39,915.00\n",
       "mean     70,368.51\n",
       "std      23,248.69\n",
       "min      20,500.00\n",
       "25%      50,000.00\n",
       "50%      60,000.00\n",
       "75%     100,000.00\n",
       "max     100,000.00\n",
       "Name: salary_from_ru, dtype: float64"
      ]
     },
     "execution_count": 106,
     "metadata": {},
     "output_type": "execute_result"
    }
   ],
   "source": [
    "sft_1.salary_from_ru.describe()"
   ]
  },
  {
   "cell_type": "code",
   "execution_count": 107,
   "metadata": {},
   "outputs": [],
   "source": [
    "sft_0 = sft[sft.full_time == 0]"
   ]
  },
  {
   "cell_type": "code",
   "execution_count": 108,
   "metadata": {},
   "outputs": [
    {
     "data": {
      "text/plain": [
       "count    14,273.00\n",
       "mean     68,176.52\n",
       "std      22,952.81\n",
       "min      20,500.00\n",
       "25%      50,000.00\n",
       "50%      60,000.00\n",
       "75%     100,000.00\n",
       "max     100,000.00\n",
       "Name: salary_from_ru, dtype: float64"
      ]
     },
     "execution_count": 108,
     "metadata": {},
     "output_type": "execute_result"
    }
   ],
   "source": [
    "sft_0.salary_from_ru.describe()"
   ]
  },
  {
   "cell_type": "code",
   "execution_count": 103,
   "metadata": {},
   "outputs": [
    {
     "name": "stdout",
     "output_type": "stream",
     "text": [
      "p=0.9999999999999989\n",
      "Мы НЕ можем отклонить нулевую гипотезу\n"
     ]
    }
   ],
   "source": [
    "from scipy.stats import t\n",
    "from numpy import sqrt\n",
    "\n",
    "mean_0, mean_1 = 68176.52, 70368.51\n",
    "sd_0, sd_1 = 22952.81, 23248.69\n",
    "N = 14000\n",
    "\n",
    "se = sqrt((sd_0 ** 2)/N + (sd_1 ** 2)/N)\n",
    "t_value = (mean_0 - mean_1)/se\n",
    "\n",
    "p = t.sf(t_value, N-2)\n",
    "print(f'p={p}')\n",
    "if p >= 0.05:\n",
    "    print('Мы НЕ можем отклонить нулевую гипотезу')\n",
    "else:\n",
    "    print('Мы можем отклонить нулевую гипотезу')"
   ]
  },
  {
   "cell_type": "markdown",
   "metadata": {},
   "source": [
    "### Cделаем копию dataframe"
   ]
  },
  {
   "cell_type": "code",
   "execution_count": 104,
   "metadata": {},
   "outputs": [],
   "source": [
    "t = df.copy()"
   ]
  },
  {
   "cell_type": "markdown",
   "metadata": {},
   "source": [
    "### ✂ Почистим dataframe от служебных столбцов"
   ]
  },
  {
   "cell_type": "code",
   "execution_count": 80,
   "metadata": {},
   "outputs": [
    {
     "data": {
      "text/plain": [
       "['id',\n",
       " 'name',\n",
       " 'salary',\n",
       " 'schedule',\n",
       " 'experience',\n",
       " 'key_skills',\n",
       " 'specializations',\n",
       " 'region',\n",
       " 'specializations_jsn',\n",
       " 'profarea_id',\n",
       " 'profarea_id_1',\n",
       " 'salary_currency',\n",
       " 'salary_from',\n",
       " 'salary_temp',\n",
       " 'salary_from_ru',\n",
       " 'band_salary',\n",
       " 'salary_category',\n",
       " 'specializations_name',\n",
       " 'key_skills_jsn',\n",
       " 'key_skills_name',\n",
       " 'experience_name',\n",
       " 'schedule_name',\n",
       " 'full_time']"
      ]
     },
     "execution_count": 80,
     "metadata": {},
     "output_type": "execute_result"
    }
   ],
   "source": [
    "df.columns.tolist()"
   ]
  },
  {
   "cell_type": "code",
   "execution_count": 108,
   "metadata": {},
   "outputs": [
    {
     "data": {
      "text/html": [
       "<div>\n",
       "<style scoped>\n",
       "    .dataframe tbody tr th:only-of-type {\n",
       "        vertical-align: middle;\n",
       "    }\n",
       "\n",
       "    .dataframe tbody tr th {\n",
       "        vertical-align: top;\n",
       "    }\n",
       "\n",
       "    .dataframe thead th {\n",
       "        text-align: right;\n",
       "    }\n",
       "</style>\n",
       "<table border=\"1\" class=\"dataframe\">\n",
       "  <thead>\n",
       "    <tr style=\"text-align: right;\">\n",
       "      <th></th>\n",
       "      <th>id</th>\n",
       "      <th>name</th>\n",
       "      <th>salary</th>\n",
       "      <th>schedule</th>\n",
       "      <th>experience</th>\n",
       "      <th>key_skills</th>\n",
       "      <th>specializations</th>\n",
       "      <th>region</th>\n",
       "      <th>specializations_jsn</th>\n",
       "      <th>profarea_id</th>\n",
       "      <th>...</th>\n",
       "      <th>salary_from</th>\n",
       "      <th>salary_temp</th>\n",
       "      <th>salary_from_ru</th>\n",
       "      <th>band_salary</th>\n",
       "      <th>salary_category</th>\n",
       "      <th>specializations_name</th>\n",
       "      <th>key_skills_jsn</th>\n",
       "      <th>key_skills_name</th>\n",
       "      <th>experience_name</th>\n",
       "      <th>schedule_name</th>\n",
       "    </tr>\n",
       "  </thead>\n",
       "  <tbody>\n",
       "    <tr>\n",
       "      <th>0</th>\n",
       "      <td>50632962</td>\n",
       "      <td>Консультант по информационной безопасности</td>\n",
       "      <td>NaN</td>\n",
       "      <td>{'id': 'fullDay', 'name': 'Полный день'}</td>\n",
       "      <td>{'id': 'between1And3', 'name': 'От 1 года до 3...</td>\n",
       "      <td>[{'name': 'Информационная безопасность'}, {'na...</td>\n",
       "      <td>[{'id': '1.110', 'name': 'Компьютерная безопас...</td>\n",
       "      <td>Москва</td>\n",
       "      <td>[{\"id\": \"1.110\", \"name\": \"Компьютерная безопас...</td>\n",
       "      <td>[1, 1]</td>\n",
       "      <td>...</td>\n",
       "      <td>NaN</td>\n",
       "      <td>100,000.00</td>\n",
       "      <td>100,000.00</td>\n",
       "      <td>от 100 т.р.</td>\n",
       "      <td>4</td>\n",
       "      <td>[Компьютерная безопасность, Консалтинг, Аутсор...</td>\n",
       "      <td>[{\"name\": \"Информационная безопасность\"}, {\"na...</td>\n",
       "      <td>[Информационная безопасность, Аудит информацио...</td>\n",
       "      <td>'От 1 года до 3 лет'</td>\n",
       "      <td>'Полный день'</td>\n",
       "    </tr>\n",
       "  </tbody>\n",
       "</table>\n",
       "<p>1 rows × 22 columns</p>\n",
       "</div>"
      ],
      "text/plain": [
       "         id                                        name salary  \\\n",
       "0  50632962  Консультант по информационной безопасности    NaN   \n",
       "\n",
       "                                   schedule  \\\n",
       "0  {'id': 'fullDay', 'name': 'Полный день'}   \n",
       "\n",
       "                                          experience  \\\n",
       "0  {'id': 'between1And3', 'name': 'От 1 года до 3...   \n",
       "\n",
       "                                          key_skills  \\\n",
       "0  [{'name': 'Информационная безопасность'}, {'na...   \n",
       "\n",
       "                                     specializations  region  \\\n",
       "0  [{'id': '1.110', 'name': 'Компьютерная безопас...  Москва   \n",
       "\n",
       "                                 specializations_jsn profarea_id  ...  \\\n",
       "0  [{\"id\": \"1.110\", \"name\": \"Компьютерная безопас...      [1, 1]  ...   \n",
       "\n",
       "   salary_from salary_temp  salary_from_ru  band_salary  salary_category  \\\n",
       "0          NaN  100,000.00      100,000.00  от 100 т.р.                4   \n",
       "\n",
       "                                specializations_name  \\\n",
       "0  [Компьютерная безопасность, Консалтинг, Аутсор...   \n",
       "\n",
       "                                      key_skills_jsn  \\\n",
       "0  [{\"name\": \"Информационная безопасность\"}, {\"na...   \n",
       "\n",
       "                                     key_skills_name        experience_name  \\\n",
       "0  [Информационная безопасность, Аудит информацио...   'От 1 года до 3 лет'   \n",
       "\n",
       "    schedule_name  \n",
       "0   'Полный день'  \n",
       "\n",
       "[1 rows x 22 columns]"
      ]
     },
     "execution_count": 108,
     "metadata": {},
     "output_type": "execute_result"
    }
   ],
   "source": [
    "df.head(1)"
   ]
  },
  {
   "cell_type": "code",
   "execution_count": 109,
   "metadata": {},
   "outputs": [],
   "source": [
    "df.drop(\n",
    "    ['salary',\n",
    "    'schedule',\n",
    "    'experience',\n",
    "    'key_skills',\n",
    "    'specializations',\n",
    "    'specializations_jsn',\n",
    "    'profarea_id',\n",
    "    'profarea_id_1',\n",
    "    'salary_currency',\n",
    "    'salary_from',\n",
    "    'salary_temp',\n",
    "    'key_skills_jsn',\n",
    "    ],\n",
    "    axis=1,\n",
    "    inplace=True)"
   ]
  },
  {
   "cell_type": "code",
   "execution_count": 111,
   "metadata": {},
   "outputs": [
    {
     "data": {
      "text/html": [
       "<div>\n",
       "<style scoped>\n",
       "    .dataframe tbody tr th:only-of-type {\n",
       "        vertical-align: middle;\n",
       "    }\n",
       "\n",
       "    .dataframe tbody tr th {\n",
       "        vertical-align: top;\n",
       "    }\n",
       "\n",
       "    .dataframe thead th {\n",
       "        text-align: right;\n",
       "    }\n",
       "</style>\n",
       "<table border=\"1\" class=\"dataframe\">\n",
       "  <thead>\n",
       "    <tr style=\"text-align: right;\">\n",
       "      <th></th>\n",
       "      <th>id</th>\n",
       "      <th>name</th>\n",
       "      <th>region</th>\n",
       "      <th>salary_from_ru</th>\n",
       "      <th>band_salary</th>\n",
       "      <th>salary_category</th>\n",
       "      <th>specializations_name</th>\n",
       "      <th>key_skills_name</th>\n",
       "      <th>experience_name</th>\n",
       "      <th>schedule_name</th>\n",
       "      <th>full_time</th>\n",
       "    </tr>\n",
       "  </thead>\n",
       "  <tbody>\n",
       "    <tr>\n",
       "      <th>0</th>\n",
       "      <td>50632962</td>\n",
       "      <td>Консультант по информационной безопасности</td>\n",
       "      <td>Москва</td>\n",
       "      <td>100,000.00</td>\n",
       "      <td>от 100 т.р.</td>\n",
       "      <td>4</td>\n",
       "      <td>[Компьютерная безопасность, Консалтинг, Аутсор...</td>\n",
       "      <td>[Информационная безопасность, Аудит информацио...</td>\n",
       "      <td>'От 1 года до 3 лет'</td>\n",
       "      <td>'Полный день'</td>\n",
       "      <td>1</td>\n",
       "    </tr>\n",
       "    <tr>\n",
       "      <th>1</th>\n",
       "      <td>49062175</td>\n",
       "      <td>Product Manager (Разработка ПО в сфере Информа...</td>\n",
       "      <td>Москва</td>\n",
       "      <td>100,000.00</td>\n",
       "      <td>от 100 т.р.</td>\n",
       "      <td>4</td>\n",
       "      <td>[Компьютерная безопасность, Развитие бизнеса, ...</td>\n",
       "      <td>[Информационная безопасность, Запуск новых про...</td>\n",
       "      <td>'От 3 до 6 лет'</td>\n",
       "      <td>'Полный день'</td>\n",
       "      <td>1</td>\n",
       "    </tr>\n",
       "  </tbody>\n",
       "</table>\n",
       "</div>"
      ],
      "text/plain": [
       "         id                                               name  region  \\\n",
       "0  50632962         Консультант по информационной безопасности  Москва   \n",
       "1  49062175  Product Manager (Разработка ПО в сфере Информа...  Москва   \n",
       "\n",
       "   salary_from_ru  band_salary  salary_category  \\\n",
       "0      100,000.00  от 100 т.р.                4   \n",
       "1      100,000.00  от 100 т.р.                4   \n",
       "\n",
       "                                specializations_name  \\\n",
       "0  [Компьютерная безопасность, Консалтинг, Аутсор...   \n",
       "1  [Компьютерная безопасность, Развитие бизнеса, ...   \n",
       "\n",
       "                                     key_skills_name        experience_name  \\\n",
       "0  [Информационная безопасность, Аудит информацио...   'От 1 года до 3 лет'   \n",
       "1  [Информационная безопасность, Запуск новых про...        'От 3 до 6 лет'   \n",
       "\n",
       "    schedule_name  full_time  \n",
       "0   'Полный день'          1  \n",
       "1   'Полный день'          1  "
      ]
     },
     "execution_count": 111,
     "metadata": {},
     "output_type": "execute_result"
    }
   ],
   "source": [
    "df.head(2)"
   ]
  },
  {
   "cell_type": "markdown",
   "metadata": {},
   "source": [
    "#### Описательная статистика"
   ]
  },
  {
   "cell_type": "code",
   "execution_count": 113,
   "metadata": {},
   "outputs": [
    {
     "data": {
      "text/html": [
       "<div>\n",
       "<style scoped>\n",
       "    .dataframe tbody tr th:only-of-type {\n",
       "        vertical-align: middle;\n",
       "    }\n",
       "\n",
       "    .dataframe tbody tr th {\n",
       "        vertical-align: top;\n",
       "    }\n",
       "\n",
       "    .dataframe thead th {\n",
       "        text-align: right;\n",
       "    }\n",
       "</style>\n",
       "<table border=\"1\" class=\"dataframe\">\n",
       "  <thead>\n",
       "    <tr style=\"text-align: right;\">\n",
       "      <th></th>\n",
       "      <th>index</th>\n",
       "      <th>salary_from_ru</th>\n",
       "    </tr>\n",
       "  </thead>\n",
       "  <tbody>\n",
       "    <tr>\n",
       "      <th>0</th>\n",
       "      <td>count</td>\n",
       "      <td>54,192.00</td>\n",
       "    </tr>\n",
       "    <tr>\n",
       "      <th>1</th>\n",
       "      <td>mean</td>\n",
       "      <td>69,785.99</td>\n",
       "    </tr>\n",
       "    <tr>\n",
       "      <th>2</th>\n",
       "      <td>std</td>\n",
       "      <td>23,197.91</td>\n",
       "    </tr>\n",
       "    <tr>\n",
       "      <th>3</th>\n",
       "      <td>min</td>\n",
       "      <td>0.00</td>\n",
       "    </tr>\n",
       "    <tr>\n",
       "      <th>4</th>\n",
       "      <td>25%</td>\n",
       "      <td>50,000.00</td>\n",
       "    </tr>\n",
       "    <tr>\n",
       "      <th>5</th>\n",
       "      <td>50%</td>\n",
       "      <td>60,000.00</td>\n",
       "    </tr>\n",
       "    <tr>\n",
       "      <th>6</th>\n",
       "      <td>75%</td>\n",
       "      <td>100,000.00</td>\n",
       "    </tr>\n",
       "    <tr>\n",
       "      <th>7</th>\n",
       "      <td>max</td>\n",
       "      <td>100,000.00</td>\n",
       "    </tr>\n",
       "  </tbody>\n",
       "</table>\n",
       "</div>"
      ],
      "text/plain": [
       "   index  salary_from_ru\n",
       "0  count       54,192.00\n",
       "1   mean       69,785.99\n",
       "2    std       23,197.91\n",
       "3    min            0.00\n",
       "4    25%       50,000.00\n",
       "5    50%       60,000.00\n",
       "6    75%      100,000.00\n",
       "7    max      100,000.00"
      ]
     },
     "execution_count": 113,
     "metadata": {},
     "output_type": "execute_result"
    }
   ],
   "source": [
    "# Описательная статистика для числовых столбцов датасета\n",
    "df.salary_from_ru.describe().reset_index()"
   ]
  },
  {
   "cell_type": "code",
   "execution_count": 114,
   "metadata": {},
   "outputs": [
    {
     "data": {
      "text/html": [
       "<div>\n",
       "<style scoped>\n",
       "    .dataframe tbody tr th:only-of-type {\n",
       "        vertical-align: middle;\n",
       "    }\n",
       "\n",
       "    .dataframe tbody tr th {\n",
       "        vertical-align: top;\n",
       "    }\n",
       "\n",
       "    .dataframe thead th {\n",
       "        text-align: right;\n",
       "    }\n",
       "</style>\n",
       "<table border=\"1\" class=\"dataframe\">\n",
       "  <thead>\n",
       "    <tr style=\"text-align: right;\">\n",
       "      <th></th>\n",
       "      <th>name</th>\n",
       "      <th>region</th>\n",
       "      <th>band_salary</th>\n",
       "      <th>specializations_name</th>\n",
       "      <th>key_skills_name</th>\n",
       "      <th>experience_name</th>\n",
       "      <th>schedule_name</th>\n",
       "    </tr>\n",
       "  </thead>\n",
       "  <tbody>\n",
       "    <tr>\n",
       "      <th>count</th>\n",
       "      <td>54192</td>\n",
       "      <td>54192</td>\n",
       "      <td>54192</td>\n",
       "      <td>54192</td>\n",
       "      <td>54192</td>\n",
       "      <td>54192</td>\n",
       "      <td>54192</td>\n",
       "    </tr>\n",
       "    <tr>\n",
       "      <th>unique</th>\n",
       "      <td>26016</td>\n",
       "      <td>84</td>\n",
       "      <td>5</td>\n",
       "      <td>811</td>\n",
       "      <td>34424</td>\n",
       "      <td>4</td>\n",
       "      <td>5</td>\n",
       "    </tr>\n",
       "    <tr>\n",
       "      <th>top</th>\n",
       "      <td>Системный администратор</td>\n",
       "      <td>Москва</td>\n",
       "      <td>до 60 т.р.</td>\n",
       "      <td>[Программирование, Разработка, Системы управле...</td>\n",
       "      <td>нет информации</td>\n",
       "      <td>'От 1 года до 3 лет'</td>\n",
       "      <td>'Полный день'</td>\n",
       "    </tr>\n",
       "    <tr>\n",
       "      <th>freq</th>\n",
       "      <td>1652</td>\n",
       "      <td>16605</td>\n",
       "      <td>21981</td>\n",
       "      <td>14268</td>\n",
       "      <td>11899</td>\n",
       "      <td>27988</td>\n",
       "      <td>39919</td>\n",
       "    </tr>\n",
       "  </tbody>\n",
       "</table>\n",
       "</div>"
      ],
      "text/plain": [
       "                           name  region band_salary  \\\n",
       "count                     54192   54192       54192   \n",
       "unique                    26016      84           5   \n",
       "top     Системный администратор  Москва  до 60 т.р.   \n",
       "freq                       1652   16605       21981   \n",
       "\n",
       "                                     specializations_name key_skills_name  \\\n",
       "count                                               54192           54192   \n",
       "unique                                                811           34424   \n",
       "top     [Программирование, Разработка, Системы управле...  нет информации   \n",
       "freq                                                14268           11899   \n",
       "\n",
       "              experience_name   schedule_name  \n",
       "count                   54192           54192  \n",
       "unique                      4               5  \n",
       "top      'От 1 года до 3 лет'   'Полный день'  \n",
       "freq                    27988           39919  "
      ]
     },
     "execution_count": 114,
     "metadata": {},
     "output_type": "execute_result"
    }
   ],
   "source": [
    "# Описательная статистика для нечисловых столбцов датасета\n",
    "df.describe(include=['object', 'bool'])"
   ]
  },
  {
   "cell_type": "code",
   "execution_count": 104,
   "metadata": {},
   "outputs": [
    {
     "data": {
      "text/html": [
       "<div>\n",
       "<style scoped>\n",
       "    .dataframe tbody tr th:only-of-type {\n",
       "        vertical-align: middle;\n",
       "    }\n",
       "\n",
       "    .dataframe tbody tr th {\n",
       "        vertical-align: top;\n",
       "    }\n",
       "\n",
       "    .dataframe thead th {\n",
       "        text-align: right;\n",
       "    }\n",
       "</style>\n",
       "<table border=\"1\" class=\"dataframe\">\n",
       "  <thead>\n",
       "    <tr style=\"text-align: right;\">\n",
       "      <th></th>\n",
       "      <th>id</th>\n",
       "      <th>name</th>\n",
       "      <th>region</th>\n",
       "      <th>salary_from_ru</th>\n",
       "      <th>band_salary</th>\n",
       "      <th>salary_category</th>\n",
       "      <th>specializations_name</th>\n",
       "      <th>key_skills_name</th>\n",
       "      <th>experience_name</th>\n",
       "      <th>schedule_name</th>\n",
       "      <th>full_time</th>\n",
       "    </tr>\n",
       "  </thead>\n",
       "  <tbody>\n",
       "    <tr>\n",
       "      <th>0</th>\n",
       "      <td>50632962</td>\n",
       "      <td>Консультант по информационной безопасности</td>\n",
       "      <td>Москва</td>\n",
       "      <td>100000.0</td>\n",
       "      <td>от 100 т.р.</td>\n",
       "      <td>4</td>\n",
       "      <td>[Компьютерная безопасность, Консалтинг, Аутсор...</td>\n",
       "      <td>[Информационная безопасность, Аудит информацио...</td>\n",
       "      <td>'От 1 года до 3 лет'</td>\n",
       "      <td>'Полный день'</td>\n",
       "      <td>1</td>\n",
       "    </tr>\n",
       "    <tr>\n",
       "      <th>1</th>\n",
       "      <td>49062175</td>\n",
       "      <td>Product Manager (Разработка ПО в сфере Информа...</td>\n",
       "      <td>Москва</td>\n",
       "      <td>100000.0</td>\n",
       "      <td>от 100 т.р.</td>\n",
       "      <td>4</td>\n",
       "      <td>[Компьютерная безопасность, Развитие бизнеса, ...</td>\n",
       "      <td>[Информационная безопасность, Запуск новых про...</td>\n",
       "      <td>'От 3 до 6 лет'</td>\n",
       "      <td>'Полный день'</td>\n",
       "      <td>1</td>\n",
       "    </tr>\n",
       "    <tr>\n",
       "      <th>2</th>\n",
       "      <td>46199125</td>\n",
       "      <td>Эксперт по компьютерной криминалистике</td>\n",
       "      <td>Москва</td>\n",
       "      <td>100000.0</td>\n",
       "      <td>от 100 т.р.</td>\n",
       "      <td>4</td>\n",
       "      <td>[Компьютерная безопасность, Аналитик, Экономич...</td>\n",
       "      <td>[Английский язык, Информационная безопасность,...</td>\n",
       "      <td>'От 3 до 6 лет'</td>\n",
       "      <td>'Полный день'</td>\n",
       "      <td>1</td>\n",
       "    </tr>\n",
       "  </tbody>\n",
       "</table>\n",
       "</div>"
      ],
      "text/plain": [
       "         id                                               name  region  \\\n",
       "0  50632962         Консультант по информационной безопасности  Москва   \n",
       "1  49062175  Product Manager (Разработка ПО в сфере Информа...  Москва   \n",
       "2  46199125             Эксперт по компьютерной криминалистике  Москва   \n",
       "\n",
       "   salary_from_ru  band_salary  salary_category  \\\n",
       "0        100000.0  от 100 т.р.                4   \n",
       "1        100000.0  от 100 т.р.                4   \n",
       "2        100000.0  от 100 т.р.                4   \n",
       "\n",
       "                                specializations_name  \\\n",
       "0  [Компьютерная безопасность, Консалтинг, Аутсор...   \n",
       "1  [Компьютерная безопасность, Развитие бизнеса, ...   \n",
       "2  [Компьютерная безопасность, Аналитик, Экономич...   \n",
       "\n",
       "                                     key_skills_name        experience_name  \\\n",
       "0  [Информационная безопасность, Аудит информацио...   'От 1 года до 3 лет'   \n",
       "1  [Информационная безопасность, Запуск новых про...        'От 3 до 6 лет'   \n",
       "2  [Английский язык, Информационная безопасность,...        'От 3 до 6 лет'   \n",
       "\n",
       "    schedule_name  full_time  \n",
       "0   'Полный день'          1  \n",
       "1   'Полный день'          1  \n",
       "2   'Полный день'          1  "
      ]
     },
     "execution_count": 104,
     "metadata": {},
     "output_type": "execute_result"
    }
   ],
   "source": [
    "df.head(3)"
   ]
  }
 ],
 "metadata": {
  "interpreter": {
   "hash": "fd975b5008f75ca011c9cbd473d425e61cbcc6f13893501ac3aa968d92c7c8cc"
  },
  "kernelspec": {
   "display_name": "Python 3.10.4 ('learn-data-iW9cjtb-')",
   "language": "python",
   "name": "python3"
  },
  "language_info": {
   "codemirror_mode": {
    "name": "ipython",
    "version": 3
   },
   "file_extension": ".py",
   "mimetype": "text/x-python",
   "name": "python",
   "nbconvert_exporter": "python",
   "pygments_lexer": "ipython3",
   "version": "3.10.4"
  },
  "orig_nbformat": 4
 },
 "nbformat": 4,
 "nbformat_minor": 2
}
