{
 "cells": [
  {
   "cell_type": "markdown",
   "metadata": {},
   "source": [
    "# Разведочный анализ данных (exploratory data analysis, EDA)"
   ]
  },
  {
   "cell_type": "markdown",
   "metadata": {},
   "source": [
    "# Подготовка"
   ]
  },
  {
   "cell_type": "markdown",
   "metadata": {},
   "source": [
    "### Импорты"
   ]
  },
  {
   "cell_type": "code",
   "execution_count": 1,
   "metadata": {},
   "outputs": [],
   "source": [
    "import pandas as pd\n",
    "import numpy as np"
   ]
  },
  {
   "cell_type": "code",
   "execution_count": 2,
   "metadata": {},
   "outputs": [],
   "source": [
    "import scipy\n",
    "import scipy.stats as stats"
   ]
  },
  {
   "cell_type": "code",
   "execution_count": 3,
   "metadata": {},
   "outputs": [],
   "source": [
    "import sklearn.linear_model as lm"
   ]
  },
  {
   "cell_type": "code",
   "execution_count": 4,
   "metadata": {},
   "outputs": [],
   "source": [
    "import json"
   ]
  },
  {
   "cell_type": "code",
   "execution_count": 5,
   "metadata": {},
   "outputs": [],
   "source": [
    "import matplotlib.pyplot as plt"
   ]
  },
  {
   "cell_type": "code",
   "execution_count": 6,
   "metadata": {},
   "outputs": [],
   "source": [
    "import seaborn as sns"
   ]
  },
  {
   "cell_type": "code",
   "execution_count": 7,
   "metadata": {},
   "outputs": [],
   "source": [
    "import re"
   ]
  },
  {
   "cell_type": "code",
   "execution_count": 8,
   "metadata": {},
   "outputs": [],
   "source": [
    "import statsmodels.api as sm\n",
    "import statsmodels.formula.api as smf"
   ]
  },
  {
   "cell_type": "markdown",
   "metadata": {},
   "source": [
    "### Опции"
   ]
  },
  {
   "cell_type": "code",
   "execution_count": 9,
   "metadata": {},
   "outputs": [],
   "source": [
    "pd.set_option('display.float_format', '{:,.2f}'.format)\n",
    "# разделитель ',' и два знака после запятой у чисел с плавающей точкой"
   ]
  },
  {
   "cell_type": "code",
   "execution_count": null,
   "metadata": {},
   "outputs": [],
   "source": [
    "# Сброс ограничений на количество выводимых рядов\n",
    "pd.set_option('display.max_rows', None)"
   ]
  },
  {
   "cell_type": "code",
   "execution_count": null,
   "metadata": {},
   "outputs": [],
   "source": [
    "# Сброс ограничений на число столбцов\n",
    "pd.reset_option('display.max_columns')"
   ]
  },
  {
   "cell_type": "code",
   "execution_count": null,
   "metadata": {},
   "outputs": [],
   "source": [
    "pd.set_option('display.max_colwidth', None)\n",
    "# Установите для отображения самой большой линии"
   ]
  },
  {
   "cell_type": "code",
   "execution_count": null,
   "metadata": {},
   "outputs": [],
   "source": [
    "pd.reset_option('display.max_colwidth')\n",
    "# Сброс ограничений на количество символов в записи"
   ]
  },
  {
   "cell_type": "markdown",
   "metadata": {},
   "source": [
    "#### опции для графики"
   ]
  },
  {
   "cell_type": "code",
   "execution_count": 10,
   "metadata": {},
   "outputs": [],
   "source": [
    "large = 16; med = 12; small = 10\n",
    "params = {'axes.titlesize': large,\n",
    "          'legend.fontsize': med,\n",
    "          'figure.figsize': (12, 8),\n",
    "          'axes.labelsize': med,\n",
    "          'axes.titlesize': med,\n",
    "          'xtick.labelsize': med,\n",
    "          'ytick.labelsize': med,\n",
    "          'figure.titlesize': large}\n",
    "\n",
    "plt.rcParams.update(params)\n",
    "plt.style.use('seaborn-whitegrid')"
   ]
  },
  {
   "cell_type": "code",
   "execution_count": 11,
   "metadata": {},
   "outputs": [],
   "source": [
    "sns.set_palette('deep') \n",
    "sns.set_style(\"whitegrid\")"
   ]
  },
  {
   "cell_type": "markdown",
   "metadata": {},
   "source": [
    "## Заливка данных"
   ]
  },
  {
   "cell_type": "code",
   "execution_count": null,
   "metadata": {},
   "outputs": [],
   "source": [
    "# полный датафрейм со всеми столбцами\n",
    "# full_df = pd.read_csv('region_roles_26.05.22_CSV.csv', encoding='windows-1251', sep=';')"
   ]
  },
  {
   "cell_type": "markdown",
   "metadata": {},
   "source": [
    "#### Что в столбцах?"
   ]
  },
  {
   "cell_type": "code",
   "execution_count": null,
   "metadata": {},
   "outputs": [],
   "source": [
    "df.premium.value_counts()\n",
    "# удалить"
   ]
  },
  {
   "cell_type": "code",
   "execution_count": null,
   "metadata": {},
   "outputs": [],
   "source": [
    "df.name.value_counts()"
   ]
  },
  {
   "cell_type": "code",
   "execution_count": null,
   "metadata": {},
   "outputs": [],
   "source": [
    "df.department.value_counts()\n",
    "# delete"
   ]
  },
  {
   "cell_type": "code",
   "execution_count": null,
   "metadata": {},
   "outputs": [],
   "source": [
    "df.has_test.value_counts()\n",
    "# delete"
   ]
  },
  {
   "cell_type": "code",
   "execution_count": null,
   "metadata": {},
   "outputs": [],
   "source": [
    "df.response_letter_required.value_counts()\n",
    "# delete"
   ]
  },
  {
   "cell_type": "code",
   "execution_count": null,
   "metadata": {},
   "outputs": [],
   "source": [
    "df.area.value_counts()\n",
    "# delete"
   ]
  },
  {
   "cell_type": "code",
   "execution_count": null,
   "metadata": {},
   "outputs": [],
   "source": [
    "df.salary.value_counts()"
   ]
  },
  {
   "cell_type": "code",
   "execution_count": null,
   "metadata": {},
   "outputs": [],
   "source": [
    "df.type.value_counts()\n",
    "# delete"
   ]
  },
  {
   "cell_type": "code",
   "execution_count": null,
   "metadata": {},
   "outputs": [],
   "source": [
    "df.address.value_counts()\n",
    "# delete"
   ]
  },
  {
   "cell_type": "code",
   "execution_count": null,
   "metadata": {},
   "outputs": [],
   "source": [
    "df.response_url.value_counts()\n",
    "# delete"
   ]
  },
  {
   "cell_type": "code",
   "execution_count": null,
   "metadata": {},
   "outputs": [],
   "source": [
    "df.sort_point_distance.value_counts()\n",
    "# delete"
   ]
  },
  {
   "cell_type": "code",
   "execution_count": null,
   "metadata": {},
   "outputs": [],
   "source": [
    "df.archived.value_counts()\n",
    "# delete"
   ]
  },
  {
   "cell_type": "code",
   "execution_count": null,
   "metadata": {},
   "outputs": [],
   "source": [
    "df.insider_interview.value_counts()\n",
    "# delete"
   ]
  },
  {
   "cell_type": "code",
   "execution_count": null,
   "metadata": {},
   "outputs": [],
   "source": [
    "df.url.value_counts()\n",
    "# delete"
   ]
  },
  {
   "cell_type": "code",
   "execution_count": null,
   "metadata": {},
   "outputs": [],
   "source": [
    "df.alternate_url.value_counts()\n",
    "# delete"
   ]
  },
  {
   "cell_type": "code",
   "execution_count": null,
   "metadata": {},
   "outputs": [],
   "source": [
    "df.relations.value_counts()\n",
    "# delete"
   ]
  },
  {
   "cell_type": "code",
   "execution_count": null,
   "metadata": {},
   "outputs": [],
   "source": [
    "df.employer.value_counts()\n",
    "# delete"
   ]
  },
  {
   "cell_type": "code",
   "execution_count": null,
   "metadata": {},
   "outputs": [],
   "source": [
    "df.snippet.value_counts()\n",
    "# delete не нужен для целей исследования"
   ]
  },
  {
   "cell_type": "code",
   "execution_count": null,
   "metadata": {},
   "outputs": [],
   "source": [
    "df.contacts.value_counts()\n",
    "# delete"
   ]
  },
  {
   "cell_type": "code",
   "execution_count": null,
   "metadata": {},
   "outputs": [],
   "source": [
    "df.schedule.value_counts()\n"
   ]
  },
  {
   "cell_type": "code",
   "execution_count": null,
   "metadata": {},
   "outputs": [],
   "source": [
    "df.working_days.value_counts()\n",
    "# delete"
   ]
  },
  {
   "cell_type": "code",
   "execution_count": null,
   "metadata": {},
   "outputs": [],
   "source": [
    "df.working_time_intervals.value_counts()\n",
    "# delete"
   ]
  },
  {
   "cell_type": "code",
   "execution_count": null,
   "metadata": {},
   "outputs": [],
   "source": [
    "df.working_time_modes.value_counts()\n",
    "# delete"
   ]
  },
  {
   "cell_type": "code",
   "execution_count": null,
   "metadata": {},
   "outputs": [],
   "source": [
    "df.accept_temporary.value_counts()\n",
    "# delete"
   ]
  },
  {
   "cell_type": "code",
   "execution_count": null,
   "metadata": {},
   "outputs": [],
   "source": [
    "df.experience.value_counts()"
   ]
  },
  {
   "cell_type": "code",
   "execution_count": null,
   "metadata": {},
   "outputs": [],
   "source": [
    "df.region.value_counts()"
   ]
  },
  {
   "cell_type": "code",
   "execution_count": null,
   "metadata": {},
   "outputs": [],
   "source": [
    "df.immediate_redirect_url.value_counts()\n",
    "# delete"
   ]
  },
  {
   "cell_type": "markdown",
   "metadata": {},
   "source": [
    "#### Cокращенный dataframe"
   ]
  },
  {
   "cell_type": "code",
   "execution_count": 12,
   "metadata": {},
   "outputs": [],
   "source": [
    "list_columns = [\n",
    "    'id',\n",
    "    'name',\n",
    "    'salary',\n",
    "    'experience',\n",
    "    'schedule',\n",
    "    'key_skills',\n",
    "    'specializations',\n",
    "    'region'\n",
    "]"
   ]
  },
  {
   "cell_type": "code",
   "execution_count": 13,
   "metadata": {},
   "outputs": [],
   "source": [
    "# dataframe после анализа содержимого столбцов\n",
    "df = pd.read_csv('region_roles_26.05.22_CSV.csv', usecols=list_columns, encoding='windows-1251', sep=';')"
   ]
  },
  {
   "cell_type": "markdown",
   "metadata": {},
   "source": [
    "3,7s"
   ]
  },
  {
   "cell_type": "markdown",
   "metadata": {},
   "source": [
    "# EDA (3 этапа)"
   ]
  },
  {
   "cell_type": "markdown",
   "metadata": {},
   "source": [
    "## 1. Первичный анализ датасета"
   ]
  },
  {
   "cell_type": "markdown",
   "metadata": {},
   "source": [
    "- Знакомимся с таблицей данных\n",
    "- Оцениваем ее объем\n",
    "- Оцениваем признаки объектов, хранящихся в ней\n",
    "- Выявляем наличие пропусков"
   ]
  },
  {
   "cell_type": "markdown",
   "metadata": {},
   "source": [
    "### общая информация"
   ]
  },
  {
   "cell_type": "code",
   "execution_count": 340,
   "metadata": {},
   "outputs": [
    {
     "data": {
      "text/html": [
       "<div>\n",
       "<style scoped>\n",
       "    .dataframe tbody tr th:only-of-type {\n",
       "        vertical-align: middle;\n",
       "    }\n",
       "\n",
       "    .dataframe tbody tr th {\n",
       "        vertical-align: top;\n",
       "    }\n",
       "\n",
       "    .dataframe thead th {\n",
       "        text-align: right;\n",
       "    }\n",
       "</style>\n",
       "<table border=\"1\" class=\"dataframe\">\n",
       "  <thead>\n",
       "    <tr style=\"text-align: right;\">\n",
       "      <th></th>\n",
       "      <th>id</th>\n",
       "      <th>name</th>\n",
       "      <th>salary</th>\n",
       "      <th>schedule</th>\n",
       "      <th>experience</th>\n",
       "      <th>key_skills</th>\n",
       "      <th>specializations</th>\n",
       "      <th>region</th>\n",
       "    </tr>\n",
       "  </thead>\n",
       "  <tbody>\n",
       "    <tr>\n",
       "      <th>0</th>\n",
       "      <td>50632962</td>\n",
       "      <td>Консультант по информационной безопасности</td>\n",
       "      <td>NaN</td>\n",
       "      <td>{'id': 'fullDay', 'name': 'Полный день'}</td>\n",
       "      <td>{'id': 'between1And3', 'name': 'От 1 года до 3...</td>\n",
       "      <td>[{'name': 'Информационная безопасность'}, {'na...</td>\n",
       "      <td>[{'id': '1.110', 'name': 'Компьютерная безопас...</td>\n",
       "      <td>Москва</td>\n",
       "    </tr>\n",
       "    <tr>\n",
       "      <th>1</th>\n",
       "      <td>49062175</td>\n",
       "      <td>Product Manager (Разработка ПО в сфере Информа...</td>\n",
       "      <td>NaN</td>\n",
       "      <td>{'id': 'fullDay', 'name': 'Полный день'}</td>\n",
       "      <td>{'id': 'between3And6', 'name': 'От 3 до 6 лет'}</td>\n",
       "      <td>[{'name': 'Информационная безопасность'}, {'na...</td>\n",
       "      <td>[{'id': '1.110', 'name': 'Компьютерная безопас...</td>\n",
       "      <td>Москва</td>\n",
       "    </tr>\n",
       "  </tbody>\n",
       "</table>\n",
       "</div>"
      ],
      "text/plain": [
       "         id                                               name salary  \\\n",
       "0  50632962         Консультант по информационной безопасности    NaN   \n",
       "1  49062175  Product Manager (Разработка ПО в сфере Информа...    NaN   \n",
       "\n",
       "                                   schedule  \\\n",
       "0  {'id': 'fullDay', 'name': 'Полный день'}   \n",
       "1  {'id': 'fullDay', 'name': 'Полный день'}   \n",
       "\n",
       "                                          experience  \\\n",
       "0  {'id': 'between1And3', 'name': 'От 1 года до 3...   \n",
       "1    {'id': 'between3And6', 'name': 'От 3 до 6 лет'}   \n",
       "\n",
       "                                          key_skills  \\\n",
       "0  [{'name': 'Информационная безопасность'}, {'na...   \n",
       "1  [{'name': 'Информационная безопасность'}, {'na...   \n",
       "\n",
       "                                     specializations  region  \n",
       "0  [{'id': '1.110', 'name': 'Компьютерная безопас...  Москва  \n",
       "1  [{'id': '1.110', 'name': 'Компьютерная безопас...  Москва  "
      ]
     },
     "execution_count": 340,
     "metadata": {},
     "output_type": "execute_result"
    }
   ],
   "source": [
    "df.head(2)"
   ]
  },
  {
   "cell_type": "code",
   "execution_count": 41,
   "metadata": {},
   "outputs": [
    {
     "name": "stdout",
     "output_type": "stream",
     "text": [
      "<class 'pandas.core.frame.DataFrame'>\n",
      "RangeIndex: 69656 entries, 0 to 69655\n",
      "Data columns (total 8 columns):\n",
      " #   Column           Non-Null Count  Dtype \n",
      "---  ------           --------------  ----- \n",
      " 0   id               69656 non-null  int64 \n",
      " 1   name             69656 non-null  object\n",
      " 2   salary           37590 non-null  object\n",
      " 3   schedule         69656 non-null  object\n",
      " 4   experience       69656 non-null  object\n",
      " 5   key_skills       69656 non-null  object\n",
      " 6   specializations  69656 non-null  object\n",
      " 7   region           69656 non-null  object\n",
      "dtypes: int64(1), object(7)\n",
      "memory usage: 4.3+ MB\n"
     ]
    }
   ],
   "source": [
    "df.info()"
   ]
  },
  {
   "cell_type": "code",
   "execution_count": 14,
   "metadata": {},
   "outputs": [
    {
     "data": {
      "text/plain": [
       "(69656, 8)"
      ]
     },
     "execution_count": 14,
     "metadata": {},
     "output_type": "execute_result"
    }
   ],
   "source": [
    "df.shape"
   ]
  },
  {
   "cell_type": "code",
   "execution_count": 15,
   "metadata": {},
   "outputs": [
    {
     "data": {
      "text/plain": [
       "id                     0\n",
       "name                   0\n",
       "salary             32066\n",
       "schedule               0\n",
       "experience             0\n",
       "key_skills             0\n",
       "specializations        0\n",
       "region                 0\n",
       "dtype: int64"
      ]
     },
     "execution_count": 15,
     "metadata": {},
     "output_type": "execute_result"
    }
   ],
   "source": [
    "df.isna().sum()\n",
    "# поиск пропущенных значений"
   ]
  },
  {
   "cell_type": "code",
   "execution_count": 42,
   "metadata": {},
   "outputs": [
    {
     "data": {
      "text/plain": [
       "['id',\n",
       " 'name',\n",
       " 'salary',\n",
       " 'schedule',\n",
       " 'experience',\n",
       " 'key_skills',\n",
       " 'specializations',\n",
       " 'region']"
      ]
     },
     "execution_count": 42,
     "metadata": {},
     "output_type": "execute_result"
    }
   ],
   "source": [
    "# список столбцов в виде list()\n",
    "df.columns.tolist()"
   ]
  },
  {
   "cell_type": "markdown",
   "metadata": {},
   "source": [
    "### Есть дубликаты?"
   ]
  },
  {
   "cell_type": "code",
   "execution_count": 14,
   "metadata": {},
   "outputs": [
    {
     "data": {
      "text/plain": [
       "233"
      ]
     },
     "execution_count": 14,
     "metadata": {},
     "output_type": "execute_result"
    }
   ],
   "source": [
    "df.duplicated().sum()"
   ]
  },
  {
   "cell_type": "markdown",
   "metadata": {},
   "source": [
    "удаляем дубликаты"
   ]
  },
  {
   "cell_type": "code",
   "execution_count": 15,
   "metadata": {},
   "outputs": [],
   "source": [
    "df = df.drop_duplicates()"
   ]
  },
  {
   "cell_type": "markdown",
   "metadata": {},
   "source": [
    "проверяем"
   ]
  },
  {
   "cell_type": "code",
   "execution_count": 16,
   "metadata": {},
   "outputs": [
    {
     "data": {
      "text/plain": [
       "0"
      ]
     },
     "execution_count": 16,
     "metadata": {},
     "output_type": "execute_result"
    }
   ],
   "source": [
    "df.duplicated().sum()"
   ]
  },
  {
   "cell_type": "code",
   "execution_count": 17,
   "metadata": {},
   "outputs": [
    {
     "data": {
      "text/plain": [
       "(69423, 8)"
      ]
     },
     "execution_count": 17,
     "metadata": {},
     "output_type": "execute_result"
    }
   ],
   "source": [
    "df.shape"
   ]
  },
  {
   "cell_type": "markdown",
   "metadata": {},
   "source": [
    "### Преобразовываем строку JSON"
   ]
  },
  {
   "cell_type": "markdown",
   "metadata": {},
   "source": [
    "json.loads\n",
    "Считывание строки в формате JSON в объект Python"
   ]
  },
  {
   "cell_type": "markdown",
   "metadata": {},
   "source": [
    "json.dumps\n",
    "Преобразование объекта в строку в формате JSON. Функция dumps() модуля json сериализирует объект Python obj в строку str формата JSON. Сериализация объектов Python выполняется согласно таблице преобразования"
   ]
  },
  {
   "cell_type": "code",
   "execution_count": 18,
   "metadata": {},
   "outputs": [],
   "source": [
    "# Преобразование json с dumps\n",
    "def text_to_json_dumps(text):\n",
    "    text = text.replace(\"'\", '\"')\n",
    "    try:\n",
    "        return json.loads(json.dumps(text))\n",
    "    except:\n",
    "        print('error')"
   ]
  },
  {
   "cell_type": "code",
   "execution_count": 10,
   "metadata": {},
   "outputs": [],
   "source": [
    "# Преобразование json с заменой подстроки\n",
    "def text_to_json_str(text):\n",
    "    try:\n",
    "        return json.loads(text.replace('\"', '').replace(\"'\", '\"'))\n",
    "    except:\n",
    "        print('error')\n",
    "        # return []"
   ]
  },
  {
   "cell_type": "markdown",
   "metadata": {},
   "source": [
    "### Очищаем dataframe от данных, не относящихся к IT"
   ]
  },
  {
   "cell_type": "code",
   "execution_count": 19,
   "metadata": {},
   "outputs": [],
   "source": [
    "# для упрощения обработки приводим строки к нижнему регистру\n",
    "df['name'] = df['name'].str.lower()\n",
    "df['schedule'] = df['schedule'].str.lower()\n",
    "df['experience'] = df['experience'].str.lower()\n",
    "df['key_skills'] = df['key_skills'].str.lower()\n",
    "df['specializations'] = df['specializations'].str.lower()"
   ]
  },
  {
   "cell_type": "markdown",
   "metadata": {},
   "source": [
    "смотрим рандомную ячейку"
   ]
  },
  {
   "cell_type": "code",
   "execution_count": 22,
   "metadata": {},
   "outputs": [
    {
     "data": {
      "text/plain": [
       "0           консультант по информационной безопасности\n",
       "1    product manager (разработка по в сфере информа...\n",
       "2               эксперт по компьютерной криминалистике\n",
       "Name: name, dtype: object"
      ]
     },
     "execution_count": 22,
     "metadata": {},
     "output_type": "execute_result"
    }
   ],
   "source": [
    "df.name[:3]"
   ]
  },
  {
   "cell_type": "markdown",
   "metadata": {},
   "source": [
    "Создаем список подстрок, не относящихся к IT-специализации"
   ]
  },
  {
   "cell_type": "code",
   "execution_count": 20,
   "metadata": {},
   "outputs": [],
   "source": [
    "lst_not_it = [\n",
    "    'недви',\n",
    "    'персон', \n",
    "    'кадр',\n",
    "    'рекру',\n",
    "    'hr',\n",
    "    'продаж',\n",
    "    'риэл',\n",
    "    'риел',\n",
    "    'контент',\n",
    "    'зал',\n",
    "    'артист',\n",
    "    'smm',\n",
    "    'инструкт',\n",
    "    'тренер',\n",
    "    'креатив',\n",
    "    'ретуш',\n",
    "    'аренд',\n",
    "    'псих',\n",
    "    'табел',\n",
    "    'лаборат',\n",
    "    'смет',\n",
    "    'менеджер по работе с клиентами',\n",
    "    'компенсац',\n",
    "    'обуч',\n",
    "    'помещен',\n",
    "    'межев',\n",
    "    'ипоте',\n",
    "    'маркетол',\n",
    "    'блогер',\n",
    "    'кдп',\n",
    "    'recruiter',\n",
    "    'труд',\n",
    "    'специалист по работе с клиентами',\n",
    "    'штат',\n",
    "    'продавец',\n",
    "    'офис',\n",
    "    'брокер',\n",
    "    'смм',\n",
    "    'ресеч',\n",
    "    'торг',\n",
    "    'менедж',\n",
    "    'воин',\n",
    "    'новострой',\n",
    "    'pr',\n",
    "    'маркетинг',\n",
    "    'реклам',\n",
    "    'арт',\n",
    "    'агент',\n",
    "    'строи',\n",
    "    'энергет',\n",
    "    'табель',\n",
    "    'плав',\n",
    "    'интерьер', \n",
    "    'бокс'\n",
    "    ]\n"
   ]
  },
  {
   "cell_type": "markdown",
   "metadata": {},
   "source": [
    "Сепарируем столбец 'name' на 2 dataframe: 1) с наименованиями из списка 2) остальное"
   ]
  },
  {
   "cell_type": "code",
   "execution_count": 21,
   "metadata": {},
   "outputs": [],
   "source": [
    "pat = '|'.join(lst_not_it)\n",
    "temp_df = df[df['name'].str.contains(pat)]\n",
    "df = df[~df.index.isin(temp_df.index)]"
   ]
  },
  {
   "cell_type": "markdown",
   "metadata": {},
   "source": [
    "отсекли 24 тыс. строк"
   ]
  },
  {
   "cell_type": "code",
   "execution_count": 22,
   "metadata": {},
   "outputs": [
    {
     "data": {
      "text/plain": [
       "(24348, 8)"
      ]
     },
     "execution_count": 22,
     "metadata": {},
     "output_type": "execute_result"
    }
   ],
   "source": [
    "temp_df.shape"
   ]
  },
  {
   "cell_type": "markdown",
   "metadata": {},
   "source": [
    "В датасете осталось 45 тыс.строк"
   ]
  },
  {
   "cell_type": "code",
   "execution_count": 23,
   "metadata": {},
   "outputs": [
    {
     "data": {
      "text/plain": [
       "(45075, 8)"
      ]
     },
     "execution_count": 23,
     "metadata": {},
     "output_type": "execute_result"
    }
   ],
   "source": [
    "df.shape"
   ]
  },
  {
   "cell_type": "markdown",
   "metadata": {},
   "source": [
    "#### Работаем со столбцом specializations,\n",
    "чтобы очистить dataframe от данных, не относящихся к IT, что позволит точнее провести описательную статистику"
   ]
  },
  {
   "cell_type": "markdown",
   "metadata": {},
   "source": [
    "смотрим рандомную ячейку"
   ]
  },
  {
   "cell_type": "code",
   "execution_count": 22,
   "metadata": {},
   "outputs": [
    {
     "data": {
      "text/plain": [
       "\"[{'id': '1.110', 'name': 'компьютерная безопасность', 'profarea_id': '1', 'profarea_name': 'информационные технологии, интернет, телеком'}, {'id': '1.113', 'name': 'консалтинг, аутсорсинг', 'profarea_id': '1', 'profarea_name': 'информационные технологии, интернет, телеком'}]\""
      ]
     },
     "execution_count": 22,
     "metadata": {},
     "output_type": "execute_result"
    }
   ],
   "source": [
    "df.specializations[0]"
   ]
  },
  {
   "cell_type": "markdown",
   "metadata": {},
   "source": [
    "Преобразуем данные json и сохраним их в столбце specializations_jsn"
   ]
  },
  {
   "cell_type": "code",
   "execution_count": 24,
   "metadata": {},
   "outputs": [],
   "source": [
    "df['specializations_jsn'] = df['specializations'].apply(text_to_json_dumps)"
   ]
  },
  {
   "cell_type": "markdown",
   "metadata": {},
   "source": [
    "Создаем функцию, вытаскивающую тег 'profarea_id'. Это Идентификатор профессиональной области, в которую входит специализация. 1 - Информационные технологии, интернет, телеком. То, что нам надо для исследования"
   ]
  },
  {
   "cell_type": "code",
   "execution_count": 25,
   "metadata": {},
   "outputs": [],
   "source": [
    "def get_tag_profarea_id(text):\n",
    "    text = json.loads(text)\n",
    "    try:\n",
    "        out = []\n",
    "        if len(text) > 0:\n",
    "            for i in text:\n",
    "                out.append(i['profarea_id'])\n",
    "            return out\n",
    "    except:\n",
    "        print('error')\n"
   ]
  },
  {
   "cell_type": "markdown",
   "metadata": {},
   "source": [
    "Создаем новый столбец 'profarea_id'"
   ]
  },
  {
   "cell_type": "code",
   "execution_count": 26,
   "metadata": {},
   "outputs": [],
   "source": [
    "df['profarea_id'] = df.specializations_jsn.apply(get_tag_profarea_id)"
   ]
  },
  {
   "cell_type": "markdown",
   "metadata": {},
   "source": [
    "Создаем функцию поиска элемента '1' в списке для того, чтобы сепарировать строки dataframe со специализацией 1 - Информационные технологии, интернет, телеком"
   ]
  },
  {
   "cell_type": "code",
   "execution_count": 27,
   "metadata": {},
   "outputs": [],
   "source": [
    "def find_1(lst):\n",
    "    return '1' in lst"
   ]
  },
  {
   "cell_type": "markdown",
   "metadata": {},
   "source": [
    "Создаем столбец 'profarea_id_1'"
   ]
  },
  {
   "cell_type": "code",
   "execution_count": 28,
   "metadata": {},
   "outputs": [],
   "source": [
    "df['profarea_id_1'] = df['profarea_id'].apply(find_1)"
   ]
  },
  {
   "cell_type": "markdown",
   "metadata": {},
   "source": [
    "Разделяем dataframe по признаку отношения специализации к IT"
   ]
  },
  {
   "cell_type": "code",
   "execution_count": 29,
   "metadata": {},
   "outputs": [],
   "source": [
    "it_false = df[df['profarea_id_1'] == 0]"
   ]
  },
  {
   "cell_type": "markdown",
   "metadata": {},
   "source": [
    "отсекли еще 872 строки"
   ]
  },
  {
   "cell_type": "code",
   "execution_count": 30,
   "metadata": {},
   "outputs": [
    {
     "data": {
      "text/plain": [
       "(872, 11)"
      ]
     },
     "execution_count": 30,
     "metadata": {},
     "output_type": "execute_result"
    }
   ],
   "source": [
    "it_false.shape"
   ]
  },
  {
   "cell_type": "code",
   "execution_count": 31,
   "metadata": {},
   "outputs": [],
   "source": [
    "df = df[df['profarea_id_1'] == 1]"
   ]
  },
  {
   "cell_type": "markdown",
   "metadata": {},
   "source": [
    "В dataframe 44 тыс. строк из первоначальных 69 тыс."
   ]
  },
  {
   "cell_type": "code",
   "execution_count": 32,
   "metadata": {},
   "outputs": [
    {
     "data": {
      "text/plain": [
       "(44203, 11)"
      ]
     },
     "execution_count": 32,
     "metadata": {},
     "output_type": "execute_result"
    }
   ],
   "source": [
    "df.shape"
   ]
  },
  {
   "cell_type": "markdown",
   "metadata": {},
   "source": [
    "## 2. Анализ и визуализация отдельных колонок"
   ]
  },
  {
   "cell_type": "markdown",
   "metadata": {},
   "source": [
    "### Работаем со столбцом salary"
   ]
  },
  {
   "cell_type": "markdown",
   "metadata": {},
   "source": [
    "🎯 Цель: получить столбец **'salary_from_ru'** в формате int <br>\n",
    "Надо вытащить данные по salary from и привести все данные к рублевому эквиваленту. Сделать описательную статистику, визуализацию, посмотреть выбросы, аномалии."
   ]
  },
  {
   "cell_type": "markdown",
   "metadata": {},
   "source": [
    "смотрим рандомную ячейку"
   ]
  },
  {
   "cell_type": "code",
   "execution_count": 195,
   "metadata": {},
   "outputs": [
    {
     "data": {
      "text/plain": [
       "\"{'from': 26000, 'to': None, 'currency': 'RUR', 'gross': True}\""
      ]
     },
     "execution_count": 195,
     "metadata": {},
     "output_type": "execute_result"
    }
   ],
   "source": [
    "df.salary[3]"
   ]
  },
  {
   "cell_type": "markdown",
   "metadata": {},
   "source": [
    "Для исследования возьмем только начальный уровень зарплаты, указанный в теге 'from'. Как правило, если работодатель указывает уровень зарплаты, то начальная зарплата практически всегда присутствует, что не скажешь о верхней границе зарплаты."
   ]
  },
  {
   "cell_type": "markdown",
   "metadata": {},
   "source": [
    "вытаскиваем тег 'from' из salary"
   ]
  },
  {
   "cell_type": "code",
   "execution_count": 33,
   "metadata": {},
   "outputs": [],
   "source": [
    "def salary_from(salary):\n",
    "    if pd.isna(salary): # добавляем обработку None\n",
    "        clean_salary = np.nan\n",
    "    else:\n",
    "        clean_salary = salary.replace(\"{\", '').replace(\"}\", '').split(',')[0][8:]\n",
    "        if clean_salary == 'None':\n",
    "            clean_salary = np.nan\n",
    "\n",
    "    return clean_salary"
   ]
  },
  {
   "cell_type": "markdown",
   "metadata": {},
   "source": [
    "Так как часть зарплат указаны не в рублях, то надо будет привести все зарплаты к одной валюте (ru). Для это вытаскиваем тег 'currency' из salary"
   ]
  },
  {
   "cell_type": "code",
   "execution_count": 34,
   "metadata": {},
   "outputs": [],
   "source": [
    "def salary_currency(salary):\n",
    "    if pd.isna(salary): # добавляем обработку None\n",
    "        clean_salary = np.nan\n",
    "    else:\n",
    "        clean_salary = salary.replace(\"{\", '').replace(\"}\", '').split(',')[2][12:]\n",
    "        if clean_salary == 'None':\n",
    "            clean_salary = np.nan\n",
    "\n",
    "    return clean_salary"
   ]
  },
  {
   "cell_type": "code",
   "execution_count": 35,
   "metadata": {},
   "outputs": [],
   "source": [
    "df['salary_currency'] = df.salary.apply(salary_currency)"
   ]
  },
  {
   "cell_type": "code",
   "execution_count": 36,
   "metadata": {},
   "outputs": [],
   "source": [
    "df['salary_from'] = df.salary.apply(salary_from)"
   ]
  },
  {
   "cell_type": "code",
   "execution_count": 37,
   "metadata": {},
   "outputs": [],
   "source": [
    "df['salary_from'] = pd.to_numeric(df['salary_from'])"
   ]
  },
  {
   "cell_type": "markdown",
   "metadata": {},
   "source": [
    "приводим все salary_from в рубли"
   ]
  },
  {
   "cell_type": "code",
   "execution_count": 38,
   "metadata": {},
   "outputs": [],
   "source": [
    "def get_rate(currency):\n",
    "    rur =  1\n",
    "    doll = 70\n",
    "    eur = 75\n",
    "    kzt = 0.13\n",
    "    if currency is np.nan:\n",
    "        return np.nan\n",
    "    else:\n",
    "        if currency.find('RUR') >= 0:\n",
    "            return rur\n",
    "        elif currency.find('USD') >= 0:\n",
    "            return doll\n",
    "        elif currency.find('EUR') >= 0:\n",
    "            return eur\n",
    "        elif currency.find('KZT') >= 0:\n",
    "            return kzt"
   ]
  },
  {
   "cell_type": "code",
   "execution_count": 39,
   "metadata": {},
   "outputs": [],
   "source": [
    "df['salary_from_ru'] = df.salary_from * df.salary_currency.apply(get_rate)"
   ]
  },
  {
   "cell_type": "markdown",
   "metadata": {},
   "source": [
    "проверка"
   ]
  },
  {
   "cell_type": "code",
   "execution_count": 40,
   "metadata": {},
   "outputs": [
    {
     "data": {
      "text/html": [
       "<div>\n",
       "<style scoped>\n",
       "    .dataframe tbody tr th:only-of-type {\n",
       "        vertical-align: middle;\n",
       "    }\n",
       "\n",
       "    .dataframe tbody tr th {\n",
       "        vertical-align: top;\n",
       "    }\n",
       "\n",
       "    .dataframe thead th {\n",
       "        text-align: right;\n",
       "    }\n",
       "</style>\n",
       "<table border=\"1\" class=\"dataframe\">\n",
       "  <thead>\n",
       "    <tr style=\"text-align: right;\">\n",
       "      <th></th>\n",
       "      <th>salary_from</th>\n",
       "      <th>salary_currency</th>\n",
       "      <th>salary_from_ru</th>\n",
       "    </tr>\n",
       "  </thead>\n",
       "  <tbody>\n",
       "    <tr>\n",
       "      <th>38363</th>\n",
       "      <td>NaN</td>\n",
       "      <td>'USD'</td>\n",
       "      <td>NaN</td>\n",
       "    </tr>\n",
       "    <tr>\n",
       "      <th>31101</th>\n",
       "      <td>4,000.00</td>\n",
       "      <td>'USD'</td>\n",
       "      <td>280,000.00</td>\n",
       "    </tr>\n",
       "    <tr>\n",
       "      <th>27440</th>\n",
       "      <td>2,500.00</td>\n",
       "      <td>'USD'</td>\n",
       "      <td>175,000.00</td>\n",
       "    </tr>\n",
       "    <tr>\n",
       "      <th>24138</th>\n",
       "      <td>2,000.00</td>\n",
       "      <td>'USD'</td>\n",
       "      <td>140,000.00</td>\n",
       "    </tr>\n",
       "    <tr>\n",
       "      <th>27450</th>\n",
       "      <td>1,200.00</td>\n",
       "      <td>'USD'</td>\n",
       "      <td>84,000.00</td>\n",
       "    </tr>\n",
       "  </tbody>\n",
       "</table>\n",
       "</div>"
      ],
      "text/plain": [
       "       salary_from salary_currency  salary_from_ru\n",
       "38363          NaN           'USD'             NaN\n",
       "31101     4,000.00           'USD'      280,000.00\n",
       "27440     2,500.00           'USD'      175,000.00\n",
       "24138     2,000.00           'USD'      140,000.00\n",
       "27450     1,200.00           'USD'       84,000.00"
      ]
     },
     "execution_count": 40,
     "metadata": {},
     "output_type": "execute_result"
    }
   ],
   "source": [
    "df[['salary_from', 'salary_currency', 'salary_from_ru']].sort_values('salary_currency', ascending=False)[:5]"
   ]
  },
  {
   "cell_type": "markdown",
   "metadata": {},
   "source": [
    "Выбираем на что менять NaN в столбце 'salary_fro_ru'"
   ]
  },
  {
   "cell_type": "code",
   "execution_count": 41,
   "metadata": {},
   "outputs": [
    {
     "data": {
      "text/plain": [
       "(85367.78599420685, 65000.0, 25.0, 1000000.0)"
      ]
     },
     "execution_count": 41,
     "metadata": {},
     "output_type": "execute_result"
    }
   ],
   "source": [
    "(\n",
    "    df.salary_from_ru.mean(),\n",
    "    df.salary_from_ru.median(),\n",
    "    df.salary_from_ru.min(),\n",
    "    df.salary_from_ru.max()\n",
    ")"
   ]
  },
  {
   "cell_type": "markdown",
   "metadata": {},
   "source": [
    "Медиана меньше зависима от выбросов и лучше подходит для заполнения ячеек NaN"
   ]
  },
  {
   "cell_type": "code",
   "execution_count": 41,
   "metadata": {},
   "outputs": [],
   "source": [
    "agg_func_math_ = {\n",
    "    'salary_from_ru': ['median']\n",
    "}\n",
    "# задаем список функций по определенному столбцу с расчетными данными\n",
    "\n",
    "region_salary_ru = df.groupby('region', dropna=True).agg(agg_func_math_).round(2).fillna(0)\n",
    "# ! если включаем строки с NaN при расчете, то: dropna=False"
   ]
  },
  {
   "cell_type": "markdown",
   "metadata": {},
   "source": [
    "переименовываем столбец"
   ]
  },
  {
   "cell_type": "code",
   "execution_count": 42,
   "metadata": {},
   "outputs": [
    {
     "data": {
      "text/plain": [
       "[('salary_from_ru', 'median')]"
      ]
     },
     "execution_count": 42,
     "metadata": {},
     "output_type": "execute_result"
    }
   ],
   "source": [
    "region_salary_ru.columns.tolist()"
   ]
  },
  {
   "cell_type": "code",
   "execution_count": 43,
   "metadata": {},
   "outputs": [],
   "source": [
    "region_salary_ru.columns = ['_'.join(col).strip() for col in region_salary_ru.columns.values]"
   ]
  },
  {
   "cell_type": "code",
   "execution_count": 44,
   "metadata": {},
   "outputs": [
    {
     "data": {
      "text/html": [
       "<div>\n",
       "<style scoped>\n",
       "    .dataframe tbody tr th:only-of-type {\n",
       "        vertical-align: middle;\n",
       "    }\n",
       "\n",
       "    .dataframe tbody tr th {\n",
       "        vertical-align: top;\n",
       "    }\n",
       "\n",
       "    .dataframe thead th {\n",
       "        text-align: right;\n",
       "    }\n",
       "</style>\n",
       "<table border=\"1\" class=\"dataframe\">\n",
       "  <thead>\n",
       "    <tr style=\"text-align: right;\">\n",
       "      <th></th>\n",
       "      <th>region</th>\n",
       "      <th>salary_from_ru_median</th>\n",
       "    </tr>\n",
       "  </thead>\n",
       "  <tbody>\n",
       "    <tr>\n",
       "      <th>0</th>\n",
       "      <td>Алтайский край</td>\n",
       "      <td>45,000.00</td>\n",
       "    </tr>\n",
       "    <tr>\n",
       "      <th>1</th>\n",
       "      <td>Амурская область</td>\n",
       "      <td>41,500.00</td>\n",
       "    </tr>\n",
       "    <tr>\n",
       "      <th>2</th>\n",
       "      <td>Архангельская область</td>\n",
       "      <td>48,000.00</td>\n",
       "    </tr>\n",
       "    <tr>\n",
       "      <th>3</th>\n",
       "      <td>Астраханская область</td>\n",
       "      <td>27,000.00</td>\n",
       "    </tr>\n",
       "    <tr>\n",
       "      <th>4</th>\n",
       "      <td>Белгородская область</td>\n",
       "      <td>47,500.00</td>\n",
       "    </tr>\n",
       "  </tbody>\n",
       "</table>\n",
       "</div>"
      ],
      "text/plain": [
       "                  region  salary_from_ru_median\n",
       "0         Алтайский край              45,000.00\n",
       "1       Амурская область              41,500.00\n",
       "2  Архангельская область              48,000.00\n",
       "3   Астраханская область              27,000.00\n",
       "4   Белгородская область              47,500.00"
      ]
     },
     "execution_count": 44,
     "metadata": {},
     "output_type": "execute_result"
    }
   ],
   "source": [
    "region_salary_ru.head().reset_index()"
   ]
  },
  {
   "cell_type": "markdown",
   "metadata": {},
   "source": [
    "Заджойним region_salary_ru в df"
   ]
  },
  {
   "cell_type": "code",
   "execution_count": 45,
   "metadata": {},
   "outputs": [],
   "source": [
    "df = df.merge(region_salary_ru, on='region', how='inner')"
   ]
  },
  {
   "cell_type": "code",
   "execution_count": 46,
   "metadata": {},
   "outputs": [
    {
     "data": {
      "text/plain": [
       "26596"
      ]
     },
     "execution_count": 46,
     "metadata": {},
     "output_type": "execute_result"
    }
   ],
   "source": [
    "df.salary_from_ru.isna().sum()"
   ]
  },
  {
   "cell_type": "code",
   "execution_count": 47,
   "metadata": {},
   "outputs": [
    {
     "data": {
      "text/plain": [
       "65000.0"
      ]
     },
     "execution_count": 47,
     "metadata": {},
     "output_type": "execute_result"
    }
   ],
   "source": [
    "df.salary_from_ru.median()"
   ]
  },
  {
   "cell_type": "markdown",
   "metadata": {},
   "source": [
    "Так как медианные зарплаты различаются по регионам. Будем ячейки NaN в колонке 'salary_from_ru' заменять на медианную зарплату с учетом региона.\n",
    "\n",
    "Синтаксис:\n",
    "DataFrame.loc[condition, column_name] = new_value"
   ]
  },
  {
   "cell_type": "code",
   "execution_count": 48,
   "metadata": {},
   "outputs": [],
   "source": [
    "df.loc[(df.salary_from_ru.isna()), 'salary_from_ru'] = df.salary_from_ru_median"
   ]
  },
  {
   "cell_type": "markdown",
   "metadata": {},
   "source": [
    "проверяем "
   ]
  },
  {
   "cell_type": "code",
   "execution_count": 49,
   "metadata": {},
   "outputs": [
    {
     "data": {
      "text/plain": [
       "0"
      ]
     },
     "execution_count": 49,
     "metadata": {},
     "output_type": "execute_result"
    }
   ],
   "source": [
    "df.salary_from_ru.isna().sum()"
   ]
  },
  {
   "cell_type": "markdown",
   "metadata": {},
   "source": [
    "смотрим, есть ли нулевые значения в зарплатах"
   ]
  },
  {
   "cell_type": "code",
   "execution_count": 50,
   "metadata": {},
   "outputs": [
    {
     "data": {
      "text/html": [
       "<div>\n",
       "<style scoped>\n",
       "    .dataframe tbody tr th:only-of-type {\n",
       "        vertical-align: middle;\n",
       "    }\n",
       "\n",
       "    .dataframe tbody tr th {\n",
       "        vertical-align: top;\n",
       "    }\n",
       "\n",
       "    .dataframe thead th {\n",
       "        text-align: right;\n",
       "    }\n",
       "</style>\n",
       "<table border=\"1\" class=\"dataframe\">\n",
       "  <thead>\n",
       "    <tr style=\"text-align: right;\">\n",
       "      <th></th>\n",
       "      <th>id</th>\n",
       "      <th>name</th>\n",
       "      <th>salary</th>\n",
       "      <th>schedule</th>\n",
       "      <th>experience</th>\n",
       "      <th>key_skills</th>\n",
       "      <th>specializations</th>\n",
       "      <th>region</th>\n",
       "      <th>specializations_jsn</th>\n",
       "      <th>profarea_id</th>\n",
       "      <th>profarea_id_1</th>\n",
       "      <th>salary_currency</th>\n",
       "      <th>salary_from</th>\n",
       "      <th>salary_from_ru</th>\n",
       "      <th>salary_from_ru_median</th>\n",
       "    </tr>\n",
       "  </thead>\n",
       "  <tbody>\n",
       "    <tr>\n",
       "      <th>44199</th>\n",
       "      <td>55240038</td>\n",
       "      <td>руководитель проекта модернизации морской плат...</td>\n",
       "      <td>NaN</td>\n",
       "      <td>{'id': 'fullday', 'name': 'полный день'}</td>\n",
       "      <td>{'id': 'between3and6', 'name': 'от 3 до 6 лет'}</td>\n",
       "      <td>[{'name': 'английский язык'}, {'name': 'ms pow...</td>\n",
       "      <td>[{'id': '1.221', 'name': 'программирование, ра...</td>\n",
       "      <td>Ненецкий АО</td>\n",
       "      <td>[{\"id\": \"1.221\", \"name\": \"программирование, ра...</td>\n",
       "      <td>[1, 1, 1]</td>\n",
       "      <td>True</td>\n",
       "      <td>NaN</td>\n",
       "      <td>NaN</td>\n",
       "      <td>0.00</td>\n",
       "      <td>0.00</td>\n",
       "    </tr>\n",
       "    <tr>\n",
       "      <th>44200</th>\n",
       "      <td>55312726</td>\n",
       "      <td>qa engineer (manual)</td>\n",
       "      <td>NaN</td>\n",
       "      <td>{'id': 'fullday', 'name': 'полный день'}</td>\n",
       "      <td>{'id': 'between1and3', 'name': 'от 1 года до 3...</td>\n",
       "      <td>[{'name': 'sql'}, {'name': 'тестирование'}, {'...</td>\n",
       "      <td>[{'id': '1.221', 'name': 'программирование, ра...</td>\n",
       "      <td>Ненецкий АО</td>\n",
       "      <td>[{\"id\": \"1.221\", \"name\": \"программирование, ра...</td>\n",
       "      <td>[1, 1, 1]</td>\n",
       "      <td>True</td>\n",
       "      <td>NaN</td>\n",
       "      <td>NaN</td>\n",
       "      <td>0.00</td>\n",
       "      <td>0.00</td>\n",
       "    </tr>\n",
       "    <tr>\n",
       "      <th>44201</th>\n",
       "      <td>54740813</td>\n",
       "      <td>аналитик / медиа-аналитик</td>\n",
       "      <td>NaN</td>\n",
       "      <td>{'id': 'fullday', 'name': 'полный день'}</td>\n",
       "      <td>{'id': 'between1and3', 'name': 'от 1 года до 3...</td>\n",
       "      <td>[{'name': 'ms powerpoint'}, {'name': 'монитори...</td>\n",
       "      <td>[{'id': '17.751', 'name': 'другое', 'profarea_...</td>\n",
       "      <td>Чукотский АО</td>\n",
       "      <td>[{\"id\": \"17.751\", \"name\": \"другое\", \"profarea_...</td>\n",
       "      <td>[17, 1, 3, 12]</td>\n",
       "      <td>True</td>\n",
       "      <td>NaN</td>\n",
       "      <td>NaN</td>\n",
       "      <td>0.00</td>\n",
       "      <td>0.00</td>\n",
       "    </tr>\n",
       "    <tr>\n",
       "      <th>44202</th>\n",
       "      <td>55490028</td>\n",
       "      <td>руководитель отдела ит</td>\n",
       "      <td>NaN</td>\n",
       "      <td>{'id': 'fullday', 'name': 'полный день'}</td>\n",
       "      <td>{'id': 'between3and6', 'name': 'от 3 до 6 лет'}</td>\n",
       "      <td>[{'name': 'информационные технологии'}, {'name...</td>\n",
       "      <td>[{'id': '9.94', 'name': 'информационные технол...</td>\n",
       "      <td>Чукотский АО</td>\n",
       "      <td>[{\"id\": \"9.94\", \"name\": \"информационные технол...</td>\n",
       "      <td>[9, 1]</td>\n",
       "      <td>True</td>\n",
       "      <td>NaN</td>\n",
       "      <td>NaN</td>\n",
       "      <td>0.00</td>\n",
       "      <td>0.00</td>\n",
       "    </tr>\n",
       "  </tbody>\n",
       "</table>\n",
       "</div>"
      ],
      "text/plain": [
       "             id                                               name salary  \\\n",
       "44199  55240038  руководитель проекта модернизации морской плат...    NaN   \n",
       "44200  55312726                               qa engineer (manual)    NaN   \n",
       "44201  54740813                          аналитик / медиа-аналитик    NaN   \n",
       "44202  55490028                             руководитель отдела ит    NaN   \n",
       "\n",
       "                                       schedule  \\\n",
       "44199  {'id': 'fullday', 'name': 'полный день'}   \n",
       "44200  {'id': 'fullday', 'name': 'полный день'}   \n",
       "44201  {'id': 'fullday', 'name': 'полный день'}   \n",
       "44202  {'id': 'fullday', 'name': 'полный день'}   \n",
       "\n",
       "                                              experience  \\\n",
       "44199    {'id': 'between3and6', 'name': 'от 3 до 6 лет'}   \n",
       "44200  {'id': 'between1and3', 'name': 'от 1 года до 3...   \n",
       "44201  {'id': 'between1and3', 'name': 'от 1 года до 3...   \n",
       "44202    {'id': 'between3and6', 'name': 'от 3 до 6 лет'}   \n",
       "\n",
       "                                              key_skills  \\\n",
       "44199  [{'name': 'английский язык'}, {'name': 'ms pow...   \n",
       "44200  [{'name': 'sql'}, {'name': 'тестирование'}, {'...   \n",
       "44201  [{'name': 'ms powerpoint'}, {'name': 'монитори...   \n",
       "44202  [{'name': 'информационные технологии'}, {'name...   \n",
       "\n",
       "                                         specializations        region  \\\n",
       "44199  [{'id': '1.221', 'name': 'программирование, ра...   Ненецкий АО   \n",
       "44200  [{'id': '1.221', 'name': 'программирование, ра...   Ненецкий АО   \n",
       "44201  [{'id': '17.751', 'name': 'другое', 'profarea_...  Чукотский АО   \n",
       "44202  [{'id': '9.94', 'name': 'информационные технол...  Чукотский АО   \n",
       "\n",
       "                                     specializations_jsn     profarea_id  \\\n",
       "44199  [{\"id\": \"1.221\", \"name\": \"программирование, ра...       [1, 1, 1]   \n",
       "44200  [{\"id\": \"1.221\", \"name\": \"программирование, ра...       [1, 1, 1]   \n",
       "44201  [{\"id\": \"17.751\", \"name\": \"другое\", \"profarea_...  [17, 1, 3, 12]   \n",
       "44202  [{\"id\": \"9.94\", \"name\": \"информационные технол...          [9, 1]   \n",
       "\n",
       "       profarea_id_1 salary_currency  salary_from  salary_from_ru  \\\n",
       "44199           True             NaN          NaN            0.00   \n",
       "44200           True             NaN          NaN            0.00   \n",
       "44201           True             NaN          NaN            0.00   \n",
       "44202           True             NaN          NaN            0.00   \n",
       "\n",
       "       salary_from_ru_median  \n",
       "44199                   0.00  \n",
       "44200                   0.00  \n",
       "44201                   0.00  \n",
       "44202                   0.00  "
      ]
     },
     "execution_count": 50,
     "metadata": {},
     "output_type": "execute_result"
    }
   ],
   "source": [
    "df[df.salary_from_ru == 0]"
   ]
  },
  {
   "cell_type": "markdown",
   "metadata": {},
   "source": [
    "у нас есть 4 строки с нулевыми зарплатами. Это связано с тем, что по данным регионам (Чукотка, Ненецкий АО) не было данных по зарплате. Уберем эти строки из dataframe"
   ]
  },
  {
   "cell_type": "code",
   "execution_count": 51,
   "metadata": {},
   "outputs": [],
   "source": [
    "df = df[df.salary_from_ru != 0]"
   ]
  },
  {
   "cell_type": "code",
   "execution_count": 52,
   "metadata": {},
   "outputs": [
    {
     "data": {
      "text/plain": [
       "(44199, 15)"
      ]
     },
     "execution_count": 52,
     "metadata": {},
     "output_type": "execute_result"
    }
   ],
   "source": [
    "df.shape"
   ]
  },
  {
   "cell_type": "markdown",
   "metadata": {},
   "source": [
    "'salary_from_ru' - количественный тип данных. Посмотрим статистику по столбцу"
   ]
  },
  {
   "cell_type": "code",
   "execution_count": 53,
   "metadata": {},
   "outputs": [
    {
     "data": {
      "text/plain": [
       "count      44,199.00\n",
       "mean       79,782.84\n",
       "std        46,117.25\n",
       "min            25.00\n",
       "25%        50,000.00\n",
       "50%        76,000.00\n",
       "75%       100,000.00\n",
       "max     1,000,000.00\n",
       "Name: salary_from_ru, dtype: float64"
      ]
     },
     "execution_count": 53,
     "metadata": {},
     "output_type": "execute_result"
    }
   ],
   "source": [
    "df.salary_from_ru.describe()"
   ]
  },
  {
   "cell_type": "code",
   "execution_count": 54,
   "metadata": {},
   "outputs": [
    {
     "name": "stderr",
     "output_type": "stream",
     "text": [
      "/home/shulz/.local/share/virtualenvs/learn-data-iW9cjtb-/lib/python3.10/site-packages/seaborn/_decorators.py:36: FutureWarning: Pass the following variable as a keyword arg: x. From version 0.12, the only valid positional argument will be `data`, and passing other arguments without an explicit keyword will result in an error or misinterpretation.\n",
      "  warnings.warn(\n",
      "/home/shulz/.local/share/virtualenvs/learn-data-iW9cjtb-/lib/python3.10/site-packages/seaborn/distributions.py:2619: FutureWarning: `distplot` is a deprecated function and will be removed in a future version. Please adapt your code to use either `displot` (a figure-level function with similar flexibility) or `histplot` (an axes-level function for histograms).\n",
      "  warnings.warn(msg, FutureWarning)\n"
     ]
    },
    {
     "data": {
      "image/png": "[encoded data removed]",
      "text/plain": [
       "<Figure size 720x720 with 2 Axes>"
      ]
     },
     "metadata": {
      "needs_background": "light"
     },
     "output_type": "display_data"
    }
   ],
   "source": [
    "f, ax = plt.subplots(2,1, figsize=(10,10), sharex=True)\n",
    "ax[0].set_title('Диаграмма рассеивания')\n",
    "ax[1].set_title('Гистограмма распределения')\n",
    "sns.boxplot(df.salary_from_ru, ax=ax[0])\n",
    "sns.distplot(df.salary_from_ru, ax=ax[1])\n",
    "plt.suptitle('Начальная зарплата', size=14)\n",
    "plt.show()"
   ]
  },
  {
   "cell_type": "markdown",
   "metadata": {},
   "source": [
    "создадим функцию для распечатки значений box-plot"
   ]
  },
  {
   "cell_type": "code",
   "execution_count": 55,
   "metadata": {},
   "outputs": [],
   "source": [
    "def get_boxplot_values(data):\n",
    "    median = np.median(data)\n",
    "    upper_quartile = np.percentile(data, 75)\n",
    "    lower_quartile = np.percentile(data, 25)\n",
    "\n",
    "    iqr = upper_quartile - lower_quartile\n",
    "    upper_whisker = data[data<=upper_quartile+1.5*iqr].max()\n",
    "    lower_whisker = data[data>=lower_quartile-1.5*iqr].min()\n",
    "\n",
    "    print('lower_whisker: ', lower_whisker)\n",
    "    print('quartile_25: ', lower_quartile )\n",
    "    print('median: ', median)\n",
    "    print('quartile_75: ', upper_quartile)\n",
    "    print('upper_whisker: ', upper_whisker)\n",
    "    "
   ]
  },
  {
   "cell_type": "code",
   "execution_count": 56,
   "metadata": {},
   "outputs": [
    {
     "name": "stdout",
     "output_type": "stream",
     "text": [
      "lower_whisker:  25.0\n",
      "quartile_25:  50000.0\n",
      "median:  76000.0\n",
      "quartile_75:  100000.0\n",
      "upper_whisker:  175000.0\n"
     ]
    }
   ],
   "source": [
    "get_boxplot_values(df.salary_from_ru)"
   ]
  },
  {
   "cell_type": "markdown",
   "metadata": {},
   "source": [
    "посмотрим ТОП10 зарплат"
   ]
  },
  {
   "cell_type": "code",
   "execution_count": 57,
   "metadata": {},
   "outputs": [
    {
     "data": {
      "text/plain": [
       "33243   1,000,000.00\n",
       "42002     750,000.00\n",
       "33251     750,000.00\n",
       "12824     750,000.00\n",
       "10489     700,000.00\n",
       "32242     700,000.00\n",
       "12860     650,000.00\n",
       "42003     622,500.00\n",
       "12825     622,500.00\n",
       "33238     622,500.00\n",
       "Name: salary_from_ru, dtype: float64"
      ]
     },
     "execution_count": 57,
     "metadata": {},
     "output_type": "execute_result"
    }
   ],
   "source": [
    "df.salary_from_ru.sort_values(ascending=False)[:10]"
   ]
  },
  {
   "cell_type": "markdown",
   "metadata": {},
   "source": [
    "посмотрим подробнее на максимумы по зарплате"
   ]
  },
  {
   "cell_type": "code",
   "execution_count": 58,
   "metadata": {},
   "outputs": [
    {
     "data": {
      "text/plain": [
       "id                                                                55358358\n",
       "name                                                  технический директор\n",
       "salary                   {'from': 1000000, 'to': None, 'currency': 'RUR...\n",
       "schedule                          {'id': 'fullday', 'name': 'полный день'}\n",
       "experience                      {'id': 'morethan6', 'name': 'более 6 лет'}\n",
       "key_skills                                                              []\n",
       "specializations          [{'id': '9.94', 'name': 'информационные технол...\n",
       "region                                                     Санкт-Петербург\n",
       "specializations_jsn      [{\"id\": \"9.94\", \"name\": \"информационные технол...\n",
       "profarea_id                                                         [9, 1]\n",
       "profarea_id_1                                                         True\n",
       "salary_currency                                                      'RUR'\n",
       "salary_from                                                   1,000,000.00\n",
       "salary_from_ru                                                1,000,000.00\n",
       "salary_from_ru_median                                            89,000.00\n",
       "Name: 33243, dtype: object"
      ]
     },
     "execution_count": 58,
     "metadata": {},
     "output_type": "execute_result"
    }
   ],
   "source": [
    "df.loc[33243]"
   ]
  },
  {
   "cell_type": "code",
   "execution_count": 59,
   "metadata": {},
   "outputs": [
    {
     "data": {
      "text/plain": [
       "id                                                                55267657\n",
       "name                     cto / global head of technology – hamburg, ger...\n",
       "salary                   {'from': 10000, 'to': None, 'currency': 'EUR',...\n",
       "schedule                          {'id': 'fullday', 'name': 'полный день'}\n",
       "experience                      {'id': 'morethan6', 'name': 'более 6 лет'}\n",
       "key_skills               [{'name': 'java'}, {'name': 'javascript'}, {'n...\n",
       "specializations          [{'id': '9.94', 'name': 'информационные технол...\n",
       "region                                               Новосибирская область\n",
       "specializations_jsn      [{\"id\": \"9.94\", \"name\": \"информационные технол...\n",
       "profarea_id                                                         [9, 1]\n",
       "profarea_id_1                                                         True\n",
       "salary_currency                                                      'EUR'\n",
       "salary_from                                                      10,000.00\n",
       "salary_from_ru                                                  750,000.00\n",
       "salary_from_ru_median                                            80,000.00\n",
       "Name: 42002, dtype: object"
      ]
     },
     "execution_count": 59,
     "metadata": {},
     "output_type": "execute_result"
    }
   ],
   "source": [
    "df.loc[42002]"
   ]
  },
  {
   "cell_type": "markdown",
   "metadata": {},
   "source": [
    "📌 Это зарплаты для топ-менеджеров с опытом работы от 6 лет. Думаю, что это не наша целевая аудитория"
   ]
  },
  {
   "cell_type": "markdown",
   "metadata": {},
   "source": [
    "проанализируем диапазон зарплат. Создадим столбец 'band_salary' с категориальными данными."
   ]
  },
  {
   "cell_type": "code",
   "execution_count": 60,
   "metadata": {},
   "outputs": [
    {
     "name": "stderr",
     "output_type": "stream",
     "text": [
      "/tmp/ipykernel_405/3561420959.py:6: SettingWithCopyWarning: \n",
      "A value is trying to be set on a copy of a slice from a DataFrame\n",
      "\n",
      "See the caveats in the documentation: https://pandas.pydata.org/pandas-docs/stable/user_guide/indexing.html#returning-a-view-versus-a-copy\n",
      "  df['band_salary'][i] = 'от 50 до 100 т.р. вкл'\n"
     ]
    }
   ],
   "source": [
    "df['band_salary'] = 0\n",
    "for i in range(len(df.salary_from_ru)):\n",
    "    if df.salary_from_ru[i] > 0 and df.salary_from_ru[i] <= 50000:\n",
    "        df['band_salary'][i] = 'до 50 т.р. вкл'\n",
    "    elif df.salary_from_ru[i] > 50000 and df.salary_from_ru[i] <= 100000:\n",
    "        df['band_salary'][i] = 'от 50 до 100 т.р. вкл'\n",
    "    elif df.salary_from_ru[i] > 100000:\n",
    "        df['band_salary'][i] = 'от 100 т.р.'"
   ]
  },
  {
   "cell_type": "code",
   "execution_count": 61,
   "metadata": {},
   "outputs": [
    {
     "data": {
      "text/plain": [
       "от 50 до 100 т.р. вкл    25923\n",
       "до 50 т.р. вкл           13705\n",
       "от 100 т.р.               4571\n",
       "Name: band_salary, dtype: int64"
      ]
     },
     "execution_count": 61,
     "metadata": {},
     "output_type": "execute_result"
    }
   ],
   "source": [
    "df.band_salary.value_counts()"
   ]
  },
  {
   "cell_type": "markdown",
   "metadata": {},
   "source": [
    "посмотрим медиану по группам"
   ]
  },
  {
   "cell_type": "code",
   "execution_count": 62,
   "metadata": {},
   "outputs": [
    {
     "data": {
      "text/plain": [
       "band_salary\n",
       "до 50 т.р. вкл           40,000.00\n",
       "от 100 т.р.             150,000.00\n",
       "от 50 до 100 т.р. вкл    89,000.00\n",
       "Name: salary_from_ru, dtype: float64"
      ]
     },
     "execution_count": 62,
     "metadata": {},
     "output_type": "execute_result"
    }
   ],
   "source": [
    "df.groupby('band_salary')['salary_from_ru'].median()"
   ]
  },
  {
   "cell_type": "code",
   "execution_count": 63,
   "metadata": {},
   "outputs": [
    {
     "data": {
      "image/png": "[encoded data removed]",
      "text/plain": [
       "<Figure size 720x720 with 1 Axes>"
      ]
     },
     "metadata": {
      "needs_background": "light"
     },
     "output_type": "display_data"
    }
   ],
   "source": [
    "f, ax = plt.subplots(figsize=(10, 10))\n",
    "fig = sns.boxplot(x='band_salary', y='salary_from_ru', data=df)\n",
    "plt.suptitle('Распределение зарплат', size=14)\n",
    "plt.show()"
   ]
  },
  {
   "cell_type": "markdown",
   "metadata": {},
   "source": [
    "обработаем max выбросы"
   ]
  },
  {
   "cell_type": "code",
   "execution_count": 64,
   "metadata": {},
   "outputs": [],
   "source": [
    "# percentile_min = np.percentile(df['salary_from_ru'], 3) # 3% процентиль\n",
    "percentile_max = np.percentile(df['salary_from_ru'], 99) # 99% процентиль\n",
    "# t = df[(df['salary_from_ru'] > percentile_min) & (df['salary_from_ru'] < percentile_max)]\n",
    "t = df[df['salary_from_ru'] < percentile_max]"
   ]
  },
  {
   "cell_type": "code",
   "execution_count": 65,
   "metadata": {},
   "outputs": [
    {
     "data": {
      "text/plain": [
       "(44199, 16)"
      ]
     },
     "execution_count": 65,
     "metadata": {},
     "output_type": "execute_result"
    }
   ],
   "source": [
    "df.shape"
   ]
  },
  {
   "cell_type": "code",
   "execution_count": 66,
   "metadata": {},
   "outputs": [
    {
     "data": {
      "text/plain": [
       "(43531, 16)"
      ]
     },
     "execution_count": 66,
     "metadata": {},
     "output_type": "execute_result"
    }
   ],
   "source": [
    "t.shape"
   ]
  },
  {
   "cell_type": "code",
   "execution_count": 67,
   "metadata": {},
   "outputs": [
    {
     "data": {
      "text/plain": [
       "250000.0"
      ]
     },
     "execution_count": 67,
     "metadata": {},
     "output_type": "execute_result"
    }
   ],
   "source": [
    "percentile_max"
   ]
  },
  {
   "cell_type": "code",
   "execution_count": 68,
   "metadata": {},
   "outputs": [
    {
     "name": "stderr",
     "output_type": "stream",
     "text": [
      "/home/shulz/.local/share/virtualenvs/learn-data-iW9cjtb-/lib/python3.10/site-packages/seaborn/_decorators.py:36: FutureWarning: Pass the following variable as a keyword arg: x. From version 0.12, the only valid positional argument will be `data`, and passing other arguments without an explicit keyword will result in an error or misinterpretation.\n",
      "  warnings.warn(\n",
      "/home/shulz/.local/share/virtualenvs/learn-data-iW9cjtb-/lib/python3.10/site-packages/seaborn/distributions.py:2619: FutureWarning: `distplot` is a deprecated function and will be removed in a future version. Please adapt your code to use either `displot` (a figure-level function with similar flexibility) or `histplot` (an axes-level function for histograms).\n",
      "  warnings.warn(msg, FutureWarning)\n"
     ]
    },
    {
     "data": {
      "image/png": "[encoded data removed]",
      "text/plain": [
       "<Figure size 720x720 with 2 Axes>"
      ]
     },
     "metadata": {
      "needs_background": "light"
     },
     "output_type": "display_data"
    }
   ],
   "source": [
    "f, ax = plt.subplots(2,1, figsize=(10,10), sharex=True)\n",
    "ax[0].set_title('Диаграмма рассеивания')\n",
    "ax[1].set_title('Гистограмма распределения')\n",
    "sns.boxplot(t.salary_from_ru, ax=ax[0])\n",
    "sns.distplot(t.salary_from_ru, ax=ax[1])\n",
    "plt.suptitle('Начальная зарплата', size=14)\n",
    "plt.show()"
   ]
  },
  {
   "cell_type": "code",
   "execution_count": 69,
   "metadata": {},
   "outputs": [],
   "source": [
    "df = t.copy()"
   ]
  },
  {
   "cell_type": "markdown",
   "metadata": {},
   "source": [
    "проверим на нормальность"
   ]
  },
  {
   "cell_type": "code",
   "execution_count": 70,
   "metadata": {},
   "outputs": [
    {
     "name": "stderr",
     "output_type": "stream",
     "text": [
      "/home/shulz/.local/share/virtualenvs/learn-data-iW9cjtb-/lib/python3.10/site-packages/scipy/stats/_morestats.py:1800: UserWarning: p-value may not be accurate for N > 5000.\n",
      "  warnings.warn(\"p-value may not be accurate for N > 5000.\")\n"
     ]
    },
    {
     "data": {
      "text/plain": [
       "ShapiroResult(statistic=0.9130041599273682, pvalue=0.0)"
      ]
     },
     "execution_count": 70,
     "metadata": {},
     "output_type": "execute_result"
    }
   ],
   "source": [
    "stats.shapiro(df.salary_from_ru) # критерий Шапиро-Уилка"
   ]
  },
  {
   "cell_type": "code",
   "execution_count": 71,
   "metadata": {},
   "outputs": [
    {
     "data": {
      "text/plain": [
       "NormaltestResult(statistic=7681.7050785195825, pvalue=0.0)"
      ]
     },
     "execution_count": 71,
     "metadata": {},
     "output_type": "execute_result"
    }
   ],
   "source": [
    "stats.normaltest(df.salary_from_ru) # тест д'Агостино"
   ]
  },
  {
   "cell_type": "markdown",
   "metadata": {},
   "source": [
    "Проверим еще по критерию асимметрии и эксцесса.\n",
    "Коэффициент ассиметрии, у нормально распределенной выборки он равен 0 (возможны отклонения ±1)\n",
    "Коэффициент эксцесса, у нормально распределенной выборки он равен 3 (возможны отклонения ±1)"
   ]
  },
  {
   "cell_type": "code",
   "execution_count": 72,
   "metadata": {},
   "outputs": [
    {
     "data": {
      "text/plain": [
       "1.0548964696243919"
      ]
     },
     "execution_count": 72,
     "metadata": {},
     "output_type": "execute_result"
    }
   ],
   "source": [
    "df.salary_from_ru.skew() # коэффициент асимметрии"
   ]
  },
  {
   "cell_type": "code",
   "execution_count": 73,
   "metadata": {},
   "outputs": [
    {
     "data": {
      "text/plain": [
       "2.081507966485628"
      ]
     },
     "execution_count": 73,
     "metadata": {},
     "output_type": "execute_result"
    }
   ],
   "source": [
    "df.salary_from_ru.kurtosis() # коэффициент эксцесса"
   ]
  },
  {
   "cell_type": "markdown",
   "metadata": {},
   "source": [
    "📌 По графику не очевидно, что распределение нормальное, к тому же имеются несколько пиков.\n",
    "Тесты показывают pvalue=0.0, коэффициент эксцесса на границе отклонений, коэффициент ассиметрии пересек границу отклонения +-1.\n",
    "Что позволяют нам опровергнуть нулевую гипотезу о нормальности распределения."
   ]
  },
  {
   "cell_type": "code",
   "execution_count": 74,
   "metadata": {},
   "outputs": [
    {
     "data": {
      "image/png": "[encoded data removed]",
      "text/plain": [
       "<Figure size 720x720 with 1 Axes>"
      ]
     },
     "metadata": {
      "needs_background": "light"
     },
     "output_type": "display_data"
    }
   ],
   "source": [
    "f, ax = plt.subplots(figsize=(10, 10))\n",
    "hue_order = ['до 50 т.р. вкл', 'от 50 до 100 т.р. вкл', 'от 100 т.р.']\n",
    "fig = sns.boxplot(x='band_salary', y='salary_from_ru', data=df, hue_order=hue_order)\n",
    "plt.suptitle('Распределение зарплат', size=14)\n",
    "plt.show()"
   ]
  },
  {
   "cell_type": "code",
   "execution_count": 75,
   "metadata": {},
   "outputs": [
    {
     "name": "stdout",
     "output_type": "stream",
     "text": [
      "lower_whisker:  50300.0\n",
      "quartile_25:  65000.0\n",
      "median:  89000.0\n",
      "quartile_75:  100000.0\n",
      "upper_whisker:  100000.0\n"
     ]
    }
   ],
   "source": [
    "get_boxplot_values(df[df['band_salary'] == 'от 50 до 100 т.р. вкл']['salary_from_ru'])"
   ]
  },
  {
   "cell_type": "code",
   "execution_count": 76,
   "metadata": {},
   "outputs": [
    {
     "data": {
      "text/plain": [
       "<function matplotlib.pyplot.show(close=None, block=None)>"
      ]
     },
     "execution_count": 76,
     "metadata": {},
     "output_type": "execute_result"
    },
    {
     "data": {
      "image/png": "[encoded data removed]",
      "text/plain": [
       "<Figure size 432x288 with 1 Axes>"
      ]
     },
     "metadata": {
      "needs_background": "light"
     },
     "output_type": "display_data"
    }
   ],
   "source": [
    "plt.bar(\n",
    "    df.band_salary.value_counts().index,\n",
    "    df.band_salary.value_counts().values\n",
    ")\n",
    "plt.title('Количество вакансий по уровню зарплаты')\n",
    "plt.show"
   ]
  },
  {
   "cell_type": "markdown",
   "metadata": {},
   "source": [
    "📌 Больше всего вакансий с зарплатами от 50 до 100 тыс.руб. Они плотно сгруппированы в промежутке от 65 до 100 тыс.руб. с ассиметрией в сторону максимума по зарплате."
   ]
  },
  {
   "cell_type": "markdown",
   "metadata": {},
   "source": [
    "#### ТОП10 (⬆⬇) регионов по уровню медианы начальной зарплаты"
   ]
  },
  {
   "cell_type": "code",
   "execution_count": 77,
   "metadata": {},
   "outputs": [
    {
     "data": {
      "text/html": [
       "<div>\n",
       "<style scoped>\n",
       "    .dataframe tbody tr th:only-of-type {\n",
       "        vertical-align: middle;\n",
       "    }\n",
       "\n",
       "    .dataframe tbody tr th {\n",
       "        vertical-align: top;\n",
       "    }\n",
       "\n",
       "    .dataframe thead th {\n",
       "        text-align: right;\n",
       "    }\n",
       "</style>\n",
       "<table border=\"1\" class=\"dataframe\">\n",
       "  <thead>\n",
       "    <tr style=\"text-align: right;\">\n",
       "      <th></th>\n",
       "      <th>salary_from_ru_median</th>\n",
       "    </tr>\n",
       "    <tr>\n",
       "      <th>region</th>\n",
       "      <th></th>\n",
       "    </tr>\n",
       "  </thead>\n",
       "  <tbody>\n",
       "    <tr>\n",
       "      <th>Москва</th>\n",
       "      <td>100,000.00</td>\n",
       "    </tr>\n",
       "    <tr>\n",
       "      <th>Санкт-Петербург</th>\n",
       "      <td>89,000.00</td>\n",
       "    </tr>\n",
       "    <tr>\n",
       "      <th>Республика Адыгея</th>\n",
       "      <td>80,000.00</td>\n",
       "    </tr>\n",
       "    <tr>\n",
       "      <th>Новосибирская область</th>\n",
       "      <td>80,000.00</td>\n",
       "    </tr>\n",
       "    <tr>\n",
       "      <th>Магаданская область</th>\n",
       "      <td>77,879.00</td>\n",
       "    </tr>\n",
       "    <tr>\n",
       "      <th>Томская область</th>\n",
       "      <td>70,000.00</td>\n",
       "    </tr>\n",
       "    <tr>\n",
       "      <th>Ленинградская область</th>\n",
       "      <td>65,546.00</td>\n",
       "    </tr>\n",
       "    <tr>\n",
       "      <th>Свердловская область</th>\n",
       "      <td>65,000.00</td>\n",
       "    </tr>\n",
       "    <tr>\n",
       "      <th>Московская область</th>\n",
       "      <td>62,750.00</td>\n",
       "    </tr>\n",
       "    <tr>\n",
       "      <th>Приморский край</th>\n",
       "      <td>60,000.00</td>\n",
       "    </tr>\n",
       "  </tbody>\n",
       "</table>\n",
       "</div>"
      ],
      "text/plain": [
       "                       salary_from_ru_median\n",
       "region                                      \n",
       "Москва                            100,000.00\n",
       "Санкт-Петербург                    89,000.00\n",
       "Республика Адыгея                  80,000.00\n",
       "Новосибирская область              80,000.00\n",
       "Магаданская область                77,879.00\n",
       "Томская область                    70,000.00\n",
       "Ленинградская область              65,546.00\n",
       "Свердловская область               65,000.00\n",
       "Московская область                 62,750.00\n",
       "Приморский край                    60,000.00"
      ]
     },
     "execution_count": 77,
     "metadata": {},
     "output_type": "execute_result"
    }
   ],
   "source": [
    "region_salary_ru.sort_values('salary_from_ru_median', ascending=False)[:10]"
   ]
  },
  {
   "cell_type": "code",
   "execution_count": 78,
   "metadata": {},
   "outputs": [
    {
     "data": {
      "text/html": [
       "<div>\n",
       "<style scoped>\n",
       "    .dataframe tbody tr th:only-of-type {\n",
       "        vertical-align: middle;\n",
       "    }\n",
       "\n",
       "    .dataframe tbody tr th {\n",
       "        vertical-align: top;\n",
       "    }\n",
       "\n",
       "    .dataframe thead th {\n",
       "        text-align: right;\n",
       "    }\n",
       "</style>\n",
       "<table border=\"1\" class=\"dataframe\">\n",
       "  <thead>\n",
       "    <tr style=\"text-align: right;\">\n",
       "      <th></th>\n",
       "      <th>salary_from_ru_median</th>\n",
       "    </tr>\n",
       "    <tr>\n",
       "      <th>region</th>\n",
       "      <th></th>\n",
       "    </tr>\n",
       "  </thead>\n",
       "  <tbody>\n",
       "    <tr>\n",
       "      <th>Ненецкий АО</th>\n",
       "      <td>0.00</td>\n",
       "    </tr>\n",
       "    <tr>\n",
       "      <th>Чукотский АО</th>\n",
       "      <td>0.00</td>\n",
       "    </tr>\n",
       "    <tr>\n",
       "      <th>Республика Ингушетия</th>\n",
       "      <td>20,500.00</td>\n",
       "    </tr>\n",
       "    <tr>\n",
       "      <th>Республика Алтай</th>\n",
       "      <td>25,000.00</td>\n",
       "    </tr>\n",
       "    <tr>\n",
       "      <th>Республика Северная Осетия-Алания</th>\n",
       "      <td>25,500.00</td>\n",
       "    </tr>\n",
       "    <tr>\n",
       "      <th>Кабардино-Балкарская республика</th>\n",
       "      <td>26,000.00</td>\n",
       "    </tr>\n",
       "    <tr>\n",
       "      <th>Чеченская республика</th>\n",
       "      <td>26,500.00</td>\n",
       "    </tr>\n",
       "    <tr>\n",
       "      <th>Карачаево-Черкесская Республика</th>\n",
       "      <td>26,500.00</td>\n",
       "    </tr>\n",
       "    <tr>\n",
       "      <th>Астраханская область</th>\n",
       "      <td>27,000.00</td>\n",
       "    </tr>\n",
       "    <tr>\n",
       "      <th>Республика Дагестан</th>\n",
       "      <td>27,000.00</td>\n",
       "    </tr>\n",
       "  </tbody>\n",
       "</table>\n",
       "</div>"
      ],
      "text/plain": [
       "                                   salary_from_ru_median\n",
       "region                                                  \n",
       "Ненецкий АО                                         0.00\n",
       "Чукотский АО                                        0.00\n",
       "Республика Ингушетия                           20,500.00\n",
       "Республика Алтай                               25,000.00\n",
       "Республика Северная Осетия-Алания              25,500.00\n",
       "Кабардино-Балкарская республика                26,000.00\n",
       "Чеченская республика                           26,500.00\n",
       "Карачаево-Черкесская Республика                26,500.00\n",
       "Астраханская область                           27,000.00\n",
       "Республика Дагестан                            27,000.00"
      ]
     },
     "execution_count": 78,
     "metadata": {},
     "output_type": "execute_result"
    }
   ],
   "source": [
    "region_salary_ru.sort_values('salary_from_ru_median', ascending=True)[:10]"
   ]
  },
  {
   "cell_type": "code",
   "execution_count": 79,
   "metadata": {},
   "outputs": [
    {
     "data": {
      "text/html": [
       "<div>\n",
       "<style scoped>\n",
       "    .dataframe tbody tr th:only-of-type {\n",
       "        vertical-align: middle;\n",
       "    }\n",
       "\n",
       "    .dataframe tbody tr th {\n",
       "        vertical-align: top;\n",
       "    }\n",
       "\n",
       "    .dataframe thead th {\n",
       "        text-align: right;\n",
       "    }\n",
       "</style>\n",
       "<table border=\"1\" class=\"dataframe\">\n",
       "  <thead>\n",
       "    <tr style=\"text-align: right;\">\n",
       "      <th></th>\n",
       "      <th>salary_from_ru_median</th>\n",
       "    </tr>\n",
       "  </thead>\n",
       "  <tbody>\n",
       "    <tr>\n",
       "      <th>count</th>\n",
       "      <td>84.00</td>\n",
       "    </tr>\n",
       "    <tr>\n",
       "      <th>mean</th>\n",
       "      <td>46,104.71</td>\n",
       "    </tr>\n",
       "    <tr>\n",
       "      <th>std</th>\n",
       "      <td>16,128.42</td>\n",
       "    </tr>\n",
       "    <tr>\n",
       "      <th>min</th>\n",
       "      <td>0.00</td>\n",
       "    </tr>\n",
       "    <tr>\n",
       "      <th>25%</th>\n",
       "      <td>36,687.50</td>\n",
       "    </tr>\n",
       "    <tr>\n",
       "      <th>50%</th>\n",
       "      <td>45,750.00</td>\n",
       "    </tr>\n",
       "    <tr>\n",
       "      <th>75%</th>\n",
       "      <td>51,500.00</td>\n",
       "    </tr>\n",
       "    <tr>\n",
       "      <th>max</th>\n",
       "      <td>100,000.00</td>\n",
       "    </tr>\n",
       "  </tbody>\n",
       "</table>\n",
       "</div>"
      ],
      "text/plain": [
       "       salary_from_ru_median\n",
       "count                  84.00\n",
       "mean               46,104.71\n",
       "std                16,128.42\n",
       "min                     0.00\n",
       "25%                36,687.50\n",
       "50%                45,750.00\n",
       "75%                51,500.00\n",
       "max               100,000.00"
      ]
     },
     "execution_count": 79,
     "metadata": {},
     "output_type": "execute_result"
    }
   ],
   "source": [
    "region_salary_ru.describe()"
   ]
  },
  {
   "cell_type": "code",
   "execution_count": 227,
   "metadata": {},
   "outputs": [
    {
     "data": {
      "text/plain": [
       "(26, 16)"
      ]
     },
     "execution_count": 227,
     "metadata": {},
     "output_type": "execute_result"
    }
   ],
   "source": [
    "df[df.region == 'Республика Адыгея'].shape"
   ]
  },
  {
   "cell_type": "markdown",
   "metadata": {},
   "source": [
    "📌 Москва прогнозируемо на первом месте. Республики Северного Кавказа среди аутсайдеров, за исключением Адыгеи, которая попала в лидеры (c 26 вакансиями). \n",
    "Средняя медиана зарплат по стране составляет 46 тыс.руб."
   ]
  },
  {
   "cell_type": "markdown",
   "metadata": {},
   "source": [
    "### Анализируем количество и частоту специализаций"
   ]
  },
  {
   "cell_type": "markdown",
   "metadata": {},
   "source": [
    "🎯 Цель: создать таблицу **'specializations_frequency'**. <br>\n",
    "Надо проанализировать данные по тегу 'name'. Посмотреть какие специализации встречаются чаще всего."
   ]
  },
  {
   "cell_type": "markdown",
   "metadata": {},
   "source": [
    "#### Агрегируем данные по тегу name колонки 'specializations'"
   ]
  },
  {
   "cell_type": "code",
   "execution_count": 81,
   "metadata": {},
   "outputs": [
    {
     "data": {
      "text/plain": [
       "\"[{'id': '1.110', 'name': 'компьютерная безопасность', 'profarea_id': '1', 'profarea_name': 'информационные технологии, интернет, телеком'}, {'id': '1.113', 'name': 'консалтинг, аутсорсинг', 'profarea_id': '1', 'profarea_name': 'информационные технологии, интернет, телеком'}]\""
      ]
     },
     "execution_count": 81,
     "metadata": {},
     "output_type": "execute_result"
    }
   ],
   "source": [
    "df.specializations[0]"
   ]
  },
  {
   "cell_type": "markdown",
   "metadata": {},
   "source": [
    "пишем функцию для получения тега 'name'"
   ]
  },
  {
   "cell_type": "code",
   "execution_count": 80,
   "metadata": {},
   "outputs": [],
   "source": [
    "def get_tag_name(jsn):\n",
    "    text = json.loads(jsn)\n",
    "    try:\n",
    "        out = []\n",
    "        if len(text) > 0:\n",
    "            for i in text:\n",
    "                out.append(i['name'])\n",
    "            return out\n",
    "    except:\n",
    "        print('error')"
   ]
  },
  {
   "cell_type": "markdown",
   "metadata": {},
   "source": [
    "создаем столбец 'specializations_name', вытаскиваем тег 'name' из колонки 'specializations'"
   ]
  },
  {
   "cell_type": "code",
   "execution_count": 81,
   "metadata": {},
   "outputs": [],
   "source": [
    "df['specializations_name'] = df.specializations_jsn.apply(get_tag_name)"
   ]
  },
  {
   "cell_type": "code",
   "execution_count": 82,
   "metadata": {},
   "outputs": [],
   "source": [
    "specializations_region = df[['specializations_name', 'region']].explode('specializations_name')"
   ]
  },
  {
   "cell_type": "markdown",
   "metadata": {},
   "source": [
    "удаляем строки, не относящиеся к IT-специализации"
   ]
  },
  {
   "cell_type": "code",
   "execution_count": 83,
   "metadata": {},
   "outputs": [],
   "source": [
    "specializations_region['specializations_name'] = specializations_region['specializations_name'].str.lower()"
   ]
  },
  {
   "cell_type": "markdown",
   "metadata": {},
   "source": [
    "Сепарируем столбец 'specializations_name': 1) с наименованиями из списка 'lst_not_it' 2) остальное"
   ]
  },
  {
   "cell_type": "code",
   "execution_count": 84,
   "metadata": {},
   "outputs": [],
   "source": [
    "pat = '|'.join(lst_not_it)\n",
    "temp_ = specializations_region[specializations_region['specializations_name'].str.contains(pat)]\n",
    "it_sp = specializations_region[~specializations_region.index.isin(temp_.index)]"
   ]
  },
  {
   "cell_type": "code",
   "execution_count": 85,
   "metadata": {},
   "outputs": [
    {
     "data": {
      "text/plain": [
       "(323, 2)"
      ]
     },
     "execution_count": 85,
     "metadata": {},
     "output_type": "execute_result"
    }
   ],
   "source": [
    "temp_.shape"
   ]
  },
  {
   "cell_type": "code",
   "execution_count": 86,
   "metadata": {},
   "outputs": [
    {
     "data": {
      "text/plain": [
       "(191080, 2)"
      ]
     },
     "execution_count": 86,
     "metadata": {},
     "output_type": "execute_result"
    }
   ],
   "source": [
    "it_sp.shape"
   ]
  },
  {
   "cell_type": "code",
   "execution_count": 87,
   "metadata": {},
   "outputs": [],
   "source": [
    "specialization_frequency = (it_sp\n",
    "                .specializations_name\n",
    "                .value_counts()\n",
    "                .reset_index()\n",
    ")"
   ]
  },
  {
   "cell_type": "markdown",
   "metadata": {},
   "source": [
    "Переименуем столбцы"
   ]
  },
  {
   "cell_type": "code",
   "execution_count": 88,
   "metadata": {},
   "outputs": [],
   "source": [
    "specialization_frequency = specialization_frequency.rename(columns={'index': 'specialization', 'specializations_name': 'frequency'})"
   ]
  },
  {
   "cell_type": "code",
   "execution_count": 89,
   "metadata": {},
   "outputs": [
    {
     "data": {
      "text/html": [
       "<div>\n",
       "<style scoped>\n",
       "    .dataframe tbody tr th:only-of-type {\n",
       "        vertical-align: middle;\n",
       "    }\n",
       "\n",
       "    .dataframe tbody tr th {\n",
       "        vertical-align: top;\n",
       "    }\n",
       "\n",
       "    .dataframe thead th {\n",
       "        text-align: right;\n",
       "    }\n",
       "</style>\n",
       "<table border=\"1\" class=\"dataframe\">\n",
       "  <thead>\n",
       "    <tr style=\"text-align: right;\">\n",
       "      <th></th>\n",
       "      <th>specialization</th>\n",
       "      <th>frequency</th>\n",
       "    </tr>\n",
       "  </thead>\n",
       "  <tbody>\n",
       "    <tr>\n",
       "      <th>0</th>\n",
       "      <td>инженер</td>\n",
       "      <td>30419</td>\n",
       "    </tr>\n",
       "    <tr>\n",
       "      <th>1</th>\n",
       "      <td>программирование, разработка</td>\n",
       "      <td>21295</td>\n",
       "    </tr>\n",
       "    <tr>\n",
       "      <th>2</th>\n",
       "      <td>системы управления предприятием (erp)</td>\n",
       "      <td>15691</td>\n",
       "    </tr>\n",
       "    <tr>\n",
       "      <th>3</th>\n",
       "      <td>поддержка, helpdesk</td>\n",
       "      <td>14200</td>\n",
       "    </tr>\n",
       "    <tr>\n",
       "      <th>4</th>\n",
       "      <td>системный администратор</td>\n",
       "      <td>14122</td>\n",
       "    </tr>\n",
       "  </tbody>\n",
       "</table>\n",
       "</div>"
      ],
      "text/plain": [
       "                          specialization  frequency\n",
       "0                                инженер      30419\n",
       "1           программирование, разработка      21295\n",
       "2  системы управления предприятием (erp)      15691\n",
       "3                    поддержка, helpdesk      14200\n",
       "4                системный администратор      14122"
      ]
     },
     "execution_count": 89,
     "metadata": {},
     "output_type": "execute_result"
    }
   ],
   "source": [
    "specialization_frequency.head()"
   ]
  },
  {
   "cell_type": "markdown",
   "metadata": {},
   "source": [
    "Специализация с частотой больше 500"
   ]
  },
  {
   "cell_type": "code",
   "execution_count": 90,
   "metadata": {},
   "outputs": [
    {
     "data": {
      "text/html": [
       "<div>\n",
       "<style scoped>\n",
       "    .dataframe tbody tr th:only-of-type {\n",
       "        vertical-align: middle;\n",
       "    }\n",
       "\n",
       "    .dataframe tbody tr th {\n",
       "        vertical-align: top;\n",
       "    }\n",
       "\n",
       "    .dataframe thead th {\n",
       "        text-align: right;\n",
       "    }\n",
       "</style>\n",
       "<table border=\"1\" class=\"dataframe\">\n",
       "  <thead>\n",
       "    <tr style=\"text-align: right;\">\n",
       "      <th></th>\n",
       "      <th>specialization</th>\n",
       "      <th>frequency</th>\n",
       "    </tr>\n",
       "  </thead>\n",
       "  <tbody>\n",
       "    <tr>\n",
       "      <th>0</th>\n",
       "      <td>инженер</td>\n",
       "      <td>30419</td>\n",
       "    </tr>\n",
       "    <tr>\n",
       "      <th>1</th>\n",
       "      <td>программирование, разработка</td>\n",
       "      <td>21295</td>\n",
       "    </tr>\n",
       "    <tr>\n",
       "      <th>2</th>\n",
       "      <td>системы управления предприятием (erp)</td>\n",
       "      <td>15691</td>\n",
       "    </tr>\n",
       "    <tr>\n",
       "      <th>3</th>\n",
       "      <td>поддержка, helpdesk</td>\n",
       "      <td>14200</td>\n",
       "    </tr>\n",
       "    <tr>\n",
       "      <th>4</th>\n",
       "      <td>системный администратор</td>\n",
       "      <td>14122</td>\n",
       "    </tr>\n",
       "    <tr>\n",
       "      <th>5</th>\n",
       "      <td>web инженер</td>\n",
       "      <td>13683</td>\n",
       "    </tr>\n",
       "    <tr>\n",
       "      <th>6</th>\n",
       "      <td>web мастер</td>\n",
       "      <td>13656</td>\n",
       "    </tr>\n",
       "    <tr>\n",
       "      <th>7</th>\n",
       "      <td>интернет</td>\n",
       "      <td>11446</td>\n",
       "    </tr>\n",
       "    <tr>\n",
       "      <th>8</th>\n",
       "      <td>аналитик</td>\n",
       "      <td>9899</td>\n",
       "    </tr>\n",
       "    <tr>\n",
       "      <th>9</th>\n",
       "      <td>другое</td>\n",
       "      <td>9645</td>\n",
       "    </tr>\n",
       "    <tr>\n",
       "      <th>10</th>\n",
       "      <td>сетевые технологии</td>\n",
       "      <td>9384</td>\n",
       "    </tr>\n",
       "    <tr>\n",
       "      <th>11</th>\n",
       "      <td>начальный уровень, мало опыта</td>\n",
       "      <td>4919</td>\n",
       "    </tr>\n",
       "    <tr>\n",
       "      <th>12</th>\n",
       "      <td>управление проектами</td>\n",
       "      <td>3565</td>\n",
       "    </tr>\n",
       "    <tr>\n",
       "      <th>13</th>\n",
       "      <td>тестирование</td>\n",
       "      <td>2769</td>\n",
       "    </tr>\n",
       "    <tr>\n",
       "      <th>14</th>\n",
       "      <td>компьютерная безопасность</td>\n",
       "      <td>2700</td>\n",
       "    </tr>\n",
       "    <tr>\n",
       "      <th>15</th>\n",
       "      <td>игровое по</td>\n",
       "      <td>2518</td>\n",
       "    </tr>\n",
       "    <tr>\n",
       "      <th>16</th>\n",
       "      <td>дизайн, графика, живопись</td>\n",
       "      <td>2500</td>\n",
       "    </tr>\n",
       "    <tr>\n",
       "      <th>17</th>\n",
       "      <td>верстальщик</td>\n",
       "      <td>2269</td>\n",
       "    </tr>\n",
       "    <tr>\n",
       "      <th>18</th>\n",
       "      <td>дизайнер</td>\n",
       "      <td>2269</td>\n",
       "    </tr>\n",
       "    <tr>\n",
       "      <th>19</th>\n",
       "      <td>информационные технологии</td>\n",
       "      <td>1502</td>\n",
       "    </tr>\n",
       "    <tr>\n",
       "      <th>20</th>\n",
       "      <td>информационные технологии, интернет, мультимедиа</td>\n",
       "      <td>679</td>\n",
       "    </tr>\n",
       "    <tr>\n",
       "      <th>21</th>\n",
       "      <td>cto, cio, директор по it</td>\n",
       "      <td>508</td>\n",
       "    </tr>\n",
       "  </tbody>\n",
       "</table>\n",
       "</div>"
      ],
      "text/plain": [
       "                                      specialization  frequency\n",
       "0                                            инженер      30419\n",
       "1                       программирование, разработка      21295\n",
       "2              системы управления предприятием (erp)      15691\n",
       "3                                поддержка, helpdesk      14200\n",
       "4                            системный администратор      14122\n",
       "5                                        web инженер      13683\n",
       "6                                         web мастер      13656\n",
       "7                                           интернет      11446\n",
       "8                                           аналитик       9899\n",
       "9                                             другое       9645\n",
       "10                                сетевые технологии       9384\n",
       "11                     начальный уровень, мало опыта       4919\n",
       "12                              управление проектами       3565\n",
       "13                                      тестирование       2769\n",
       "14                         компьютерная безопасность       2700\n",
       "15                                        игровое по       2518\n",
       "16                         дизайн, графика, живопись       2500\n",
       "17                                       верстальщик       2269\n",
       "18                                          дизайнер       2269\n",
       "19                         информационные технологии       1502\n",
       "20  информационные технологии, интернет, мультимедиа        679\n",
       "21                          cto, cio, директор по it        508"
      ]
     },
     "execution_count": 90,
     "metadata": {},
     "output_type": "execute_result"
    }
   ],
   "source": [
    "specialization_frequency[specialization_frequency.frequency > 500]"
   ]
  },
  {
   "cell_type": "markdown",
   "metadata": {},
   "source": [
    "📌 frequence - количественный тип данных"
   ]
  },
  {
   "cell_type": "markdown",
   "metadata": {},
   "source": [
    "посмотрим статистику"
   ]
  },
  {
   "cell_type": "code",
   "execution_count": 91,
   "metadata": {},
   "outputs": [
    {
     "data": {
      "text/html": [
       "<div>\n",
       "<style scoped>\n",
       "    .dataframe tbody tr th:only-of-type {\n",
       "        vertical-align: middle;\n",
       "    }\n",
       "\n",
       "    .dataframe tbody tr th {\n",
       "        vertical-align: top;\n",
       "    }\n",
       "\n",
       "    .dataframe thead th {\n",
       "        text-align: right;\n",
       "    }\n",
       "</style>\n",
       "<table border=\"1\" class=\"dataframe\">\n",
       "  <thead>\n",
       "    <tr style=\"text-align: right;\">\n",
       "      <th></th>\n",
       "      <th>frequency</th>\n",
       "    </tr>\n",
       "  </thead>\n",
       "  <tbody>\n",
       "    <tr>\n",
       "      <th>count</th>\n",
       "      <td>82.00</td>\n",
       "    </tr>\n",
       "    <tr>\n",
       "      <th>mean</th>\n",
       "      <td>2,330.24</td>\n",
       "    </tr>\n",
       "    <tr>\n",
       "      <th>std</th>\n",
       "      <td>5,491.52</td>\n",
       "    </tr>\n",
       "    <tr>\n",
       "      <th>min</th>\n",
       "      <td>1.00</td>\n",
       "    </tr>\n",
       "    <tr>\n",
       "      <th>25%</th>\n",
       "      <td>1.00</td>\n",
       "    </tr>\n",
       "    <tr>\n",
       "      <th>50%</th>\n",
       "      <td>6.00</td>\n",
       "    </tr>\n",
       "    <tr>\n",
       "      <th>75%</th>\n",
       "      <td>636.25</td>\n",
       "    </tr>\n",
       "    <tr>\n",
       "      <th>max</th>\n",
       "      <td>30,419.00</td>\n",
       "    </tr>\n",
       "  </tbody>\n",
       "</table>\n",
       "</div>"
      ],
      "text/plain": [
       "       frequency\n",
       "count      82.00\n",
       "mean    2,330.24\n",
       "std     5,491.52\n",
       "min         1.00\n",
       "25%         1.00\n",
       "50%         6.00\n",
       "75%       636.25\n",
       "max    30,419.00"
      ]
     },
     "execution_count": 91,
     "metadata": {},
     "output_type": "execute_result"
    }
   ],
   "source": [
    "specialization_frequency.describe()"
   ]
  },
  {
   "cell_type": "code",
   "execution_count": 92,
   "metadata": {},
   "outputs": [
    {
     "name": "stderr",
     "output_type": "stream",
     "text": [
      "/home/shulz/.local/share/virtualenvs/learn-data-iW9cjtb-/lib/python3.10/site-packages/seaborn/distributions.py:2619: FutureWarning: `distplot` is a deprecated function and will be removed in a future version. Please adapt your code to use either `displot` (a figure-level function with similar flexibility) or `histplot` (an axes-level function for histograms).\n",
      "  warnings.warn(msg, FutureWarning)\n"
     ]
    },
    {
     "data": {
      "image/png": "[encoded data removed]",
      "text/plain": [
       "<Figure size 432x288 with 1 Axes>"
      ]
     },
     "metadata": {
      "needs_background": "light"
     },
     "output_type": "display_data"
    }
   ],
   "source": [
    "sns.distplot(specialization_frequency.frequency)\n",
    "plt.suptitle('Гистограмма распределения частоты специализации', size=14)\n",
    "plt.show()"
   ]
  },
  {
   "cell_type": "markdown",
   "metadata": {},
   "source": [
    "📌 Мы видим  82 специализации из каталога hh.ru. В каталоге 2 уровня: верхний — профессиональная область и нижний — специализация. Профессиональная область для данного исследования это Информационные технологии, интернет, телеком.  \n",
    "\n",
    "По гистограмме распределения видно, что нет высокой концентрации вакансий по нескольким специализациям. Наоборот, очень много маленьких групп с частотой специализации от 1 до 6. \n",
    "\n",
    "Наибольшее количество упоминаний у специализаций: 1) инженер - 30881, 2) программирование, разработка - 21722, и 3) системы управления предприятием (erp) - 16082. \n",
    "Можно предположить о наличии спроса на кандидатов с инженерным мышлением/образованием/бэкграундом для разработки с пониманием бизнеса и процессов на предприятиях."
   ]
  },
  {
   "cell_type": "markdown",
   "metadata": {},
   "source": [
    "### Анализируем количество и частоту навыков"
   ]
  },
  {
   "cell_type": "markdown",
   "metadata": {},
   "source": [
    "🎯 Цель: создать таблицу **'skills_frequency'**. <br>\n",
    "Надо проанализировать данные по тегу 'name'. Посмотреть какие скиллы встречаются чаще всего."
   ]
  },
  {
   "cell_type": "markdown",
   "metadata": {},
   "source": [
    "#### Агрегируем по тегу name колонки 'key_skills'"
   ]
  },
  {
   "cell_type": "code",
   "execution_count": 95,
   "metadata": {},
   "outputs": [
    {
     "data": {
      "text/plain": [
       "\"[{'name': 'английский язык'}, {'name': 'информационная безопасность'}, {'name': 'аудит безопасности'}, {'name': 'компьютерная криминалистика'}, {'name': 'анализ сетевого трафика'}, {'name': 'digital forensic'}]\""
      ]
     },
     "execution_count": 95,
     "metadata": {},
     "output_type": "execute_result"
    }
   ],
   "source": [
    "df.key_skills.iloc[1]"
   ]
  },
  {
   "cell_type": "markdown",
   "metadata": {},
   "source": [
    "Заменяем вложенные двойные кавычки на символ '|'. это позволит не ловить ошибку и при этом не затрудняет чтение и анализ данных"
   ]
  },
  {
   "cell_type": "code",
   "execution_count": 93,
   "metadata": {},
   "outputs": [],
   "source": [
    "def text_replace(text):\n",
    "    return text.replace('\"', '|').replace(\"'\", '\"')\n",
    "\n"
   ]
  },
  {
   "cell_type": "code",
   "execution_count": 94,
   "metadata": {},
   "outputs": [],
   "source": [
    "df['key_skills_jsn'] = df.key_skills.apply(text_replace).apply(text_to_json_dumps)"
   ]
  },
  {
   "cell_type": "markdown",
   "metadata": {},
   "source": [
    "создаем новый столбец key_skills_name"
   ]
  },
  {
   "cell_type": "code",
   "execution_count": 95,
   "metadata": {},
   "outputs": [],
   "source": [
    "def get_tag_name_(text):\n",
    "    try:\n",
    "        text = json.loads(text)\n",
    "        out = []\n",
    "        if len(text) > 2:\n",
    "            for i in text:\n",
    "                out.append(i['name'])\n",
    "            return out\n",
    "    except:\n",
    "        return []"
   ]
  },
  {
   "cell_type": "code",
   "execution_count": 96,
   "metadata": {},
   "outputs": [],
   "source": [
    "df['key_skills_name'] = df.key_skills_jsn.apply(get_tag_name_)"
   ]
  },
  {
   "cell_type": "code",
   "execution_count": 97,
   "metadata": {},
   "outputs": [
    {
     "data": {
      "text/plain": [
       "9608"
      ]
     },
     "execution_count": 97,
     "metadata": {},
     "output_type": "execute_result"
    }
   ],
   "source": [
    "df['key_skills_name'].isna().sum()"
   ]
  },
  {
   "cell_type": "markdown",
   "metadata": {},
   "source": [
    "None заменяем на 'нет информации'"
   ]
  },
  {
   "cell_type": "code",
   "execution_count": 98,
   "metadata": {},
   "outputs": [],
   "source": [
    "df['key_skills_name'] = df['key_skills_name'].fillna('нет информации')"
   ]
  },
  {
   "cell_type": "code",
   "execution_count": 99,
   "metadata": {},
   "outputs": [
    {
     "data": {
      "text/plain": [
       "0        [информационная безопасность, аудит информацио...\n",
       "1        [английский язык, информационная безопасность,...\n",
       "2        [аудит безопасности, информационная безопаснос...\n",
       "3        [английский язык, проведение презентаций, прое...\n",
       "4        [сетевые технологии, ccna, ccnp, linux, vmware...\n",
       "                               ...                        \n",
       "44194    [точность и внимательность к деталям, планиров...\n",
       "44195    [настройка сетевых подключений, настройка по, ...\n",
       "44196    [windows 7, настройка сетевых подключений, нас...\n",
       "44197    [администрирование, 1с программирование, 1с: д...\n",
       "44198    [аутсорсинг, монтаж скс, настройка пк, сборка ...\n",
       "Name: key_skills_name, Length: 43531, dtype: object"
      ]
     },
     "execution_count": 99,
     "metadata": {},
     "output_type": "execute_result"
    }
   ],
   "source": [
    "df['key_skills_name']"
   ]
  },
  {
   "cell_type": "markdown",
   "metadata": {},
   "source": [
    "создаем таблицу из столбцов 'key_skills_name', 'salary_ru'. Каждый элемент списка преобразуется в строку, дублируя значения индексов."
   ]
  },
  {
   "cell_type": "code",
   "execution_count": 100,
   "metadata": {},
   "outputs": [],
   "source": [
    "skill_salary = df[['key_skills_name', 'salary_from_ru']].explode('key_skills_name')"
   ]
  },
  {
   "cell_type": "code",
   "execution_count": 101,
   "metadata": {},
   "outputs": [
    {
     "data": {
      "text/html": [
       "<div>\n",
       "<style scoped>\n",
       "    .dataframe tbody tr th:only-of-type {\n",
       "        vertical-align: middle;\n",
       "    }\n",
       "\n",
       "    .dataframe tbody tr th {\n",
       "        vertical-align: top;\n",
       "    }\n",
       "\n",
       "    .dataframe thead th {\n",
       "        text-align: right;\n",
       "    }\n",
       "</style>\n",
       "<table border=\"1\" class=\"dataframe\">\n",
       "  <thead>\n",
       "    <tr style=\"text-align: right;\">\n",
       "      <th></th>\n",
       "      <th>key_skills_name</th>\n",
       "      <th>salary_from_ru</th>\n",
       "    </tr>\n",
       "  </thead>\n",
       "  <tbody>\n",
       "    <tr>\n",
       "      <th>0</th>\n",
       "      <td>информационная безопасность</td>\n",
       "      <td>100,000.00</td>\n",
       "    </tr>\n",
       "    <tr>\n",
       "      <th>0</th>\n",
       "      <td>аудит информационной безопасности</td>\n",
       "      <td>100,000.00</td>\n",
       "    </tr>\n",
       "    <tr>\n",
       "      <th>0</th>\n",
       "      <td>фз-152</td>\n",
       "      <td>100,000.00</td>\n",
       "    </tr>\n",
       "    <tr>\n",
       "      <th>0</th>\n",
       "      <td>382-п</td>\n",
       "      <td>100,000.00</td>\n",
       "    </tr>\n",
       "    <tr>\n",
       "      <th>0</th>\n",
       "      <td>683-п</td>\n",
       "      <td>100,000.00</td>\n",
       "    </tr>\n",
       "  </tbody>\n",
       "</table>\n",
       "</div>"
      ],
      "text/plain": [
       "                     key_skills_name  salary_from_ru\n",
       "0        информационная безопасность      100,000.00\n",
       "0  аудит информационной безопасности      100,000.00\n",
       "0                             фз-152      100,000.00\n",
       "0                              382-п      100,000.00\n",
       "0                              683-п      100,000.00"
      ]
     },
     "execution_count": 101,
     "metadata": {},
     "output_type": "execute_result"
    }
   ],
   "source": [
    "skill_salary.head()"
   ]
  },
  {
   "cell_type": "code",
   "execution_count": 102,
   "metadata": {},
   "outputs": [
    {
     "data": {
      "text/html": [
       "<div>\n",
       "<style scoped>\n",
       "    .dataframe tbody tr th:only-of-type {\n",
       "        vertical-align: middle;\n",
       "    }\n",
       "\n",
       "    .dataframe tbody tr th {\n",
       "        vertical-align: top;\n",
       "    }\n",
       "\n",
       "    .dataframe thead th {\n",
       "        text-align: right;\n",
       "    }\n",
       "</style>\n",
       "<table border=\"1\" class=\"dataframe\">\n",
       "  <thead>\n",
       "    <tr style=\"text-align: right;\">\n",
       "      <th></th>\n",
       "      <th>count</th>\n",
       "      <th>mean</th>\n",
       "      <th>median</th>\n",
       "      <th>max</th>\n",
       "      <th>min</th>\n",
       "    </tr>\n",
       "    <tr>\n",
       "      <th>key_skills_name</th>\n",
       "      <th></th>\n",
       "      <th></th>\n",
       "      <th></th>\n",
       "      <th></th>\n",
       "      <th></th>\n",
       "    </tr>\n",
       "  </thead>\n",
       "  <tbody>\n",
       "    <tr>\n",
       "      <th>нет информации</th>\n",
       "      <td>9608</td>\n",
       "      <td>70,513.83</td>\n",
       "      <td>62,750.00</td>\n",
       "      <td>230,000.00</td>\n",
       "      <td>25.00</td>\n",
       "    </tr>\n",
       "    <tr>\n",
       "      <th>sql</th>\n",
       "      <td>5772</td>\n",
       "      <td>83,863.41</td>\n",
       "      <td>89,000.00</td>\n",
       "      <td>245,000.00</td>\n",
       "      <td>180.00</td>\n",
       "    </tr>\n",
       "    <tr>\n",
       "      <th>linux</th>\n",
       "      <td>4584</td>\n",
       "      <td>84,918.90</td>\n",
       "      <td>89,000.00</td>\n",
       "      <td>245,000.00</td>\n",
       "      <td>80.00</td>\n",
       "    </tr>\n",
       "    <tr>\n",
       "      <th>git</th>\n",
       "      <td>4276</td>\n",
       "      <td>88,993.63</td>\n",
       "      <td>89,000.00</td>\n",
       "      <td>245,000.00</td>\n",
       "      <td>1,500.00</td>\n",
       "    </tr>\n",
       "    <tr>\n",
       "      <th>английский язык</th>\n",
       "      <td>3093</td>\n",
       "      <td>84,539.90</td>\n",
       "      <td>89,000.00</td>\n",
       "      <td>245,000.00</td>\n",
       "      <td>180.00</td>\n",
       "    </tr>\n",
       "    <tr>\n",
       "      <th>python</th>\n",
       "      <td>2876</td>\n",
       "      <td>88,123.19</td>\n",
       "      <td>89,000.00</td>\n",
       "      <td>245,000.00</td>\n",
       "      <td>15,000.00</td>\n",
       "    </tr>\n",
       "    <tr>\n",
       "      <th>javascript</th>\n",
       "      <td>2564</td>\n",
       "      <td>82,532.81</td>\n",
       "      <td>80,000.00</td>\n",
       "      <td>245,000.00</td>\n",
       "      <td>10,000.00</td>\n",
       "    </tr>\n",
       "    <tr>\n",
       "      <th>работа в команде</th>\n",
       "      <td>2484</td>\n",
       "      <td>67,704.16</td>\n",
       "      <td>60,000.00</td>\n",
       "      <td>230,000.00</td>\n",
       "      <td>10,000.00</td>\n",
       "    </tr>\n",
       "    <tr>\n",
       "      <th>postgresql</th>\n",
       "      <td>2351</td>\n",
       "      <td>92,084.16</td>\n",
       "      <td>89,000.00</td>\n",
       "      <td>245,000.00</td>\n",
       "      <td>20,000.00</td>\n",
       "    </tr>\n",
       "    <tr>\n",
       "      <th>1с программирование</th>\n",
       "      <td>2325</td>\n",
       "      <td>83,151.35</td>\n",
       "      <td>77,800.00</td>\n",
       "      <td>230,000.00</td>\n",
       "      <td>750.00</td>\n",
       "    </tr>\n",
       "  </tbody>\n",
       "</table>\n",
       "</div>"
      ],
      "text/plain": [
       "                     count      mean    median        max       min\n",
       "key_skills_name                                                    \n",
       "нет информации        9608 70,513.83 62,750.00 230,000.00     25.00\n",
       "sql                   5772 83,863.41 89,000.00 245,000.00    180.00\n",
       "linux                 4584 84,918.90 89,000.00 245,000.00     80.00\n",
       "git                   4276 88,993.63 89,000.00 245,000.00  1,500.00\n",
       "английский язык       3093 84,539.90 89,000.00 245,000.00    180.00\n",
       "python                2876 88,123.19 89,000.00 245,000.00 15,000.00\n",
       "javascript            2564 82,532.81 80,000.00 245,000.00 10,000.00\n",
       "работа в команде      2484 67,704.16 60,000.00 230,000.00 10,000.00\n",
       "postgresql            2351 92,084.16 89,000.00 245,000.00 20,000.00\n",
       "1с программирование   2325 83,151.35 77,800.00 230,000.00    750.00"
      ]
     },
     "execution_count": 102,
     "metadata": {},
     "output_type": "execute_result"
    }
   ],
   "source": [
    "(skill_salary\n",
    "    .groupby('key_skills_name')['salary_from_ru']\n",
    "    .agg(['count', 'mean', 'median', 'max', 'min'])\n",
    "    .sort_values(\n",
    "        ['count', 'mean', 'max', 'min'], ascending=[False, False, False, True]\n",
    "        )\n",
    "    [:10])"
   ]
  },
  {
   "cell_type": "markdown",
   "metadata": {},
   "source": [
    "📌 Из этой таблицы видно как распределяются скиллы по частоте их упоминания и уровню зарплаты. Наибольшая частота упоминаний у SQL, Linux и Git. Среди лидеров такие языки программирования, как Python и JavaScript."
   ]
  },
  {
   "cell_type": "markdown",
   "metadata": {},
   "source": [
    "#### посмотрим как наличие наиболее распространенных скиллов влияют на уровень зарплаты"
   ]
  },
  {
   "cell_type": "markdown",
   "metadata": {},
   "source": [
    "создадим функцию, возвращающую количество заданных элементов ('sql', 'linux') в строке"
   ]
  },
  {
   "cell_type": "code",
   "execution_count": 104,
   "metadata": {},
   "outputs": [],
   "source": [
    "def count_skills(text):\n",
    "    if isinstance(text, list): \n",
    "        text = ', '.join(text)\n",
    "    pattern = ['sql', 'linux']\n",
    "    # pattern = ['английский язык', 'linux']\n",
    "    # pattern = ['git', 'linux']\n",
    "    cnt = 0\n",
    "    for element in pattern:\n",
    "        if re.search(element, text) is not None:\n",
    "            cnt += 1\n",
    "    return cnt"
   ]
  },
  {
   "cell_type": "code",
   "execution_count": 105,
   "metadata": {},
   "outputs": [],
   "source": [
    "df['pair_skills'] = 0\n",
    "df['pair_skills'] = df.key_skills_name.apply(count_skills)"
   ]
  },
  {
   "cell_type": "code",
   "execution_count": 106,
   "metadata": {},
   "outputs": [
    {
     "data": {
      "text/plain": [
       "0    31328\n",
       "1    10260\n",
       "2     1943\n",
       "Name: pair_skills, dtype: int64"
      ]
     },
     "execution_count": 106,
     "metadata": {},
     "output_type": "execute_result"
    }
   ],
   "source": [
    "df['pair_skills'].value_counts()"
   ]
  },
  {
   "cell_type": "markdown",
   "metadata": {},
   "source": [
    "мы получили 3 группы с разным содержанием заданных скиллов ('sql', 'linux')"
   ]
  },
  {
   "cell_type": "code",
   "execution_count": 107,
   "metadata": {},
   "outputs": [
    {
     "data": {
      "image/png": "[encoded data removed]",
      "text/plain": [
       "<Figure size 720x720 with 1 Axes>"
      ]
     },
     "metadata": {
      "needs_background": "light"
     },
     "output_type": "display_data"
    }
   ],
   "source": [
    "f, ax = plt.subplots(figsize=(10, 10))\n",
    "fig = sns.boxplot(x='pair_skills', y='salary_from_ru', data=df)\n",
    "plt.suptitle('Наличие востребованных скиллов', size=14)\n",
    "plt.show()"
   ]
  },
  {
   "cell_type": "code",
   "execution_count": 108,
   "metadata": {},
   "outputs": [
    {
     "data": {
      "text/plain": [
       "KruskalResult(statistic=825.2584720028889, pvalue=6.271908770884079e-180)"
      ]
     },
     "execution_count": 108,
     "metadata": {},
     "output_type": "execute_result"
    }
   ],
   "source": [
    "ps_0 = np.array(df[df.pair_skills == 0]['salary_from_ru'])\n",
    "ps_1 = np.array(df[df.pair_skills == 1]['salary_from_ru'])\n",
    "ps_2 = np.array(df[df.pair_skills == 2]['salary_from_ru'])\n",
    "stats.mstats.kruskalwallis(ps_0, ps_1, ps_2)"
   ]
  },
  {
   "cell_type": "markdown",
   "metadata": {},
   "source": [
    "📌 Тест Краскела-Уоллиса позволяет сделать заключение о том, что сравниваемые группы статистически значимо различаются (p < 0,05) Наличие таких скиллов как 'sql', 'linux' увеличивает средний размер предлагаемой начальной зарплаты."
   ]
  },
  {
   "cell_type": "markdown",
   "metadata": {},
   "source": [
    "### Анализируем вакансии в столбце 'name'"
   ]
  },
  {
   "cell_type": "markdown",
   "metadata": {},
   "source": [
    "Смотрим группировку вакансий по наименованию"
   ]
  },
  {
   "cell_type": "markdown",
   "metadata": {},
   "source": [
    "Посмотрим ТОП вакансий по столбцу name"
   ]
  },
  {
   "cell_type": "code",
   "execution_count": 109,
   "metadata": {},
   "outputs": [
    {
     "data": {
      "text/html": [
       "<div>\n",
       "<style scoped>\n",
       "    .dataframe tbody tr th:only-of-type {\n",
       "        vertical-align: middle;\n",
       "    }\n",
       "\n",
       "    .dataframe tbody tr th {\n",
       "        vertical-align: top;\n",
       "    }\n",
       "\n",
       "    .dataframe thead th {\n",
       "        text-align: right;\n",
       "    }\n",
       "</style>\n",
       "<table border=\"1\" class=\"dataframe\">\n",
       "  <thead>\n",
       "    <tr style=\"text-align: right;\">\n",
       "      <th></th>\n",
       "      <th>index</th>\n",
       "      <th>name</th>\n",
       "    </tr>\n",
       "  </thead>\n",
       "  <tbody>\n",
       "    <tr>\n",
       "      <th>0</th>\n",
       "      <td>системный администратор</td>\n",
       "      <td>1653</td>\n",
       "    </tr>\n",
       "    <tr>\n",
       "      <th>1</th>\n",
       "      <td>программист 1с</td>\n",
       "      <td>1131</td>\n",
       "    </tr>\n",
       "    <tr>\n",
       "      <th>2</th>\n",
       "      <td>специалист технической поддержки</td>\n",
       "      <td>478</td>\n",
       "    </tr>\n",
       "    <tr>\n",
       "      <th>3</th>\n",
       "      <td>системный аналитик</td>\n",
       "      <td>466</td>\n",
       "    </tr>\n",
       "    <tr>\n",
       "      <th>4</th>\n",
       "      <td>аналитик</td>\n",
       "      <td>343</td>\n",
       "    </tr>\n",
       "    <tr>\n",
       "      <th>5</th>\n",
       "      <td>инженер-программист</td>\n",
       "      <td>328</td>\n",
       "    </tr>\n",
       "    <tr>\n",
       "      <th>6</th>\n",
       "      <td>программист 1c</td>\n",
       "      <td>324</td>\n",
       "    </tr>\n",
       "    <tr>\n",
       "      <th>7</th>\n",
       "      <td>графический дизайнер</td>\n",
       "      <td>313</td>\n",
       "    </tr>\n",
       "    <tr>\n",
       "      <th>8</th>\n",
       "      <td>инженер технической поддержки</td>\n",
       "      <td>274</td>\n",
       "    </tr>\n",
       "    <tr>\n",
       "      <th>9</th>\n",
       "      <td>бизнес-аналитик</td>\n",
       "      <td>269</td>\n",
       "    </tr>\n",
       "    <tr>\n",
       "      <th>10</th>\n",
       "      <td>дизайнер</td>\n",
       "      <td>252</td>\n",
       "    </tr>\n",
       "    <tr>\n",
       "      <th>11</th>\n",
       "      <td>технический писатель</td>\n",
       "      <td>214</td>\n",
       "    </tr>\n",
       "    <tr>\n",
       "      <th>12</th>\n",
       "      <td>руководитель проекта</td>\n",
       "      <td>211</td>\n",
       "    </tr>\n",
       "    <tr>\n",
       "      <th>13</th>\n",
       "      <td>devops инженер</td>\n",
       "      <td>203</td>\n",
       "    </tr>\n",
       "  </tbody>\n",
       "</table>\n",
       "</div>"
      ],
      "text/plain": [
       "                               index  name\n",
       "0            системный администратор  1653\n",
       "1                     программист 1с  1131\n",
       "2   специалист технической поддержки   478\n",
       "3                 системный аналитик   466\n",
       "4                           аналитик   343\n",
       "5                инженер-программист   328\n",
       "6                     программист 1c   324\n",
       "7               графический дизайнер   313\n",
       "8      инженер технической поддержки   274\n",
       "9                    бизнес-аналитик   269\n",
       "10                          дизайнер   252\n",
       "11              технический писатель   214\n",
       "12              руководитель проекта   211\n",
       "13                    devops инженер   203"
      ]
     },
     "execution_count": 109,
     "metadata": {},
     "output_type": "execute_result"
    }
   ],
   "source": [
    "df.name.value_counts().loc[lambda x: x>200].reset_index()"
   ]
  },
  {
   "cell_type": "markdown",
   "metadata": {},
   "source": [
    "Посмотрим количество сгруппированных вакансий"
   ]
  },
  {
   "cell_type": "code",
   "execution_count": 110,
   "metadata": {},
   "outputs": [
    {
     "data": {
      "text/plain": [
       "27850"
      ]
     },
     "execution_count": 110,
     "metadata": {},
     "output_type": "execute_result"
    }
   ],
   "source": [
    "df.name.value_counts().loc[lambda x: x>1].sum()"
   ]
  },
  {
   "cell_type": "markdown",
   "metadata": {},
   "source": [
    "15,7 тыс. вакансий не сгруппировалось"
   ]
  },
  {
   "cell_type": "code",
   "execution_count": 111,
   "metadata": {},
   "outputs": [
    {
     "data": {
      "text/plain": [
       "15681"
      ]
     },
     "execution_count": 111,
     "metadata": {},
     "output_type": "execute_result"
    }
   ],
   "source": [
    "df.name.value_counts().loc[lambda x: x==1].sum()"
   ]
  },
  {
   "cell_type": "markdown",
   "metadata": {},
   "source": [
    "объединяем наименования вакансий по ключевым словам"
   ]
  },
  {
   "cell_type": "code",
   "execution_count": 112,
   "metadata": {},
   "outputs": [],
   "source": [
    "def group_name(text):\n",
    "    if re.search(r'1с|1c|1 c|1 с', text) is not None:\n",
    "        text = '1c'\n",
    "    elif re.search(r'qa|tester|тестер|тестир', text) is not None:\n",
    "        text = 'qa'\n",
    "    elif re.search(r'c\\+\\+|с\\+\\+|c#|с#', text) is not None:\n",
    "        text = 'c c+ c#'\n",
    "    elif re.search(r'sql|postgresql', text) is not None:\n",
    "        text = 'sql'\n",
    "    elif re.search(r'java', text) is not None:\n",
    "        text = 'java'\n",
    "    elif re.search(r'js|javascript', text) is not None:\n",
    "        text = 'javascript'\n",
    "    elif re.search(r'python|питон', text) is not None:\n",
    "        text = 'python'\n",
    "    elif re.search(r'devops', text) is not None:\n",
    "        text = 'devops'\n",
    "    elif re.search(r'\\.net', text) is not None:\n",
    "        text = '.net'\n",
    "    elif re.search(r'android', text) is not None:\n",
    "        text = 'android'\n",
    "    elif re.search(r'yandex|яндекс|яndex', text) is not None:\n",
    "        text = 'yandex'\n",
    "    elif re.search(r'поддерж|support|эксплуат|сервис', text) is not None:\n",
    "        text = 'support'\n",
    "    elif re.search(r'secur|безопасн|криминал|защит', text) is not None:\n",
    "        text = 'security'\n",
    "    elif re.search(r'data|данны|etl', text) is not None:\n",
    "        text = 'data'\n",
    "    elif re.search(r'web|веб|вэб', text) is not None:\n",
    "        text = 'web'\n",
    "    elif re.search(r'системный администратор', text) is not None:\n",
    "        text = 'sysadmin'\n",
    "    elif re.search(r'системный аналитик|system anal', text) is not None:\n",
    "        text = 'system analyst'\n",
    "    elif re.search(r'аналит', text) is not None:\n",
    "        text = 'аналитик'\n",
    "    elif re.search(r'prodact|product|продакт|продукт', text) is not None:\n",
    "        text = 'product'\n",
    "    elif re.search(r'2d|3d', text) is not None:\n",
    "        text = '2d 3d'\n",
    "    elif re.search(r'php', text) is not None:\n",
    "        text = 'php'\n",
    "    elif re.search(r'ios', text) is not None:\n",
    "        text = 'ios'\n",
    "    elif re.search(r'linux|unix', text) is not None:\n",
    "        text = 'unix'\n",
    "    elif re.search(r'fullstack|full stack', text) is not None:\n",
    "        text = 'fullstack'\n",
    "    elif re.search(r'front|фронт', text) is not None:\n",
    "        text = 'frontend'\n",
    "    elif re.search(r'back', text) is not None:\n",
    "        text = 'backend'\n",
    "    elif re.search(r'ui|ux', text) is not None:\n",
    "        text = 'ui ux'\n",
    "    elif re.search(r'sap', text) is not None:\n",
    "        text = 'sap'\n",
    "    elif re.search(r'erp', text) is not None:\n",
    "        text = 'erp'\n",
    "    elif re.search(r'bitrix|битрикс', text) is not None:\n",
    "        text = 'bitrix'\n",
    "    else:\n",
    "        text = 'other'\n",
    "    return text"
   ]
  },
  {
   "cell_type": "code",
   "execution_count": 113,
   "metadata": {},
   "outputs": [],
   "source": [
    "df['simple_name'] = df.name.apply(group_name)"
   ]
  },
  {
   "cell_type": "code",
   "execution_count": 114,
   "metadata": {},
   "outputs": [],
   "source": [
    "salary_simple_name = df[['simple_name', 'salary_from_ru']]"
   ]
  },
  {
   "cell_type": "code",
   "execution_count": 115,
   "metadata": {},
   "outputs": [
    {
     "data": {
      "text/html": [
       "<div>\n",
       "<style scoped>\n",
       "    .dataframe tbody tr th:only-of-type {\n",
       "        vertical-align: middle;\n",
       "    }\n",
       "\n",
       "    .dataframe tbody tr th {\n",
       "        vertical-align: top;\n",
       "    }\n",
       "\n",
       "    .dataframe thead th {\n",
       "        text-align: right;\n",
       "    }\n",
       "</style>\n",
       "<table border=\"1\" class=\"dataframe\">\n",
       "  <thead>\n",
       "    <tr style=\"text-align: right;\">\n",
       "      <th></th>\n",
       "      <th>simple_name</th>\n",
       "      <th>salary_from_ru</th>\n",
       "    </tr>\n",
       "  </thead>\n",
       "  <tbody>\n",
       "    <tr>\n",
       "      <th>0</th>\n",
       "      <td>security</td>\n",
       "      <td>100,000.00</td>\n",
       "    </tr>\n",
       "    <tr>\n",
       "      <th>1</th>\n",
       "      <td>security</td>\n",
       "      <td>100,000.00</td>\n",
       "    </tr>\n",
       "    <tr>\n",
       "      <th>2</th>\n",
       "      <td>security</td>\n",
       "      <td>60,000.00</td>\n",
       "    </tr>\n",
       "    <tr>\n",
       "      <th>3</th>\n",
       "      <td>security</td>\n",
       "      <td>200,000.00</td>\n",
       "    </tr>\n",
       "    <tr>\n",
       "      <th>4</th>\n",
       "      <td>other</td>\n",
       "      <td>100,000.00</td>\n",
       "    </tr>\n",
       "    <tr>\n",
       "      <th>5</th>\n",
       "      <td>security</td>\n",
       "      <td>100,000.00</td>\n",
       "    </tr>\n",
       "    <tr>\n",
       "      <th>6</th>\n",
       "      <td>support</td>\n",
       "      <td>100,000.00</td>\n",
       "    </tr>\n",
       "    <tr>\n",
       "      <th>7</th>\n",
       "      <td>security</td>\n",
       "      <td>100,000.00</td>\n",
       "    </tr>\n",
       "    <tr>\n",
       "      <th>8</th>\n",
       "      <td>other</td>\n",
       "      <td>100,000.00</td>\n",
       "    </tr>\n",
       "    <tr>\n",
       "      <th>9</th>\n",
       "      <td>security</td>\n",
       "      <td>100,000.00</td>\n",
       "    </tr>\n",
       "  </tbody>\n",
       "</table>\n",
       "</div>"
      ],
      "text/plain": [
       "  simple_name  salary_from_ru\n",
       "0    security      100,000.00\n",
       "1    security      100,000.00\n",
       "2    security       60,000.00\n",
       "3    security      200,000.00\n",
       "4       other      100,000.00\n",
       "5    security      100,000.00\n",
       "6     support      100,000.00\n",
       "7    security      100,000.00\n",
       "8       other      100,000.00\n",
       "9    security      100,000.00"
      ]
     },
     "execution_count": 115,
     "metadata": {},
     "output_type": "execute_result"
    }
   ],
   "source": [
    "salary_simple_name[:10]"
   ]
  },
  {
   "cell_type": "markdown",
   "metadata": {},
   "source": [
    "посмотрим статистику"
   ]
  },
  {
   "cell_type": "code",
   "execution_count": 116,
   "metadata": {},
   "outputs": [],
   "source": [
    "sn = (salary_simple_name\n",
    "    .groupby('simple_name')['salary_from_ru']\n",
    "    .agg(['count', 'mean', 'median', 'max', 'min'])\n",
    "    .sort_values(\n",
    "        ['median', 'count'], ascending=[False, False]\n",
    "        )\n",
    "    .reset_index()\n",
    ")"
   ]
  },
  {
   "cell_type": "code",
   "execution_count": 117,
   "metadata": {},
   "outputs": [
    {
     "data": {
      "text/html": [
       "<div>\n",
       "<style scoped>\n",
       "    .dataframe tbody tr th:only-of-type {\n",
       "        vertical-align: middle;\n",
       "    }\n",
       "\n",
       "    .dataframe tbody tr th {\n",
       "        vertical-align: top;\n",
       "    }\n",
       "\n",
       "    .dataframe thead th {\n",
       "        text-align: right;\n",
       "    }\n",
       "</style>\n",
       "<table border=\"1\" class=\"dataframe\">\n",
       "  <thead>\n",
       "    <tr style=\"text-align: right;\">\n",
       "      <th></th>\n",
       "      <th>simple_name</th>\n",
       "      <th>count</th>\n",
       "      <th>mean</th>\n",
       "      <th>median</th>\n",
       "      <th>max</th>\n",
       "      <th>min</th>\n",
       "    </tr>\n",
       "  </thead>\n",
       "  <tbody>\n",
       "    <tr>\n",
       "      <th>0</th>\n",
       "      <td>devops</td>\n",
       "      <td>986</td>\n",
       "      <td>94,830.17</td>\n",
       "      <td>100,000.00</td>\n",
       "      <td>245,000.00</td>\n",
       "      <td>13,000.00</td>\n",
       "    </tr>\n",
       "    <tr>\n",
       "      <th>1</th>\n",
       "      <td>ui ux</td>\n",
       "      <td>352</td>\n",
       "      <td>91,262.78</td>\n",
       "      <td>100,000.00</td>\n",
       "      <td>245,000.00</td>\n",
       "      <td>15,000.00</td>\n",
       "    </tr>\n",
       "    <tr>\n",
       "      <th>2</th>\n",
       "      <td>unix</td>\n",
       "      <td>227</td>\n",
       "      <td>90,172.91</td>\n",
       "      <td>100,000.00</td>\n",
       "      <td>245,000.00</td>\n",
       "      <td>25,000.00</td>\n",
       "    </tr>\n",
       "    <tr>\n",
       "      <th>3</th>\n",
       "      <td>product</td>\n",
       "      <td>195</td>\n",
       "      <td>94,328.72</td>\n",
       "      <td>100,000.00</td>\n",
       "      <td>200,000.00</td>\n",
       "      <td>25,000.00</td>\n",
       "    </tr>\n",
       "    <tr>\n",
       "      <th>4</th>\n",
       "      <td>qa</td>\n",
       "      <td>2736</td>\n",
       "      <td>85,621.90</td>\n",
       "      <td>89,000.00</td>\n",
       "      <td>245,000.00</td>\n",
       "      <td>180.00</td>\n",
       "    </tr>\n",
       "  </tbody>\n",
       "</table>\n",
       "</div>"
      ],
      "text/plain": [
       "  simple_name  count      mean     median        max       min\n",
       "0      devops    986 94,830.17 100,000.00 245,000.00 13,000.00\n",
       "1       ui ux    352 91,262.78 100,000.00 245,000.00 15,000.00\n",
       "2        unix    227 90,172.91 100,000.00 245,000.00 25,000.00\n",
       "3     product    195 94,328.72 100,000.00 200,000.00 25,000.00\n",
       "4          qa   2736 85,621.90  89,000.00 245,000.00    180.00"
      ]
     },
     "execution_count": 117,
     "metadata": {},
     "output_type": "execute_result"
    }
   ],
   "source": [
    "sn[:5]"
   ]
  },
  {
   "cell_type": "markdown",
   "metadata": {},
   "source": [
    "отсортируем по возрастанию минимальной зарплаты"
   ]
  },
  {
   "cell_type": "code",
   "execution_count": 118,
   "metadata": {},
   "outputs": [
    {
     "data": {
      "text/html": [
       "<div>\n",
       "<style scoped>\n",
       "    .dataframe tbody tr th:only-of-type {\n",
       "        vertical-align: middle;\n",
       "    }\n",
       "\n",
       "    .dataframe tbody tr th {\n",
       "        vertical-align: top;\n",
       "    }\n",
       "\n",
       "    .dataframe thead th {\n",
       "        text-align: right;\n",
       "    }\n",
       "</style>\n",
       "<table border=\"1\" class=\"dataframe\">\n",
       "  <thead>\n",
       "    <tr style=\"text-align: right;\">\n",
       "      <th></th>\n",
       "      <th>simple_name</th>\n",
       "      <th>count</th>\n",
       "      <th>mean</th>\n",
       "      <th>median</th>\n",
       "      <th>max</th>\n",
       "      <th>min</th>\n",
       "    </tr>\n",
       "  </thead>\n",
       "  <tbody>\n",
       "    <tr>\n",
       "      <th>27</th>\n",
       "      <td>erp</td>\n",
       "      <td>38</td>\n",
       "      <td>71,743.42</td>\n",
       "      <td>62,625.00</td>\n",
       "      <td>130,000.00</td>\n",
       "      <td>40,000.00</td>\n",
       "    </tr>\n",
       "    <tr>\n",
       "      <th>19</th>\n",
       "      <td>android</td>\n",
       "      <td>403</td>\n",
       "      <td>81,977.05</td>\n",
       "      <td>80,000.00</td>\n",
       "      <td>245,000.00</td>\n",
       "      <td>35,000.00</td>\n",
       "    </tr>\n",
       "    <tr>\n",
       "      <th>25</th>\n",
       "      <td>.net</td>\n",
       "      <td>243</td>\n",
       "      <td>76,269.55</td>\n",
       "      <td>65,000.00</td>\n",
       "      <td>220,000.00</td>\n",
       "      <td>34,500.00</td>\n",
       "    </tr>\n",
       "    <tr>\n",
       "      <th>24</th>\n",
       "      <td>bitrix</td>\n",
       "      <td>143</td>\n",
       "      <td>76,904.55</td>\n",
       "      <td>70,000.00</td>\n",
       "      <td>200,000.00</td>\n",
       "      <td>30,000.00</td>\n",
       "    </tr>\n",
       "    <tr>\n",
       "      <th>11</th>\n",
       "      <td>ios</td>\n",
       "      <td>386</td>\n",
       "      <td>89,494.17</td>\n",
       "      <td>89,000.00</td>\n",
       "      <td>245,000.00</td>\n",
       "      <td>30,000.00</td>\n",
       "    </tr>\n",
       "  </tbody>\n",
       "</table>\n",
       "</div>"
      ],
      "text/plain": [
       "   simple_name  count      mean    median        max       min\n",
       "27         erp     38 71,743.42 62,625.00 130,000.00 40,000.00\n",
       "19     android    403 81,977.05 80,000.00 245,000.00 35,000.00\n",
       "25        .net    243 76,269.55 65,000.00 220,000.00 34,500.00\n",
       "24      bitrix    143 76,904.55 70,000.00 200,000.00 30,000.00\n",
       "11         ios    386 89,494.17 89,000.00 245,000.00 30,000.00"
      ]
     },
     "execution_count": 118,
     "metadata": {},
     "output_type": "execute_result"
    }
   ],
   "source": [
    "sn.sort_values('min', ascending=False)[:5]"
   ]
  },
  {
   "cell_type": "markdown",
   "metadata": {},
   "source": [
    "📌 Самые высокие медианы зарплат у специалистов devops, ui/ux и продактов. Следом идут тестировщики и аналитики. У специалистов ERP минимальная зарплата самая высокая среди других групп, правда и их количество всего лишь 38."
   ]
  },
  {
   "cell_type": "markdown",
   "metadata": {},
   "source": [
    "### Работаем со столбцом 'experience'"
   ]
  },
  {
   "cell_type": "code",
   "execution_count": 122,
   "metadata": {},
   "outputs": [
    {
     "data": {
      "text/plain": [
       "\"{'id': 'between1and3', 'name': 'от 1 года до 3 лет'}\""
      ]
     },
     "execution_count": 122,
     "metadata": {},
     "output_type": "execute_result"
    }
   ],
   "source": [
    "df.experience[0]"
   ]
  },
  {
   "cell_type": "markdown",
   "metadata": {},
   "source": [
    "вытаскиваем тег name"
   ]
  },
  {
   "cell_type": "code",
   "execution_count": 119,
   "metadata": {},
   "outputs": [],
   "source": [
    "# добавляем обработку None\n",
    "def get_tag_experience_name(text):\n",
    "    if pd.isna(text): \n",
    "        clean_text = np.nan\n",
    "    else:\n",
    "        clean_text = text.replace(\"{\", '').replace(\"}\", '').split(',')[1][8:]\n",
    "        if clean_text == 'None':\n",
    "            clean_text = np.nan\n",
    "\n",
    "    return clean_text"
   ]
  },
  {
   "cell_type": "code",
   "execution_count": 122,
   "metadata": {},
   "outputs": [],
   "source": [
    "df['experience_name'] = df.experience.apply(get_tag_experience_name)"
   ]
  },
  {
   "cell_type": "markdown",
   "metadata": {},
   "source": [
    "создаем функцию возвращающую числовые значения"
   ]
  },
  {
   "cell_type": "code",
   "execution_count": 123,
   "metadata": {},
   "outputs": [],
   "source": [
    "def get_expirience(text):\n",
    "    if re.search(r'от 1 года до 3 лет', text) is not None:\n",
    "        text = 1\n",
    "    elif re.search(r'от 3 до 6 лет', text) is not None:\n",
    "        text = 3\n",
    "    elif re.search(r'нет опыта', text) is not None:\n",
    "        text = 0\n",
    "    elif re.search(r'более 6 лет', text) is not None:\n",
    "        text = 6\n",
    "    else:\n",
    "        text = -1\n",
    "    return text"
   ]
  },
  {
   "cell_type": "code",
   "execution_count": 124,
   "metadata": {},
   "outputs": [],
   "source": [
    "df['experience_category'] = df.experience_name.apply(get_expirience)"
   ]
  },
  {
   "cell_type": "markdown",
   "metadata": {},
   "source": [
    "📌 experience_name и experience_category - категориальный тип данных."
   ]
  },
  {
   "cell_type": "code",
   "execution_count": 125,
   "metadata": {},
   "outputs": [
    {
     "data": {
      "text/plain": [
       "0"
      ]
     },
     "execution_count": 125,
     "metadata": {},
     "output_type": "execute_result"
    }
   ],
   "source": [
    "df.experience_name.isna().sum()"
   ]
  },
  {
   "cell_type": "code",
   "execution_count": 126,
   "metadata": {},
   "outputs": [
    {
     "data": {
      "text/html": [
       "<div>\n",
       "<style scoped>\n",
       "    .dataframe tbody tr th:only-of-type {\n",
       "        vertical-align: middle;\n",
       "    }\n",
       "\n",
       "    .dataframe tbody tr th {\n",
       "        vertical-align: top;\n",
       "    }\n",
       "\n",
       "    .dataframe thead th {\n",
       "        text-align: right;\n",
       "    }\n",
       "</style>\n",
       "<table border=\"1\" class=\"dataframe\">\n",
       "  <thead>\n",
       "    <tr style=\"text-align: right;\">\n",
       "      <th></th>\n",
       "      <th>index</th>\n",
       "      <th>experience_name</th>\n",
       "    </tr>\n",
       "  </thead>\n",
       "  <tbody>\n",
       "    <tr>\n",
       "      <th>0</th>\n",
       "      <td>'от 1 года до 3 лет'</td>\n",
       "      <td>23147</td>\n",
       "    </tr>\n",
       "    <tr>\n",
       "      <th>1</th>\n",
       "      <td>'от 3 до 6 лет'</td>\n",
       "      <td>13947</td>\n",
       "    </tr>\n",
       "    <tr>\n",
       "      <th>2</th>\n",
       "      <td>'нет опыта'</td>\n",
       "      <td>5124</td>\n",
       "    </tr>\n",
       "    <tr>\n",
       "      <th>3</th>\n",
       "      <td>'более 6 лет'</td>\n",
       "      <td>1313</td>\n",
       "    </tr>\n",
       "  </tbody>\n",
       "</table>\n",
       "</div>"
      ],
      "text/plain": [
       "                   index  experience_name\n",
       "0   'от 1 года до 3 лет'            23147\n",
       "1        'от 3 до 6 лет'            13947\n",
       "2            'нет опыта'             5124\n",
       "3          'более 6 лет'             1313"
      ]
     },
     "execution_count": 126,
     "metadata": {},
     "output_type": "execute_result"
    }
   ],
   "source": [
    "df.experience_name.value_counts().reset_index()"
   ]
  },
  {
   "cell_type": "code",
   "execution_count": 127,
   "metadata": {},
   "outputs": [
    {
     "data": {
      "text/html": [
       "<div>\n",
       "<style scoped>\n",
       "    .dataframe tbody tr th:only-of-type {\n",
       "        vertical-align: middle;\n",
       "    }\n",
       "\n",
       "    .dataframe tbody tr th {\n",
       "        vertical-align: top;\n",
       "    }\n",
       "\n",
       "    .dataframe thead th {\n",
       "        text-align: right;\n",
       "    }\n",
       "</style>\n",
       "<table border=\"1\" class=\"dataframe\">\n",
       "  <thead>\n",
       "    <tr style=\"text-align: right;\">\n",
       "      <th></th>\n",
       "      <th>index</th>\n",
       "      <th>experience_category</th>\n",
       "    </tr>\n",
       "  </thead>\n",
       "  <tbody>\n",
       "    <tr>\n",
       "      <th>0</th>\n",
       "      <td>1</td>\n",
       "      <td>23147</td>\n",
       "    </tr>\n",
       "    <tr>\n",
       "      <th>1</th>\n",
       "      <td>3</td>\n",
       "      <td>13947</td>\n",
       "    </tr>\n",
       "    <tr>\n",
       "      <th>2</th>\n",
       "      <td>0</td>\n",
       "      <td>5124</td>\n",
       "    </tr>\n",
       "    <tr>\n",
       "      <th>3</th>\n",
       "      <td>6</td>\n",
       "      <td>1313</td>\n",
       "    </tr>\n",
       "  </tbody>\n",
       "</table>\n",
       "</div>"
      ],
      "text/plain": [
       "   index  experience_category\n",
       "0      1                23147\n",
       "1      3                13947\n",
       "2      0                 5124\n",
       "3      6                 1313"
      ]
     },
     "execution_count": 127,
     "metadata": {},
     "output_type": "execute_result"
    }
   ],
   "source": [
    "df.experience_category.value_counts().reset_index()"
   ]
  },
  {
   "cell_type": "markdown",
   "metadata": {},
   "source": [
    "посмотрим их доли"
   ]
  },
  {
   "cell_type": "code",
   "execution_count": 128,
   "metadata": {},
   "outputs": [
    {
     "data": {
      "text/html": [
       "<div>\n",
       "<style scoped>\n",
       "    .dataframe tbody tr th:only-of-type {\n",
       "        vertical-align: middle;\n",
       "    }\n",
       "\n",
       "    .dataframe tbody tr th {\n",
       "        vertical-align: top;\n",
       "    }\n",
       "\n",
       "    .dataframe thead th {\n",
       "        text-align: right;\n",
       "    }\n",
       "</style>\n",
       "<table border=\"1\" class=\"dataframe\">\n",
       "  <thead>\n",
       "    <tr style=\"text-align: right;\">\n",
       "      <th></th>\n",
       "      <th>index</th>\n",
       "      <th>experience_name</th>\n",
       "    </tr>\n",
       "  </thead>\n",
       "  <tbody>\n",
       "    <tr>\n",
       "      <th>0</th>\n",
       "      <td>'от 1 года до 3 лет'</td>\n",
       "      <td>0.53</td>\n",
       "    </tr>\n",
       "    <tr>\n",
       "      <th>1</th>\n",
       "      <td>'от 3 до 6 лет'</td>\n",
       "      <td>0.32</td>\n",
       "    </tr>\n",
       "    <tr>\n",
       "      <th>2</th>\n",
       "      <td>'нет опыта'</td>\n",
       "      <td>0.12</td>\n",
       "    </tr>\n",
       "    <tr>\n",
       "      <th>3</th>\n",
       "      <td>'более 6 лет'</td>\n",
       "      <td>0.03</td>\n",
       "    </tr>\n",
       "  </tbody>\n",
       "</table>\n",
       "</div>"
      ],
      "text/plain": [
       "                   index  experience_name\n",
       "0   'от 1 года до 3 лет'             0.53\n",
       "1        'от 3 до 6 лет'             0.32\n",
       "2            'нет опыта'             0.12\n",
       "3          'более 6 лет'             0.03"
      ]
     },
     "execution_count": 128,
     "metadata": {},
     "output_type": "execute_result"
    }
   ],
   "source": [
    "df.experience_name.value_counts(normalize=True).reset_index()"
   ]
  },
  {
   "cell_type": "code",
   "execution_count": 129,
   "metadata": {},
   "outputs": [
    {
     "data": {
      "text/plain": [
       "<function matplotlib.pyplot.show(close=None, block=None)>"
      ]
     },
     "execution_count": 129,
     "metadata": {},
     "output_type": "execute_result"
    },
    {
     "data": {
      "image/png": "[encoded data removed]",
      "text/plain": [
       "<Figure size 432x288 with 1 Axes>"
      ]
     },
     "metadata": {},
     "output_type": "display_data"
    }
   ],
   "source": [
    "plt.pie(\n",
    "    df.experience_name.value_counts().values,\n",
    "    labels=df.experience_name.value_counts().index,\n",
    "    wedgeprops=dict(width=0.5) # для бублика\n",
    "    )\n",
    "plt.title('Требуемый опыт работы')\n",
    "plt.show"
   ]
  },
  {
   "cell_type": "markdown",
   "metadata": {},
   "source": [
    "📌 Больше всего вакансий с опытом работы от 1 года до 3-х лет (53%). Для кандидатов без опыта доля вакансий составляет всего 12%."
   ]
  },
  {
   "cell_type": "markdown",
   "metadata": {},
   "source": [
    "### Работаем со столбцом 'schedule'"
   ]
  },
  {
   "cell_type": "code",
   "execution_count": 129,
   "metadata": {},
   "outputs": [
    {
     "data": {
      "text/plain": [
       "\"{'id': 'fullday', 'name': 'полный день'}\""
      ]
     },
     "execution_count": 129,
     "metadata": {},
     "output_type": "execute_result"
    }
   ],
   "source": [
    "df.schedule[0]"
   ]
  },
  {
   "cell_type": "markdown",
   "metadata": {},
   "source": [
    "вытаскиваем тег name"
   ]
  },
  {
   "cell_type": "code",
   "execution_count": 130,
   "metadata": {},
   "outputs": [],
   "source": [
    "# добавляем обработку None\n",
    "def get_tag_schedule_name(text):\n",
    "    if pd.isna(text): \n",
    "        clean_text = np.nan\n",
    "    else:\n",
    "        clean_text = text.replace(\"{\", '').replace(\"}\", '').split(',')[1][8:]\n",
    "        if clean_text == 'None':\n",
    "            clean_text = np.nan\n",
    "\n",
    "    return clean_text"
   ]
  },
  {
   "cell_type": "code",
   "execution_count": 131,
   "metadata": {},
   "outputs": [],
   "source": [
    "df['schedule_name'] = df.schedule.apply(get_tag_schedule_name)"
   ]
  },
  {
   "cell_type": "code",
   "execution_count": 132,
   "metadata": {},
   "outputs": [
    {
     "data": {
      "text/plain": [
       "\" 'полный день'\""
      ]
     },
     "execution_count": 132,
     "metadata": {},
     "output_type": "execute_result"
    }
   ],
   "source": [
    "df.schedule_name[1]"
   ]
  },
  {
   "cell_type": "markdown",
   "metadata": {},
   "source": [
    "📌 schedule_name - категориальный тип данных."
   ]
  },
  {
   "cell_type": "code",
   "execution_count": 133,
   "metadata": {},
   "outputs": [
    {
     "data": {
      "text/plain": [
       "0"
      ]
     },
     "execution_count": 133,
     "metadata": {},
     "output_type": "execute_result"
    }
   ],
   "source": [
    "df.schedule_name.isna().sum()"
   ]
  },
  {
   "cell_type": "code",
   "execution_count": 134,
   "metadata": {},
   "outputs": [
    {
     "data": {
      "text/plain": [
       "<function matplotlib.pyplot.show(close=None, block=None)>"
      ]
     },
     "execution_count": 134,
     "metadata": {},
     "output_type": "execute_result"
    },
    {
     "data": {
      "image/png": "[encoded data removed]",
      "text/plain": [
       "<Figure size 432x288 with 1 Axes>"
      ]
     },
     "metadata": {},
     "output_type": "display_data"
    }
   ],
   "source": [
    "plt.pie(\n",
    "    df.schedule_name.value_counts().values,\n",
    "    labels=df.schedule_name.value_counts().index,\n",
    "    wedgeprops=dict(width=0.5) # для бублика\n",
    "    )\n",
    "plt.title('Занятость')\n",
    "plt.show"
   ]
  },
  {
   "cell_type": "code",
   "execution_count": 135,
   "metadata": {},
   "outputs": [
    {
     "data": {
      "text/plain": [
       " 'полный день'         32002\n",
       " 'удаленная работа'     8750\n",
       " 'гибкий график'        1794\n",
       " 'сменный график'        866\n",
       " 'вахтовый метод'        119\n",
       "Name: schedule_name, dtype: int64"
      ]
     },
     "execution_count": 135,
     "metadata": {},
     "output_type": "execute_result"
    }
   ],
   "source": [
    "df.schedule_name.value_counts()"
   ]
  },
  {
   "cell_type": "code",
   "execution_count": 136,
   "metadata": {},
   "outputs": [
    {
     "data": {
      "text/plain": [
       " 'полный день'        0.74\n",
       " 'удаленная работа'   0.20\n",
       " 'гибкий график'      0.04\n",
       " 'сменный график'     0.02\n",
       " 'вахтовый метод'     0.00\n",
       "Name: schedule_name, dtype: float64"
      ]
     },
     "execution_count": 136,
     "metadata": {},
     "output_type": "execute_result"
    }
   ],
   "source": [
    "df.schedule_name.value_counts(normalize=True)"
   ]
  },
  {
   "cell_type": "markdown",
   "metadata": {},
   "source": [
    "создаем функцию для разделения на 2 категории: 1) полный день 2) все остальное"
   ]
  },
  {
   "cell_type": "code",
   "execution_count": 137,
   "metadata": {},
   "outputs": [],
   "source": [
    "def fulltime(text):\n",
    "    if text.find('полный день') == -1:\n",
    "        return 0\n",
    "    else:\n",
    "        return 1"
   ]
  },
  {
   "cell_type": "code",
   "execution_count": 138,
   "metadata": {},
   "outputs": [],
   "source": [
    "df['full_time'] = df.schedule_name.apply(fulltime)"
   ]
  },
  {
   "cell_type": "markdown",
   "metadata": {},
   "source": [
    "📌 full_time - категориальный тип данных."
   ]
  },
  {
   "cell_type": "code",
   "execution_count": 139,
   "metadata": {},
   "outputs": [
    {
     "data": {
      "text/plain": [
       "1    32002\n",
       "0    11529\n",
       "Name: full_time, dtype: int64"
      ]
     },
     "execution_count": 139,
     "metadata": {},
     "output_type": "execute_result"
    }
   ],
   "source": [
    "df.full_time.value_counts()"
   ]
  },
  {
   "cell_type": "markdown",
   "metadata": {},
   "source": [
    "посмотрим среднее значение начальных зарплат по этим двум категориям"
   ]
  },
  {
   "cell_type": "code",
   "execution_count": 140,
   "metadata": {},
   "outputs": [
    {
     "data": {
      "text/plain": [
       "full_time\n",
       "0   77,625.61\n",
       "1   75,919.59\n",
       "Name: salary_from_ru, dtype: float64"
      ]
     },
     "execution_count": 140,
     "metadata": {},
     "output_type": "execute_result"
    }
   ],
   "source": [
    "df.groupby('full_time')['salary_from_ru'].mean()"
   ]
  },
  {
   "cell_type": "code",
   "execution_count": 141,
   "metadata": {},
   "outputs": [
    {
     "data": {
      "image/png": "[encoded data removed]",
      "text/plain": [
       "<Figure size 432x432 with 1 Axes>"
      ]
     },
     "metadata": {
      "needs_background": "light"
     },
     "output_type": "display_data"
    }
   ],
   "source": [
    "f, ax = plt.subplots(figsize=(6, 6))\n",
    "fig = sns.boxplot(x='full_time', y='salary_from_ru', data=df)"
   ]
  },
  {
   "cell_type": "markdown",
   "metadata": {},
   "source": [
    "посмотрим значения box-plot"
   ]
  },
  {
   "cell_type": "code",
   "execution_count": 142,
   "metadata": {},
   "outputs": [
    {
     "name": "stdout",
     "output_type": "stream",
     "text": [
      "lower_whisker:  42.0\n",
      "quartile_25:  50000.0\n",
      "median:  70000.0\n",
      "quartile_75:  100000.0\n",
      "upper_whisker:  175000.0\n"
     ]
    }
   ],
   "source": [
    "get_boxplot_values(df[df.full_time == 0]['salary_from_ru'])"
   ]
  },
  {
   "cell_type": "code",
   "execution_count": 143,
   "metadata": {},
   "outputs": [
    {
     "name": "stdout",
     "output_type": "stream",
     "text": [
      "lower_whisker:  25.0\n",
      "quartile_25:  50000.0\n",
      "median:  70000.0\n",
      "quartile_75:  100000.0\n",
      "upper_whisker:  175000.0\n"
     ]
    }
   ],
   "source": [
    "get_boxplot_values(df[df.full_time == 1]['salary_from_ru'])"
   ]
  },
  {
   "cell_type": "markdown",
   "metadata": {},
   "source": [
    "📌 box plot`ы очень похожи. При этом количество значений и средние значения в двух группах разные."
   ]
  },
  {
   "cell_type": "markdown",
   "metadata": {},
   "source": [
    "Проверим гипотезу о наличии статистически значимых различий по уровню начальных зарплат в двух группах вакансий: на полный день и остальные варианты. \n",
    "Так как ранее мы определили, что данные по начальной зарплате не соответствуют нормальному распределению, то с 2-мя группами применяем критерий Манна-Уитни."
   ]
  },
  {
   "cell_type": "code",
   "execution_count": 144,
   "metadata": {},
   "outputs": [],
   "source": [
    "ft = df[['salary_from_ru','full_time']]\n",
    "ft_0 = ft[ft.full_time == 0]\n",
    "ft_1 = ft[ft.full_time == 1]"
   ]
  },
  {
   "cell_type": "code",
   "execution_count": 145,
   "metadata": {},
   "outputs": [
    {
     "data": {
      "text/plain": [
       "MannwhitneyuResult(statistic=182493928.0, pvalue=0.08394857623981809)"
      ]
     },
     "execution_count": 145,
     "metadata": {},
     "output_type": "execute_result"
    }
   ],
   "source": [
    "scipy.stats.mannwhitneyu(ft_0.salary_from_ru, ft_1.salary_from_ru)"
   ]
  },
  {
   "cell_type": "markdown",
   "metadata": {},
   "source": [
    "📌 Оставляем нулевую гипотезу об отсутствии различий между зарплатами по вакансиям на полный день и на part-time. P-value > 0,05"
   ]
  },
  {
   "cell_type": "markdown",
   "metadata": {},
   "source": [
    "### ✂ Почистим dataframe от служебных столбцов"
   ]
  },
  {
   "cell_type": "code",
   "execution_count": 146,
   "metadata": {},
   "outputs": [
    {
     "data": {
      "text/plain": [
       "['id',\n",
       " 'name',\n",
       " 'salary',\n",
       " 'schedule',\n",
       " 'experience',\n",
       " 'key_skills',\n",
       " 'specializations',\n",
       " 'region',\n",
       " 'specializations_jsn',\n",
       " 'profarea_id',\n",
       " 'profarea_id_1',\n",
       " 'salary_currency',\n",
       " 'salary_from',\n",
       " 'salary_from_ru',\n",
       " 'salary_from_ru_median',\n",
       " 'band_salary',\n",
       " 'specializations_name',\n",
       " 'key_skills_jsn',\n",
       " 'key_skills_name',\n",
       " 'pair_skills',\n",
       " 'simple_name',\n",
       " 'experience_name',\n",
       " 'experience_category',\n",
       " 'schedule_name',\n",
       " 'full_time']"
      ]
     },
     "execution_count": 146,
     "metadata": {},
     "output_type": "execute_result"
    }
   ],
   "source": [
    "df.columns.tolist()"
   ]
  },
  {
   "cell_type": "code",
   "execution_count": 147,
   "metadata": {},
   "outputs": [],
   "source": [
    "df = df.drop(\n",
    "    ['salary',\n",
    "    'schedule',\n",
    "    'experience',\n",
    "    'key_skills',\n",
    "    'specializations',\n",
    "    'specializations_jsn',\n",
    "    'profarea_id',\n",
    "    'profarea_id_1',\n",
    "    'salary_currency',\n",
    "    'salary_from',\n",
    "    'key_skills_jsn',\n",
    "    ],\n",
    "    axis=1,\n",
    "    inplace=True)"
   ]
  },
  {
   "cell_type": "markdown",
   "metadata": {},
   "source": [
    "### Посмотрим связь двух категориальных признаков pair_skills по скиллам sql, linux и experience_category"
   ]
  },
  {
   "cell_type": "markdown",
   "metadata": {},
   "source": [
    "построим таблицу сопряженности"
   ]
  },
  {
   "cell_type": "code",
   "execution_count": 151,
   "metadata": {},
   "outputs": [
    {
     "data": {
      "text/html": [
       "<div>\n",
       "<style scoped>\n",
       "    .dataframe tbody tr th:only-of-type {\n",
       "        vertical-align: middle;\n",
       "    }\n",
       "\n",
       "    .dataframe tbody tr th {\n",
       "        vertical-align: top;\n",
       "    }\n",
       "\n",
       "    .dataframe thead th {\n",
       "        text-align: right;\n",
       "    }\n",
       "</style>\n",
       "<table border=\"1\" class=\"dataframe\">\n",
       "  <thead>\n",
       "    <tr style=\"text-align: right;\">\n",
       "      <th>experience_category</th>\n",
       "      <th>0</th>\n",
       "      <th>1</th>\n",
       "      <th>3</th>\n",
       "      <th>6</th>\n",
       "    </tr>\n",
       "    <tr>\n",
       "      <th>pair_skills</th>\n",
       "      <th></th>\n",
       "      <th></th>\n",
       "      <th></th>\n",
       "      <th></th>\n",
       "    </tr>\n",
       "  </thead>\n",
       "  <tbody>\n",
       "    <tr>\n",
       "      <th>0</th>\n",
       "      <td>4317</td>\n",
       "      <td>16455</td>\n",
       "      <td>9570</td>\n",
       "      <td>986</td>\n",
       "    </tr>\n",
       "    <tr>\n",
       "      <th>1</th>\n",
       "      <td>697</td>\n",
       "      <td>5696</td>\n",
       "      <td>3612</td>\n",
       "      <td>255</td>\n",
       "    </tr>\n",
       "    <tr>\n",
       "      <th>2</th>\n",
       "      <td>110</td>\n",
       "      <td>996</td>\n",
       "      <td>765</td>\n",
       "      <td>72</td>\n",
       "    </tr>\n",
       "  </tbody>\n",
       "</table>\n",
       "</div>"
      ],
      "text/plain": [
       "experience_category     0      1     3    6\n",
       "pair_skills                                \n",
       "0                    4317  16455  9570  986\n",
       "1                     697   5696  3612  255\n",
       "2                     110    996   765   72"
      ]
     },
     "execution_count": 151,
     "metadata": {},
     "output_type": "execute_result"
    }
   ],
   "source": [
    "skills_experience = pd.crosstab(df.pair_skills, df.experience_category)\n",
    "skills_experience"
   ]
  },
  {
   "cell_type": "markdown",
   "metadata": {},
   "source": [
    "тоже в долях"
   ]
  },
  {
   "cell_type": "code",
   "execution_count": 150,
   "metadata": {},
   "outputs": [
    {
     "data": {
      "text/html": [
       "<div>\n",
       "<style scoped>\n",
       "    .dataframe tbody tr th:only-of-type {\n",
       "        vertical-align: middle;\n",
       "    }\n",
       "\n",
       "    .dataframe tbody tr th {\n",
       "        vertical-align: top;\n",
       "    }\n",
       "\n",
       "    .dataframe thead th {\n",
       "        text-align: right;\n",
       "    }\n",
       "</style>\n",
       "<table border=\"1\" class=\"dataframe\">\n",
       "  <thead>\n",
       "    <tr style=\"text-align: right;\">\n",
       "      <th>experience_category</th>\n",
       "      <th>0</th>\n",
       "      <th>1</th>\n",
       "      <th>3</th>\n",
       "      <th>6</th>\n",
       "    </tr>\n",
       "    <tr>\n",
       "      <th>pair_skills</th>\n",
       "      <th></th>\n",
       "      <th></th>\n",
       "      <th></th>\n",
       "      <th></th>\n",
       "    </tr>\n",
       "  </thead>\n",
       "  <tbody>\n",
       "    <tr>\n",
       "      <th>0</th>\n",
       "      <td>0.10</td>\n",
       "      <td>0.38</td>\n",
       "      <td>0.22</td>\n",
       "      <td>0.02</td>\n",
       "    </tr>\n",
       "    <tr>\n",
       "      <th>1</th>\n",
       "      <td>0.02</td>\n",
       "      <td>0.13</td>\n",
       "      <td>0.08</td>\n",
       "      <td>0.01</td>\n",
       "    </tr>\n",
       "    <tr>\n",
       "      <th>2</th>\n",
       "      <td>0.00</td>\n",
       "      <td>0.02</td>\n",
       "      <td>0.02</td>\n",
       "      <td>0.00</td>\n",
       "    </tr>\n",
       "  </tbody>\n",
       "</table>\n",
       "</div>"
      ],
      "text/plain": [
       "experience_category    0    1    3    6\n",
       "pair_skills                            \n",
       "0                   0.10 0.38 0.22 0.02\n",
       "1                   0.02 0.13 0.08 0.01\n",
       "2                   0.00 0.02 0.02 0.00"
      ]
     },
     "execution_count": 150,
     "metadata": {},
     "output_type": "execute_result"
    }
   ],
   "source": [
    "skills_experience = pd.crosstab(df.pair_skills, df.experience_category,normalize=True)\n",
    "skills_experience"
   ]
  },
  {
   "cell_type": "markdown",
   "metadata": {},
   "source": [
    "📌 больше всего указанной пары скиллов требуется для претендентов с опытом работы от 1 года до 3 лет, что соответствует доли этой группы претендентов (53%)"
   ]
  },
  {
   "cell_type": "code",
   "execution_count": 152,
   "metadata": {},
   "outputs": [
    {
     "data": {
      "text/plain": [
       "<AxesSubplot:xlabel='experience_category', ylabel='count'>"
      ]
     },
     "execution_count": 152,
     "metadata": {},
     "output_type": "execute_result"
    },
    {
     "data": {
      "image/png": "[encoded data removed]",
      "text/plain": [
       "<Figure size 432x288 with 1 Axes>"
      ]
     },
     "metadata": {
      "needs_background": "light"
     },
     "output_type": "display_data"
    }
   ],
   "source": [
    "sns.countplot(x=df.experience_category, hue=df.pair_skills)"
   ]
  },
  {
   "cell_type": "code",
   "execution_count": 153,
   "metadata": {},
   "outputs": [
    {
     "name": "stdout",
     "output_type": "stream",
     "text": [
      "test Statistics: 500.2889167500358\n",
      "degrees of freedom: 6\n",
      "p-value: 7.285613666431145e-105\n",
      "\n"
     ]
    }
   ],
   "source": [
    "chi2, prob, dof, expected = scipy.stats.chi2_contingency(skills_experience)\n",
    "output = \"test Statistics: {}\\ndegrees of freedom: {}\\np-value: {}\\n\"\n",
    " \n",
    "print(output.format( chi2, dof, prob))"
   ]
  },
  {
   "cell_type": "markdown",
   "metadata": {},
   "source": [
    "📌 Отвергаем нулевую гипотезу о незначимости связи между pair_skills и experience_category (p-value < 0,05)."
   ]
  },
  {
   "cell_type": "markdown",
   "metadata": {},
   "source": [
    "### Создадим dataframe df_stat для анализа средней зарплаты, сгруппированных вакансий, среднего количества скиллов по вакансии. Есть ли связь между данными показателями?"
   ]
  },
  {
   "cell_type": "markdown",
   "metadata": {},
   "source": [
    "создадим функцию для подсчета количества элементов в списке"
   ]
  },
  {
   "cell_type": "code",
   "execution_count": 154,
   "metadata": {},
   "outputs": [],
   "source": [
    "def sum_obj(lst):\n",
    "    return len(lst)"
   ]
  },
  {
   "cell_type": "code",
   "execution_count": 157,
   "metadata": {},
   "outputs": [
    {
     "data": {
      "text/html": [
       "<div>\n",
       "<style scoped>\n",
       "    .dataframe tbody tr th:only-of-type {\n",
       "        vertical-align: middle;\n",
       "    }\n",
       "\n",
       "    .dataframe tbody tr th {\n",
       "        vertical-align: top;\n",
       "    }\n",
       "\n",
       "    .dataframe thead th {\n",
       "        text-align: right;\n",
       "    }\n",
       "</style>\n",
       "<table border=\"1\" class=\"dataframe\">\n",
       "  <thead>\n",
       "    <tr style=\"text-align: right;\">\n",
       "      <th></th>\n",
       "      <th>id</th>\n",
       "      <th>name</th>\n",
       "      <th>region</th>\n",
       "      <th>salary_from_ru</th>\n",
       "      <th>salary_from_ru_median</th>\n",
       "      <th>band_salary</th>\n",
       "      <th>specializations_name</th>\n",
       "      <th>key_skills_name</th>\n",
       "      <th>pair_skills</th>\n",
       "      <th>simple_name</th>\n",
       "      <th>experience_name</th>\n",
       "      <th>experience_category</th>\n",
       "      <th>schedule_name</th>\n",
       "      <th>full_time</th>\n",
       "      <th>sum_skills</th>\n",
       "    </tr>\n",
       "  </thead>\n",
       "  <tbody>\n",
       "    <tr>\n",
       "      <th>0</th>\n",
       "      <td>50632962</td>\n",
       "      <td>консультант по информационной безопасности</td>\n",
       "      <td>Москва</td>\n",
       "      <td>100,000.00</td>\n",
       "      <td>100,000.00</td>\n",
       "      <td>от 50 до 100 т.р. вкл</td>\n",
       "      <td>[компьютерная безопасность, консалтинг, аутсор...</td>\n",
       "      <td>[информационная безопасность, аудит информацио...</td>\n",
       "      <td>0</td>\n",
       "      <td>security</td>\n",
       "      <td>'от 1 года до 3 лет'</td>\n",
       "      <td>1</td>\n",
       "      <td>'полный день'</td>\n",
       "      <td>1</td>\n",
       "      <td>13</td>\n",
       "    </tr>\n",
       "  </tbody>\n",
       "</table>\n",
       "</div>"
      ],
      "text/plain": [
       "         id                                        name  region  \\\n",
       "0  50632962  консультант по информационной безопасности  Москва   \n",
       "\n",
       "   salary_from_ru  salary_from_ru_median            band_salary  \\\n",
       "0      100,000.00             100,000.00  от 50 до 100 т.р. вкл   \n",
       "\n",
       "                                specializations_name  \\\n",
       "0  [компьютерная безопасность, консалтинг, аутсор...   \n",
       "\n",
       "                                     key_skills_name  pair_skills simple_name  \\\n",
       "0  [информационная безопасность, аудит информацио...            0    security   \n",
       "\n",
       "         experience_name  experience_category   schedule_name  full_time  \\\n",
       "0   'от 1 года до 3 лет'                    1   'полный день'          1   \n",
       "\n",
       "   sum_skills  \n",
       "0          13  "
      ]
     },
     "execution_count": 157,
     "metadata": {},
     "output_type": "execute_result"
    }
   ],
   "source": [
    "df.head(1)"
   ]
  },
  {
   "cell_type": "markdown",
   "metadata": {},
   "source": [
    "просуммируем количество скиллов по вакансии"
   ]
  },
  {
   "cell_type": "code",
   "execution_count": 155,
   "metadata": {},
   "outputs": [],
   "source": [
    "df['sum_skills'] = df.key_skills_name.apply(sum_obj)"
   ]
  },
  {
   "cell_type": "code",
   "execution_count": 156,
   "metadata": {},
   "outputs": [
    {
     "data": {
      "text/plain": [
       "(43531, 15)"
      ]
     },
     "execution_count": 156,
     "metadata": {},
     "output_type": "execute_result"
    }
   ],
   "source": [
    "df.shape"
   ]
  },
  {
   "cell_type": "markdown",
   "metadata": {},
   "source": [
    "подсчитаем среднее количество скиллов по каждой вакансии"
   ]
  },
  {
   "cell_type": "code",
   "execution_count": 158,
   "metadata": {},
   "outputs": [],
   "source": [
    "df_stat_1 = (df\n",
    "    .groupby('simple_name')['sum_skills']\n",
    "    .mean()\n",
    "    .reset_index()\n",
    ")"
   ]
  },
  {
   "cell_type": "markdown",
   "metadata": {},
   "source": [
    "заджойним с sn (salary_name) по столбцу 'simple_name'"
   ]
  },
  {
   "cell_type": "code",
   "execution_count": 159,
   "metadata": {},
   "outputs": [],
   "source": [
    "df_stat_1 = df_stat_1.merge(sn, on='simple_name',how='inner')"
   ]
  },
  {
   "cell_type": "code",
   "execution_count": 160,
   "metadata": {},
   "outputs": [
    {
     "data": {
      "text/html": [
       "<div>\n",
       "<style scoped>\n",
       "    .dataframe tbody tr th:only-of-type {\n",
       "        vertical-align: middle;\n",
       "    }\n",
       "\n",
       "    .dataframe tbody tr th {\n",
       "        vertical-align: top;\n",
       "    }\n",
       "\n",
       "    .dataframe thead th {\n",
       "        text-align: right;\n",
       "    }\n",
       "</style>\n",
       "<table border=\"1\" class=\"dataframe\">\n",
       "  <thead>\n",
       "    <tr style=\"text-align: right;\">\n",
       "      <th></th>\n",
       "      <th>simple_name</th>\n",
       "      <th>sum_skills</th>\n",
       "      <th>count</th>\n",
       "      <th>mean</th>\n",
       "      <th>median</th>\n",
       "      <th>max</th>\n",
       "      <th>min</th>\n",
       "    </tr>\n",
       "  </thead>\n",
       "  <tbody>\n",
       "    <tr>\n",
       "      <th>0</th>\n",
       "      <td>.net</td>\n",
       "      <td>7.40</td>\n",
       "      <td>243</td>\n",
       "      <td>76,269.55</td>\n",
       "      <td>65,000.00</td>\n",
       "      <td>220,000.00</td>\n",
       "      <td>34,500.00</td>\n",
       "    </tr>\n",
       "    <tr>\n",
       "      <th>1</th>\n",
       "      <td>1c</td>\n",
       "      <td>8.31</td>\n",
       "      <td>4815</td>\n",
       "      <td>82,105.26</td>\n",
       "      <td>70,000.00</td>\n",
       "      <td>230,000.00</td>\n",
       "      <td>60.00</td>\n",
       "    </tr>\n",
       "  </tbody>\n",
       "</table>\n",
       "</div>"
      ],
      "text/plain": [
       "  simple_name  sum_skills  count      mean    median        max       min\n",
       "0        .net        7.40    243 76,269.55 65,000.00 220,000.00 34,500.00\n",
       "1          1c        8.31   4815 82,105.26 70,000.00 230,000.00     60.00"
      ]
     },
     "execution_count": 160,
     "metadata": {},
     "output_type": "execute_result"
    }
   ],
   "source": [
    "df_stat_1[:2]"
   ]
  },
  {
   "cell_type": "markdown",
   "metadata": {},
   "source": [
    "переименуем столбцы"
   ]
  },
  {
   "cell_type": "code",
   "execution_count": 161,
   "metadata": {},
   "outputs": [],
   "source": [
    "df_stat_1 = df_stat_1.rename(columns={\n",
    "                        'mean': 'salary_mean',\n",
    "                        'count': 'count_simple_name',\n",
    "                        'sum_skills': 'skills_mean',\n",
    "                        'median': 'salary_median',\n",
    "                        'max': 'salary_max',\n",
    "                        'min': 'salary_min'})"
   ]
  },
  {
   "cell_type": "code",
   "execution_count": 162,
   "metadata": {},
   "outputs": [
    {
     "data": {
      "text/html": [
       "<div>\n",
       "<style scoped>\n",
       "    .dataframe tbody tr th:only-of-type {\n",
       "        vertical-align: middle;\n",
       "    }\n",
       "\n",
       "    .dataframe tbody tr th {\n",
       "        vertical-align: top;\n",
       "    }\n",
       "\n",
       "    .dataframe thead th {\n",
       "        text-align: right;\n",
       "    }\n",
       "</style>\n",
       "<table border=\"1\" class=\"dataframe\">\n",
       "  <thead>\n",
       "    <tr style=\"text-align: right;\">\n",
       "      <th></th>\n",
       "      <th>simple_name</th>\n",
       "      <th>skills_mean</th>\n",
       "      <th>count_simple_name</th>\n",
       "      <th>salary_mean</th>\n",
       "      <th>salary_median</th>\n",
       "      <th>salary_max</th>\n",
       "      <th>salary_min</th>\n",
       "    </tr>\n",
       "  </thead>\n",
       "  <tbody>\n",
       "    <tr>\n",
       "      <th>0</th>\n",
       "      <td>.net</td>\n",
       "      <td>7.40</td>\n",
       "      <td>243</td>\n",
       "      <td>76,269.55</td>\n",
       "      <td>65,000.00</td>\n",
       "      <td>220,000.00</td>\n",
       "      <td>34,500.00</td>\n",
       "    </tr>\n",
       "    <tr>\n",
       "      <th>1</th>\n",
       "      <td>1c</td>\n",
       "      <td>8.31</td>\n",
       "      <td>4815</td>\n",
       "      <td>82,105.26</td>\n",
       "      <td>70,000.00</td>\n",
       "      <td>230,000.00</td>\n",
       "      <td>60.00</td>\n",
       "    </tr>\n",
       "    <tr>\n",
       "      <th>2</th>\n",
       "      <td>2d 3d</td>\n",
       "      <td>7.39</td>\n",
       "      <td>340</td>\n",
       "      <td>78,010.31</td>\n",
       "      <td>89,000.00</td>\n",
       "      <td>175,000.00</td>\n",
       "      <td>20,000.00</td>\n",
       "    </tr>\n",
       "    <tr>\n",
       "      <th>3</th>\n",
       "      <td>android</td>\n",
       "      <td>7.02</td>\n",
       "      <td>403</td>\n",
       "      <td>81,977.05</td>\n",
       "      <td>80,000.00</td>\n",
       "      <td>245,000.00</td>\n",
       "      <td>35,000.00</td>\n",
       "    </tr>\n",
       "    <tr>\n",
       "      <th>4</th>\n",
       "      <td>backend</td>\n",
       "      <td>7.43</td>\n",
       "      <td>263</td>\n",
       "      <td>87,257.62</td>\n",
       "      <td>80,000.00</td>\n",
       "      <td>240,000.00</td>\n",
       "      <td>15,000.00</td>\n",
       "    </tr>\n",
       "  </tbody>\n",
       "</table>\n",
       "</div>"
      ],
      "text/plain": [
       "  simple_name  skills_mean  count_simple_name  salary_mean  salary_median  \\\n",
       "0        .net         7.40                243    76,269.55      65,000.00   \n",
       "1          1c         8.31               4815    82,105.26      70,000.00   \n",
       "2       2d 3d         7.39                340    78,010.31      89,000.00   \n",
       "3     android         7.02                403    81,977.05      80,000.00   \n",
       "4     backend         7.43                263    87,257.62      80,000.00   \n",
       "\n",
       "   salary_max  salary_min  \n",
       "0  220,000.00   34,500.00  \n",
       "1  230,000.00       60.00  \n",
       "2  175,000.00   20,000.00  \n",
       "3  245,000.00   35,000.00  \n",
       "4  240,000.00   15,000.00  "
      ]
     },
     "execution_count": 162,
     "metadata": {},
     "output_type": "execute_result"
    }
   ],
   "source": [
    "df_stat_1.head()"
   ]
  },
  {
   "cell_type": "markdown",
   "metadata": {},
   "source": [
    "визуализируем парные зависимости между 3-мя переменными: средней зарплатой по вакансии, количеством той или иной вакансии, средним значением количества скиллов по вакансии."
   ]
  },
  {
   "cell_type": "code",
   "execution_count": 163,
   "metadata": {},
   "outputs": [
    {
     "name": "stderr",
     "output_type": "stream",
     "text": [
      "*c* argument looks like a single numeric RGB or RGBA sequence, which should be avoided as value-mapping will have precedence in case its length matches with *x* & *y*.  Please use the *color* keyword-argument or provide a 2D array with a single row if you intend to specify the same RGB or RGBA value for all points.\n"
     ]
    },
    {
     "data": {
      "text/plain": [
       "<AxesSubplot:xlabel='salary_mean', ylabel='count_simple_name'>"
      ]
     },
     "execution_count": 163,
     "metadata": {},
     "output_type": "execute_result"
    },
    {
     "data": {
      "image/png": "[encoded data removed]",
      "text/plain": [
       "<Figure size 432x288 with 1 Axes>"
      ]
     },
     "metadata": {
      "needs_background": "light"
     },
     "output_type": "display_data"
    }
   ],
   "source": [
    "df_stat_1.plot('salary_mean', 'count_simple_name', kind='scatter')"
   ]
  },
  {
   "cell_type": "markdown",
   "metadata": {},
   "source": [
    "📌 влияние средней зарплаты и количества вакансии не наблюдается"
   ]
  },
  {
   "cell_type": "code",
   "execution_count": 164,
   "metadata": {},
   "outputs": [
    {
     "name": "stderr",
     "output_type": "stream",
     "text": [
      "*c* argument looks like a single numeric RGB or RGBA sequence, which should be avoided as value-mapping will have precedence in case its length matches with *x* & *y*.  Please use the *color* keyword-argument or provide a 2D array with a single row if you intend to specify the same RGB or RGBA value for all points.\n"
     ]
    },
    {
     "data": {
      "text/plain": [
       "<AxesSubplot:xlabel='salary_mean', ylabel='skills_mean'>"
      ]
     },
     "execution_count": 164,
     "metadata": {},
     "output_type": "execute_result"
    },
    {
     "data": {
      "image/png": "[encoded data removed]",
      "text/plain": [
       "<Figure size 432x288 with 1 Axes>"
      ]
     },
     "metadata": {
      "needs_background": "light"
     },
     "output_type": "display_data"
    }
   ],
   "source": [
    "df_stat_1.plot('salary_mean', 'skills_mean', kind='scatter')"
   ]
  },
  {
   "cell_type": "markdown",
   "metadata": {},
   "source": [
    "📌 влияние средней зарплаты и среднего количества скиллов по вакансии скорее отсутствует"
   ]
  },
  {
   "cell_type": "code",
   "execution_count": 168,
   "metadata": {},
   "outputs": [
    {
     "name": "stderr",
     "output_type": "stream",
     "text": [
      "*c* argument looks like a single numeric RGB or RGBA sequence, which should be avoided as value-mapping will have precedence in case its length matches with *x* & *y*.  Please use the *color* keyword-argument or provide a 2D array with a single row if you intend to specify the same RGB or RGBA value for all points.\n"
     ]
    },
    {
     "data": {
      "text/plain": [
       "<AxesSubplot:xlabel='count_simple_name', ylabel='skills_mean'>"
      ]
     },
     "execution_count": 168,
     "metadata": {},
     "output_type": "execute_result"
    },
    {
     "data": {
      "image/png": "[encoded data removed]",
      "text/plain": [
       "<Figure size 432x288 with 1 Axes>"
      ]
     },
     "metadata": {
      "needs_background": "light"
     },
     "output_type": "display_data"
    }
   ],
   "source": [
    "df_stat_1.plot('count_simple_name', 'skills_mean', kind='scatter')"
   ]
  },
  {
   "cell_type": "markdown",
   "metadata": {},
   "source": [
    "📌 возможно есть определенное влияние количества вакансии и среднего количества скиллов по данной вакансии"
   ]
  },
  {
   "cell_type": "markdown",
   "metadata": {},
   "source": [
    "уберем выбросы"
   ]
  },
  {
   "cell_type": "code",
   "execution_count": 166,
   "metadata": {},
   "outputs": [],
   "source": [
    "df_stat_2 = df_stat_1[~df_stat_1.simple_name.isin(['yandex', 'other'])]"
   ]
  },
  {
   "cell_type": "code",
   "execution_count": 169,
   "metadata": {},
   "outputs": [
    {
     "name": "stderr",
     "output_type": "stream",
     "text": [
      "*c* argument looks like a single numeric RGB or RGBA sequence, which should be avoided as value-mapping will have precedence in case its length matches with *x* & *y*.  Please use the *color* keyword-argument or provide a 2D array with a single row if you intend to specify the same RGB or RGBA value for all points.\n"
     ]
    },
    {
     "data": {
      "text/plain": [
       "<AxesSubplot:xlabel='count_simple_name', ylabel='skills_mean'>"
      ]
     },
     "execution_count": 169,
     "metadata": {},
     "output_type": "execute_result"
    },
    {
     "data": {
      "image/png": "[encoded data removed]",
      "text/plain": [
       "<Figure size 432x288 with 1 Axes>"
      ]
     },
     "metadata": {
      "needs_background": "light"
     },
     "output_type": "display_data"
    }
   ],
   "source": [
    "df_stat_2.plot('count_simple_name', 'skills_mean', kind='scatter')"
   ]
  },
  {
   "cell_type": "markdown",
   "metadata": {},
   "source": [
    "построим график парной регрессии"
   ]
  },
  {
   "cell_type": "code",
   "execution_count": 170,
   "metadata": {},
   "outputs": [
    {
     "name": "stderr",
     "output_type": "stream",
     "text": [
      "/home/shulz/.local/share/virtualenvs/learn-data-iW9cjtb-/lib/python3.10/site-packages/seaborn/_decorators.py:36: FutureWarning: Pass the following variables as keyword args: x, y. From version 0.12, the only valid positional argument will be `data`, and passing other arguments without an explicit keyword will result in an error or misinterpretation.\n",
      "  warnings.warn(\n"
     ]
    },
    {
     "data": {
      "text/plain": [
       "<seaborn.axisgrid.JointGrid at 0x7f069a0a68f0>"
      ]
     },
     "execution_count": 170,
     "metadata": {},
     "output_type": "execute_result"
    },
    {
     "data": {
      "image/png": "[encoded data removed]",
      "text/plain": [
       "<Figure size 432x432 with 3 Axes>"
      ]
     },
     "metadata": {
      "needs_background": "light"
     },
     "output_type": "display_data"
    }
   ],
   "source": [
    "sns.jointplot('count_simple_name', 'skills_mean', data=df_stat_2, kind=\"reg\")"
   ]
  },
  {
   "cell_type": "markdown",
   "metadata": {},
   "source": [
    "📌 Возможно есть определенная зависимость среднего значения количества скиллов по вакансии от количества вакансий. Облако не плотное вдоль построенной прямой. Доверительный интервал регрессионной функции относительно широкий.\n",
    "Посмотрим как изменяется среднее значение количества скиллов (skills_mean - целевая переменная) от количества вакансий (count_simple_name - значение фактора)."
   ]
  },
  {
   "cell_type": "code",
   "execution_count": 171,
   "metadata": {},
   "outputs": [],
   "source": [
    "LR = lm.LinearRegression()"
   ]
  },
  {
   "cell_type": "code",
   "execution_count": 172,
   "metadata": {},
   "outputs": [],
   "source": [
    "mod1 = LR.fit(df_stat_2[['count_simple_name']], df_stat_2[['skills_mean']])"
   ]
  },
  {
   "cell_type": "code",
   "execution_count": 173,
   "metadata": {},
   "outputs": [
    {
     "data": {
      "text/plain": [
       "(array([7.69400078]), array([[0.00021991]]))"
      ]
     },
     "execution_count": 173,
     "metadata": {},
     "output_type": "execute_result"
    }
   ],
   "source": [
    "mod1.intercept_, mod1.coef_"
   ]
  },
  {
   "cell_type": "markdown",
   "metadata": {},
   "source": [
    "Формула модели:\n",
    "<skills_mean> = <count_simple_name> x <0.00021991> + <7.694>"
   ]
  },
  {
   "cell_type": "code",
   "execution_count": 174,
   "metadata": {},
   "outputs": [
    {
     "data": {
      "text/plain": [
       "0.2959910224315101"
      ]
     },
     "execution_count": 174,
     "metadata": {},
     "output_type": "execute_result"
    }
   ],
   "source": [
    "r2 = mod1.score(df_stat_2[['count_simple_name']],df_stat_2[['skills_mean']])\n",
    "r2"
   ]
  },
  {
   "cell_type": "markdown",
   "metadata": {},
   "source": [
    "📌 Коэффициент детерминации составляет 29,6 %, что достаточно мало для утверждения о том, что данные показатели основные, влияющие друг на друга."
   ]
  },
  {
   "cell_type": "markdown",
   "metadata": {},
   "source": [
    "#### OLS"
   ]
  },
  {
   "cell_type": "code",
   "execution_count": 175,
   "metadata": {},
   "outputs": [
    {
     "data": {
      "text/html": [
       "<table class=\"simpletable\">\n",
       "<caption>OLS Regression Results</caption>\n",
       "<tr>\n",
       "  <th>Dep. Variable:</th>       <td>skills_mean</td>   <th>  R-squared:         </th> <td>   0.296</td>\n",
       "</tr>\n",
       "<tr>\n",
       "  <th>Model:</th>                   <td>OLS</td>       <th>  Adj. R-squared:    </th> <td>   0.270</td>\n",
       "</tr>\n",
       "<tr>\n",
       "  <th>Method:</th>             <td>Least Squares</td>  <th>  F-statistic:       </th> <td>   11.35</td>\n",
       "</tr>\n",
       "<tr>\n",
       "  <th>Date:</th>             <td>Thu, 01 Sep 2022</td> <th>  Prob (F-statistic):</th>  <td>0.00228</td>\n",
       "</tr>\n",
       "<tr>\n",
       "  <th>Time:</th>                 <td>14:00:54</td>     <th>  Log-Likelihood:    </th> <td> -14.105</td>\n",
       "</tr>\n",
       "<tr>\n",
       "  <th>No. Observations:</th>      <td>    29</td>      <th>  AIC:               </th> <td>   32.21</td>\n",
       "</tr>\n",
       "<tr>\n",
       "  <th>Df Residuals:</th>          <td>    27</td>      <th>  BIC:               </th> <td>   34.94</td>\n",
       "</tr>\n",
       "<tr>\n",
       "  <th>Df Model:</th>              <td>     1</td>      <th>                     </th>     <td> </td>   \n",
       "</tr>\n",
       "<tr>\n",
       "  <th>Covariance Type:</th>      <td>nonrobust</td>    <th>                     </th>     <td> </td>   \n",
       "</tr>\n",
       "</table>\n",
       "<table class=\"simpletable\">\n",
       "<tr>\n",
       "          <td></td>             <th>coef</th>     <th>std err</th>      <th>t</th>      <th>P>|t|</th>  <th>[0.025</th>    <th>0.975]</th>  \n",
       "</tr>\n",
       "<tr>\n",
       "  <th>Intercept</th>         <td>    7.6940</td> <td>    0.101</td> <td>   75.812</td> <td> 0.000</td> <td>    7.486</td> <td>    7.902</td>\n",
       "</tr>\n",
       "<tr>\n",
       "  <th>count_simple_name</th> <td>    0.0002</td> <td> 6.53e-05</td> <td>    3.369</td> <td> 0.002</td> <td>  8.6e-05</td> <td>    0.000</td>\n",
       "</tr>\n",
       "</table>\n",
       "<table class=\"simpletable\">\n",
       "<tr>\n",
       "  <th>Omnibus:</th>       <td> 1.270</td> <th>  Durbin-Watson:     </th> <td>   1.684</td>\n",
       "</tr>\n",
       "<tr>\n",
       "  <th>Prob(Omnibus):</th> <td> 0.530</td> <th>  Jarque-Bera (JB):  </th> <td>   1.158</td>\n",
       "</tr>\n",
       "<tr>\n",
       "  <th>Skew:</th>          <td> 0.338</td> <th>  Prob(JB):          </th> <td>   0.560</td>\n",
       "</tr>\n",
       "<tr>\n",
       "  <th>Kurtosis:</th>      <td> 2.292</td> <th>  Cond. No.          </th> <td>2.08e+03</td>\n",
       "</tr>\n",
       "</table><br/><br/>Notes:<br/>[1] Standard Errors assume that the covariance matrix of the errors is correctly specified.<br/>[2] The condition number is large, 2.08e+03. This might indicate that there are<br/>strong multicollinearity or other numerical problems."
      ],
      "text/plain": [
       "<class 'statsmodels.iolib.summary.Summary'>\n",
       "\"\"\"\n",
       "                            OLS Regression Results                            \n",
       "==============================================================================\n",
       "Dep. Variable:            skills_mean   R-squared:                       0.296\n",
       "Model:                            OLS   Adj. R-squared:                  0.270\n",
       "Method:                 Least Squares   F-statistic:                     11.35\n",
       "Date:                Thu, 01 Sep 2022   Prob (F-statistic):            0.00228\n",
       "Time:                        14:00:54   Log-Likelihood:                -14.105\n",
       "No. Observations:                  29   AIC:                             32.21\n",
       "Df Residuals:                      27   BIC:                             34.94\n",
       "Df Model:                           1                                         \n",
       "Covariance Type:            nonrobust                                         \n",
       "=====================================================================================\n",
       "                        coef    std err          t      P>|t|      [0.025      0.975]\n",
       "-------------------------------------------------------------------------------------\n",
       "Intercept             7.6940      0.101     75.812      0.000       7.486       7.902\n",
       "count_simple_name     0.0002   6.53e-05      3.369      0.002     8.6e-05       0.000\n",
       "==============================================================================\n",
       "Omnibus:                        1.270   Durbin-Watson:                   1.684\n",
       "Prob(Omnibus):                  0.530   Jarque-Bera (JB):                1.158\n",
       "Skew:                           0.338   Prob(JB):                        0.560\n",
       "Kurtosis:                       2.292   Cond. No.                     2.08e+03\n",
       "==============================================================================\n",
       "\n",
       "Notes:\n",
       "[1] Standard Errors assume that the covariance matrix of the errors is correctly specified.\n",
       "[2] The condition number is large, 2.08e+03. This might indicate that there are\n",
       "strong multicollinearity or other numerical problems.\n",
       "\"\"\""
      ]
     },
     "execution_count": 175,
     "metadata": {},
     "output_type": "execute_result"
    }
   ],
   "source": [
    "res_1 = smf.ols('skills_mean ~ count_simple_name', data=df_stat_2).fit()\n",
    "res_1.summary()"
   ]
  },
  {
   "cell_type": "markdown",
   "metadata": {},
   "source": [
    "📌 Что мы видим: коэффициент детерминации R-squared равен 29,6% - присутствует определенное влияние факторов, эти факторы возможно связаны функциональной зависимостью.\n",
    "\n",
    "p-value < 0,05 (0,00228)\n",
    "что позволяет нам отвергнуть нулевую гипотезу о неадекватности нашей модели.\n",
    "\n",
    "Однако, данный анализ имеет недостаточное практическое значение и скорее нужен для учебных целей."
   ]
  },
  {
   "cell_type": "markdown",
   "metadata": {},
   "source": [
    "## Выводы"
   ]
  },
  {
   "cell_type": "markdown",
   "metadata": {},
   "source": [
    "📌 Мы провели первичный анализ датасета и анализ колонок. Очистили датасет от данных, не относящихся к IT.\n",
    "\n",
    "Вытащили данные по начальной зарплате (salary from). Привели все зарплаты к единой валюте (RUR). Пустые ячейки заполнили медианными значениями зарплаты в зависимости от региона. После заполнения пустых ячеек медиана по зарплате увеличилась  65 тыс.руб.с до 76 тыс.руб. Получается, что пустые ячейки по зарплатам были заполнены более высокими значениями.\n",
    "В лидерах по уровню зарплаты регионы Москва, Санкт-Петербург, Адыгея (данный регион скорее всего попал в топ случайно). В аутсайдерах регионы Северного Кавказа.\n",
    "\n",
    "Средняя медиана по стране составляет 46 тыс.руб. Самые высокие медианы зарплат у специалистов devops, ui/ux и продактов ( по 100 т.руб.). Следом идут тестировщики и аналитики (по 89 т.руб.). У специалистов ERP минимальная зарплата самая высокая среди других групп, правда и их количество всего лишь 38\n",
    "\n",
    "Построенная гистограмма распределения частоты специализации показывает отсутствие концентрации вакансий по нескольким специализациям.  Наоборот, очень много маленьких групп с частотой специализации от 1 до 6. Наибольшее количество упоминаний у специализаций: 1) инженер - 30881, 2) программирование, разработка - 21722, и 3) системы управления предприятием (erp) - 16082. \n",
    "Можно предположить наличие спроса на кандидатов с инженерным мышлением/образованием/бэкграундом для разработки с пониманием бизнеса и процессов на предприятиях.\n",
    "\n",
    "Анализ столбца key_skills показал, что  наибольшая частота упоминаний у SQL, Linux и Git. Среди лидеров такие языки программирования, как Python и JavaScript.\n",
    "Из 43 тыс. наблюдений в 12 тыс. случаев указаны скиллы из лидеров: SQL, Linux. Почти в 2 тыс. вакансиях указаны оба этих скилла.\n",
    "Мы проанализировали наличие связи между зарплатой и наличием указанных скиллов (1 или 2). Тест Краскела-Уоллиса позволяет сделать заключение о том, что сравниваемые группы статистически значимо различаются (p < 0,05) Наличие таких скиллов как 'sql', 'linux' увеличивает средний размер предлагаемой начальной зарплаты.\n",
    "\n",
    "Больше всего вакансий с опытом работы от 1 года до 3-х лет (53%). Для кандидатов без опыта доля вакансий составляет всего 12%. \n",
    "Занятость на полный день преобладает в вакансиях (73%). Похожесть boxplot с вакансиями на полный рабочий день и остальных дает нам основание предположить, что по зарплатам эти группы тоже схожи. Анализ по критерию Манна-Уитни не позволил отклонить нулевую гипотезу об отсутствии различий между зарплатами по вакансиям на полный день и на part-time. P-value > 0,05.\n",
    "\n",
    "Анализ таблицы сопряженности для двух категориальных признаков pair_skills по скиллам sql, linux и experience_category позволил отвергнуть нулевую гипотезу о незначимости связи между pair_skills и experience_category (p-value < 0,05).\n",
    "\n",
    "Скорее в учебных целях, построили модель линейной регресии, показывающую как изменяется среднее значение количества скиллов по вакансии от количества вакансий. Был подсчитан коэффициент детерминации, который составил 29,6%, что достаточно мало для утверждения о том, что данные показатели основные, влияющие друг на друга. При этом p-value составил 0,00228, что позволило нам отвергнуть нулевую гипотезу о неадекватности нашей модели.\n",
    "\n"
   ]
  }
 ],
 "metadata": {
  "interpreter": {
   "hash": "fd975b5008f75ca011c9cbd473d425e61cbcc6f13893501ac3aa968d92c7c8cc"
  },
  "kernelspec": {
   "display_name": "Python 3.10.4 ('learn-data-iW9cjtb-')",
   "language": "python",
   "name": "python3"
  },
  "language_info": {
   "codemirror_mode": {
    "name": "ipython",
    "version": 3
   },
   "file_extension": ".py",
   "mimetype": "text/x-python",
   "name": "python",
   "nbconvert_exporter": "python",
   "pygments_lexer": "ipython3",
   "version": "3.10.4"
  },
  "orig_nbformat": 4
 },
 "nbformat": 4,
 "nbformat_minor": 2
}
