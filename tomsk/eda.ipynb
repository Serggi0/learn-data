{
 "cells": [
  {
   "cell_type": "markdown",
   "metadata": {},
   "source": [
    "# Разведочный анализ данных (exploratory data analysis, EDA)"
   ]
  },
  {
   "cell_type": "markdown",
   "metadata": {},
   "source": [
    "# Подготовка"
   ]
  },
  {
   "cell_type": "markdown",
   "metadata": {},
   "source": [
    "### Импорты"
   ]
  },
  {
   "cell_type": "code",
   "execution_count": 1,
   "metadata": {},
   "outputs": [],
   "source": [
    "import pandas as pd\n",
    "import numpy as np"
   ]
  },
  {
   "cell_type": "code",
   "execution_count": 2,
   "metadata": {},
   "outputs": [],
   "source": [
    "import json"
   ]
  },
  {
   "cell_type": "code",
   "execution_count": 3,
   "metadata": {},
   "outputs": [],
   "source": [
    "import matplotlib.pyplot as plt"
   ]
  },
  {
   "cell_type": "code",
   "execution_count": 4,
   "metadata": {},
   "outputs": [],
   "source": [
    "import seaborn as sns"
   ]
  },
  {
   "cell_type": "code",
   "execution_count": 5,
   "metadata": {},
   "outputs": [],
   "source": [
    "from collections import Counter"
   ]
  },
  {
   "cell_type": "markdown",
   "metadata": {},
   "source": [
    "### Опции"
   ]
  },
  {
   "cell_type": "code",
   "execution_count": null,
   "metadata": {},
   "outputs": [],
   "source": [
    "pd.set_option('display.float_format', '{:,.2f}'.format)\n",
    "# разделитель ',' и два знака после запятой у чисел с плавающей точкой"
   ]
  },
  {
   "cell_type": "code",
   "execution_count": null,
   "metadata": {},
   "outputs": [],
   "source": [
    "# Сброс ограничений на количество выводимых рядов\n",
    "pd.set_option('display.max_rows', None)"
   ]
  },
  {
   "cell_type": "code",
   "execution_count": null,
   "metadata": {},
   "outputs": [],
   "source": [
    "# Сброс ограничений на число столбцов\n",
    "pd.reset_option('display.max_columns')"
   ]
  },
  {
   "cell_type": "code",
   "execution_count": null,
   "metadata": {},
   "outputs": [],
   "source": [
    "\n",
    "# Сброс ограничений на количество символов в записи\n",
    "pd.set_option('display.max_colwidth', None)# Установите для отображения самой большой линии"
   ]
  },
  {
   "cell_type": "code",
   "execution_count": null,
   "metadata": {},
   "outputs": [],
   "source": [
    "pd.reset_option('display.max_colwidth')"
   ]
  },
  {
   "cell_type": "markdown",
   "metadata": {},
   "source": [
    "#### опции для графики"
   ]
  },
  {
   "cell_type": "code",
   "execution_count": 5,
   "metadata": {},
   "outputs": [],
   "source": [
    "large = 16; med = 12; small = 10\n",
    "params = {'axes.titlesize': large,\n",
    "          'legend.fontsize': med,\n",
    "          'figure.figsize': (12, 8),\n",
    "          'axes.labelsize': med,\n",
    "          'axes.titlesize': med,\n",
    "          'xtick.labelsize': med,\n",
    "          'ytick.labelsize': med,\n",
    "          'figure.titlesize': large}\n",
    "\n",
    "plt.rcParams.update(params)\n",
    "plt.style.use('seaborn-whitegrid')"
   ]
  },
  {
   "cell_type": "code",
   "execution_count": 6,
   "metadata": {},
   "outputs": [],
   "source": [
    "sns.set_palette('deep') \n",
    "sns.set_style(\"whitegrid\")"
   ]
  },
  {
   "cell_type": "markdown",
   "metadata": {},
   "source": [
    "## Заливка данных"
   ]
  },
  {
   "cell_type": "code",
   "execution_count": null,
   "metadata": {},
   "outputs": [],
   "source": [
    "# полный датафрейм со всеми столбцами\n",
    "full_df = pd.read_csv('region_roles_26.05.22_CSV.csv', encoding='windows-1251', sep=';')"
   ]
  },
  {
   "cell_type": "code",
   "execution_count": 7,
   "metadata": {},
   "outputs": [],
   "source": [
    "list_columns = [\n",
    "    'id',\n",
    "    'name',\n",
    "    'salary',\n",
    "    'snippet',\n",
    "    'schedule',\n",
    "    'description',\n",
    "    'experience',\n",
    "    'key_skills',\n",
    "    'specializations',\n",
    "    'region'\n",
    "]"
   ]
  },
  {
   "cell_type": "code",
   "execution_count": 8,
   "metadata": {},
   "outputs": [],
   "source": [
    "# dataframe после анализа содержимого столбцов\n",
    "df = pd.read_csv('region_roles_26.05.22_CSV.csv', usecols=list_columns, encoding='windows-1251', sep=';')"
   ]
  },
  {
   "cell_type": "markdown",
   "metadata": {},
   "source": [
    "5,7s"
   ]
  },
  {
   "cell_type": "code",
   "execution_count": null,
   "metadata": {},
   "outputs": [],
   "source": [
    "df.head()"
   ]
  },
  {
   "cell_type": "markdown",
   "metadata": {},
   "source": [
    "# EDA (3 этапа)"
   ]
  },
  {
   "cell_type": "markdown",
   "metadata": {},
   "source": [
    "## 1. Первичный анализ датасета"
   ]
  },
  {
   "cell_type": "markdown",
   "metadata": {},
   "source": [
    "- Знакомимся с таблицей данных\n",
    "- Оцениваем ее объем\n",
    "- Оцениваем признаки объектов, хранящихся в ней\n",
    "- Выявляем наличие пропусков"
   ]
  },
  {
   "cell_type": "markdown",
   "metadata": {},
   "source": [
    "### общая информация"
   ]
  },
  {
   "cell_type": "code",
   "execution_count": null,
   "metadata": {},
   "outputs": [],
   "source": [
    "df.head(2)"
   ]
  },
  {
   "cell_type": "code",
   "execution_count": null,
   "metadata": {},
   "outputs": [],
   "source": [
    "df.info()"
   ]
  },
  {
   "cell_type": "code",
   "execution_count": null,
   "metadata": {},
   "outputs": [],
   "source": [
    "df.shape"
   ]
  },
  {
   "cell_type": "code",
   "execution_count": 11,
   "metadata": {},
   "outputs": [
    {
     "data": {
      "text/plain": [
       "id                     0\n",
       "name                   0\n",
       "salary             32066\n",
       "snippet                0\n",
       "schedule               0\n",
       "description            0\n",
       "experience             0\n",
       "key_skills             0\n",
       "specializations        0\n",
       "region                 0\n",
       "dtype: int64"
      ]
     },
     "execution_count": 11,
     "metadata": {},
     "output_type": "execute_result"
    }
   ],
   "source": [
    "df.isna().sum()\n",
    "# поиск пропущенных значений"
   ]
  },
  {
   "cell_type": "code",
   "execution_count": null,
   "metadata": {},
   "outputs": [],
   "source": [
    "# список столбцов в виде list()\n",
    "df.columns.tolist()"
   ]
  },
  {
   "cell_type": "code",
   "execution_count": 9,
   "metadata": {},
   "outputs": [
    {
     "data": {
      "text/plain": [
       "233"
      ]
     },
     "execution_count": 9,
     "metadata": {},
     "output_type": "execute_result"
    }
   ],
   "source": [
    "df.duplicated().sum()"
   ]
  },
  {
   "cell_type": "code",
   "execution_count": 16,
   "metadata": {},
   "outputs": [],
   "source": [
    "dupl = df[df.duplicated() == True]"
   ]
  },
  {
   "cell_type": "markdown",
   "metadata": {},
   "source": [
    "удаляем дубликаты"
   ]
  },
  {
   "cell_type": "code",
   "execution_count": 10,
   "metadata": {},
   "outputs": [],
   "source": [
    "df = df.drop_duplicates()"
   ]
  },
  {
   "cell_type": "code",
   "execution_count": null,
   "metadata": {},
   "outputs": [],
   "source": [
    "df.head(1)"
   ]
  },
  {
   "cell_type": "markdown",
   "metadata": {},
   "source": [
    "### Что в столбцах?"
   ]
  },
  {
   "cell_type": "code",
   "execution_count": null,
   "metadata": {},
   "outputs": [],
   "source": [
    "df.premium.value_counts()\n",
    "# удалить"
   ]
  },
  {
   "cell_type": "code",
   "execution_count": null,
   "metadata": {},
   "outputs": [],
   "source": [
    "df.name.value_counts()"
   ]
  },
  {
   "cell_type": "code",
   "execution_count": null,
   "metadata": {},
   "outputs": [],
   "source": [
    "df.department.value_counts()\n",
    "# delete"
   ]
  },
  {
   "cell_type": "code",
   "execution_count": null,
   "metadata": {},
   "outputs": [],
   "source": [
    "df.has_test.value_counts()\n",
    "# delete"
   ]
  },
  {
   "cell_type": "code",
   "execution_count": null,
   "metadata": {},
   "outputs": [],
   "source": [
    "df.response_letter_required.value_counts()\n",
    "# delete"
   ]
  },
  {
   "cell_type": "code",
   "execution_count": null,
   "metadata": {},
   "outputs": [],
   "source": [
    "df.area.value_counts()\n",
    "# delete"
   ]
  },
  {
   "cell_type": "code",
   "execution_count": null,
   "metadata": {},
   "outputs": [],
   "source": [
    "df.salary.value_counts()"
   ]
  },
  {
   "cell_type": "code",
   "execution_count": null,
   "metadata": {},
   "outputs": [],
   "source": [
    "df.type.value_counts()\n",
    "# delete"
   ]
  },
  {
   "cell_type": "code",
   "execution_count": null,
   "metadata": {},
   "outputs": [],
   "source": [
    "df.address.value_counts()\n",
    "# delete"
   ]
  },
  {
   "cell_type": "code",
   "execution_count": null,
   "metadata": {},
   "outputs": [],
   "source": [
    "df.response_url.value_counts()\n",
    "# delete"
   ]
  },
  {
   "cell_type": "code",
   "execution_count": null,
   "metadata": {},
   "outputs": [],
   "source": [
    "df.sort_point_distance.value_counts()\n",
    "# delete"
   ]
  },
  {
   "cell_type": "code",
   "execution_count": null,
   "metadata": {},
   "outputs": [],
   "source": [
    "df.archived.value_counts()\n",
    "# delete"
   ]
  },
  {
   "cell_type": "code",
   "execution_count": null,
   "metadata": {},
   "outputs": [],
   "source": [
    "df.insider_interview.value_counts()\n",
    "# delete"
   ]
  },
  {
   "cell_type": "code",
   "execution_count": null,
   "metadata": {},
   "outputs": [],
   "source": [
    "df.url.value_counts()\n",
    "# delete"
   ]
  },
  {
   "cell_type": "code",
   "execution_count": null,
   "metadata": {},
   "outputs": [],
   "source": [
    "df.alternate_url.value_counts()\n",
    "# delete"
   ]
  },
  {
   "cell_type": "code",
   "execution_count": null,
   "metadata": {},
   "outputs": [],
   "source": [
    "df.relations.value_counts()\n",
    "# delete"
   ]
  },
  {
   "cell_type": "code",
   "execution_count": null,
   "metadata": {},
   "outputs": [],
   "source": [
    "df.employer.value_counts()\n",
    "# delete"
   ]
  },
  {
   "cell_type": "code",
   "execution_count": null,
   "metadata": {},
   "outputs": [],
   "source": [
    "df.snippet.value_counts()"
   ]
  },
  {
   "cell_type": "code",
   "execution_count": null,
   "metadata": {},
   "outputs": [],
   "source": [
    "df.contacts.value_counts()\n",
    "# delete"
   ]
  },
  {
   "cell_type": "code",
   "execution_count": null,
   "metadata": {},
   "outputs": [],
   "source": [
    "df.schedule.value_counts()"
   ]
  },
  {
   "cell_type": "code",
   "execution_count": null,
   "metadata": {},
   "outputs": [],
   "source": [
    "df.working_days.value_counts()\n",
    "# delete"
   ]
  },
  {
   "cell_type": "code",
   "execution_count": null,
   "metadata": {},
   "outputs": [],
   "source": [
    "df.working_time_intervals.value_counts()\n",
    "# delete"
   ]
  },
  {
   "cell_type": "code",
   "execution_count": null,
   "metadata": {},
   "outputs": [],
   "source": [
    "df.working_time_modes.value_counts()\n",
    "# delete"
   ]
  },
  {
   "cell_type": "code",
   "execution_count": null,
   "metadata": {},
   "outputs": [],
   "source": [
    "df.accept_temporary.value_counts()\n",
    "# delete"
   ]
  },
  {
   "cell_type": "code",
   "execution_count": null,
   "metadata": {},
   "outputs": [],
   "source": [
    "df.experience.value_counts()"
   ]
  },
  {
   "cell_type": "code",
   "execution_count": null,
   "metadata": {},
   "outputs": [],
   "source": [
    "df.region.value_counts()"
   ]
  },
  {
   "cell_type": "code",
   "execution_count": null,
   "metadata": {},
   "outputs": [],
   "source": [
    "df.immediate_redirect_url.value_counts()\n",
    "# delete"
   ]
  },
  {
   "cell_type": "markdown",
   "metadata": {},
   "source": [
    "#### какие столбцы остаются для анализа"
   ]
  },
  {
   "cell_type": "code",
   "execution_count": null,
   "metadata": {},
   "outputs": [],
   "source": [
    "list_columns = [\n",
    "    'id',\n",
    "    'name',\n",
    "    'salary',\n",
    "    'snippet',\n",
    "    'schedule',\n",
    "    'description',\n",
    "    'experience',\n",
    "    'key_skills',\n",
    "    'specializations',\n",
    "    'region',\n",
    "    'published_at',\n",
    "    'created_at'\n",
    "]"
   ]
  },
  {
   "cell_type": "code",
   "execution_count": 6,
   "metadata": {},
   "outputs": [
    {
     "data": {
      "text/plain": [
       "id                     0\n",
       "name                   0\n",
       "salary             32066\n",
       "published_at           0\n",
       "created_at             0\n",
       "snippet                0\n",
       "schedule               0\n",
       "description            0\n",
       "experience             0\n",
       "key_skills             0\n",
       "specializations        0\n",
       "region                 0\n",
       "dtype: int64"
      ]
     },
     "execution_count": 6,
     "metadata": {},
     "output_type": "execute_result"
    }
   ],
   "source": [
    "df.isna().sum()\n",
    "# поиск пропущенных значений"
   ]
  },
  {
   "cell_type": "code",
   "execution_count": 7,
   "metadata": {},
   "outputs": [
    {
     "data": {
      "text/plain": [
       "0                                                      NaN\n",
       "1                                                      NaN\n",
       "2                                                      NaN\n",
       "3        {'from': 26000, 'to': None, 'currency': 'RUR',...\n",
       "4        {'from': 20000, 'to': 20000, 'currency': 'RUR'...\n",
       "                               ...                        \n",
       "69651                                                  NaN\n",
       "69652                                                  NaN\n",
       "69653                                                  NaN\n",
       "69654    {'from': 180000, 'to': None, 'currency': 'RUR'...\n",
       "69655                                                  NaN\n",
       "Name: salary, Length: 69656, dtype: object"
      ]
     },
     "execution_count": 7,
     "metadata": {},
     "output_type": "execute_result"
    }
   ],
   "source": [
    "df.salary"
   ]
  },
  {
   "cell_type": "markdown",
   "metadata": {},
   "source": [
    " #### !!!!! обрабатываем пропуски в колонке salary"
   ]
  },
  {
   "cell_type": "markdown",
   "metadata": {},
   "source": [
    "### Преобразовываем строку JSON"
   ]
  },
  {
   "cell_type": "markdown",
   "metadata": {},
   "source": [
    "json.loads\n",
    "Считывание строки в формате JSON в объект Python"
   ]
  },
  {
   "cell_type": "markdown",
   "metadata": {},
   "source": [
    "json.dumps\n",
    "Преобразование объекта в строку в формате JSON. Функция dumps() модуля json сериализирует объект Python obj в строку str формата JSON. Сериализация объектов Python выполняется согласно таблице преобразования"
   ]
  },
  {
   "cell_type": "code",
   "execution_count": 11,
   "metadata": {},
   "outputs": [],
   "source": [
    "# Преобразование json с dumps\n",
    "def text_to_json_dumps(text):\n",
    "    text = text.replace(\"'\", '\"')\n",
    "    try:\n",
    "        return json.loads(json.dumps(text))\n",
    "    except:\n",
    "        print('error')"
   ]
  },
  {
   "cell_type": "code",
   "execution_count": 19,
   "metadata": {},
   "outputs": [],
   "source": [
    "# Преобразование json с заменой подстроки\n",
    "def text_to_json_str(text):\n",
    "    try:\n",
    "        return json.loads(text.replace('\"', '').replace(\"'\", '\"'))\n",
    "    except:\n",
    "        print('error')\n",
    "        # return []"
   ]
  },
  {
   "cell_type": "markdown",
   "metadata": {},
   "source": [
    "### Очищаем dataframe от данных, не относящихся к IT"
   ]
  },
  {
   "cell_type": "markdown",
   "metadata": {},
   "source": [
    "Работаем со столбцом specializations, чтобы очистить dataframe от данных, не относящихся к IT, что позволит точнее провести описательную статистику"
   ]
  },
  {
   "cell_type": "code",
   "execution_count": null,
   "metadata": {},
   "outputs": [],
   "source": [
    "df.specializations"
   ]
  },
  {
   "cell_type": "markdown",
   "metadata": {},
   "source": [
    "Преобразуем данные json и сохраним их в столбце specializations_jsn"
   ]
  },
  {
   "cell_type": "code",
   "execution_count": 12,
   "metadata": {},
   "outputs": [],
   "source": [
    "df['specializations_jsn'] = df['specializations'].apply(text_to_json_dumps)"
   ]
  },
  {
   "cell_type": "markdown",
   "metadata": {},
   "source": [
    "Создаем функцию, вытаскивающую тег 'profarea_id'. Это Идентификатор профессиональной области, в которую входит специализация. 1 - Информационные технологии, интернет, телеком"
   ]
  },
  {
   "cell_type": "code",
   "execution_count": 13,
   "metadata": {},
   "outputs": [],
   "source": [
    "def get_tag_profarea_id(text):\n",
    "    text = json.loads(text)\n",
    "    try:\n",
    "        out = []\n",
    "        if len(text) > 0:\n",
    "            for i in text:\n",
    "                out.append(i['profarea_id'])\n",
    "            return out\n",
    "    except:\n",
    "        print('error')\n"
   ]
  },
  {
   "cell_type": "markdown",
   "metadata": {},
   "source": [
    "Создаем новый столбец 'profarea_id'"
   ]
  },
  {
   "cell_type": "code",
   "execution_count": 14,
   "metadata": {},
   "outputs": [],
   "source": [
    "df['profarea_id'] = df.specializations_jsn.apply(get_tag_profarea_id)"
   ]
  },
  {
   "cell_type": "code",
   "execution_count": null,
   "metadata": {},
   "outputs": [],
   "source": [
    "df['profarea_id'].value_counts()"
   ]
  },
  {
   "cell_type": "markdown",
   "metadata": {},
   "source": [
    "Создаем функцию поиска элемента '1' в списке для того, чтобы сепарировать строки dataframe со специализацией 1 - Информационные технологии, интернет, телеком"
   ]
  },
  {
   "cell_type": "code",
   "execution_count": 15,
   "metadata": {},
   "outputs": [],
   "source": [
    "def find_1(lst):\n",
    "    return '1' in lst"
   ]
  },
  {
   "cell_type": "markdown",
   "metadata": {},
   "source": [
    "Создаем столбец 'profarea_id_1'"
   ]
  },
  {
   "cell_type": "code",
   "execution_count": 16,
   "metadata": {},
   "outputs": [],
   "source": [
    "df['profarea_id_1'] = df['profarea_id'].apply(find_1)"
   ]
  },
  {
   "cell_type": "code",
   "execution_count": 17,
   "metadata": {},
   "outputs": [
    {
     "data": {
      "text/plain": [
       "True     50202\n",
       "False    19221\n",
       "Name: profarea_id_1, dtype: int64"
      ]
     },
     "execution_count": 17,
     "metadata": {},
     "output_type": "execute_result"
    }
   ],
   "source": [
    "df.profarea_id_1.value_counts()"
   ]
  },
  {
   "cell_type": "markdown",
   "metadata": {},
   "source": [
    "Разделяем dataframe по признаку отношения специализации к IT"
   ]
  },
  {
   "cell_type": "code",
   "execution_count": 18,
   "metadata": {},
   "outputs": [],
   "source": [
    "it_true = df[df['profarea_id_1'] == 1]"
   ]
  },
  {
   "cell_type": "code",
   "execution_count": 19,
   "metadata": {},
   "outputs": [],
   "source": [
    "it_false = df[df['profarea_id_1'] == 0]"
   ]
  },
  {
   "cell_type": "code",
   "execution_count": 20,
   "metadata": {},
   "outputs": [
    {
     "data": {
      "text/plain": [
       "(50202, 13)"
      ]
     },
     "execution_count": 20,
     "metadata": {},
     "output_type": "execute_result"
    }
   ],
   "source": [
    "it_true.shape"
   ]
  },
  {
   "cell_type": "code",
   "execution_count": 21,
   "metadata": {},
   "outputs": [
    {
     "data": {
      "text/plain": [
       "(19221, 13)"
      ]
     },
     "execution_count": 21,
     "metadata": {},
     "output_type": "execute_result"
    }
   ],
   "source": [
    "it_false.shape"
   ]
  },
  {
   "cell_type": "markdown",
   "metadata": {},
   "source": [
    "В результате мы видим, что значительная часть строк не содержит идентификатор информационных технологий. Оставляем пока строки True и дополнительно разбираемся со строками False "
   ]
  },
  {
   "cell_type": "markdown",
   "metadata": {},
   "source": [
    "#### Разбираемся с it_false - есть ли там it-специальности"
   ]
  },
  {
   "cell_type": "code",
   "execution_count": null,
   "metadata": {},
   "outputs": [],
   "source": [
    "df.head(2)"
   ]
  },
  {
   "cell_type": "code",
   "execution_count": 22,
   "metadata": {},
   "outputs": [],
   "source": [
    "# для упрощения обработки приводим строки к нижнему регистру\n",
    "df['name'] = df['name'].str.lower()"
   ]
  },
  {
   "cell_type": "code",
   "execution_count": 22,
   "metadata": {},
   "outputs": [
    {
     "data": {
      "text/plain": [
       "0               консультант по информационной безопасности\n",
       "1        product manager (разработка по в сфере информа...\n",
       "2                   эксперт по компьютерной криминалистике\n",
       "3         ведущий специалист по информационным технологиям\n",
       "4                          специалист по защите информации\n",
       "                               ...                        \n",
       "69651    начальник отдела по защите информации и информ...\n",
       "69652                   исполнительный директор (it-сфера)\n",
       "69653    ведущий консультант по информационной безопасн...\n",
       "69654                                  начальник it отдела\n",
       "69655                                       программист 1с\n",
       "Name: name, Length: 69656, dtype: object"
      ]
     },
     "execution_count": 22,
     "metadata": {},
     "output_type": "execute_result"
    }
   ],
   "source": [
    "df.name"
   ]
  },
  {
   "cell_type": "markdown",
   "metadata": {},
   "source": [
    "Создаем список подстрок, не относящихся к IT-специализации"
   ]
  },
  {
   "cell_type": "code",
   "execution_count": 23,
   "metadata": {},
   "outputs": [],
   "source": [
    "lst_not_it = [\n",
    "    'дизай',\n",
    "    'недви',\n",
    "    'персон', \n",
    "    'кадр',\n",
    "    'рекру',\n",
    "    'hr',\n",
    "    'продаж',\n",
    "    'риэл',\n",
    "    'риел',\n",
    "    'контент',\n",
    "    'зал',\n",
    "    'артист',\n",
    "    'smm',\n",
    "    'инструкт',\n",
    "    'тренер',\n",
    "    'креатив',\n",
    "    'ретуш',\n",
    "    'аренд',\n",
    "    'псих',\n",
    "    'табел',\n",
    "    'лаборат',\n",
    "    'автор',\n",
    "    'смет',\n",
    "    'менеджер по работе с клиентами',\n",
    "    'компенсац',\n",
    "    'обуч',\n",
    "    'помещен',\n",
    "    'межев',\n",
    "    'ипоте',\n",
    "    'маркетол',\n",
    "    'начинающий специалист',\n",
    "    'блогер',\n",
    "    'кдп',\n",
    "    'recruiter',\n",
    "    'труд',\n",
    "    'специалист по работе с клиентами',\n",
    "    'штат',\n",
    "    'продавец',\n",
    "    'офис',\n",
    "    'брокер',\n",
    "    'смм',\n",
    "    'ресеч',\n",
    "    'торг',\n",
    "    'менедж',\n",
    "    'воин',\n",
    "    'новострой',\n",
    "    'pr',\n",
    "    'маркетинг',\n",
    "    'реклам',\n",
    "    'арт',\n",
    "    'агент',\n",
    "    'строи',\n",
    "    'энергет'\n",
    "    ]\n"
   ]
  },
  {
   "cell_type": "markdown",
   "metadata": {},
   "source": [
    "Сепарируем столбец 'name' на 2 dataframe: 1) с наименованиями из списка 2) остальное"
   ]
  },
  {
   "cell_type": "code",
   "execution_count": 24,
   "metadata": {},
   "outputs": [],
   "source": [
    "pat = '|'.join(lst_not_it)\n",
    "temp_df = it_false[it_false['name'].str.contains(pat)]\n",
    "it_not_false = it_false[~it_false.index.isin(temp_df.index)]"
   ]
  },
  {
   "cell_type": "code",
   "execution_count": 25,
   "metadata": {},
   "outputs": [
    {
     "data": {
      "text/plain": [
       "(15231, 13)"
      ]
     },
     "execution_count": 25,
     "metadata": {},
     "output_type": "execute_result"
    }
   ],
   "source": [
    "temp_df.shape"
   ]
  },
  {
   "cell_type": "code",
   "execution_count": 26,
   "metadata": {},
   "outputs": [
    {
     "data": {
      "text/plain": [
       "19221"
      ]
     },
     "execution_count": 26,
     "metadata": {},
     "output_type": "execute_result"
    }
   ],
   "source": [
    "# Проверка количества строк\n",
    "temp_df.shape[0] + it_not_false.shape[0]"
   ]
  },
  {
   "cell_type": "code",
   "execution_count": 40,
   "metadata": {},
   "outputs": [
    {
     "data": {
      "text/plain": [
       "(4133, 15)"
      ]
     },
     "execution_count": 40,
     "metadata": {},
     "output_type": "execute_result"
    }
   ],
   "source": [
    "it_not_false.shape"
   ]
  },
  {
   "cell_type": "markdown",
   "metadata": {},
   "source": [
    "#### объединяем очищенные dataframe"
   ]
  },
  {
   "cell_type": "code",
   "execution_count": 27,
   "metadata": {},
   "outputs": [],
   "source": [
    "df = pd.concat([it_true, it_not_false], ignore_index=True)"
   ]
  },
  {
   "cell_type": "code",
   "execution_count": 28,
   "metadata": {},
   "outputs": [
    {
     "data": {
      "text/plain": [
       "(54192, 13)"
      ]
     },
     "execution_count": 28,
     "metadata": {},
     "output_type": "execute_result"
    }
   ],
   "source": [
    "df.shape"
   ]
  },
  {
   "cell_type": "markdown",
   "metadata": {},
   "source": [
    "## 2. Анализ и визуализация отдельных колонок"
   ]
  },
  {
   "cell_type": "markdown",
   "metadata": {},
   "source": [
    "Пытаемся сформулировать вопросы для колонок и ответить на них, используя\n",
    "- описательная статистика\n",
    "- выбросы, аномалии\n",
    "- сортировка\n",
    "- визуализация"
   ]
  },
  {
   "cell_type": "markdown",
   "metadata": {},
   "source": [
    "### Работаем со столбцом salary"
   ]
  },
  {
   "cell_type": "markdown",
   "metadata": {},
   "source": [
    "Цель: получить столбец **'salary_ru'**.<br>\n",
    "Надо вытащить данные по salary from и привести все данные к рублевому эквиваленту. Сделать описательную статистику, визуализацию, посмотреть выбросы, аномалии."
   ]
  },
  {
   "cell_type": "code",
   "execution_count": null,
   "metadata": {},
   "outputs": [],
   "source": [
    "df.salary.reset_index()"
   ]
  },
  {
   "cell_type": "code",
   "execution_count": 29,
   "metadata": {},
   "outputs": [
    {
     "data": {
      "text/plain": [
       "28684"
      ]
     },
     "execution_count": 29,
     "metadata": {},
     "output_type": "execute_result"
    }
   ],
   "source": [
    "df.salary.isna().sum()"
   ]
  },
  {
   "cell_type": "code",
   "execution_count": null,
   "metadata": {},
   "outputs": [],
   "source": [
    "df.salary.info()"
   ]
  },
  {
   "cell_type": "markdown",
   "metadata": {},
   "source": [
    "вытаскиваем тег from из salary"
   ]
  },
  {
   "cell_type": "code",
   "execution_count": 30,
   "metadata": {},
   "outputs": [],
   "source": [
    "# добавляем обработку None\n",
    "def salary_from(salary):\n",
    "    if pd.isna(salary): \n",
    "        clean_salary = np.nan\n",
    "    else:\n",
    "        clean_salary = salary.replace(\"{\", '').replace(\"}\", '').split(',')[0][8:]\n",
    "        if clean_salary == 'None':\n",
    "            clean_salary = np.nan\n",
    "\n",
    "    return clean_salary"
   ]
  },
  {
   "cell_type": "markdown",
   "metadata": {},
   "source": [
    "вытаскиваем тег currency из salary"
   ]
  },
  {
   "cell_type": "code",
   "execution_count": 31,
   "metadata": {},
   "outputs": [],
   "source": [
    "# добавляем обработку None\n",
    "def salary_currency(salary):\n",
    "    if pd.isna(salary): \n",
    "        clean_salary = np.nan\n",
    "    else:\n",
    "        clean_salary = salary.replace(\"{\", '').replace(\"}\", '').split(',')[2][12:]\n",
    "        if clean_salary == 'None':\n",
    "            clean_salary = np.nan\n",
    "\n",
    "    return clean_salary"
   ]
  },
  {
   "cell_type": "code",
   "execution_count": 32,
   "metadata": {},
   "outputs": [],
   "source": [
    "df['salary_currency'] = df.salary.apply(salary_currency)"
   ]
  },
  {
   "cell_type": "code",
   "execution_count": 33,
   "metadata": {},
   "outputs": [
    {
     "data": {
      "text/plain": [
       "0           NaN\n",
       "1           NaN\n",
       "2           NaN\n",
       "3         'RUR'\n",
       "4         'RUR'\n",
       "          ...  \n",
       "54187     'RUR'\n",
       "54188       NaN\n",
       "54189       NaN\n",
       "54190     'RUR'\n",
       "54191       NaN\n",
       "Name: salary_currency, Length: 54192, dtype: object"
      ]
     },
     "execution_count": 33,
     "metadata": {},
     "output_type": "execute_result"
    }
   ],
   "source": [
    "df.salary_currency"
   ]
  },
  {
   "cell_type": "code",
   "execution_count": null,
   "metadata": {},
   "outputs": [
    {
     "name": "stdout",
     "output_type": "stream",
     "text": [
      "<class 'pandas.core.series.Series'>\n",
      "RangeIndex: 69656 entries, 0 to 69655\n",
      "Series name: salary_currency\n",
      "Non-Null Count  Dtype \n",
      "--------------  ----- \n",
      "37590 non-null  object\n",
      "dtypes: object(1)\n",
      "memory usage: 544.3+ KB\n"
     ]
    }
   ],
   "source": [
    "df.salary_currency.info()"
   ]
  },
  {
   "cell_type": "code",
   "execution_count": 34,
   "metadata": {},
   "outputs": [
    {
     "data": {
      "text/plain": [
       " 'RUR'    24964\n",
       " 'USD'      456\n",
       " 'EUR'       86\n",
       " 'KZT'        2\n",
       "Name: salary_currency, dtype: int64"
      ]
     },
     "execution_count": 34,
     "metadata": {},
     "output_type": "execute_result"
    }
   ],
   "source": [
    "df.salary_currency.value_counts()"
   ]
  },
  {
   "cell_type": "code",
   "execution_count": 35,
   "metadata": {},
   "outputs": [],
   "source": [
    "df['salary_from'] = df.salary.apply(salary_from)"
   ]
  },
  {
   "cell_type": "code",
   "execution_count": 36,
   "metadata": {},
   "outputs": [],
   "source": [
    "df['salary_from'] = pd.to_numeric(df['salary_from'])"
   ]
  },
  {
   "cell_type": "code",
   "execution_count": 37,
   "metadata": {},
   "outputs": [
    {
     "data": {
      "text/plain": [
       "0             NaN\n",
       "1             NaN\n",
       "2             NaN\n",
       "3         26000.0\n",
       "4         20000.0\n",
       "           ...   \n",
       "54187    150000.0\n",
       "54188         NaN\n",
       "54189         NaN\n",
       "54190    180000.0\n",
       "54191         NaN\n",
       "Name: salary_from, Length: 54192, dtype: float64"
      ]
     },
     "execution_count": 37,
     "metadata": {},
     "output_type": "execute_result"
    }
   ],
   "source": [
    "df.salary_from"
   ]
  },
  {
   "cell_type": "markdown",
   "metadata": {},
   "source": [
    "приводим все salary_from в рубли"
   ]
  },
  {
   "cell_type": "code",
   "execution_count": 38,
   "metadata": {},
   "outputs": [],
   "source": [
    "def get_rate(currency):\n",
    "    rur =  1\n",
    "    doll = 70\n",
    "    eur = 75\n",
    "    kzt = 0.13\n",
    "    if currency is np.nan:\n",
    "        return np.nan\n",
    "    else:\n",
    "        if currency.find('RUR') >= 0:\n",
    "            return rur\n",
    "        elif currency.find('USD') >= 0:\n",
    "            return doll\n",
    "        elif currency.find('EUR') >= 0:\n",
    "            return eur\n",
    "        elif currency.find('KZT') >= 0:\n",
    "            return kzt"
   ]
  },
  {
   "cell_type": "code",
   "execution_count": 39,
   "metadata": {},
   "outputs": [],
   "source": [
    "df['salary_temp'] = df.salary_from * df.salary_currency.apply(get_rate)"
   ]
  },
  {
   "cell_type": "code",
   "execution_count": 40,
   "metadata": {},
   "outputs": [
    {
     "data": {
      "text/plain": [
       "0             NaN\n",
       "1             NaN\n",
       "2             NaN\n",
       "3         26000.0\n",
       "4         20000.0\n",
       "           ...   \n",
       "54187    150000.0\n",
       "54188         NaN\n",
       "54189         NaN\n",
       "54190    180000.0\n",
       "54191         NaN\n",
       "Name: salary_temp, Length: 54192, dtype: float64"
      ]
     },
     "execution_count": 40,
     "metadata": {},
     "output_type": "execute_result"
    }
   ],
   "source": [
    "df.salary_temp"
   ]
  },
  {
   "cell_type": "markdown",
   "metadata": {},
   "source": [
    "проверка"
   ]
  },
  {
   "cell_type": "code",
   "execution_count": 41,
   "metadata": {},
   "outputs": [
    {
     "data": {
      "text/html": [
       "<div>\n",
       "<style scoped>\n",
       "    .dataframe tbody tr th:only-of-type {\n",
       "        vertical-align: middle;\n",
       "    }\n",
       "\n",
       "    .dataframe tbody tr th {\n",
       "        vertical-align: top;\n",
       "    }\n",
       "\n",
       "    .dataframe thead th {\n",
       "        text-align: right;\n",
       "    }\n",
       "</style>\n",
       "<table border=\"1\" class=\"dataframe\">\n",
       "  <thead>\n",
       "    <tr style=\"text-align: right;\">\n",
       "      <th></th>\n",
       "      <th>salary_from</th>\n",
       "      <th>salary_currency</th>\n",
       "      <th>salary_temp</th>\n",
       "    </tr>\n",
       "  </thead>\n",
       "  <tbody>\n",
       "    <tr>\n",
       "      <th>15254</th>\n",
       "      <td>3000.0</td>\n",
       "      <td>'USD'</td>\n",
       "      <td>210000.0</td>\n",
       "    </tr>\n",
       "    <tr>\n",
       "      <th>14567</th>\n",
       "      <td>4500.0</td>\n",
       "      <td>'USD'</td>\n",
       "      <td>315000.0</td>\n",
       "    </tr>\n",
       "    <tr>\n",
       "      <th>14701</th>\n",
       "      <td>2000.0</td>\n",
       "      <td>'USD'</td>\n",
       "      <td>140000.0</td>\n",
       "    </tr>\n",
       "    <tr>\n",
       "      <th>38579</th>\n",
       "      <td>400.0</td>\n",
       "      <td>'USD'</td>\n",
       "      <td>28000.0</td>\n",
       "    </tr>\n",
       "    <tr>\n",
       "      <th>14698</th>\n",
       "      <td>NaN</td>\n",
       "      <td>'USD'</td>\n",
       "      <td>NaN</td>\n",
       "    </tr>\n",
       "    <tr>\n",
       "      <th>...</th>\n",
       "      <td>...</td>\n",
       "      <td>...</td>\n",
       "      <td>...</td>\n",
       "    </tr>\n",
       "    <tr>\n",
       "      <th>54177</th>\n",
       "      <td>NaN</td>\n",
       "      <td>NaN</td>\n",
       "      <td>NaN</td>\n",
       "    </tr>\n",
       "    <tr>\n",
       "      <th>54185</th>\n",
       "      <td>NaN</td>\n",
       "      <td>NaN</td>\n",
       "      <td>NaN</td>\n",
       "    </tr>\n",
       "    <tr>\n",
       "      <th>54188</th>\n",
       "      <td>NaN</td>\n",
       "      <td>NaN</td>\n",
       "      <td>NaN</td>\n",
       "    </tr>\n",
       "    <tr>\n",
       "      <th>54189</th>\n",
       "      <td>NaN</td>\n",
       "      <td>NaN</td>\n",
       "      <td>NaN</td>\n",
       "    </tr>\n",
       "    <tr>\n",
       "      <th>54191</th>\n",
       "      <td>NaN</td>\n",
       "      <td>NaN</td>\n",
       "      <td>NaN</td>\n",
       "    </tr>\n",
       "  </tbody>\n",
       "</table>\n",
       "<p>54192 rows × 3 columns</p>\n",
       "</div>"
      ],
      "text/plain": [
       "       salary_from salary_currency  salary_temp\n",
       "15254       3000.0           'USD'     210000.0\n",
       "14567       4500.0           'USD'     315000.0\n",
       "14701       2000.0           'USD'     140000.0\n",
       "38579        400.0           'USD'      28000.0\n",
       "14698          NaN           'USD'          NaN\n",
       "...            ...             ...          ...\n",
       "54177          NaN             NaN          NaN\n",
       "54185          NaN             NaN          NaN\n",
       "54188          NaN             NaN          NaN\n",
       "54189          NaN             NaN          NaN\n",
       "54191          NaN             NaN          NaN\n",
       "\n",
       "[54192 rows x 3 columns]"
      ]
     },
     "execution_count": 41,
     "metadata": {},
     "output_type": "execute_result"
    }
   ],
   "source": [
    "df[['salary_from', 'salary_currency', 'salary_temp']].sort_values('salary_currency', ascending=False)"
   ]
  },
  {
   "cell_type": "markdown",
   "metadata": {},
   "source": [
    "Выбираем на что менять NaN в столбце 'salary_ru'"
   ]
  },
  {
   "cell_type": "code",
   "execution_count": 97,
   "metadata": {},
   "outputs": [
    {
     "data": {
      "text/plain": [
       "(81439.68045162137, 60000.0, 20.0, 1500000.0)"
      ]
     },
     "execution_count": 97,
     "metadata": {},
     "output_type": "execute_result"
    }
   ],
   "source": [
    "(\n",
    "    df.salary_temp.mean(),\n",
    "    df.salary_temp.median(),\n",
    "    df.salary_temp.min(),\n",
    "    df.salary_temp.max()\n",
    ")"
   ]
  },
  {
   "cell_type": "markdown",
   "metadata": {},
   "source": [
    "Медиана меньше зависима от выбросов и лучше подходит для заполнения ячеек NaN"
   ]
  },
  {
   "cell_type": "code",
   "execution_count": 49,
   "metadata": {},
   "outputs": [],
   "source": [
    "agg_func_math_ = {\n",
    "    'salary_temp': ['median']\n",
    "}\n",
    "# задаем список функций по определенному столбцу с расчетными данными\n",
    "\n",
    "region_salary_ru = df.groupby('region', dropna=True).agg(agg_func_math_).round(2).fillna(0)\n",
    "# включаем строки с NaN при расчете: dropna=False"
   ]
  },
  {
   "cell_type": "markdown",
   "metadata": {},
   "source": [
    "переименовываем столбец"
   ]
  },
  {
   "cell_type": "code",
   "execution_count": 53,
   "metadata": {},
   "outputs": [],
   "source": [
    "region_salary_ru.columns = ['_'.join(col).strip() for col in region_salary_ru.columns.values]"
   ]
  },
  {
   "cell_type": "code",
   "execution_count": 54,
   "metadata": {},
   "outputs": [
    {
     "data": {
      "text/html": [
       "<div>\n",
       "<style scoped>\n",
       "    .dataframe tbody tr th:only-of-type {\n",
       "        vertical-align: middle;\n",
       "    }\n",
       "\n",
       "    .dataframe tbody tr th {\n",
       "        vertical-align: top;\n",
       "    }\n",
       "\n",
       "    .dataframe thead th {\n",
       "        text-align: right;\n",
       "    }\n",
       "</style>\n",
       "<table border=\"1\" class=\"dataframe\">\n",
       "  <thead>\n",
       "    <tr style=\"text-align: right;\">\n",
       "      <th></th>\n",
       "      <th>region</th>\n",
       "      <th>salary_temp_median</th>\n",
       "    </tr>\n",
       "  </thead>\n",
       "  <tbody>\n",
       "    <tr>\n",
       "      <th>0</th>\n",
       "      <td>Алтайский край</td>\n",
       "      <td>45000.0</td>\n",
       "    </tr>\n",
       "    <tr>\n",
       "      <th>1</th>\n",
       "      <td>Амурская область</td>\n",
       "      <td>41500.0</td>\n",
       "    </tr>\n",
       "    <tr>\n",
       "      <th>2</th>\n",
       "      <td>Архангельская область</td>\n",
       "      <td>45000.0</td>\n",
       "    </tr>\n",
       "    <tr>\n",
       "      <th>3</th>\n",
       "      <td>Астраханская область</td>\n",
       "      <td>27000.0</td>\n",
       "    </tr>\n",
       "    <tr>\n",
       "      <th>4</th>\n",
       "      <td>Белгородская область</td>\n",
       "      <td>45000.0</td>\n",
       "    </tr>\n",
       "    <tr>\n",
       "      <th>...</th>\n",
       "      <td>...</td>\n",
       "      <td>...</td>\n",
       "    </tr>\n",
       "    <tr>\n",
       "      <th>79</th>\n",
       "      <td>Чеченская республика</td>\n",
       "      <td>20500.0</td>\n",
       "    </tr>\n",
       "    <tr>\n",
       "      <th>80</th>\n",
       "      <td>Чувашская Республика</td>\n",
       "      <td>35000.0</td>\n",
       "    </tr>\n",
       "    <tr>\n",
       "      <th>81</th>\n",
       "      <td>Чукотский АО</td>\n",
       "      <td>0.0</td>\n",
       "    </tr>\n",
       "    <tr>\n",
       "      <th>82</th>\n",
       "      <td>Ямало-Ненецкий АО</td>\n",
       "      <td>58000.0</td>\n",
       "    </tr>\n",
       "    <tr>\n",
       "      <th>83</th>\n",
       "      <td>Ярославская область</td>\n",
       "      <td>50000.0</td>\n",
       "    </tr>\n",
       "  </tbody>\n",
       "</table>\n",
       "<p>84 rows × 2 columns</p>\n",
       "</div>"
      ],
      "text/plain": [
       "                   region  salary_temp_median\n",
       "0          Алтайский край             45000.0\n",
       "1        Амурская область             41500.0\n",
       "2   Архангельская область             45000.0\n",
       "3    Астраханская область             27000.0\n",
       "4    Белгородская область             45000.0\n",
       "..                    ...                 ...\n",
       "79   Чеченская республика             20500.0\n",
       "80   Чувашская Республика             35000.0\n",
       "81           Чукотский АО                 0.0\n",
       "82      Ямало-Ненецкий АО             58000.0\n",
       "83    Ярославская область             50000.0\n",
       "\n",
       "[84 rows x 2 columns]"
      ]
     },
     "execution_count": 54,
     "metadata": {},
     "output_type": "execute_result"
    }
   ],
   "source": [
    "region_salary_ru.reset_index()"
   ]
  },
  {
   "cell_type": "markdown",
   "metadata": {},
   "source": [
    "Заджойним region_salary_ru в df"
   ]
  },
  {
   "cell_type": "code",
   "execution_count": 45,
   "metadata": {},
   "outputs": [],
   "source": [
    "df = df.merge(region_salary_ru, on='region', how='inner')"
   ]
  },
  {
   "cell_type": "code",
   "execution_count": null,
   "metadata": {},
   "outputs": [],
   "source": [
    "df.info()"
   ]
  },
  {
   "cell_type": "code",
   "execution_count": 59,
   "metadata": {},
   "outputs": [
    {
     "data": {
      "text/plain": [
       "0"
      ]
     },
     "execution_count": 59,
     "metadata": {},
     "output_type": "execute_result"
    }
   ],
   "source": [
    "df.salary_temp.isna().sum()"
   ]
  },
  {
   "cell_type": "markdown",
   "metadata": {},
   "source": [
    "Так как медианные зарплаты различаются по регионам. Будем ячейки NaN в колонке 'salary_ru' заменять на медианную зарплату с учетом региона"
   ]
  },
  {
   "cell_type": "code",
   "execution_count": 55,
   "metadata": {},
   "outputs": [],
   "source": [
    "df.loc[(df.salary_temp.isna()), 'salary_temp'] = df.salary_temp_median"
   ]
  },
  {
   "cell_type": "markdown",
   "metadata": {},
   "source": [
    "переименуем столбец"
   ]
  },
  {
   "cell_type": "code",
   "execution_count": 56,
   "metadata": {},
   "outputs": [],
   "source": [
    "df = df.rename(columns={'salary_temp_median': 'salary_ru'})"
   ]
  },
  {
   "cell_type": "code",
   "execution_count": 58,
   "metadata": {},
   "outputs": [
    {
     "data": {
      "text/plain": [
       "0"
      ]
     },
     "execution_count": 58,
     "metadata": {},
     "output_type": "execute_result"
    }
   ],
   "source": [
    "df.salary_ru.isna().sum()"
   ]
  },
  {
   "cell_type": "code",
   "execution_count": 103,
   "metadata": {},
   "outputs": [
    {
     "data": {
      "text/plain": [
       "<function matplotlib.pyplot.show(close=None, block=None)>"
      ]
     },
     "execution_count": 103,
     "metadata": {},
     "output_type": "execute_result"
    },
    {
     "data": {
      "image/png": "[encoded data removed]",
      "text/plain": [
       "<Figure size 432x288 with 1 Axes>"
      ]
     },
     "metadata": {
      "needs_background": "light"
     },
     "output_type": "display_data"
    }
   ],
   "source": [
    "plt.boxplot(df.salary_ru)\n",
    "plt.show"
   ]
  },
  {
   "cell_type": "markdown",
   "metadata": {},
   "source": [
    "диапазон зарплат"
   ]
  },
  {
   "cell_type": "code",
   "execution_count": 116,
   "metadata": {},
   "outputs": [
    {
     "name": "stderr",
     "output_type": "stream",
     "text": [
      "/tmp/ipykernel_299/3465477933.py:8: SettingWithCopyWarning: \n",
      "A value is trying to be set on a copy of a slice from a DataFrame\n",
      "\n",
      "See the caveats in the documentation: https://pandas.pydata.org/pandas-docs/stable/user_guide/indexing.html#returning-a-view-versus-a-copy\n",
      "  df['band_salary'][i] = 'больше 90 т.р.'\n"
     ]
    }
   ],
   "source": [
    "df['band_salary'] = 0\n",
    "for i in range(len(df.salary_ru)):\n",
    "    if df.salary_ru[i] > 0 and df.salary_ru[i] <= 50000:\n",
    "        df['band_salary'][i] = 'до 50 т.р.'\n",
    "    elif df.salary_ru[i] > 50000 and df.salary_ru[i] <= 90000:\n",
    "        df['band_salary'][i] = 'от 50 до 90 т.р.'\n",
    "    elif df.salary_ru[i] > 90000:\n",
    "        df['band_salary'][i] = 'больше 90 т.р.'\n",
    "    else:\n",
    "        df['band_salary'][i] = 'no data'"
   ]
  },
  {
   "cell_type": "code",
   "execution_count": 117,
   "metadata": {},
   "outputs": [
    {
     "data": {
      "text/html": [
       "<div>\n",
       "<style scoped>\n",
       "    .dataframe tbody tr th:only-of-type {\n",
       "        vertical-align: middle;\n",
       "    }\n",
       "\n",
       "    .dataframe tbody tr th {\n",
       "        vertical-align: top;\n",
       "    }\n",
       "\n",
       "    .dataframe thead th {\n",
       "        text-align: right;\n",
       "    }\n",
       "</style>\n",
       "<table border=\"1\" class=\"dataframe\">\n",
       "  <thead>\n",
       "    <tr style=\"text-align: right;\">\n",
       "      <th></th>\n",
       "      <th>index</th>\n",
       "      <th>band_salary</th>\n",
       "    </tr>\n",
       "  </thead>\n",
       "  <tbody>\n",
       "    <tr>\n",
       "      <th>0</th>\n",
       "      <td>до 50 т.р.</td>\n",
       "      <td>20455</td>\n",
       "    </tr>\n",
       "    <tr>\n",
       "      <th>1</th>\n",
       "      <td>от 50 до 90 т.р.</td>\n",
       "      <td>17128</td>\n",
       "    </tr>\n",
       "    <tr>\n",
       "      <th>2</th>\n",
       "      <td>больше 90 т.р.</td>\n",
       "      <td>16605</td>\n",
       "    </tr>\n",
       "    <tr>\n",
       "      <th>3</th>\n",
       "      <td>no data</td>\n",
       "      <td>4</td>\n",
       "    </tr>\n",
       "  </tbody>\n",
       "</table>\n",
       "</div>"
      ],
      "text/plain": [
       "              index  band_salary\n",
       "0        до 50 т.р.        20455\n",
       "1  от 50 до 90 т.р.        17128\n",
       "2    больше 90 т.р.        16605\n",
       "3           no data            4"
      ]
     },
     "execution_count": 117,
     "metadata": {},
     "output_type": "execute_result"
    }
   ],
   "source": [
    "df.band_salary.value_counts().reset_index()"
   ]
  },
  {
   "cell_type": "code",
   "execution_count": 126,
   "metadata": {},
   "outputs": [
    {
     "data": {
      "text/plain": [
       "<function matplotlib.pyplot.show(close=None, block=None)>"
      ]
     },
     "execution_count": 126,
     "metadata": {},
     "output_type": "execute_result"
    },
    {
     "data": {
      "image/png": "[encoded data removed]",
      "text/plain": [
       "<Figure size 432x288 with 1 Axes>"
      ]
     },
     "metadata": {
      "needs_background": "light"
     },
     "output_type": "display_data"
    }
   ],
   "source": [
    "plt.barh(\n",
    "    df.band_salary.value_counts().index,\n",
    "    df.band_salary.value_counts().values\n",
    ")\n",
    "plt.title('Количество вакансий по уровню зарплаты')\n",
    "plt.show"
   ]
  },
  {
   "cell_type": "markdown",
   "metadata": {},
   "source": [
    "### Анализируем количество и частоту специализаций"
   ]
  },
  {
   "cell_type": "markdown",
   "metadata": {},
   "source": [
    "Цель: создать таблицу **'specializations_frequency'**. <br>\n",
    "Надо проанализировать данные по тегу 'name'. "
   ]
  },
  {
   "cell_type": "markdown",
   "metadata": {},
   "source": [
    "#### Агрегируем данные по тегу name колонки 'specializations'"
   ]
  },
  {
   "cell_type": "code",
   "execution_count": null,
   "metadata": {},
   "outputs": [],
   "source": [
    "df.specializations"
   ]
  },
  {
   "cell_type": "markdown",
   "metadata": {},
   "source": [
    "пишем функцию для получения тега 'name'"
   ]
  },
  {
   "cell_type": "code",
   "execution_count": 60,
   "metadata": {},
   "outputs": [],
   "source": [
    "def get_tag_name(jsn):\n",
    "    text = json.loads(jsn)\n",
    "    try:\n",
    "        out = []\n",
    "        if len(text) > 0:\n",
    "            for i in text:\n",
    "                out.append(i['name'])\n",
    "            return out\n",
    "    except:\n",
    "        print('error')"
   ]
  },
  {
   "cell_type": "markdown",
   "metadata": {},
   "source": [
    "создаем столбец 'specializations_name', вытаскиваем тег 'name' из колонки 'specializations'"
   ]
  },
  {
   "cell_type": "code",
   "execution_count": 61,
   "metadata": {},
   "outputs": [],
   "source": [
    "df['specializations_name'] = df.specializations_jsn.apply(get_tag_name)"
   ]
  },
  {
   "cell_type": "code",
   "execution_count": null,
   "metadata": {},
   "outputs": [],
   "source": [
    "df['specializations_name']"
   ]
  },
  {
   "cell_type": "code",
   "execution_count": 62,
   "metadata": {},
   "outputs": [],
   "source": [
    "specializations_region = df[['specializations_name', 'region']].explode('specializations_name')"
   ]
  },
  {
   "cell_type": "code",
   "execution_count": 63,
   "metadata": {},
   "outputs": [
    {
     "data": {
      "text/html": [
       "<div>\n",
       "<style scoped>\n",
       "    .dataframe tbody tr th:only-of-type {\n",
       "        vertical-align: middle;\n",
       "    }\n",
       "\n",
       "    .dataframe tbody tr th {\n",
       "        vertical-align: top;\n",
       "    }\n",
       "\n",
       "    .dataframe thead th {\n",
       "        text-align: right;\n",
       "    }\n",
       "</style>\n",
       "<table border=\"1\" class=\"dataframe\">\n",
       "  <thead>\n",
       "    <tr style=\"text-align: right;\">\n",
       "      <th></th>\n",
       "      <th>specializations_name</th>\n",
       "      <th>region</th>\n",
       "    </tr>\n",
       "  </thead>\n",
       "  <tbody>\n",
       "    <tr>\n",
       "      <th>0</th>\n",
       "      <td>Компьютерная безопасность</td>\n",
       "      <td>Москва</td>\n",
       "    </tr>\n",
       "    <tr>\n",
       "      <th>0</th>\n",
       "      <td>Консалтинг, Аутсорсинг</td>\n",
       "      <td>Москва</td>\n",
       "    </tr>\n",
       "    <tr>\n",
       "      <th>1</th>\n",
       "      <td>Компьютерная безопасность</td>\n",
       "      <td>Москва</td>\n",
       "    </tr>\n",
       "    <tr>\n",
       "      <th>1</th>\n",
       "      <td>Развитие бизнеса</td>\n",
       "      <td>Москва</td>\n",
       "    </tr>\n",
       "    <tr>\n",
       "      <th>1</th>\n",
       "      <td>Аналитик</td>\n",
       "      <td>Москва</td>\n",
       "    </tr>\n",
       "    <tr>\n",
       "      <th>...</th>\n",
       "      <td>...</td>\n",
       "      <td>...</td>\n",
       "    </tr>\n",
       "    <tr>\n",
       "      <th>54190</th>\n",
       "      <td>Аналитик</td>\n",
       "      <td>Чукотский АО</td>\n",
       "    </tr>\n",
       "    <tr>\n",
       "      <th>54190</th>\n",
       "      <td>Аналитик</td>\n",
       "      <td>Чукотский АО</td>\n",
       "    </tr>\n",
       "    <tr>\n",
       "      <th>54190</th>\n",
       "      <td>Другое</td>\n",
       "      <td>Чукотский АО</td>\n",
       "    </tr>\n",
       "    <tr>\n",
       "      <th>54191</th>\n",
       "      <td>Информационные технологии, Интернет, Мультимедиа</td>\n",
       "      <td>Чукотский АО</td>\n",
       "    </tr>\n",
       "    <tr>\n",
       "      <th>54191</th>\n",
       "      <td>CTO, CIO, Директор по IT</td>\n",
       "      <td>Чукотский АО</td>\n",
       "    </tr>\n",
       "  </tbody>\n",
       "</table>\n",
       "<p>228358 rows × 2 columns</p>\n",
       "</div>"
      ],
      "text/plain": [
       "                                   specializations_name        region\n",
       "0                             Компьютерная безопасность        Москва\n",
       "0                                Консалтинг, Аутсорсинг        Москва\n",
       "1                             Компьютерная безопасность        Москва\n",
       "1                                      Развитие бизнеса        Москва\n",
       "1                                              Аналитик        Москва\n",
       "...                                                 ...           ...\n",
       "54190                                          Аналитик  Чукотский АО\n",
       "54190                                          Аналитик  Чукотский АО\n",
       "54190                                            Другое  Чукотский АО\n",
       "54191  Информационные технологии, Интернет, Мультимедиа  Чукотский АО\n",
       "54191                          CTO, CIO, Директор по IT  Чукотский АО\n",
       "\n",
       "[228358 rows x 2 columns]"
      ]
     },
     "execution_count": 63,
     "metadata": {},
     "output_type": "execute_result"
    }
   ],
   "source": [
    "specializations_region"
   ]
  },
  {
   "cell_type": "markdown",
   "metadata": {},
   "source": [
    "удаляем строки, не относящиеся к IT-специализации"
   ]
  },
  {
   "cell_type": "code",
   "execution_count": 64,
   "metadata": {},
   "outputs": [],
   "source": [
    "specializations_region['specializations_name'] = specializations_region['specializations_name'].str.lower()"
   ]
  },
  {
   "cell_type": "markdown",
   "metadata": {},
   "source": [
    "Сепарируем столбец 'specializations_name': 1) с наименованиями из списка 'lst_not_it' 2) остальное"
   ]
  },
  {
   "cell_type": "code",
   "execution_count": 65,
   "metadata": {},
   "outputs": [],
   "source": [
    "pat = '|'.join(lst_not_it)\n",
    "temp_ = specializations_region[specializations_region['specializations_name'].str.contains(pat)]\n",
    "it_sp = specializations_region[~specializations_region.index.isin(temp_.index)]"
   ]
  },
  {
   "cell_type": "code",
   "execution_count": 66,
   "metadata": {},
   "outputs": [
    {
     "data": {
      "text/plain": [
       "(18061, 2)"
      ]
     },
     "execution_count": 66,
     "metadata": {},
     "output_type": "execute_result"
    }
   ],
   "source": [
    "temp_.shape"
   ]
  },
  {
   "cell_type": "code",
   "execution_count": 67,
   "metadata": {},
   "outputs": [
    {
     "data": {
      "text/plain": [
       "(198117, 2)"
      ]
     },
     "execution_count": 67,
     "metadata": {},
     "output_type": "execute_result"
    }
   ],
   "source": [
    "it_sp.shape"
   ]
  },
  {
   "cell_type": "code",
   "execution_count": 68,
   "metadata": {},
   "outputs": [],
   "source": [
    "specialization_frequency = (it_sp\n",
    "                .specializations_name\n",
    "                .value_counts()\n",
    "                .reset_index()\n",
    ")"
   ]
  },
  {
   "cell_type": "code",
   "execution_count": null,
   "metadata": {},
   "outputs": [],
   "source": [
    "specialization_frequency"
   ]
  },
  {
   "cell_type": "markdown",
   "metadata": {},
   "source": [
    "Переименуем столбцы"
   ]
  },
  {
   "cell_type": "code",
   "execution_count": 69,
   "metadata": {},
   "outputs": [],
   "source": [
    "specialization_frequency = specialization_frequency.rename(columns={'index': 'specialization', 'specializations_name': 'frequency'})"
   ]
  },
  {
   "cell_type": "code",
   "execution_count": 70,
   "metadata": {},
   "outputs": [
    {
     "data": {
      "text/html": [
       "<div>\n",
       "<style scoped>\n",
       "    .dataframe tbody tr th:only-of-type {\n",
       "        vertical-align: middle;\n",
       "    }\n",
       "\n",
       "    .dataframe tbody tr th {\n",
       "        vertical-align: top;\n",
       "    }\n",
       "\n",
       "    .dataframe thead th {\n",
       "        text-align: right;\n",
       "    }\n",
       "</style>\n",
       "<table border=\"1\" class=\"dataframe\">\n",
       "  <thead>\n",
       "    <tr style=\"text-align: right;\">\n",
       "      <th></th>\n",
       "      <th>specialization</th>\n",
       "      <th>frequency</th>\n",
       "    </tr>\n",
       "  </thead>\n",
       "  <tbody>\n",
       "    <tr>\n",
       "      <th>0</th>\n",
       "      <td>инженер</td>\n",
       "      <td>32246</td>\n",
       "    </tr>\n",
       "    <tr>\n",
       "      <th>1</th>\n",
       "      <td>программирование, разработка</td>\n",
       "      <td>21368</td>\n",
       "    </tr>\n",
       "    <tr>\n",
       "      <th>2</th>\n",
       "      <td>системы управления предприятием (erp)</td>\n",
       "      <td>18146</td>\n",
       "    </tr>\n",
       "    <tr>\n",
       "      <th>3</th>\n",
       "      <td>поддержка, helpdesk</td>\n",
       "      <td>15238</td>\n",
       "    </tr>\n",
       "    <tr>\n",
       "      <th>4</th>\n",
       "      <td>системный администратор</td>\n",
       "      <td>15163</td>\n",
       "    </tr>\n",
       "    <tr>\n",
       "      <th>...</th>\n",
       "      <td>...</td>\n",
       "      <td>...</td>\n",
       "    </tr>\n",
       "    <tr>\n",
       "      <th>150</th>\n",
       "      <td>пожарная безопасность</td>\n",
       "      <td>1</td>\n",
       "    </tr>\n",
       "    <tr>\n",
       "      <th>151</th>\n",
       "      <td>тендеры</td>\n",
       "      <td>1</td>\n",
       "    </tr>\n",
       "    <tr>\n",
       "      <th>152</th>\n",
       "      <td>проектирование, архитектура</td>\n",
       "      <td>1</td>\n",
       "    </tr>\n",
       "    <tr>\n",
       "      <th>153</th>\n",
       "      <td>управление предприятием</td>\n",
       "      <td>1</td>\n",
       "    </tr>\n",
       "    <tr>\n",
       "      <th>154</th>\n",
       "      <td>технолог, мясо- и птицепереработка</td>\n",
       "      <td>1</td>\n",
       "    </tr>\n",
       "  </tbody>\n",
       "</table>\n",
       "<p>155 rows × 2 columns</p>\n",
       "</div>"
      ],
      "text/plain": [
       "                            specialization  frequency\n",
       "0                                  инженер      32246\n",
       "1             программирование, разработка      21368\n",
       "2    системы управления предприятием (erp)      18146\n",
       "3                      поддержка, helpdesk      15238\n",
       "4                  системный администратор      15163\n",
       "..                                     ...        ...\n",
       "150                  пожарная безопасность          1\n",
       "151                                тендеры          1\n",
       "152            проектирование, архитектура          1\n",
       "153                управление предприятием          1\n",
       "154     технолог, мясо- и птицепереработка          1\n",
       "\n",
       "[155 rows x 2 columns]"
      ]
     },
     "execution_count": 70,
     "metadata": {},
     "output_type": "execute_result"
    }
   ],
   "source": [
    "specialization_frequency"
   ]
  },
  {
   "cell_type": "markdown",
   "metadata": {},
   "source": [
    "Специализация с частотой больше 500"
   ]
  },
  {
   "cell_type": "code",
   "execution_count": 146,
   "metadata": {},
   "outputs": [
    {
     "data": {
      "text/html": [
       "<div>\n",
       "<style scoped>\n",
       "    .dataframe tbody tr th:only-of-type {\n",
       "        vertical-align: middle;\n",
       "    }\n",
       "\n",
       "    .dataframe tbody tr th {\n",
       "        vertical-align: top;\n",
       "    }\n",
       "\n",
       "    .dataframe thead th {\n",
       "        text-align: right;\n",
       "    }\n",
       "</style>\n",
       "<table border=\"1\" class=\"dataframe\">\n",
       "  <thead>\n",
       "    <tr style=\"text-align: right;\">\n",
       "      <th></th>\n",
       "      <th>specialization</th>\n",
       "      <th>frequency</th>\n",
       "    </tr>\n",
       "  </thead>\n",
       "  <tbody>\n",
       "    <tr>\n",
       "      <th>0</th>\n",
       "      <td>инженер</td>\n",
       "      <td>32246</td>\n",
       "    </tr>\n",
       "    <tr>\n",
       "      <th>1</th>\n",
       "      <td>программирование, разработка</td>\n",
       "      <td>21368</td>\n",
       "    </tr>\n",
       "    <tr>\n",
       "      <th>2</th>\n",
       "      <td>системы управления предприятием (erp)</td>\n",
       "      <td>18146</td>\n",
       "    </tr>\n",
       "    <tr>\n",
       "      <th>3</th>\n",
       "      <td>поддержка, helpdesk</td>\n",
       "      <td>15238</td>\n",
       "    </tr>\n",
       "    <tr>\n",
       "      <th>4</th>\n",
       "      <td>системный администратор</td>\n",
       "      <td>15163</td>\n",
       "    </tr>\n",
       "    <tr>\n",
       "      <th>5</th>\n",
       "      <td>web инженер</td>\n",
       "      <td>14354</td>\n",
       "    </tr>\n",
       "    <tr>\n",
       "      <th>6</th>\n",
       "      <td>web мастер</td>\n",
       "      <td>14326</td>\n",
       "    </tr>\n",
       "    <tr>\n",
       "      <th>7</th>\n",
       "      <td>интернет</td>\n",
       "      <td>12307</td>\n",
       "    </tr>\n",
       "    <tr>\n",
       "      <th>8</th>\n",
       "      <td>аналитик</td>\n",
       "      <td>11636</td>\n",
       "    </tr>\n",
       "    <tr>\n",
       "      <th>9</th>\n",
       "      <td>другое</td>\n",
       "      <td>11508</td>\n",
       "    </tr>\n",
       "    <tr>\n",
       "      <th>10</th>\n",
       "      <td>сетевые технологии</td>\n",
       "      <td>9755</td>\n",
       "    </tr>\n",
       "    <tr>\n",
       "      <th>11</th>\n",
       "      <td>управление проектами</td>\n",
       "      <td>5701</td>\n",
       "    </tr>\n",
       "    <tr>\n",
       "      <th>12</th>\n",
       "      <td>начальный уровень, мало опыта</td>\n",
       "      <td>5593</td>\n",
       "    </tr>\n",
       "    <tr>\n",
       "      <th>13</th>\n",
       "      <td>компьютерная безопасность</td>\n",
       "      <td>2877</td>\n",
       "    </tr>\n",
       "    <tr>\n",
       "      <th>14</th>\n",
       "      <td>тестирование</td>\n",
       "      <td>2868</td>\n",
       "    </tr>\n",
       "    <tr>\n",
       "      <th>15</th>\n",
       "      <td>информационные технологии</td>\n",
       "      <td>1820</td>\n",
       "    </tr>\n",
       "    <tr>\n",
       "      <th>16</th>\n",
       "      <td>информационные технологии, интернет, мультимедиа</td>\n",
       "      <td>788</td>\n",
       "    </tr>\n",
       "    <tr>\n",
       "      <th>17</th>\n",
       "      <td>cto, cio, директор по it</td>\n",
       "      <td>612</td>\n",
       "    </tr>\n",
       "    <tr>\n",
       "      <th>18</th>\n",
       "      <td>технический писатель</td>\n",
       "      <td>510</td>\n",
       "    </tr>\n",
       "  </tbody>\n",
       "</table>\n",
       "</div>"
      ],
      "text/plain": [
       "                                      specialization  frequency\n",
       "0                                            инженер      32246\n",
       "1                       программирование, разработка      21368\n",
       "2              системы управления предприятием (erp)      18146\n",
       "3                                поддержка, helpdesk      15238\n",
       "4                            системный администратор      15163\n",
       "5                                        web инженер      14354\n",
       "6                                         web мастер      14326\n",
       "7                                           интернет      12307\n",
       "8                                           аналитик      11636\n",
       "9                                             другое      11508\n",
       "10                                сетевые технологии       9755\n",
       "11                              управление проектами       5701\n",
       "12                     начальный уровень, мало опыта       5593\n",
       "13                         компьютерная безопасность       2877\n",
       "14                                      тестирование       2868\n",
       "15                         информационные технологии       1820\n",
       "16  информационные технологии, интернет, мультимедиа        788\n",
       "17                          cto, cio, директор по it        612\n",
       "18                              технический писатель        510"
      ]
     },
     "execution_count": 146,
     "metadata": {},
     "output_type": "execute_result"
    }
   ],
   "source": [
    "specialization_frequency[specialization_frequency.frequency > 500]"
   ]
  },
  {
   "cell_type": "code",
   "execution_count": 149,
   "metadata": {},
   "outputs": [
    {
     "data": {
      "text/plain": [
       "<function matplotlib.pyplot.show(close=None, block=None)>"
      ]
     },
     "execution_count": 149,
     "metadata": {},
     "output_type": "execute_result"
    },
    {
     "data": {
      "image/png": "[encoded data removed]",
      "text/plain": [
       "<Figure size 432x288 with 1 Axes>"
      ]
     },
     "metadata": {
      "needs_background": "light"
     },
     "output_type": "display_data"
    }
   ],
   "source": [
    "plt.barh(\n",
    "    specialization_frequency[specialization_frequency.frequency > 15000].specialization.values,\n",
    "    specialization_frequency[specialization_frequency.frequency > 15000].frequency.values\n",
    ")\n",
    "plt.title('ТОП5 специализации')\n",
    "plt.show"
   ]
  },
  {
   "cell_type": "markdown",
   "metadata": {},
   "source": [
    "### Анализируем количество и частоту навыков"
   ]
  },
  {
   "cell_type": "markdown",
   "metadata": {},
   "source": [
    "Цель: создать таблицу **'skills_frequency'**. <br>\n",
    "Надо проанализировать данные по тегу 'name'. "
   ]
  },
  {
   "cell_type": "markdown",
   "metadata": {},
   "source": [
    "#### Агрегируем по тегу name колонки 'key_skills'"
   ]
  },
  {
   "cell_type": "code",
   "execution_count": 66,
   "metadata": {},
   "outputs": [
    {
     "data": {
      "text/plain": [
       "\"[{'name': 'Информационная безопасность'}, {'name': 'Запуск новых продуктов'}, {'name': 'Анализ рынка'}, {'name': 'Бизнес-анализ'}, {'name': 'Управление продуктом'}, {'name': 'Маркетинговое планирование'}]\""
      ]
     },
     "execution_count": 66,
     "metadata": {},
     "output_type": "execute_result"
    }
   ],
   "source": [
    "df.key_skills.iloc[1]"
   ]
  },
  {
   "cell_type": "markdown",
   "metadata": {},
   "source": [
    "Заменяем вложенные двойные кавычки на символ '|'. это позволит не ловить ошибку и при этом не затрудняет чтение и анализ данных"
   ]
  },
  {
   "cell_type": "code",
   "execution_count": 72,
   "metadata": {},
   "outputs": [],
   "source": [
    "def text_replace(text):\n",
    "    return text.replace('\"', '|').replace(\"'\", '\"')\n",
    "\n"
   ]
  },
  {
   "cell_type": "code",
   "execution_count": 73,
   "metadata": {},
   "outputs": [],
   "source": [
    "df['key_skills_jsn'] = df.key_skills.apply(text_replace).apply(text_to_json_dumps)"
   ]
  },
  {
   "cell_type": "code",
   "execution_count": null,
   "metadata": {},
   "outputs": [],
   "source": [
    "df.key_skills_jsn"
   ]
  },
  {
   "cell_type": "code",
   "execution_count": 76,
   "metadata": {},
   "outputs": [
    {
     "data": {
      "text/plain": [
       "[]    9337\n",
       "Name: key_skills_jsn, dtype: int64"
      ]
     },
     "execution_count": 76,
     "metadata": {},
     "output_type": "execute_result"
    }
   ],
   "source": [
    "df.key_skills_jsn.value_counts().head(1)"
   ]
  },
  {
   "cell_type": "markdown",
   "metadata": {},
   "source": [
    "создаем новый столбец key_skills_name"
   ]
  },
  {
   "cell_type": "code",
   "execution_count": 77,
   "metadata": {},
   "outputs": [],
   "source": [
    "def get_tag_name_(text):\n",
    "    try:\n",
    "        text = json.loads(text)\n",
    "        out = []\n",
    "        if len(text) > 2:\n",
    "            for i in text:\n",
    "                out.append(i['name'])\n",
    "            return out\n",
    "    except:\n",
    "        return []"
   ]
  },
  {
   "cell_type": "code",
   "execution_count": 78,
   "metadata": {},
   "outputs": [],
   "source": [
    "df['key_skills_name'] = df.key_skills_jsn.apply(get_tag_name_)"
   ]
  },
  {
   "cell_type": "code",
   "execution_count": 85,
   "metadata": {},
   "outputs": [
    {
     "data": {
      "text/plain": [
       "11899"
      ]
     },
     "execution_count": 85,
     "metadata": {},
     "output_type": "execute_result"
    }
   ],
   "source": [
    "df['key_skills_name'].isna().sum()"
   ]
  },
  {
   "cell_type": "markdown",
   "metadata": {},
   "source": [
    "None заменяем на 'нет информации'"
   ]
  },
  {
   "cell_type": "code",
   "execution_count": 93,
   "metadata": {},
   "outputs": [],
   "source": [
    "df['key_skills_name'] = df['key_skills_name'].fillna('нет информации')"
   ]
  },
  {
   "cell_type": "markdown",
   "metadata": {},
   "source": [
    "создаем таблицу из столбцов 'key_skills_name', 'salary_ru'"
   ]
  },
  {
   "cell_type": "code",
   "execution_count": 94,
   "metadata": {},
   "outputs": [],
   "source": [
    "skill_salary = df[['key_skills_name', 'salary_ru']].explode('key_skills_name')"
   ]
  },
  {
   "cell_type": "code",
   "execution_count": 95,
   "metadata": {},
   "outputs": [
    {
     "data": {
      "text/html": [
       "<div>\n",
       "<style scoped>\n",
       "    .dataframe tbody tr th:only-of-type {\n",
       "        vertical-align: middle;\n",
       "    }\n",
       "\n",
       "    .dataframe tbody tr th {\n",
       "        vertical-align: top;\n",
       "    }\n",
       "\n",
       "    .dataframe thead th {\n",
       "        text-align: right;\n",
       "    }\n",
       "</style>\n",
       "<table border=\"1\" class=\"dataframe\">\n",
       "  <thead>\n",
       "    <tr style=\"text-align: right;\">\n",
       "      <th></th>\n",
       "      <th>key_skills_name</th>\n",
       "      <th>salary_ru</th>\n",
       "    </tr>\n",
       "  </thead>\n",
       "  <tbody>\n",
       "    <tr>\n",
       "      <th>0</th>\n",
       "      <td>Информационная безопасность</td>\n",
       "      <td>100000.0</td>\n",
       "    </tr>\n",
       "    <tr>\n",
       "      <th>0</th>\n",
       "      <td>Аудит информационной безопасности</td>\n",
       "      <td>100000.0</td>\n",
       "    </tr>\n",
       "    <tr>\n",
       "      <th>0</th>\n",
       "      <td>ФЗ-152</td>\n",
       "      <td>100000.0</td>\n",
       "    </tr>\n",
       "    <tr>\n",
       "      <th>0</th>\n",
       "      <td>382-П</td>\n",
       "      <td>100000.0</td>\n",
       "    </tr>\n",
       "    <tr>\n",
       "      <th>0</th>\n",
       "      <td>683-П</td>\n",
       "      <td>100000.0</td>\n",
       "    </tr>\n",
       "    <tr>\n",
       "      <th>...</th>\n",
       "      <td>...</td>\n",
       "      <td>...</td>\n",
       "    </tr>\n",
       "    <tr>\n",
       "      <th>54191</th>\n",
       "      <td>Информационная безопасность</td>\n",
       "      <td>0.0</td>\n",
       "    </tr>\n",
       "    <tr>\n",
       "      <th>54191</th>\n",
       "      <td>Управление проектами</td>\n",
       "      <td>0.0</td>\n",
       "    </tr>\n",
       "    <tr>\n",
       "      <th>54191</th>\n",
       "      <td>Деловая коммуникация</td>\n",
       "      <td>0.0</td>\n",
       "    </tr>\n",
       "    <tr>\n",
       "      <th>54191</th>\n",
       "      <td>Управление процессами</td>\n",
       "      <td>0.0</td>\n",
       "    </tr>\n",
       "    <tr>\n",
       "      <th>54191</th>\n",
       "      <td>Soft skills</td>\n",
       "      <td>0.0</td>\n",
       "    </tr>\n",
       "  </tbody>\n",
       "</table>\n",
       "<p>294923 rows × 2 columns</p>\n",
       "</div>"
      ],
      "text/plain": [
       "                         key_skills_name  salary_ru\n",
       "0            Информационная безопасность   100000.0\n",
       "0      Аудит информационной безопасности   100000.0\n",
       "0                                 ФЗ-152   100000.0\n",
       "0                                  382-П   100000.0\n",
       "0                                  683-П   100000.0\n",
       "...                                  ...        ...\n",
       "54191        Информационная безопасность        0.0\n",
       "54191               Управление проектами        0.0\n",
       "54191               Деловая коммуникация        0.0\n",
       "54191              Управление процессами        0.0\n",
       "54191                        Soft skills        0.0\n",
       "\n",
       "[294923 rows x 2 columns]"
      ]
     },
     "execution_count": 95,
     "metadata": {},
     "output_type": "execute_result"
    }
   ],
   "source": [
    "skill_salary"
   ]
  },
  {
   "cell_type": "markdown",
   "metadata": {},
   "source": [
    "подсчитываем частоту key_skills_name в таблице skills_frequency"
   ]
  },
  {
   "cell_type": "code",
   "execution_count": 96,
   "metadata": {},
   "outputs": [],
   "source": [
    "skills_frequency = (skill_salary\n",
    "                .key_skills_name\n",
    "                .value_counts()\n",
    "                .reset_index()\n",
    ")"
   ]
  },
  {
   "cell_type": "code",
   "execution_count": 97,
   "metadata": {},
   "outputs": [],
   "source": [
    "skills_frequency = skills_frequency.rename(columns={'index': 'skills', 'key_skills_name': 'frequency'})"
   ]
  },
  {
   "cell_type": "code",
   "execution_count": 98,
   "metadata": {},
   "outputs": [
    {
     "data": {
      "text/html": [
       "<div>\n",
       "<style scoped>\n",
       "    .dataframe tbody tr th:only-of-type {\n",
       "        vertical-align: middle;\n",
       "    }\n",
       "\n",
       "    .dataframe tbody tr th {\n",
       "        vertical-align: top;\n",
       "    }\n",
       "\n",
       "    .dataframe thead th {\n",
       "        text-align: right;\n",
       "    }\n",
       "</style>\n",
       "<table border=\"1\" class=\"dataframe\">\n",
       "  <thead>\n",
       "    <tr style=\"text-align: right;\">\n",
       "      <th></th>\n",
       "      <th>skills</th>\n",
       "      <th>frequency</th>\n",
       "    </tr>\n",
       "  </thead>\n",
       "  <tbody>\n",
       "    <tr>\n",
       "      <th>0</th>\n",
       "      <td>нет информации</td>\n",
       "      <td>11899</td>\n",
       "    </tr>\n",
       "    <tr>\n",
       "      <th>1</th>\n",
       "      <td>SQL</td>\n",
       "      <td>6211</td>\n",
       "    </tr>\n",
       "    <tr>\n",
       "      <th>2</th>\n",
       "      <td>Linux</td>\n",
       "      <td>4815</td>\n",
       "    </tr>\n",
       "    <tr>\n",
       "      <th>3</th>\n",
       "      <td>Работа в команде</td>\n",
       "      <td>4635</td>\n",
       "    </tr>\n",
       "    <tr>\n",
       "      <th>4</th>\n",
       "      <td>Git</td>\n",
       "      <td>4560</td>\n",
       "    </tr>\n",
       "    <tr>\n",
       "      <th>...</th>\n",
       "      <td>...</td>\n",
       "      <td>...</td>\n",
       "    </tr>\n",
       "    <tr>\n",
       "      <th>13540</th>\n",
       "      <td>НПА</td>\n",
       "      <td>1</td>\n",
       "    </tr>\n",
       "    <tr>\n",
       "      <th>13541</th>\n",
       "      <td>окдп</td>\n",
       "      <td>1</td>\n",
       "    </tr>\n",
       "    <tr>\n",
       "      <th>13542</th>\n",
       "      <td>Оформление нерезидентов из визовых стран</td>\n",
       "      <td>1</td>\n",
       "    </tr>\n",
       "    <tr>\n",
       "      <th>13543</th>\n",
       "      <td>Проектный офис</td>\n",
       "      <td>1</td>\n",
       "    </tr>\n",
       "    <tr>\n",
       "      <th>13544</th>\n",
       "      <td>обслуживание сервера</td>\n",
       "      <td>1</td>\n",
       "    </tr>\n",
       "  </tbody>\n",
       "</table>\n",
       "<p>13545 rows × 2 columns</p>\n",
       "</div>"
      ],
      "text/plain": [
       "                                         skills  frequency\n",
       "0                                нет информации      11899\n",
       "1                                           SQL       6211\n",
       "2                                         Linux       4815\n",
       "3                              Работа в команде       4635\n",
       "4                                           Git       4560\n",
       "...                                         ...        ...\n",
       "13540                                       НПА          1\n",
       "13541                                      окдп          1\n",
       "13542  Оформление нерезидентов из визовых стран          1\n",
       "13543                            Проектный офис          1\n",
       "13544                      обслуживание сервера          1\n",
       "\n",
       "[13545 rows x 2 columns]"
      ]
     },
     "execution_count": 98,
     "metadata": {},
     "output_type": "execute_result"
    }
   ],
   "source": [
    "skills_frequency"
   ]
  },
  {
   "cell_type": "markdown",
   "metadata": {},
   "source": [
    "### Анализируем вакансии в столбце 'name'"
   ]
  },
  {
   "cell_type": "markdown",
   "metadata": {},
   "source": [
    "Смотрим группировку вакансий по наименованию"
   ]
  },
  {
   "cell_type": "markdown",
   "metadata": {},
   "source": [
    "Посмотрим ТОП вакансий по столбцу name"
   ]
  },
  {
   "cell_type": "code",
   "execution_count": 99,
   "metadata": {},
   "outputs": [
    {
     "data": {
      "text/html": [
       "<div>\n",
       "<style scoped>\n",
       "    .dataframe tbody tr th:only-of-type {\n",
       "        vertical-align: middle;\n",
       "    }\n",
       "\n",
       "    .dataframe tbody tr th {\n",
       "        vertical-align: top;\n",
       "    }\n",
       "\n",
       "    .dataframe thead th {\n",
       "        text-align: right;\n",
       "    }\n",
       "</style>\n",
       "<table border=\"1\" class=\"dataframe\">\n",
       "  <thead>\n",
       "    <tr style=\"text-align: right;\">\n",
       "      <th></th>\n",
       "      <th>index</th>\n",
       "      <th>name</th>\n",
       "    </tr>\n",
       "  </thead>\n",
       "  <tbody>\n",
       "    <tr>\n",
       "      <th>0</th>\n",
       "      <td>Системный администратор</td>\n",
       "      <td>1652</td>\n",
       "    </tr>\n",
       "    <tr>\n",
       "      <th>1</th>\n",
       "      <td>Программист 1С</td>\n",
       "      <td>1122</td>\n",
       "    </tr>\n",
       "    <tr>\n",
       "      <th>2</th>\n",
       "      <td>Специалист технической поддержки</td>\n",
       "      <td>481</td>\n",
       "    </tr>\n",
       "    <tr>\n",
       "      <th>3</th>\n",
       "      <td>Системный аналитик</td>\n",
       "      <td>465</td>\n",
       "    </tr>\n",
       "    <tr>\n",
       "      <th>4</th>\n",
       "      <td>Аналитик</td>\n",
       "      <td>346</td>\n",
       "    </tr>\n",
       "    <tr>\n",
       "      <th>5</th>\n",
       "      <td>Инженер-программист</td>\n",
       "      <td>330</td>\n",
       "    </tr>\n",
       "    <tr>\n",
       "      <th>6</th>\n",
       "      <td>Программист 1C</td>\n",
       "      <td>325</td>\n",
       "    </tr>\n",
       "    <tr>\n",
       "      <th>7</th>\n",
       "      <td>Графический дизайнер</td>\n",
       "      <td>312</td>\n",
       "    </tr>\n",
       "    <tr>\n",
       "      <th>8</th>\n",
       "      <td>Инженер технической поддержки</td>\n",
       "      <td>273</td>\n",
       "    </tr>\n",
       "    <tr>\n",
       "      <th>9</th>\n",
       "      <td>Бизнес-аналитик</td>\n",
       "      <td>272</td>\n",
       "    </tr>\n",
       "    <tr>\n",
       "      <th>10</th>\n",
       "      <td>Дизайнер</td>\n",
       "      <td>259</td>\n",
       "    </tr>\n",
       "    <tr>\n",
       "      <th>11</th>\n",
       "      <td>Руководитель проекта</td>\n",
       "      <td>218</td>\n",
       "    </tr>\n",
       "    <tr>\n",
       "      <th>12</th>\n",
       "      <td>Технический писатель</td>\n",
       "      <td>215</td>\n",
       "    </tr>\n",
       "  </tbody>\n",
       "</table>\n",
       "</div>"
      ],
      "text/plain": [
       "                               index  name\n",
       "0            Системный администратор  1652\n",
       "1                     Программист 1С  1122\n",
       "2   Специалист технической поддержки   481\n",
       "3                 Системный аналитик   465\n",
       "4                           Аналитик   346\n",
       "5                Инженер-программист   330\n",
       "6                     Программист 1C   325\n",
       "7               Графический дизайнер   312\n",
       "8      Инженер технической поддержки   273\n",
       "9                    Бизнес-аналитик   272\n",
       "10                          Дизайнер   259\n",
       "11              Руководитель проекта   218\n",
       "12              Технический писатель   215"
      ]
     },
     "execution_count": 99,
     "metadata": {},
     "output_type": "execute_result"
    }
   ],
   "source": [
    "df.name.value_counts().loc[lambda x: x>200].reset_index()"
   ]
  },
  {
   "cell_type": "markdown",
   "metadata": {},
   "source": [
    "Посмотрим количество сгруппированных вакансий"
   ]
  },
  {
   "cell_type": "code",
   "execution_count": 100,
   "metadata": {},
   "outputs": [
    {
     "data": {
      "text/plain": [
       "32596"
      ]
     },
     "execution_count": 100,
     "metadata": {},
     "output_type": "execute_result"
    }
   ],
   "source": [
    "df.name.value_counts().loc[lambda x: x>1].sum()"
   ]
  },
  {
   "cell_type": "markdown",
   "metadata": {},
   "source": [
    "21 тыс. вакансий не сгруппировалось"
   ]
  },
  {
   "cell_type": "code",
   "execution_count": 85,
   "metadata": {},
   "outputs": [
    {
     "data": {
      "text/plain": [
       "21490"
      ]
     },
     "execution_count": 85,
     "metadata": {},
     "output_type": "execute_result"
    }
   ],
   "source": [
    "df.name.value_counts().loc[lambda x: x==1].sum()"
   ]
  },
  {
   "cell_type": "markdown",
   "metadata": {},
   "source": [
    "#### описательная статистика"
   ]
  },
  {
   "cell_type": "code",
   "execution_count": null,
   "metadata": {},
   "outputs": [],
   "source": [
    "# Описательная статистика для числовых столбцов датасета\n",
    "df.describe()"
   ]
  },
  {
   "cell_type": "code",
   "execution_count": null,
   "metadata": {},
   "outputs": [],
   "source": [
    "# Описательная статистика для нечисловых столбцов датасета\n",
    "df.describe(include=['object', 'bool'])"
   ]
  }
 ],
 "metadata": {
  "interpreter": {
   "hash": "fd975b5008f75ca011c9cbd473d425e61cbcc6f13893501ac3aa968d92c7c8cc"
  },
  "kernelspec": {
   "display_name": "Python 3.10.4 ('learn-data-iW9cjtb-')",
   "language": "python",
   "name": "python3"
  },
  "language_info": {
   "codemirror_mode": {
    "name": "ipython",
    "version": 3
   },
   "file_extension": ".py",
   "mimetype": "text/x-python",
   "name": "python",
   "nbconvert_exporter": "python",
   "pygments_lexer": "ipython3",
   "version": "3.10.4"
  },
  "orig_nbformat": 4
 },
 "nbformat": 4,
 "nbformat_minor": 2
}
