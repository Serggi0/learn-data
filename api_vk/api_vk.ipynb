{
 "cells": [
  {
   "cell_type": "markdown",
   "metadata": {},
   "source": [
    "## Задание 1. Собираем данные с помощью Requests"
   ]
  },
  {
   "cell_type": "code",
   "execution_count": 49,
   "metadata": {},
   "outputs": [],
   "source": [
    "import requests\n",
    "import json\n",
    "import csv\n",
    "from pprint import pprint\n",
    "import time\n",
    "from time import sleep\n",
    "from datetime import datetime\n",
    "\n",
    "import os\n",
    "from dotenv import load_dotenv\n",
    "from pathlib import Path\n",
    "\n",
    "import vk_api\n",
    "import json"
   ]
  },
  {
   "cell_type": "code",
   "execution_count": 52,
   "metadata": {},
   "outputs": [],
   "source": [
    "env_path = Path('.') / '.env'\n",
    "load_dotenv(dotenv_path=env_path)\n",
    "user_id = os.getenv('VK_USER_ID')\n",
    "access_token = os.getenv('VK_ACCES_TOKEN')\n",
    "login_vk = os.getenv('VK_LOGIN')\n",
    "pswd = os.getenv('VK_PSW')"
   ]
  },
  {
   "cell_type": "code",
   "execution_count": 24,
   "metadata": {},
   "outputs": [],
   "source": [
    "url_country = 'https://api.vk.com/method/database.getCountries'\n",
    "url_city = 'https://api.vk.com/method/database.getCities'\n",
    "url_universities = 'https://api.vk.com/method/database.getUniversities'\n",
    "url_faculties = 'https://api.vk.com/method/database.getFaculties'"
   ]
  },
  {
   "cell_type": "code",
   "execution_count": 77,
   "metadata": {},
   "outputs": [],
   "source": [
    "def get_access_token():\n",
    "    vk_session = vk_api.VkApi(\n",
    "        login=login_vk, # не срабатывает через dotenv\n",
    "        password=pswd)\n",
    "    vk_session.auth()\n",
    "    vk = vk_session.get_api()\n",
    "    access_token = 0\n",
    "\n",
    "    try:\n",
    "        User = vk.users.get()\n",
    "    except:\n",
    "        print(\"Error\")\n",
    "    else:\n",
    "        # print(f\"\\nHello {User[0]['first_name']}\")\n",
    "    \n",
    "        with open('vk_config.v2.json', 'r') as data_file:\n",
    "            data = json.load(data_file)\n",
    "        \n",
    "        for e in data['miaposta707@yandex.ru']:\n",
    "            print(e)\n",
    "    \n",
    "        # for xxx in data[login]['token'].keys():\n",
    "        #     for yyy in data[login]['token'][xxx].keys():\n",
    "        #         access_token = data[login]['token'][xxx][yyy]['access_token']\n",
    "    \n",
    "        # print('=' * 85)\n",
    "        # print(f\"Твой ID {User[0]['id']}\")\n",
    "        # print('=' * 85)\n",
    "        # print(f\"Access_Token: {access_token}\")\n",
    "        # print('=' * 85)\n",
    "    \n",
    "        # os.remove('vk_config.v2.json')\n",
    "\n",
    "\n",
    "\n",
    "    # url = f'https://oauth.vk.com/authorize?client_id={user_id}&display=page&redirect_uri=https://oauth.vk.com/blank.html&scope=friends&response_type=token&v=5.194'\n",
    "    # res = requests.get(url)\n",
    "    # print(res)"
   ]
  },
  {
   "cell_type": "code",
   "execution_count": 78,
   "metadata": {},
   "outputs": [
    {
     "ename": "LoginRequired",
     "evalue": "Login is required to auth",
     "output_type": "error",
     "traceback": [
      "\u001b[0;31m---------------------------------------------------------------------------\u001b[0m",
      "\u001b[0;31mLoginRequired\u001b[0m                             Traceback (most recent call last)",
      "\u001b[1;32m/home/shulz/learn-data/api_vk/api_vk.ipynb Ячейка 6\u001b[0m in \u001b[0;36m<cell line: 1>\u001b[0;34m()\u001b[0m\n\u001b[0;32m----> <a href='vscode-notebook-cell://wsl%2Bubuntu-22.04/home/shulz/learn-data/api_vk/api_vk.ipynb#X31sdnNjb2RlLXJlbW90ZQ%3D%3D?line=0'>1</a>\u001b[0m get_access_token()\n",
      "\u001b[1;32m/home/shulz/learn-data/api_vk/api_vk.ipynb Ячейка 6\u001b[0m in \u001b[0;36mget_access_token\u001b[0;34m()\u001b[0m\n\u001b[1;32m      <a href='vscode-notebook-cell://wsl%2Bubuntu-22.04/home/shulz/learn-data/api_vk/api_vk.ipynb#X31sdnNjb2RlLXJlbW90ZQ%3D%3D?line=0'>1</a>\u001b[0m \u001b[39mdef\u001b[39;00m \u001b[39mget_access_token\u001b[39m():\n\u001b[1;32m      <a href='vscode-notebook-cell://wsl%2Bubuntu-22.04/home/shulz/learn-data/api_vk/api_vk.ipynb#X31sdnNjb2RlLXJlbW90ZQ%3D%3D?line=1'>2</a>\u001b[0m     vk_session \u001b[39m=\u001b[39m vk_api\u001b[39m.\u001b[39mVkApi(\n\u001b[1;32m      <a href='vscode-notebook-cell://wsl%2Bubuntu-22.04/home/shulz/learn-data/api_vk/api_vk.ipynb#X31sdnNjb2RlLXJlbW90ZQ%3D%3D?line=2'>3</a>\u001b[0m         login\u001b[39m=\u001b[39mlogin_vk,\n\u001b[1;32m      <a href='vscode-notebook-cell://wsl%2Bubuntu-22.04/home/shulz/learn-data/api_vk/api_vk.ipynb#X31sdnNjb2RlLXJlbW90ZQ%3D%3D?line=3'>4</a>\u001b[0m         password\u001b[39m=\u001b[39mpswd)\n\u001b[0;32m----> <a href='vscode-notebook-cell://wsl%2Bubuntu-22.04/home/shulz/learn-data/api_vk/api_vk.ipynb#X31sdnNjb2RlLXJlbW90ZQ%3D%3D?line=4'>5</a>\u001b[0m     vk_session\u001b[39m.\u001b[39;49mauth()\n\u001b[1;32m      <a href='vscode-notebook-cell://wsl%2Bubuntu-22.04/home/shulz/learn-data/api_vk/api_vk.ipynb#X31sdnNjb2RlLXJlbW90ZQ%3D%3D?line=5'>6</a>\u001b[0m     vk \u001b[39m=\u001b[39m vk_session\u001b[39m.\u001b[39mget_api()\n\u001b[1;32m      <a href='vscode-notebook-cell://wsl%2Bubuntu-22.04/home/shulz/learn-data/api_vk/api_vk.ipynb#X31sdnNjb2RlLXJlbW90ZQ%3D%3D?line=6'>7</a>\u001b[0m     access_token \u001b[39m=\u001b[39m \u001b[39m0\u001b[39m\n",
      "File \u001b[0;32m~/.local/share/virtualenvs/learn-data-iW9cjtb-/lib/python3.10/site-packages/vk_api/vk_api.py:169\u001b[0m, in \u001b[0;36mVkApi.auth\u001b[0;34m(self, reauth, token_only)\u001b[0m\n\u001b[1;32m    146\u001b[0m \u001b[39m\"\"\" Аутентификация\u001b[39;00m\n\u001b[1;32m    147\u001b[0m \n\u001b[1;32m    148\u001b[0m \u001b[39m:param reauth: Позволяет переавторизоваться, игнорируя сохраненные\u001b[39;00m\n\u001b[0;32m   (...)\u001b[0m\n\u001b[1;32m    165\u001b[0m \u001b[39m    token_only=True\u001b[39;00m\n\u001b[1;32m    166\u001b[0m \u001b[39m\"\"\"\u001b[39;00m\n\u001b[1;32m    168\u001b[0m \u001b[39mif\u001b[39;00m \u001b[39mnot\u001b[39;00m \u001b[39mself\u001b[39m\u001b[39m.\u001b[39mlogin:\n\u001b[0;32m--> 169\u001b[0m     \u001b[39mraise\u001b[39;00m LoginRequired(\u001b[39m'\u001b[39m\u001b[39mLogin is required to auth\u001b[39m\u001b[39m'\u001b[39m)\n\u001b[1;32m    171\u001b[0m \u001b[39mself\u001b[39m\u001b[39m.\u001b[39mlogger\u001b[39m.\u001b[39minfo(\u001b[39m'\u001b[39m\u001b[39mAuth with login: \u001b[39m\u001b[39m{}\u001b[39;00m\u001b[39m'\u001b[39m\u001b[39m.\u001b[39mformat(\u001b[39mself\u001b[39m\u001b[39m.\u001b[39mlogin))\n\u001b[1;32m    173\u001b[0m set_cookies_from_list(\n\u001b[1;32m    174\u001b[0m     \u001b[39mself\u001b[39m\u001b[39m.\u001b[39mhttp\u001b[39m.\u001b[39mcookies,\n\u001b[1;32m    175\u001b[0m     \u001b[39mself\u001b[39m\u001b[39m.\u001b[39mstorage\u001b[39m.\u001b[39msetdefault(\u001b[39m'\u001b[39m\u001b[39mcookies\u001b[39m\u001b[39m'\u001b[39m, [])\n\u001b[1;32m    176\u001b[0m )\n",
      "\u001b[0;31mLoginRequired\u001b[0m: Login is required to auth"
     ]
    }
   ],
   "source": [
    "get_access_token()"
   ]
  },
  {
   "cell_type": "code",
   "execution_count": 4,
   "metadata": {},
   "outputs": [],
   "source": [
    "const_params = {'access_token': access_token, 'v': 5.131}"
   ]
  },
  {
   "cell_type": "code",
   "execution_count": 5,
   "metadata": {},
   "outputs": [],
   "source": [
    "def get_items(r):\n",
    "    items = r['response']['items']\n",
    "\n",
    "    if r.get('error'):\n",
    "        # print(f'Get item error!')\n",
    "        return\n",
    "    else:\n",
    "        if len(items) < 1:\n",
    "            # print(f'No {items} was found!')\n",
    "            return\n",
    "        else:\n",
    "            return items"
   ]
  },
  {
   "cell_type": "code",
   "execution_count": 6,
   "metadata": {},
   "outputs": [],
   "source": [
    "def get_country_id(code):\n",
    "    params = {**const_params, 'code': code, 'count': 1}\n",
    "\n",
    "    country = get_items(\n",
    "        requests.get(url_country, params=params).json()\n",
    "    )\n",
    "\n",
    "    if not country: \n",
    "        print('No country was found!')\n",
    "        return\n",
    "    return country[0]['id']"
   ]
  },
  {
   "cell_type": "code",
   "execution_count": 7,
   "metadata": {},
   "outputs": [
    {
     "data": {
      "text/plain": [
       "1"
      ]
     },
     "execution_count": 7,
     "metadata": {},
     "output_type": "execute_result"
    }
   ],
   "source": [
    "get_country_id('RU')"
   ]
  },
  {
   "cell_type": "code",
   "execution_count": 8,
   "metadata": {},
   "outputs": [],
   "source": [
    "def get_city(country_code, name):\n",
    "    params = {**const_params,\n",
    "                'country_id': get_country_id(country_code),\n",
    "                'q': name,\n",
    "                'count': 1\n",
    "            }\n",
    "\n",
    "    city = get_items(\n",
    "        requests.get(url_city, params=params).json()\n",
    "    )\n",
    "\n",
    "    if not city: \n",
    "        print('No city was found!')\n",
    "        return\n",
    "    return city[0]"
   ]
  },
  {
   "cell_type": "code",
   "execution_count": 9,
   "metadata": {},
   "outputs": [
    {
     "data": {
      "text/plain": [
       "{'id': 144,\n",
       " 'title': 'Томск',\n",
       " 'area': 'Городской округ Томск',\n",
       " 'region': 'Томская область'}"
      ]
     },
     "execution_count": 9,
     "metadata": {},
     "output_type": "execute_result"
    }
   ],
   "source": [
    "get_city('RU', 'томск')"
   ]
  },
  {
   "cell_type": "code",
   "execution_count": 10,
   "metadata": {},
   "outputs": [],
   "source": [
    "def get_universities(country_code, city_name):\n",
    "    params = {**const_params,\n",
    "                'country_id': get_country_id(country_code),\n",
    "                'city_id': get_city(country_code, city_name)['id'],\n",
    "                'count': 100\n",
    "            }\n",
    "\n",
    "    universities = get_items(\n",
    "        requests.get(url_universities, params=params).json()\n",
    "    )\n",
    "    universities_list = []\n",
    "\n",
    "    if not universities: \n",
    "        print('No universities was found!')\n",
    "        return\n",
    "    for university in universities:\n",
    "        university_id = university['id']\n",
    "        university_name = university['title'].translate(dict.fromkeys(range(32)))\n",
    "        # удаление управляющих символов из строки\n",
    "        universities_list.append([university_id, university_name])\n",
    "\n",
    "    return universities_list"
   ]
  },
  {
   "cell_type": "code",
   "execution_count": 11,
   "metadata": {},
   "outputs": [
    {
     "data": {
      "text/plain": [
       "[[848, 'СибГМУ (ТМИ)'],\n",
       " [849, 'ТГАСУ'],\n",
       " [850, 'ТГПУ'],\n",
       " [851, 'ТГУ'],\n",
       " [852, 'ТУСУР (бывш. ТАСУР, ТИАСУР)'],\n",
       " [853, 'ТПУ'],\n",
       " [2403, 'ТВМИ'],\n",
       " [6255, 'Филиал РГСУ'],\n",
       " [13415, 'ТЭЮИ'],\n",
       " [18292, 'ТФ ВЭГУ'],\n",
       " [20715, 'ЗСФ РГУП (бывш. ЗСФ РАП)'],\n",
       " [23599, 'ЗСФ РГУИТП'],\n",
       " [35214, 'СГА (ТФ)'],\n",
       " [66758, 'ТИБ'],\n",
       " [75690, 'МГГУ им. Шолохова (ТФ)'],\n",
       " [118714, 'ТФ РАНХиГС (бывш. СибАГС ТФ)'],\n",
       " [118715, 'НГАВТ (ТФ)'],\n",
       " [118753, 'АПУ РФ (ТФ)'],\n",
       " [169809, 'ТВВКУС'],\n",
       " [170028, 'ТСХИ (ф) НГАУ'],\n",
       " [245701, 'ТДС'],\n",
       " [401125, 'ИФПМ СО РАН'],\n",
       " [461553, 'ТИИТ'],\n",
       " [499318, 'Томский ИПКР ФСИН России (бывш. ТФ Кузбасский институт ФСИН)'],\n",
       " [573625, 'ИМКЭС СО РАН'],\n",
       " [888642, 'ИСЭ СО РАН'],\n",
       " [1167989, 'ИХН СО РАН'],\n",
       " [1169980, 'НИИ фармакологии СО РАМН'],\n",
       " [1172216, 'НИИМГ СО РАМН'],\n",
       " [1174741, 'НИИ кардиологии СО РАМН'],\n",
       " [1176194, 'ИОА СО РАН'],\n",
       " [1188059, 'НИИЯФ при ТПУ'],\n",
       " [1192309, 'НИИ психического здоровья Томского НИМЦ']]"
      ]
     },
     "execution_count": 11,
     "metadata": {},
     "output_type": "execute_result"
    }
   ],
   "source": [
    "get_universities('RU', 'Томск')"
   ]
  },
  {
   "cell_type": "code",
   "execution_count": 12,
   "metadata": {},
   "outputs": [],
   "source": [
    "def get_faculties(university_id):\n",
    "    universities_list = []\n",
    "    params = {**const_params,\n",
    "                'university_id': university_id,\n",
    "                'count': 100\n",
    "            }\n",
    "\n",
    "    faculties = get_items(\n",
    "        requests.get(url_faculties, params=params).json()\n",
    "    )\n",
    "    faculties_list = []\n",
    "\n",
    "    if not faculties: \n",
    "        # print('No faculties was found!')\n",
    "        return\n",
    "    for faculty in faculties:\n",
    "        faculties_list.append(faculty['title'])\n",
    "\n",
    "    return faculties_list"
   ]
  },
  {
   "cell_type": "code",
   "execution_count": 13,
   "metadata": {},
   "outputs": [
    {
     "data": {
      "text/plain": [
       "['Лечебный факультет',\n",
       " 'Педиатрический факультет',\n",
       " 'Фармацевтический факультет',\n",
       " 'Факультет клинической психологии, психотерапии и социальной работы',\n",
       " 'Факультет управления и экономики в здравоохранении',\n",
       " 'Медико-биологический факультет',\n",
       " 'Факультет высшего сестринского образования',\n",
       " 'Факультет поведенческой медицины и менеджмента',\n",
       " 'Факультет повышения квалификации и профессиональной переподготовки специалистов',\n",
       " 'Отдел ординатуры']"
      ]
     },
     "execution_count": 13,
     "metadata": {},
     "output_type": "execute_result"
    }
   ],
   "source": [
    "get_faculties(848)"
   ]
  },
  {
   "cell_type": "code",
   "execution_count": 14,
   "metadata": {},
   "outputs": [],
   "source": [
    "def get_data_university(data):\n",
    "    try:\n",
    "        university_id = data[0]\n",
    "        university_name = data[1]\n",
    "    except:\n",
    "        print('no data')\n",
    "    try:\n",
    "        faculties_list = get_faculties(university_id)\n",
    "    except:\n",
    "        print('error in faculties_list')\n",
    "    result = {\n",
    "        'id': university_id, \n",
    "        'name': university_name,\n",
    "        'faculties': faculties_list\n",
    "    }\n",
    "    return result\n"
   ]
  },
  {
   "cell_type": "code",
   "execution_count": 23,
   "metadata": {},
   "outputs": [
    {
     "data": {
      "text/plain": [
       "{'id': 848,\n",
       " 'name': 'СибГМУ (ТМИ)',\n",
       " 'faculties': ['Лечебный факультет',\n",
       "  'Педиатрический факультет',\n",
       "  'Фармацевтический факультет',\n",
       "  'Факультет клинической психологии, психотерапии и социальной работы',\n",
       "  'Факультет управления и экономики в здравоохранении',\n",
       "  'Медико-биологический факультет',\n",
       "  'Факультет высшего сестринского образования',\n",
       "  'Факультет поведенческой медицины и менеджмента',\n",
       "  'Факультет повышения квалификации и профессиональной переподготовки специалистов',\n",
       "  'Отдел ординатуры']}"
      ]
     },
     "execution_count": 23,
     "metadata": {},
     "output_type": "execute_result"
    }
   ],
   "source": [
    "data = [848, 'СибГМУ (ТМИ)']\n",
    "get_data_university(data)"
   ]
  },
  {
   "cell_type": "markdown",
   "metadata": {},
   "source": [
    "{\n",
    "  \"cities\": [\n",
    "    {   \n",
    "        \"id\": <ID города>,\n",
    "        \"name\": <Название города>,\n",
    "        \"universites\": [\n",
    "            {\n",
    "              \"id\": <ID ВУЗа>, \n",
    "              \"name\": <Название ВУЗа>\n",
    "              \"faculties\": [<Название факультета>, …]\n",
    "            },"
   ]
  },
  {
   "cell_type": "code",
   "execution_count": 52,
   "metadata": {},
   "outputs": [],
   "source": [
    "def get_faculties_universities(country_code, city_name):\n",
    "    results = {}\n",
    "    cities_list = []\n",
    "    universities = []\n",
    "\n",
    "    universities_list = get_universities(country_code, city_name)\n",
    "\n",
    "    for university in universities_list:\n",
    "        universities.append(get_data_university(university))\n",
    "\n",
    "    return universities"
   ]
  },
  {
   "cell_type": "code",
   "execution_count": 53,
   "metadata": {},
   "outputs": [
    {
     "data": {
      "text/plain": [
       "[{'id': 393,\n",
       "  'name': 'ПГУ им. Шолом-Алейхема (бывш. ДВГСГА, БГПИ)',\n",
       "  'faculties': ['Факультет дополнительного профессионального образования и подготовки аспирантов (Повышения квалификации)',\n",
       "   'Факультет математики, информационных технологий и техники',\n",
       "   'Факультет таможенного дела и геосреды',\n",
       "   'Факультет филологии, истории и журналистики',\n",
       "   'Факультет экономики, управления и права',\n",
       "   'Факультет педагогики и психологии',\n",
       "   'Факультет социально-культурной деятельности и сервиса',\n",
       "   'Факультет географии и природопользования',\n",
       "   'Факультет экономики и управления',\n",
       "   'Факультет сервиса, рекламы и социальной работы',\n",
       "   'Факультет дизайна и искусств',\n",
       "   'Факультет иностранных языков',\n",
       "   'Факультет математики и информатики',\n",
       "   'Факультет социальной педагогики и психологии',\n",
       "   'Факультет коррекционной педагогики и начального образования',\n",
       "   'Художественно-графический факультет',\n",
       "   'Филолого-исторический факультет']},\n",
       " {'id': 3576,\n",
       "  'name': 'БФ ХГАЭиП',\n",
       "  'faculties': ['Юриспруденция',\n",
       "   'Менеджмент',\n",
       "   'Международные экономические отношения',\n",
       "   'Бухгалтерский учёт, анализ и аудит',\n",
       "   'Коммерция',\n",
       "   'Финансы']},\n",
       " {'id': 17339,\n",
       "  'name': 'БФ ДальГАУ',\n",
       "  'faculties': ['Кафедра бухгалтерского учета и финансов',\n",
       "   'Кафедра механизации сельского хозяйства',\n",
       "   'Кафедра электрификации и автоматизации сельскохозяйственного производства',\n",
       "   'Кафедра экономики, менеджмента и маркетинга',\n",
       "   'Кафедра агрономии',\n",
       "   'Кафедра зоотехнии',\n",
       "   'Кафедра автомобильного транспорта и механизации агропромышленного комплекса',\n",
       "   'Кафедра промышленного и гражданского строительства']},\n",
       " {'id': 90870,\n",
       "  'name': 'АмГУ (БФ)',\n",
       "  'faculties': ['Юридический факультет',\n",
       "   'Факультет социальных наук',\n",
       "   'Экономический факультет',\n",
       "   'Факультет прикладных искусств']},\n",
       " {'id': 113775,\n",
       "  'name': 'СГА',\n",
       "  'faculties': ['Информатика и вычислительная техника',\n",
       "   'Лингвистика',\n",
       "   'Экономика',\n",
       "   'Менеджмент',\n",
       "   'Юриспруденция',\n",
       "   'Психология']}]"
      ]
     },
     "execution_count": 53,
     "metadata": {},
     "output_type": "execute_result"
    }
   ],
   "source": [
    "get_faculties_universities('RU', 'Биробиджан')"
   ]
  },
  {
   "cell_type": "code",
   "execution_count": 54,
   "metadata": {},
   "outputs": [
    {
     "name": "stdout",
     "output_type": "stream",
     "text": [
      "error in faculties_list\n"
     ]
    },
    {
     "ename": "UnboundLocalError",
     "evalue": "local variable 'faculties_list' referenced before assignment",
     "output_type": "error",
     "traceback": [
      "\u001b[0;31m---------------------------------------------------------------------------\u001b[0m",
      "\u001b[0;31mUnboundLocalError\u001b[0m                         Traceback (most recent call last)",
      "\u001b[1;32m/home/shulz/learn-data/api_vk/api_vk.ipynb Ячейка 20\u001b[0m in \u001b[0;36m<cell line: 1>\u001b[0;34m()\u001b[0m\n\u001b[0;32m----> <a href='vscode-notebook-cell://wsl%2Bubuntu-22.04/home/shulz/learn-data/api_vk/api_vk.ipynb#X25sdnNjb2RlLXJlbW90ZQ%3D%3D?line=0'>1</a>\u001b[0m get_faculties_universities(\u001b[39m'\u001b[39;49m\u001b[39mRU\u001b[39;49m\u001b[39m'\u001b[39;49m, \u001b[39m'\u001b[39;49m\u001b[39mОрск\u001b[39;49m\u001b[39m'\u001b[39;49m)\n",
      "\u001b[1;32m/home/shulz/learn-data/api_vk/api_vk.ipynb Ячейка 20\u001b[0m in \u001b[0;36mget_faculties_universities\u001b[0;34m(country_code, city_name)\u001b[0m\n\u001b[1;32m      <a href='vscode-notebook-cell://wsl%2Bubuntu-22.04/home/shulz/learn-data/api_vk/api_vk.ipynb#X25sdnNjb2RlLXJlbW90ZQ%3D%3D?line=5'>6</a>\u001b[0m universities_list \u001b[39m=\u001b[39m get_universities(country_code, city_name)\n\u001b[1;32m      <a href='vscode-notebook-cell://wsl%2Bubuntu-22.04/home/shulz/learn-data/api_vk/api_vk.ipynb#X25sdnNjb2RlLXJlbW90ZQ%3D%3D?line=7'>8</a>\u001b[0m \u001b[39mfor\u001b[39;00m university \u001b[39min\u001b[39;00m universities_list:\n\u001b[0;32m----> <a href='vscode-notebook-cell://wsl%2Bubuntu-22.04/home/shulz/learn-data/api_vk/api_vk.ipynb#X25sdnNjb2RlLXJlbW90ZQ%3D%3D?line=8'>9</a>\u001b[0m     universities\u001b[39m.\u001b[39mappend(get_data_university(university))\n\u001b[1;32m     <a href='vscode-notebook-cell://wsl%2Bubuntu-22.04/home/shulz/learn-data/api_vk/api_vk.ipynb#X25sdnNjb2RlLXJlbW90ZQ%3D%3D?line=10'>11</a>\u001b[0m \u001b[39mreturn\u001b[39;00m universities\n",
      "\u001b[1;32m/home/shulz/learn-data/api_vk/api_vk.ipynb Ячейка 20\u001b[0m in \u001b[0;36mget_data_university\u001b[0;34m(data)\u001b[0m\n\u001b[1;32m      <a href='vscode-notebook-cell://wsl%2Bubuntu-22.04/home/shulz/learn-data/api_vk/api_vk.ipynb#X25sdnNjb2RlLXJlbW90ZQ%3D%3D?line=8'>9</a>\u001b[0m \u001b[39mexcept\u001b[39;00m:\n\u001b[1;32m     <a href='vscode-notebook-cell://wsl%2Bubuntu-22.04/home/shulz/learn-data/api_vk/api_vk.ipynb#X25sdnNjb2RlLXJlbW90ZQ%3D%3D?line=9'>10</a>\u001b[0m     \u001b[39mprint\u001b[39m(\u001b[39m'\u001b[39m\u001b[39merror in faculties_list\u001b[39m\u001b[39m'\u001b[39m)\n\u001b[1;32m     <a href='vscode-notebook-cell://wsl%2Bubuntu-22.04/home/shulz/learn-data/api_vk/api_vk.ipynb#X25sdnNjb2RlLXJlbW90ZQ%3D%3D?line=10'>11</a>\u001b[0m result \u001b[39m=\u001b[39m {\n\u001b[1;32m     <a href='vscode-notebook-cell://wsl%2Bubuntu-22.04/home/shulz/learn-data/api_vk/api_vk.ipynb#X25sdnNjb2RlLXJlbW90ZQ%3D%3D?line=11'>12</a>\u001b[0m     \u001b[39m'\u001b[39m\u001b[39mid\u001b[39m\u001b[39m'\u001b[39m: university_id, \n\u001b[1;32m     <a href='vscode-notebook-cell://wsl%2Bubuntu-22.04/home/shulz/learn-data/api_vk/api_vk.ipynb#X25sdnNjb2RlLXJlbW90ZQ%3D%3D?line=12'>13</a>\u001b[0m     \u001b[39m'\u001b[39m\u001b[39mname\u001b[39m\u001b[39m'\u001b[39m: university_name,\n\u001b[0;32m---> <a href='vscode-notebook-cell://wsl%2Bubuntu-22.04/home/shulz/learn-data/api_vk/api_vk.ipynb#X25sdnNjb2RlLXJlbW90ZQ%3D%3D?line=13'>14</a>\u001b[0m     \u001b[39m'\u001b[39m\u001b[39mfaculties\u001b[39m\u001b[39m'\u001b[39m: faculties_list\n\u001b[1;32m     <a href='vscode-notebook-cell://wsl%2Bubuntu-22.04/home/shulz/learn-data/api_vk/api_vk.ipynb#X25sdnNjb2RlLXJlbW90ZQ%3D%3D?line=14'>15</a>\u001b[0m }\n\u001b[1;32m     <a href='vscode-notebook-cell://wsl%2Bubuntu-22.04/home/shulz/learn-data/api_vk/api_vk.ipynb#X25sdnNjb2RlLXJlbW90ZQ%3D%3D?line=15'>16</a>\u001b[0m \u001b[39mreturn\u001b[39;00m result\n",
      "\u001b[0;31mUnboundLocalError\u001b[0m: local variable 'faculties_list' referenced before assignment"
     ]
    }
   ],
   "source": [
    "get_faculties_universities('RU', 'Орск')"
   ]
  }
 ],
 "metadata": {
  "kernelspec": {
   "display_name": "Python 3.10.6 ('learn-data-iW9cjtb-')",
   "language": "python",
   "name": "python3"
  },
  "language_info": {
   "codemirror_mode": {
    "name": "ipython",
    "version": 3
   },
   "file_extension": ".py",
   "mimetype": "text/x-python",
   "name": "python",
   "nbconvert_exporter": "python",
   "pygments_lexer": "ipython3",
   "version": "3.10.6"
  },
  "orig_nbformat": 4,
  "vscode": {
   "interpreter": {
    "hash": "fd975b5008f75ca011c9cbd473d425e61cbcc6f13893501ac3aa968d92c7c8cc"
   }
  }
 },
 "nbformat": 4,
 "nbformat_minor": 2
}
