{
 "cells": [
  {
   "cell_type": "markdown",
   "metadata": {},
   "source": [
    "## Разведочный анализ данных (exploratory data analysis, EDA)"
   ]
  },
  {
   "cell_type": "markdown",
   "metadata": {},
   "source": [
    "Задачи, которые ставятся перед аналитиками, достаточно разнообразны. Однако всё начинается с данных.\n",
    "\n",
    "Нужно понимать, что данные не берутся \"из воздуха\". Как и задачи, связанные с ними. В книге Билла Фрэнкса об операционной аналитике автор акцентирует внимание на том, что непродуманные инвестиции в сбор и хранение данных по принципу \"а вдруг потом пригодятся\" зачастую себя не оправдывают. Только после того, как поставлена определённая цель, можно начинать процесс сбора (или, возможно, покупки) и анализа данных.\n",
    "\n",
    "К сожалению, на практике данные в \"сыром\" виде обычно малопригодны для анализа. Процесс подготовки и очистки данных (препроцессинг, англ. data preparation, pre-processing, data cleaning) может быть весьма трудоёмким и по времени занимать больше, чем собственно построение и валидация моделей на основе данных. Выделим некоторые составляющие этого процесса:\n",
    "\n",
    "- data specification (понимание данных)\n",
    "- data editing (редактирование данных, исправление ошибок --- ручное, автоматическое или их комбинация)\n",
    "- работа с пропущенными значениями\n",
    "- нормализация\n",
    "- feature extraction and selection (создание и отбор признаков)\n",
    "\n",
    "В результате получаем данные в удобном для анализа формате, как правило, табличном. Таблица (или датафрейм) имеет структуру \"объекты-признаки\": строки соответствуют отдельным сущностям (объектам, примерам, экземплярам), а столбцы --- атрибутам этих сущностей (признакам)."
   ]
  },
  {
   "cell_type": "markdown",
   "metadata": {},
   "source": [
    "## Подготовка"
   ]
  },
  {
   "cell_type": "markdown",
   "metadata": {},
   "source": [
    "### Импорты"
   ]
  },
  {
   "cell_type": "code",
   "execution_count": null,
   "metadata": {},
   "outputs": [],
   "source": [
    "import pandas as pd\n",
    "import numpy as np"
   ]
  },
  {
   "cell_type": "code",
   "execution_count": 15,
   "metadata": {},
   "outputs": [],
   "source": [
    "from datetime import datetime"
   ]
  },
  {
   "cell_type": "code",
   "execution_count": null,
   "metadata": {},
   "outputs": [],
   "source": [
    "from sqlalchemy import create_engine\n",
    "import psycopg2\n",
    "#для связи с postgresql"
   ]
  },
  {
   "cell_type": "code",
   "execution_count": 16,
   "metadata": {},
   "outputs": [],
   "source": [
    "import matplotlib.pyplot as plt"
   ]
  },
  {
   "cell_type": "code",
   "execution_count": 17,
   "metadata": {},
   "outputs": [],
   "source": [
    "from pandas.plotting import register_matplotlib_converters\n",
    "\n",
    "# конвертеры, которые позволяют использовать типы pandas в matplotlib "
   ]
  },
  {
   "cell_type": "code",
   "execution_count": null,
   "metadata": {},
   "outputs": [],
   "source": [
    "import seaborn as sns"
   ]
  },
  {
   "cell_type": "code",
   "execution_count": null,
   "metadata": {},
   "outputs": [],
   "source": [
    "import plotly.express as px"
   ]
  },
  {
   "cell_type": "code",
   "execution_count": null,
   "metadata": {},
   "outputs": [],
   "source": [
    "from plotly import graph_objects as go"
   ]
  },
  {
   "cell_type": "code",
   "execution_count": null,
   "metadata": {},
   "outputs": [],
   "source": [
    "import math as mth"
   ]
  },
  {
   "cell_type": "code",
   "execution_count": null,
   "metadata": {},
   "outputs": [],
   "source": [
    "import scipy.stats"
   ]
  },
  {
   "cell_type": "code",
   "execution_count": null,
   "metadata": {},
   "outputs": [],
   "source": [
    "from scipy import stats as st"
   ]
  },
  {
   "cell_type": "code",
   "execution_count": null,
   "metadata": {},
   "outputs": [],
   "source": [
    "import sys"
   ]
  },
  {
   "cell_type": "code",
   "execution_count": null,
   "metadata": {},
   "outputs": [],
   "source": [
    "import getopt"
   ]
  },
  {
   "cell_type": "code",
   "execution_count": null,
   "metadata": {},
   "outputs": [],
   "source": [
    "import csv\n",
    "from io import StringIO"
   ]
  },
  {
   "cell_type": "code",
   "execution_count": null,
   "metadata": {},
   "outputs": [],
   "source": [
    "import sqlite3"
   ]
  },
  {
   "cell_type": "code",
   "execution_count": null,
   "metadata": {},
   "outputs": [],
   "source": [
    "import os"
   ]
  },
  {
   "cell_type": "code",
   "execution_count": null,
   "metadata": {},
   "outputs": [],
   "source": [
    "import re"
   ]
  },
  {
   "cell_type": "markdown",
   "metadata": {},
   "source": [
    "### Опции"
   ]
  },
  {
   "cell_type": "code",
   "execution_count": null,
   "metadata": {},
   "outputs": [],
   "source": [
    "# pd.set_option('max_rows', 5)\n",
    "\n",
    "# количество строк в таблице не больше 5, чтобы не писать head() за каждым фреймом\n",
    "# при необходимости раскрыть из комментария полный вывод данных в колонке\n",
    "# pd.set_option('display.max_colwidth', None)"
   ]
  },
  {
   "cell_type": "code",
   "execution_count": null,
   "metadata": {},
   "outputs": [],
   "source": [
    "pd.set_option('display.float_format', '{:,.2f}'.format)\n",
    "# разделитель ',' и два знака после запятой у чисел с плавающей точкой"
   ]
  },
  {
   "cell_type": "markdown",
   "metadata": {},
   "source": [
    "#### опции для графики"
   ]
  },
  {
   "cell_type": "code",
   "execution_count": null,
   "metadata": {},
   "outputs": [],
   "source": [
    "large = 16; med = 12; small = 10\n",
    "params = {'axes.titlesize': large,\n",
    "          'legend.fontsize': med,\n",
    "          'figure.figsize': (12, 8),\n",
    "          'axes.labelsize': med,\n",
    "          'axes.titlesize': med,\n",
    "          'xtick.labelsize': med,\n",
    "          'ytick.labelsize': med,\n",
    "          'figure.titlesize': large}\n",
    "\n",
    "plt.rcParams.update(params)\n",
    "plt.style.use('seaborn-whitegrid')"
   ]
  },
  {
   "cell_type": "code",
   "execution_count": null,
   "metadata": {},
   "outputs": [],
   "source": [
    "sns.set_palette('deep') \n",
    "sns.set_style(\"whitegrid\")"
   ]
  },
  {
   "cell_type": "markdown",
   "metadata": {},
   "source": [
    "### Заливка данных"
   ]
  },
  {
   "cell_type": "code",
   "execution_count": null,
   "metadata": {},
   "outputs": [],
   "source": [
    "df = pd.read_csv('path_to_file')"
   ]
  },
  {
   "cell_type": "code",
   "execution_count": null,
   "metadata": {},
   "outputs": [],
   "source": [
    "df = pd.read_csv('path_to_file', encoding='windows-1251', sep=';')"
   ]
  },
  {
   "cell_type": "code",
   "execution_count": null,
   "metadata": {},
   "outputs": [],
   "source": [
    "df = pd.read_csv('path_to_file', encoding='utf8', sep=';')"
   ]
  },
  {
   "cell_type": "code",
   "execution_count": 1,
   "metadata": {},
   "outputs": [],
   "source": [
    "# см. template_data_filling.ipynb\n",
    "# см. template_data_load.ipynb"
   ]
  },
  {
   "cell_type": "markdown",
   "metadata": {},
   "source": [
    "## EDA (3 этапа)"
   ]
  },
  {
   "cell_type": "markdown",
   "metadata": {},
   "source": [
    "### 1. Первичный анализ датасета"
   ]
  },
  {
   "cell_type": "markdown",
   "metadata": {},
   "source": [
    "- Знакомимся с таблицей данных\n",
    "- Оцениваем ее объем\n",
    "- Оцениваем признаки объектов, хранящихся в ней\n",
    "- Выявляем наличие пропусков"
   ]
  },
  {
   "cell_type": "code",
   "execution_count": null,
   "metadata": {},
   "outputs": [],
   "source": [
    "df.head()"
   ]
  },
  {
   "cell_type": "code",
   "execution_count": null,
   "metadata": {},
   "outputs": [],
   "source": [
    "df.info()"
   ]
  },
  {
   "cell_type": "code",
   "execution_count": null,
   "metadata": {},
   "outputs": [],
   "source": [
    "df.isna().sum()\n",
    "# поиск пропущенных значений"
   ]
  },
  {
   "cell_type": "code",
   "execution_count": null,
   "metadata": {},
   "outputs": [],
   "source": [
    "df.duplicated().sum()\n",
    "#поиск абсолютных дубликатов"
   ]
  },
  {
   "cell_type": "markdown",
   "metadata": {},
   "source": [
    "#### описательная статистика"
   ]
  },
  {
   "cell_type": "code",
   "execution_count": null,
   "metadata": {},
   "outputs": [],
   "source": [
    "# Описательная статистика для числовых столбцов датасета\n",
    "df.describe()"
   ]
  },
  {
   "cell_type": "code",
   "execution_count": null,
   "metadata": {},
   "outputs": [],
   "source": [
    "# Описательная статистика для нечисловых столбцов датасета\n",
    "df.describe(include=['object', 'bool'])"
   ]
  },
  {
   "cell_type": "markdown",
   "metadata": {},
   "source": [
    "### 2. Анализ и визуализация отдельных колонок"
   ]
  },
  {
   "cell_type": "markdown",
   "metadata": {},
   "source": [
    "Пытаемся сформулировать вопросы для колонок и ответить на них, используя\n",
    "- описательная статистика\n",
    "- выбросы, аномалии\n",
    "- сортировка\n",
    "- визуализация"
   ]
  },
  {
   "cell_type": "markdown",
   "metadata": {},
   "source": [
    "#### уникальные значения"
   ]
  },
  {
   "cell_type": "code",
   "execution_count": null,
   "metadata": {},
   "outputs": [],
   "source": [
    "df['name_column'].unique()\n",
    "len(df['name_column'].unique())"
   ]
  },
  {
   "cell_type": "markdown",
   "metadata": {},
   "source": [
    "#### срез фрейма по отдельным столбцам"
   ]
  },
  {
   "cell_type": "code",
   "execution_count": null,
   "metadata": {},
   "outputs": [],
   "source": [
    "df[['name_column_1', 'name_column_2']]"
   ]
  },
  {
   "cell_type": "code",
   "execution_count": null,
   "metadata": {},
   "outputs": [],
   "source": [
    "# метод loc, который ищет значения по их названию\n",
    "df.loc[:, 'name_column_3': 'name_column_5']\n",
    "# остались столбцы от 'name_column_3' до 'name_column_5'"
   ]
  },
  {
   "cell_type": "code",
   "execution_count": null,
   "metadata": {},
   "outputs": [],
   "source": [
    "# метод iloc, который делает срез и по столбцам и по строкам\n",
    "df.iloc[0:100, 3:5]\n",
    "# первый параметр показывает индексы строк, которые останутся, второй — индексы столбцов."
   ]
  },
  {
   "cell_type": "markdown",
   "metadata": {},
   "source": [
    "#### описательная статистика по отдельным столбцам"
   ]
  },
  {
   "cell_type": "code",
   "execution_count": null,
   "metadata": {},
   "outputs": [],
   "source": [
    "df['name_column'].describe()"
   ]
  },
  {
   "cell_type": "code",
   "execution_count": null,
   "metadata": {},
   "outputs": [],
   "source": [
    "df['name_column'].value_counts()"
   ]
  },
  {
   "cell_type": "code",
   "execution_count": null,
   "metadata": {},
   "outputs": [],
   "source": [
    "# Максимум, минимум, среднее\n",
    "\n",
    "(df['name_column'].max(),\n",
    "df['name_column'].min(),\n",
    "df['name_column'].mean())"
   ]
  },
  {
   "cell_type": "code",
   "execution_count": null,
   "metadata": {},
   "outputs": [],
   "source": [
    "agg_func_math = {\n",
    "    'name_column_with_data': ['count', 'sum', 'mean', 'median', 'min', 'max', 'std', 'var', 'mad', 'prod']\n",
    "}\n",
    "# задаем список функций по определенному столбцу с расчетными данными\n",
    "\n",
    "df.groupby('name_column', dropna=False).agg(agg_func_math).round(2)\n",
    "# учитываем строки с NaN: dropna=False"
   ]
  },
  {
   "cell_type": "code",
   "execution_count": null,
   "metadata": {},
   "outputs": [],
   "source": [
    "# describe вызывается описательная статистика\n",
    "df.groupby('name_column')['name_column_with_data'].describe().round(2)"
   ]
  },
  {
   "cell_type": "markdown",
   "metadata": {},
   "source": [
    "#### сортировка по столбцу"
   ]
  },
  {
   "cell_type": "code",
   "execution_count": null,
   "metadata": {},
   "outputs": [],
   "source": [
    "df.sort_values('name_column')"
   ]
  },
  {
   "cell_type": "markdown",
   "metadata": {},
   "source": [
    "#### 📈 визуализация"
   ]
  },
  {
   "cell_type": "markdown",
   "metadata": {},
   "source": [
    "##### графический анализ ящик с усами - boxplot"
   ]
  },
  {
   "cell_type": "code",
   "execution_count": null,
   "metadata": {},
   "outputs": [],
   "source": [
    "# import matplotlib.pyplot as plt\n",
    "plt.boxplot(df['name_column'])\n",
    "plt.show"
   ]
  },
  {
   "cell_type": "code",
   "execution_count": null,
   "metadata": {},
   "outputs": [],
   "source": [
    "# import seaborn as sns\n",
    "\n",
    "sns.boxplot(x='name_column_1', y='name_column_2', data=df)\n",
    "plt.axis(ymin=0, ymax=100000)\n",
    "# name_column_1 - категориальные или сегментированные непрерывные данные\n",
    "# name_column_2 - непрерывные или сегментированные непрерывные данные\n",
    "# ymin, ymax - ограничение по шкале y"
   ]
  },
  {
   "cell_type": "markdown",
   "metadata": {},
   "source": [
    "##### графический анализ - Гистограмма"
   ]
  },
  {
   "cell_type": "code",
   "execution_count": null,
   "metadata": {},
   "outputs": [],
   "source": [
    "# import matplotlib.pyplot as plt\n",
    "plt.hist(df['name_column'].dropna(), bins=10, linewidth=5, edgecolor=\"white\")\n",
    "plt.xlim((None,55)) # для \"отрезания\" от графика неинформативного выброса справа (>55)\n",
    "plt.show()\n",
    "# dropna() - убираем отсутствующие значения,\n",
    "# bins=10 - толщина столбца, чем больше цифра - тем тоньше"
   ]
  },
  {
   "cell_type": "markdown",
   "metadata": {},
   "source": [
    "##### графический анализ - круговая диаграмма"
   ]
  },
  {
   "cell_type": "code",
   "execution_count": null,
   "metadata": {},
   "outputs": [],
   "source": [
    "plt.pie(\n",
    "    df['name_column'].value_counts().values,\n",
    "    labels=df['name_column'].value_counts().index,\n",
    "    wedgeprops=dict(width=0.5) # для бублика\n",
    "    )\n",
    "plt.title('<title>')\n",
    "plt.show"
   ]
  },
  {
   "cell_type": "code",
   "execution_count": null,
   "metadata": {},
   "outputs": [],
   "source": [
    "# круговая диаграмма с легендой и значениями\n",
    "labels = [f\"{n} ({v/df['name_column'].value_counts().values.sum():.1%})\" for n,v in zip(df['name_column'].value_counts().index, df['name_column'].value_counts().values)]\n",
    "# labels = [f\"{n} {v:.1} руб.\" for n,v in zip(df['name_column'].value_counts().index, df['name_column'].value_counts().values)]\n",
    "plt.pie(\n",
    "    df['name_column'].value_counts().values,\n",
    "    radius=1.1,\n",
    "    explode=[0.15] + [0 for _ in range(len(df['name_column'].value_counts().index) - 1)]\n",
    "    # посл.строка для разделения круговой диаграммы\n",
    "    )\n",
    "plt.legend(\n",
    "    bbox_to_anchor = (-0.16, 0.45, 0.25, 0.25),\n",
    "    loc = 'best', labels = labels )\n",
    "plt.title('<title>')\n",
    "plt.show"
   ]
  },
  {
   "cell_type": "markdown",
   "metadata": {},
   "source": [
    "##### графический анализ - столбцовая диаграмма"
   ]
  },
  {
   "cell_type": "code",
   "execution_count": null,
   "metadata": {},
   "outputs": [],
   "source": [
    "# bar - для вертикальных столбцов, barh - для горизонтальных\n",
    "plt.bar(\n",
    "    df['name_column'].value_counts().index,\n",
    "    df['name_column'].value_counts().values\n",
    ")\n",
    "plt.title('<title>')\n",
    "plt.show"
   ]
  },
  {
   "cell_type": "markdown",
   "metadata": {},
   "source": [
    "### Предобработка"
   ]
  },
  {
   "cell_type": "code",
   "execution_count": null,
   "metadata": {},
   "outputs": [],
   "source": [
    "# список столбцов в виде list()\n",
    "df.columns.tolist()"
   ]
  },
  {
   "cell_type": "markdown",
   "metadata": {},
   "source": [
    "#### переименование столбцов"
   ]
  },
  {
   "cell_type": "code",
   "execution_count": null,
   "metadata": {},
   "outputs": [],
   "source": [
    "df = df.rename(columns=lambda x: x.lower().replace(' ', '_'))"
   ]
  },
  {
   "cell_type": "markdown",
   "metadata": {},
   "source": [
    "#### удаление столбца"
   ]
  },
  {
   "cell_type": "code",
   "execution_count": null,
   "metadata": {},
   "outputs": [],
   "source": [
    "df = df.drop('name_column', 1)"
   ]
  },
  {
   "cell_type": "markdown",
   "metadata": {},
   "source": [
    "#### удаление дубликатов"
   ]
  },
  {
   "cell_type": "code",
   "execution_count": null,
   "metadata": {},
   "outputs": [],
   "source": [
    "df = df.drop_duplicates().reset_index(drop=True)\n",
    "# удаление дубликатов"
   ]
  },
  {
   "cell_type": "markdown",
   "metadata": {},
   "source": [
    "#### преобразование строк в дату и время"
   ]
  },
  {
   "cell_type": "code",
   "execution_count": null,
   "metadata": {},
   "outputs": [],
   "source": [
    "df['name_column'] = pd.to_datetime(df['name_column'])"
   ]
  },
  {
   "cell_type": "markdown",
   "metadata": {},
   "source": [
    "#### преобразование строк в число"
   ]
  },
  {
   "cell_type": "code",
   "execution_count": null,
   "metadata": {},
   "outputs": [],
   "source": [
    "# import re\n",
    "def clear_string(str):\n",
    "    return int(re.sub('\\D', '', str))"
   ]
  },
  {
   "cell_type": "code",
   "execution_count": null,
   "metadata": {},
   "outputs": [],
   "source": [
    "# обработка датасета к.л. функцией\n",
    "df['name_column'] = df['name_column'].apply(clear_string)"
   ]
  },
  {
   "cell_type": "markdown",
   "metadata": {},
   "source": [
    "#### Категориальные переменные"
   ]
  },
  {
   "cell_type": "markdown",
   "metadata": {},
   "source": [
    "##### бинарная переменная"
   ]
  },
  {
   "cell_type": "code",
   "execution_count": null,
   "metadata": {},
   "outputs": [],
   "source": [
    "# Создаем бинарную переменную в зависимости от значения другого столбца\n",
    "\n",
    "df['name_column'] = 0\n",
    "for i in range(len(df.other_column)):\n",
    "    if df.other_column[i] < 0: # или другое условие\n",
    "        df['name_column'][i] = 1"
   ]
  },
  {
   "cell_type": "markdown",
   "metadata": {},
   "source": [
    "##### диапазоны"
   ]
  },
  {
   "cell_type": "code",
   "execution_count": null,
   "metadata": {},
   "outputs": [],
   "source": [
    "df['levels']=df['name_column'].apply(\n",
    "    lambda x: 'low' if x<5.8 else 'middle' if x<6.6 else 'high'\n",
    "    )"
   ]
  },
  {
   "cell_type": "code",
   "execution_count": null,
   "metadata": {},
   "outputs": [],
   "source": [
    "df['levels'] = pd.cut(df['name_column'],bins=[3,5.8,6.6,9],right=False)\n",
    "# cut  —  другой способ. Как и в предыдущем случае, делим значения на 3 группы"
   ]
  },
  {
   "cell_type": "code",
   "execution_count": 1,
   "metadata": {},
   "outputs": [
    {
     "name": "stdout",
     "output_type": "stream",
     "text": [
      "\n",
      "Хи квадрат 0.9544070774762996\n",
      "p - value 0.6205162173513055\n",
      "Степеней свобод 2\n",
      "Ожидаемые наблюдения\n",
      "[[17.97297297 17.02702703]\n",
      " [11.81081081 11.18918919]\n",
      " [ 8.21621622  7.78378378]]\n",
      "\n"
     ]
    }
   ],
   "source": [
    "from scipy import stats\n",
    "chi2, p_value, dof, ev = stats.chi2_contingency(([20,15],[11,12],[7,9]))\n",
    "print(f'''\n",
    "Хи квадрат {chi2}\n",
    "p - value {p_value}\n",
    "Степеней свобод {dof}\n",
    "Ожидаемые наблюдения\n",
    "{ev}\n",
    "''')"
   ]
  }
 ],
 "metadata": {
  "interpreter": {
   "hash": "fd975b5008f75ca011c9cbd473d425e61cbcc6f13893501ac3aa968d92c7c8cc"
  },
  "kernelspec": {
   "display_name": "Python 3.10.4 ('learn-data-iW9cjtb-')",
   "language": "python",
   "name": "python3"
  },
  "language_info": {
   "codemirror_mode": {
    "name": "ipython",
    "version": 3
   },
   "file_extension": ".py",
   "mimetype": "text/x-python",
   "name": "python",
   "nbconvert_exporter": "python",
   "pygments_lexer": "ipython3",
   "version": "3.10.4"
  },
  "orig_nbformat": 4
 },
 "nbformat": 4,
 "nbformat_minor": 2
}
